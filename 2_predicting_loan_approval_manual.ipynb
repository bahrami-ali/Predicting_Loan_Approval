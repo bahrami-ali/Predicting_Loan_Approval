{
 "cells": [
  {
   "cell_type": "markdown",
   "metadata": {},
   "source": [
    "# Loan predictions\n",
    "## `Manual Data Preprocessing and Modeling`"
   ]
  },
  {
   "cell_type": "code",
   "execution_count": 60,
   "metadata": {
    "collapsed": false,
    "jupyter": {
     "outputs_hidden": false
    }
   },
   "outputs": [],
   "source": [
    "import pandas as pd\n",
    "import numpy as np\n",
    "import seaborn as sns\n",
    "\n",
    "\n",
    "from sklearn.preprocessing import LabelEncoder\n",
    "from sklearn.model_selection import train_test_split\n",
    "\n",
    "from sklearn.ensemble import RandomForestClassifier\n",
    "from sklearn.linear_model import LogisticRegression\n",
    "from sklearn.model_selection import GridSearchCV\n",
    "\n",
    "import warnings \n",
    "warnings.filterwarnings('ignore')\n",
    "sns.set()\n",
    "%matplotlib inline"
   ]
  },
  {
   "cell_type": "code",
   "execution_count": 6,
   "metadata": {},
   "outputs": [
    {
     "name": "stdout",
     "output_type": "stream",
     "text": [
      "(614, 13)\n"
     ]
    },
    {
     "data": {
      "text/html": [
       "<div>\n",
       "<style scoped>\n",
       "    .dataframe tbody tr th:only-of-type {\n",
       "        vertical-align: middle;\n",
       "    }\n",
       "\n",
       "    .dataframe tbody tr th {\n",
       "        vertical-align: top;\n",
       "    }\n",
       "\n",
       "    .dataframe thead th {\n",
       "        text-align: right;\n",
       "    }\n",
       "</style>\n",
       "<table border=\"1\" class=\"dataframe\">\n",
       "  <thead>\n",
       "    <tr style=\"text-align: right;\">\n",
       "      <th></th>\n",
       "      <th>Loan_ID</th>\n",
       "      <th>Gender</th>\n",
       "      <th>Married</th>\n",
       "      <th>Dependents</th>\n",
       "      <th>Education</th>\n",
       "      <th>Self_Employed</th>\n",
       "      <th>ApplicantIncome</th>\n",
       "      <th>CoapplicantIncome</th>\n",
       "      <th>LoanAmount</th>\n",
       "      <th>Loan_Amount_Term</th>\n",
       "      <th>Credit_History</th>\n",
       "      <th>Property_Area</th>\n",
       "      <th>Loan_Status</th>\n",
       "    </tr>\n",
       "  </thead>\n",
       "  <tbody>\n",
       "    <tr>\n",
       "      <th>0</th>\n",
       "      <td>LP001002</td>\n",
       "      <td>Male</td>\n",
       "      <td>No</td>\n",
       "      <td>0</td>\n",
       "      <td>Graduate</td>\n",
       "      <td>No</td>\n",
       "      <td>5849</td>\n",
       "      <td>0.0</td>\n",
       "      <td>NaN</td>\n",
       "      <td>360.0</td>\n",
       "      <td>1.0</td>\n",
       "      <td>Urban</td>\n",
       "      <td>Y</td>\n",
       "    </tr>\n",
       "    <tr>\n",
       "      <th>1</th>\n",
       "      <td>LP001003</td>\n",
       "      <td>Male</td>\n",
       "      <td>Yes</td>\n",
       "      <td>1</td>\n",
       "      <td>Graduate</td>\n",
       "      <td>No</td>\n",
       "      <td>4583</td>\n",
       "      <td>1508.0</td>\n",
       "      <td>128.0</td>\n",
       "      <td>360.0</td>\n",
       "      <td>1.0</td>\n",
       "      <td>Rural</td>\n",
       "      <td>N</td>\n",
       "    </tr>\n",
       "    <tr>\n",
       "      <th>2</th>\n",
       "      <td>LP001005</td>\n",
       "      <td>Male</td>\n",
       "      <td>Yes</td>\n",
       "      <td>0</td>\n",
       "      <td>Graduate</td>\n",
       "      <td>Yes</td>\n",
       "      <td>3000</td>\n",
       "      <td>0.0</td>\n",
       "      <td>66.0</td>\n",
       "      <td>360.0</td>\n",
       "      <td>1.0</td>\n",
       "      <td>Urban</td>\n",
       "      <td>Y</td>\n",
       "    </tr>\n",
       "    <tr>\n",
       "      <th>3</th>\n",
       "      <td>LP001006</td>\n",
       "      <td>Male</td>\n",
       "      <td>Yes</td>\n",
       "      <td>0</td>\n",
       "      <td>Not Graduate</td>\n",
       "      <td>No</td>\n",
       "      <td>2583</td>\n",
       "      <td>2358.0</td>\n",
       "      <td>120.0</td>\n",
       "      <td>360.0</td>\n",
       "      <td>1.0</td>\n",
       "      <td>Urban</td>\n",
       "      <td>Y</td>\n",
       "    </tr>\n",
       "    <tr>\n",
       "      <th>4</th>\n",
       "      <td>LP001008</td>\n",
       "      <td>Male</td>\n",
       "      <td>No</td>\n",
       "      <td>0</td>\n",
       "      <td>Graduate</td>\n",
       "      <td>No</td>\n",
       "      <td>6000</td>\n",
       "      <td>0.0</td>\n",
       "      <td>141.0</td>\n",
       "      <td>360.0</td>\n",
       "      <td>1.0</td>\n",
       "      <td>Urban</td>\n",
       "      <td>Y</td>\n",
       "    </tr>\n",
       "  </tbody>\n",
       "</table>\n",
       "</div>"
      ],
      "text/plain": [
       "    Loan_ID Gender Married Dependents     Education Self_Employed  \\\n",
       "0  LP001002   Male      No          0      Graduate            No   \n",
       "1  LP001003   Male     Yes          1      Graduate            No   \n",
       "2  LP001005   Male     Yes          0      Graduate           Yes   \n",
       "3  LP001006   Male     Yes          0  Not Graduate            No   \n",
       "4  LP001008   Male      No          0      Graduate            No   \n",
       "\n",
       "   ApplicantIncome  CoapplicantIncome  LoanAmount  Loan_Amount_Term  \\\n",
       "0             5849                0.0         NaN             360.0   \n",
       "1             4583             1508.0       128.0             360.0   \n",
       "2             3000                0.0        66.0             360.0   \n",
       "3             2583             2358.0       120.0             360.0   \n",
       "4             6000                0.0       141.0             360.0   \n",
       "\n",
       "   Credit_History Property_Area Loan_Status  \n",
       "0             1.0         Urban           Y  \n",
       "1             1.0         Rural           N  \n",
       "2             1.0         Urban           Y  \n",
       "3             1.0         Urban           Y  \n",
       "4             1.0         Urban           Y  "
      ]
     },
     "execution_count": 6,
     "metadata": {},
     "output_type": "execute_result"
    }
   ],
   "source": [
    "df = pd.read_csv(\"data/data.csv\") \n",
    "print(df.shape)\n",
    "df.head()"
   ]
  },
  {
   "cell_type": "markdown",
   "metadata": {},
   "source": [
    "## Data Cleaning\n",
    "\n",
    "This step typically involves imputing missing values and treating outliers. "
   ]
  },
  {
   "cell_type": "markdown",
   "metadata": {},
   "source": [
    "### Imputing Missing Values\n",
    "\n",
    "Missing values may not always be NaNs. For instance, the `Loan_Amount_Term` might be 0, which does not make sense.\n",
    "\n"
   ]
  },
  {
   "cell_type": "code",
   "execution_count": 7,
   "metadata": {},
   "outputs": [
    {
     "name": "stdout",
     "output_type": "stream",
     "text": [
      "<class 'pandas.core.frame.DataFrame'>\n",
      "RangeIndex: 614 entries, 0 to 613\n",
      "Data columns (total 13 columns):\n",
      " #   Column             Non-Null Count  Dtype  \n",
      "---  ------             --------------  -----  \n",
      " 0   Loan_ID            614 non-null    object \n",
      " 1   Gender             601 non-null    object \n",
      " 2   Married            611 non-null    object \n",
      " 3   Dependents         599 non-null    object \n",
      " 4   Education          614 non-null    object \n",
      " 5   Self_Employed      582 non-null    object \n",
      " 6   ApplicantIncome    614 non-null    int64  \n",
      " 7   CoapplicantIncome  614 non-null    float64\n",
      " 8   LoanAmount         592 non-null    float64\n",
      " 9   Loan_Amount_Term   600 non-null    float64\n",
      " 10  Credit_History     564 non-null    float64\n",
      " 11  Property_Area      614 non-null    object \n",
      " 12  Loan_Status        614 non-null    object \n",
      "dtypes: float64(4), int64(1), object(8)\n",
      "memory usage: 62.5+ KB\n"
     ]
    }
   ],
   "source": [
    "df.info()"
   ]
  },
  {
   "cell_type": "markdown",
   "metadata": {},
   "source": [
    "Impute missing values for all columns. Use the values which you find most meaningful (mean, mode, median, zero.... maybe different mean values for different groups)"
   ]
  },
  {
   "cell_type": "code",
   "execution_count": 8,
   "metadata": {},
   "outputs": [
    {
     "data": {
      "text/html": [
       "<div>\n",
       "<style scoped>\n",
       "    .dataframe tbody tr th:only-of-type {\n",
       "        vertical-align: middle;\n",
       "    }\n",
       "\n",
       "    .dataframe tbody tr th {\n",
       "        vertical-align: top;\n",
       "    }\n",
       "\n",
       "    .dataframe thead th {\n",
       "        text-align: right;\n",
       "    }\n",
       "</style>\n",
       "<table border=\"1\" class=\"dataframe\">\n",
       "  <thead>\n",
       "    <tr style=\"text-align: right;\">\n",
       "      <th></th>\n",
       "      <th>Total</th>\n",
       "      <th>Percent</th>\n",
       "    </tr>\n",
       "  </thead>\n",
       "  <tbody>\n",
       "    <tr>\n",
       "      <th>Credit_History</th>\n",
       "      <td>50</td>\n",
       "      <td>0.081433</td>\n",
       "    </tr>\n",
       "    <tr>\n",
       "      <th>Self_Employed</th>\n",
       "      <td>32</td>\n",
       "      <td>0.052117</td>\n",
       "    </tr>\n",
       "    <tr>\n",
       "      <th>LoanAmount</th>\n",
       "      <td>22</td>\n",
       "      <td>0.035831</td>\n",
       "    </tr>\n",
       "    <tr>\n",
       "      <th>Dependents</th>\n",
       "      <td>15</td>\n",
       "      <td>0.024430</td>\n",
       "    </tr>\n",
       "    <tr>\n",
       "      <th>Loan_Amount_Term</th>\n",
       "      <td>14</td>\n",
       "      <td>0.022801</td>\n",
       "    </tr>\n",
       "    <tr>\n",
       "      <th>Gender</th>\n",
       "      <td>13</td>\n",
       "      <td>0.021173</td>\n",
       "    </tr>\n",
       "    <tr>\n",
       "      <th>Married</th>\n",
       "      <td>3</td>\n",
       "      <td>0.004886</td>\n",
       "    </tr>\n",
       "    <tr>\n",
       "      <th>Loan_ID</th>\n",
       "      <td>0</td>\n",
       "      <td>0.000000</td>\n",
       "    </tr>\n",
       "    <tr>\n",
       "      <th>Education</th>\n",
       "      <td>0</td>\n",
       "      <td>0.000000</td>\n",
       "    </tr>\n",
       "    <tr>\n",
       "      <th>ApplicantIncome</th>\n",
       "      <td>0</td>\n",
       "      <td>0.000000</td>\n",
       "    </tr>\n",
       "    <tr>\n",
       "      <th>CoapplicantIncome</th>\n",
       "      <td>0</td>\n",
       "      <td>0.000000</td>\n",
       "    </tr>\n",
       "    <tr>\n",
       "      <th>Property_Area</th>\n",
       "      <td>0</td>\n",
       "      <td>0.000000</td>\n",
       "    </tr>\n",
       "    <tr>\n",
       "      <th>Loan_Status</th>\n",
       "      <td>0</td>\n",
       "      <td>0.000000</td>\n",
       "    </tr>\n",
       "  </tbody>\n",
       "</table>\n",
       "</div>"
      ],
      "text/plain": [
       "                   Total   Percent\n",
       "Credit_History        50  0.081433\n",
       "Self_Employed         32  0.052117\n",
       "LoanAmount            22  0.035831\n",
       "Dependents            15  0.024430\n",
       "Loan_Amount_Term      14  0.022801\n",
       "Gender                13  0.021173\n",
       "Married                3  0.004886\n",
       "Loan_ID                0  0.000000\n",
       "Education              0  0.000000\n",
       "ApplicantIncome        0  0.000000\n",
       "CoapplicantIncome      0  0.000000\n",
       "Property_Area          0  0.000000\n",
       "Loan_Status            0  0.000000"
      ]
     },
     "execution_count": 8,
     "metadata": {},
     "output_type": "execute_result"
    }
   ],
   "source": [
    "# Get an overview of the missing data\n",
    "count_missing = df.isnull().sum().sort_values(ascending=False)\n",
    "percent_missing = (df.isnull().sum()/df.isnull().count())\n",
    "data_missing = pd.concat([count_missing, percent_missing], axis=1, keys=['Total', 'Percent'])\n",
    "data_missing"
   ]
  },
  {
   "cell_type": "code",
   "execution_count": 9,
   "metadata": {},
   "outputs": [],
   "source": [
    "# Fill with most common value\n",
    "df['Gender'] = df['Gender'].fillna('Male')"
   ]
  },
  {
   "cell_type": "code",
   "execution_count": 10,
   "metadata": {},
   "outputs": [],
   "source": [
    "## No other better option than filling with No or zero for the following columns\n",
    "df['Married'] = df['Married'].fillna('No')\n",
    "df['Self_Employed'] = df['Self_Employed'].fillna('No')\n",
    "df['Credit_History'] = df['Credit_History'].fillna(0)\n",
    "df['Dependents'] = df['Dependents'].fillna(0)"
   ]
  },
  {
   "cell_type": "code",
   "execution_count": 11,
   "metadata": {},
   "outputs": [],
   "source": [
    "# Fill 3+ dependents with 4, as values bigger than 4 are most probably rare and outliers\n",
    "df['Dependents'] = df['Dependents'].replace('3+',4)"
   ]
  },
  {
   "cell_type": "code",
   "execution_count": 12,
   "metadata": {},
   "outputs": [],
   "source": [
    "# Fill with average\n",
    "df['LoanAmount'] = df['LoanAmount'].fillna((df['LoanAmount'].mean()))"
   ]
  },
  {
   "cell_type": "code",
   "execution_count": 13,
   "metadata": {},
   "outputs": [
    {
     "data": {
      "text/plain": [
       "0    360.0\n",
       "dtype: float64"
      ]
     },
     "execution_count": 13,
     "metadata": {},
     "output_type": "execute_result"
    }
   ],
   "source": [
    "df['Loan_Amount_Term'].mode()"
   ]
  },
  {
   "cell_type": "code",
   "execution_count": 14,
   "metadata": {},
   "outputs": [],
   "source": [
    "## Given that this is a time value, fill with the most frequent value (which is 360)\n",
    "df['Loan_Amount_Term'] = df['Loan_Amount_Term'].fillna(360)"
   ]
  },
  {
   "cell_type": "code",
   "execution_count": 16,
   "metadata": {},
   "outputs": [
    {
     "data": {
      "text/plain": [
       "Loan_ID              0\n",
       "Gender               0\n",
       "Married              0\n",
       "Dependents           0\n",
       "Education            0\n",
       "Self_Employed        0\n",
       "ApplicantIncome      0\n",
       "CoapplicantIncome    0\n",
       "LoanAmount           0\n",
       "Loan_Amount_Term     0\n",
       "Credit_History       0\n",
       "Property_Area        0\n",
       "Loan_Status          0\n",
       "dtype: int64"
      ]
     },
     "execution_count": 16,
     "metadata": {},
     "output_type": "execute_result"
    }
   ],
   "source": [
    "df.isna().sum()"
   ]
  },
  {
   "cell_type": "markdown",
   "metadata": {},
   "source": [
    "### Extreme values\n",
    "Try a log transformation to get rid of the extreme values in `LoanAmount`. Plot the histogram before and after the transformation"
   ]
  },
  {
   "cell_type": "code",
   "execution_count": 17,
   "metadata": {},
   "outputs": [
    {
     "data": {
      "image/png": "[encoded data removed]",
      "text/plain": [
       "<Figure size 360x360 with 1 Axes>"
      ]
     },
     "metadata": {
      "needs_background": "light"
     },
     "output_type": "display_data"
    }
   ],
   "source": [
    "## Visualize and check for outliers\n",
    "sns.displot(df.LoanAmount).set(title='Loan Amount Before Log Transformation');"
   ]
  },
  {
   "cell_type": "code",
   "execution_count": 18,
   "metadata": {},
   "outputs": [],
   "source": [
    "# Apply log transformation to get rid of outliers\n",
    "df.LoanAmount = np.log(df.LoanAmount)"
   ]
  },
  {
   "cell_type": "code",
   "execution_count": 19,
   "metadata": {},
   "outputs": [
    {
     "data": {
      "image/png": "[encoded data removed]",
      "text/plain": [
       "<Figure size 360x360 with 1 Axes>"
      ]
     },
     "metadata": {
      "needs_background": "light"
     },
     "output_type": "display_data"
    }
   ],
   "source": [
    "sns.displot(df.LoanAmount).set(title='Loan Amount After Log Transformation');"
   ]
  },
  {
   "cell_type": "markdown",
   "metadata": {},
   "source": [
    "Combine both incomes as total income and take a log transformation of the same."
   ]
  },
  {
   "cell_type": "code",
   "execution_count": 20,
   "metadata": {
    "collapsed": false,
    "jupyter": {
     "outputs_hidden": false
    }
   },
   "outputs": [],
   "source": [
    "df['Total_Income'] = df['ApplicantIncome'] + df['CoapplicantIncome']"
   ]
  },
  {
   "cell_type": "code",
   "execution_count": 21,
   "metadata": {},
   "outputs": [],
   "source": [
    "## Remove outliers from total income using log transform\n",
    "df.Total_Income = np.log(df.Total_Income)"
   ]
  },
  {
   "cell_type": "code",
   "execution_count": 22,
   "metadata": {},
   "outputs": [
    {
     "data": {
      "image/png": "[encoded data removed]",
      "text/plain": [
       "<Figure size 360x360 with 1 Axes>"
      ]
     },
     "metadata": {
      "needs_background": "light"
     },
     "output_type": "display_data"
    }
   ],
   "source": [
    "sns.displot(df.Total_Income).set(title='Loan Amount After Log Transformation');"
   ]
  },
  {
   "cell_type": "markdown",
   "metadata": {},
   "source": [
    "## 4. Building a Predictive Model"
   ]
  },
  {
   "cell_type": "code",
   "execution_count": 26,
   "metadata": {},
   "outputs": [
    {
     "data": {
      "text/html": [
       "<div>\n",
       "<style scoped>\n",
       "    .dataframe tbody tr th:only-of-type {\n",
       "        vertical-align: middle;\n",
       "    }\n",
       "\n",
       "    .dataframe tbody tr th {\n",
       "        vertical-align: top;\n",
       "    }\n",
       "\n",
       "    .dataframe thead th {\n",
       "        text-align: right;\n",
       "    }\n",
       "</style>\n",
       "<table border=\"1\" class=\"dataframe\">\n",
       "  <thead>\n",
       "    <tr style=\"text-align: right;\">\n",
       "      <th></th>\n",
       "      <th>Loan_ID</th>\n",
       "      <th>Gender</th>\n",
       "      <th>Married</th>\n",
       "      <th>Dependents</th>\n",
       "      <th>Education</th>\n",
       "      <th>Self_Employed</th>\n",
       "      <th>ApplicantIncome</th>\n",
       "      <th>CoapplicantIncome</th>\n",
       "      <th>LoanAmount</th>\n",
       "      <th>Loan_Amount_Term</th>\n",
       "      <th>Credit_History</th>\n",
       "      <th>Property_Area</th>\n",
       "      <th>Loan_Status</th>\n",
       "      <th>Total_Income</th>\n",
       "    </tr>\n",
       "  </thead>\n",
       "  <tbody>\n",
       "    <tr>\n",
       "      <th>0</th>\n",
       "      <td>LP001002</td>\n",
       "      <td>1</td>\n",
       "      <td>0</td>\n",
       "      <td>0</td>\n",
       "      <td>0</td>\n",
       "      <td>0</td>\n",
       "      <td>5849.0</td>\n",
       "      <td>0.0</td>\n",
       "      <td>4.986426</td>\n",
       "      <td>360.0</td>\n",
       "      <td>1.0</td>\n",
       "      <td>2</td>\n",
       "      <td>1</td>\n",
       "      <td>8.674026</td>\n",
       "    </tr>\n",
       "    <tr>\n",
       "      <th>1</th>\n",
       "      <td>LP001003</td>\n",
       "      <td>1</td>\n",
       "      <td>1</td>\n",
       "      <td>1</td>\n",
       "      <td>0</td>\n",
       "      <td>0</td>\n",
       "      <td>4583.0</td>\n",
       "      <td>1508.0</td>\n",
       "      <td>4.852030</td>\n",
       "      <td>360.0</td>\n",
       "      <td>1.0</td>\n",
       "      <td>0</td>\n",
       "      <td>0</td>\n",
       "      <td>8.714568</td>\n",
       "    </tr>\n",
       "    <tr>\n",
       "      <th>2</th>\n",
       "      <td>LP001005</td>\n",
       "      <td>1</td>\n",
       "      <td>1</td>\n",
       "      <td>0</td>\n",
       "      <td>0</td>\n",
       "      <td>1</td>\n",
       "      <td>3000.0</td>\n",
       "      <td>0.0</td>\n",
       "      <td>4.189655</td>\n",
       "      <td>360.0</td>\n",
       "      <td>1.0</td>\n",
       "      <td>2</td>\n",
       "      <td>1</td>\n",
       "      <td>8.006368</td>\n",
       "    </tr>\n",
       "    <tr>\n",
       "      <th>3</th>\n",
       "      <td>LP001006</td>\n",
       "      <td>1</td>\n",
       "      <td>1</td>\n",
       "      <td>0</td>\n",
       "      <td>1</td>\n",
       "      <td>0</td>\n",
       "      <td>2583.0</td>\n",
       "      <td>2358.0</td>\n",
       "      <td>4.787492</td>\n",
       "      <td>360.0</td>\n",
       "      <td>1.0</td>\n",
       "      <td>2</td>\n",
       "      <td>1</td>\n",
       "      <td>8.505323</td>\n",
       "    </tr>\n",
       "    <tr>\n",
       "      <th>4</th>\n",
       "      <td>LP001008</td>\n",
       "      <td>1</td>\n",
       "      <td>0</td>\n",
       "      <td>0</td>\n",
       "      <td>0</td>\n",
       "      <td>0</td>\n",
       "      <td>6000.0</td>\n",
       "      <td>0.0</td>\n",
       "      <td>4.948760</td>\n",
       "      <td>360.0</td>\n",
       "      <td>1.0</td>\n",
       "      <td>2</td>\n",
       "      <td>1</td>\n",
       "      <td>8.699515</td>\n",
       "    </tr>\n",
       "  </tbody>\n",
       "</table>\n",
       "</div>"
      ],
      "text/plain": [
       "    Loan_ID  Gender  Married Dependents  Education  Self_Employed  \\\n",
       "0  LP001002       1        0          0          0              0   \n",
       "1  LP001003       1        1          1          0              0   \n",
       "2  LP001005       1        1          0          0              1   \n",
       "3  LP001006       1        1          0          1              0   \n",
       "4  LP001008       1        0          0          0              0   \n",
       "\n",
       "   ApplicantIncome  CoapplicantIncome  LoanAmount  Loan_Amount_Term  \\\n",
       "0           5849.0                0.0    4.986426             360.0   \n",
       "1           4583.0             1508.0    4.852030             360.0   \n",
       "2           3000.0                0.0    4.189655             360.0   \n",
       "3           2583.0             2358.0    4.787492             360.0   \n",
       "4           6000.0                0.0    4.948760             360.0   \n",
       "\n",
       "  Credit_History  Property_Area  Loan_Status  Total_Income  \n",
       "0            1.0              2            1      8.674026  \n",
       "1            1.0              0            0      8.714568  \n",
       "2            1.0              2            1      8.006368  \n",
       "3            1.0              2            1      8.505323  \n",
       "4            1.0              2            1      8.699515  "
      ]
     },
     "execution_count": 26,
     "metadata": {},
     "output_type": "execute_result"
    }
   ],
   "source": [
    "# label encode the categorical variables (assign them dummy numeric values)\n",
    "le = LabelEncoder()\n",
    "\n",
    "df['Gender'] = le.fit_transform(df['Gender'])\n",
    "df['Married'] = le.fit_transform(df['Married'])\n",
    "df['Education'] = le.fit_transform(df['Education'])\n",
    "df['Self_Employed'] = le.fit_transform(df['Self_Employed'])\n",
    "df['Property_Area'] = le.fit_transform(df['Property_Area'])\n",
    "df['Loan_Status'] = le.fit_transform(df['Loan_Status'])\n",
    "df.head()"
   ]
  },
  {
   "cell_type": "code",
   "execution_count": 104,
   "metadata": {},
   "outputs": [],
   "source": [
    "## Define Features X and Target Variable y\n",
    "# Drop Loan_ID as it is not needed\n",
    "# Total Income is used instead of individual incomes\n",
    "\n",
    "X = df.drop(columns=[\"Loan_Status\", 'Loan_ID', 'ApplicantIncome', 'CoapplicantIncome'])\n",
    "y = df[\"Loan_Status\"]\n",
    "\n",
    "X_train,X_test,y_train,y_test=train_test_split(X,y,test_size=0.25,random_state=42)\n"
   ]
  },
  {
   "cell_type": "markdown",
   "metadata": {},
   "source": [
    "## Random Forest Classifier"
   ]
  },
  {
   "cell_type": "code",
   "execution_count": 105,
   "metadata": {},
   "outputs": [
    {
     "data": {
      "text/plain": [
       "RandomForestClassifier(max_depth=2, random_state=42)"
      ]
     },
     "execution_count": 105,
     "metadata": {},
     "output_type": "execute_result"
    }
   ],
   "source": [
    "rf = RandomForestClassifier(max_depth=2, random_state=42)\n",
    "rf.fit(X, y)"
   ]
  },
  {
   "cell_type": "code",
   "execution_count": 106,
   "metadata": {},
   "outputs": [],
   "source": [
    "y_pred = rf.predict(X_test)"
   ]
  },
  {
   "cell_type": "code",
   "execution_count": 107,
   "metadata": {},
   "outputs": [
    {
     "data": {
      "text/plain": [
       "0.7532467532467533"
      ]
     },
     "execution_count": 107,
     "metadata": {},
     "output_type": "execute_result"
    }
   ],
   "source": [
    "rf.score(X_test,y_test)"
   ]
  },
  {
   "cell_type": "markdown",
   "metadata": {},
   "source": [
    "Try paramater grid search to improve the results"
   ]
  },
  {
   "cell_type": "code",
   "execution_count": 110,
   "metadata": {},
   "outputs": [
    {
     "name": "stdout",
     "output_type": "stream",
     "text": [
      "Fitting 3 folds for each of 60 candidates, totalling 180 fits\n",
      "[CV] END criterion=gini, max_depth=4, max_features=auto, n_estimators=200; total time=   0.9s\n",
      "[CV] END criterion=gini, max_depth=4, max_features=auto, n_estimators=200; total time=   0.9s\n",
      "[CV] END criterion=gini, max_depth=4, max_features=auto, n_estimators=200; total time=   0.9s\n",
      "[CV] END criterion=gini, max_depth=4, max_features=sqrt, n_estimators=200; total time=   0.8s\n",
      "[CV] END criterion=gini, max_depth=4, max_features=auto, n_estimators=500; total time=   2.0s\n",
      "[CV] END criterion=gini, max_depth=4, max_features=sqrt, n_estimators=200; total time=   0.9s\n",
      "[CV] END criterion=gini, max_depth=4, max_features=auto, n_estimators=500; total time=   2.1s\n",
      "[CV] END criterion=gini, max_depth=4, max_features=auto, n_estimators=500; total time=   2.1s\n",
      "[CV] END criterion=gini, max_depth=4, max_features=sqrt, n_estimators=200; total time=   0.8s\n",
      "[CV] END criterion=gini, max_depth=4, max_features=log2, n_estimators=200; total time=   0.7s\n",
      "[CV] END criterion=gini, max_depth=4, max_features=log2, n_estimators=200; total time=   0.7s\n",
      "[CV] END criterion=gini, max_depth=4, max_features=sqrt, n_estimators=500; total time=   1.9s\n",
      "[CV] END criterion=gini, max_depth=4, max_features=sqrt, n_estimators=500; total time=   1.8s\n",
      "[CV] END criterion=gini, max_depth=4, max_features=sqrt, n_estimators=500; total time=   1.8s\n",
      "[CV] END criterion=gini, max_depth=4, max_features=log2, n_estimators=200; total time=   0.8s\n",
      "[CV] END criterion=gini, max_depth=5, max_features=auto, n_estimators=200; total time=   0.8s\n",
      "[CV] END criterion=gini, max_depth=4, max_features=log2, n_estimators=500; total time=   2.0s\n",
      "[CV] END criterion=gini, max_depth=4, max_features=log2, n_estimators=500; total time=   1.9s\n",
      "[CV] END criterion=gini, max_depth=4, max_features=log2, n_estimators=500; total time=   1.9s\n",
      "[CV] END criterion=gini, max_depth=5, max_features=auto, n_estimators=200; total time=   0.8s\n",
      "[CV] END criterion=gini, max_depth=5, max_features=auto, n_estimators=200; total time=   0.8s\n",
      "[CV] END criterion=gini, max_depth=5, max_features=sqrt, n_estimators=200; total time=   0.8s\n",
      "[CV] END criterion=gini, max_depth=5, max_features=auto, n_estimators=500; total time=   1.9s\n",
      "[CV] END criterion=gini, max_depth=5, max_features=auto, n_estimators=500; total time=   1.9s\n",
      "[CV] END criterion=gini, max_depth=5, max_features=auto, n_estimators=500; total time=   1.9s\n",
      "[CV] END criterion=gini, max_depth=5, max_features=sqrt, n_estimators=200; total time=   0.9s\n",
      "[CV] END criterion=gini, max_depth=5, max_features=sqrt, n_estimators=200; total time=   0.9s\n",
      "[CV] END criterion=gini, max_depth=5, max_features=log2, n_estimators=200; total time=   0.8s\n",
      "[CV] END criterion=gini, max_depth=5, max_features=sqrt, n_estimators=500; total time=   2.3s\n",
      "[CV] END criterion=gini, max_depth=5, max_features=sqrt, n_estimators=500; total time=   2.3s\n",
      "[CV] END criterion=gini, max_depth=5, max_features=sqrt, n_estimators=500; total time=   2.2s\n",
      "[CV] END criterion=gini, max_depth=5, max_features=log2, n_estimators=200; total time=   1.0s\n",
      "[CV] END criterion=gini, max_depth=5, max_features=log2, n_estimators=200; total time=   0.8s\n",
      "[CV] END criterion=gini, max_depth=6, max_features=auto, n_estimators=200; total time=   0.7s\n",
      "[CV] END criterion=gini, max_depth=5, max_features=log2, n_estimators=500; total time=   1.9s\n",
      "[CV] END criterion=gini, max_depth=5, max_features=log2, n_estimators=500; total time=   1.8s\n",
      "[CV] END criterion=gini, max_depth=6, max_features=auto, n_estimators=200; total time=   0.8s\n",
      "[CV] END criterion=gini, max_depth=5, max_features=log2, n_estimators=500; total time=   1.9s\n",
      "[CV] END criterion=gini, max_depth=6, max_features=auto, n_estimators=200; total time=   0.9s\n",
      "[CV] END criterion=gini, max_depth=6, max_features=sqrt, n_estimators=200; total time=   0.9s\n",
      "[CV] END criterion=gini, max_depth=6, max_features=auto, n_estimators=500; total time=   2.3s\n",
      "[CV] END criterion=gini, max_depth=6, max_features=auto, n_estimators=500; total time=   2.4s\n",
      "[CV] END criterion=gini, max_depth=6, max_features=auto, n_estimators=500; total time=   2.4s\n",
      "[CV] END criterion=gini, max_depth=6, max_features=sqrt, n_estimators=200; total time=   1.1s\n",
      "[CV] END criterion=gini, max_depth=6, max_features=sqrt, n_estimators=200; total time=   1.1s\n",
      "[CV] END criterion=gini, max_depth=6, max_features=log2, n_estimators=200; total time=   1.5s\n",
      "[CV] END criterion=gini, max_depth=6, max_features=sqrt, n_estimators=500; total time=   3.0s\n",
      "[CV] END criterion=gini, max_depth=6, max_features=sqrt, n_estimators=500; total time=   2.9s\n",
      "[CV] END criterion=gini, max_depth=6, max_features=sqrt, n_estimators=500; total time=   2.9s\n",
      "[CV] END criterion=gini, max_depth=6, max_features=log2, n_estimators=200; total time=   0.8s\n",
      "[CV] END criterion=gini, max_depth=6, max_features=log2, n_estimators=200; total time=   1.6s\n",
      "[CV] END criterion=gini, max_depth=7, max_features=auto, n_estimators=200; total time=   1.5s\n",
      "[CV] END criterion=gini, max_depth=6, max_features=log2, n_estimators=500; total time=   3.6s\n",
      "[CV] END criterion=gini, max_depth=6, max_features=log2, n_estimators=500; total time=   3.7s\n",
      "[CV] END criterion=gini, max_depth=6, max_features=log2, n_estimators=500; total time=   3.6s\n",
      "[CV] END criterion=gini, max_depth=7, max_features=auto, n_estimators=200; total time=   1.0s\n",
      "[CV] END criterion=gini, max_depth=7, max_features=auto, n_estimators=200; total time=   0.8s\n",
      "[CV] END criterion=gini, max_depth=7, max_features=sqrt, n_estimators=200; total time=   1.5s\n",
      "[CV] END criterion=gini, max_depth=7, max_features=auto, n_estimators=500; total time=   3.2s\n",
      "[CV] END criterion=gini, max_depth=7, max_features=auto, n_estimators=500; total time=   3.7s\n",
      "[CV] END criterion=gini, max_depth=7, max_features=sqrt, n_estimators=200; total time=   2.1s\n",
      "[CV] END criterion=gini, max_depth=7, max_features=auto, n_estimators=500; total time=   4.2s\n",
      "[CV] END criterion=gini, max_depth=7, max_features=sqrt, n_estimators=200; total time=   2.1s\n",
      "[CV] END criterion=gini, max_depth=7, max_features=log2, n_estimators=200; total time=   1.1s\n",
      "[CV] END criterion=gini, max_depth=7, max_features=sqrt, n_estimators=500; total time=   3.6s\n",
      "[CV] END criterion=gini, max_depth=7, max_features=sqrt, n_estimators=500; total time=   3.3s\n",
      "[CV] END criterion=gini, max_depth=7, max_features=sqrt, n_estimators=500; total time=   3.4s\n",
      "[CV] END criterion=gini, max_depth=7, max_features=log2, n_estimators=200; total time=   1.5s\n",
      "[CV] END criterion=gini, max_depth=7, max_features=log2, n_estimators=200; total time=   1.9s\n",
      "[CV] END criterion=gini, max_depth=8, max_features=auto, n_estimators=200; total time=   1.3s\n",
      "[CV] END criterion=gini, max_depth=7, max_features=log2, n_estimators=500; total time=   3.4s\n",
      "[CV] END criterion=gini, max_depth=7, max_features=log2, n_estimators=500; total time=   3.3s\n",
      "[CV] END criterion=gini, max_depth=7, max_features=log2, n_estimators=500; total time=   3.3s\n",
      "[CV] END criterion=gini, max_depth=8, max_features=auto, n_estimators=200; total time=   1.0s\n",
      "[CV] END criterion=gini, max_depth=8, max_features=auto, n_estimators=200; total time=   1.0s\n",
      "[CV] END criterion=gini, max_depth=8, max_features=sqrt, n_estimators=200; total time=   0.9s\n",
      "[CV] END criterion=gini, max_depth=8, max_features=auto, n_estimators=500; total time=   2.5s\n",
      "[CV] END criterion=gini, max_depth=8, max_features=auto, n_estimators=500; total time=   2.4s\n",
      "[CV] END criterion=gini, max_depth=8, max_features=auto, n_estimators=500; total time=   2.4s\n",
      "[CV] END criterion=gini, max_depth=8, max_features=sqrt, n_estimators=200; total time=   1.0s\n",
      "[CV] END criterion=gini, max_depth=8, max_features=sqrt, n_estimators=200; total time=   1.0s\n",
      "[CV] END criterion=gini, max_depth=8, max_features=log2, n_estimators=200; total time=   1.0s\n",
      "[CV] END criterion=gini, max_depth=8, max_features=sqrt, n_estimators=500; total time=   2.4s\n",
      "[CV] END criterion=gini, max_depth=8, max_features=sqrt, n_estimators=500; total time=   2.4s\n",
      "[CV] END criterion=gini, max_depth=8, max_features=sqrt, n_estimators=500; total time=   2.4s\n",
      "[CV] END criterion=gini, max_depth=8, max_features=log2, n_estimators=200; total time=   1.0s\n",
      "[CV] END criterion=gini, max_depth=8, max_features=log2, n_estimators=200; total time=   1.0s\n",
      "[CV] END criterion=entropy, max_depth=4, max_features=auto, n_estimators=200; total time=   1.0s\n",
      "[CV] END criterion=gini, max_depth=8, max_features=log2, n_estimators=500; total time=   2.7s\n",
      "[CV] END criterion=gini, max_depth=8, max_features=log2, n_estimators=500; total time=   2.7s\n",
      "[CV] END criterion=entropy, max_depth=4, max_features=auto, n_estimators=200; total time=   1.2s\n",
      "[CV] END criterion=gini, max_depth=8, max_features=log2, n_estimators=500; total time=   2.8s\n",
      "[CV] END criterion=entropy, max_depth=4, max_features=auto, n_estimators=200; total time=   1.3s\n",
      "[CV] END criterion=entropy, max_depth=4, max_features=sqrt, n_estimators=200; total time=   0.9s\n",
      "[CV] END criterion=entropy, max_depth=4, max_features=auto, n_estimators=500; total time=   2.5s\n",
      "[CV] END criterion=entropy, max_depth=4, max_features=auto, n_estimators=500; total time=   2.6s\n",
      "[CV] END criterion=entropy, max_depth=4, max_features=auto, n_estimators=500; total time=   2.8s\n",
      "[CV] END criterion=entropy, max_depth=4, max_features=sqrt, n_estimators=200; total time=   1.0s\n",
      "[CV] END criterion=entropy, max_depth=4, max_features=sqrt, n_estimators=200; total time=   1.0s\n",
      "[CV] END criterion=entropy, max_depth=4, max_features=log2, n_estimators=200; total time=   0.9s\n",
      "[CV] END criterion=entropy, max_depth=4, max_features=sqrt, n_estimators=500; total time=   2.4s\n",
      "[CV] END criterion=entropy, max_depth=4, max_features=sqrt, n_estimators=500; total time=   2.4s\n",
      "[CV] END criterion=entropy, max_depth=4, max_features=log2, n_estimators=200; total time=   1.0s\n",
      "[CV] END criterion=entropy, max_depth=4, max_features=sqrt, n_estimators=500; total time=   2.4s\n",
      "[CV] END criterion=entropy, max_depth=4, max_features=log2, n_estimators=200; total time=   1.0s\n",
      "[CV] END criterion=entropy, max_depth=5, max_features=auto, n_estimators=200; total time=   1.0s\n",
      "[CV] END criterion=entropy, max_depth=4, max_features=log2, n_estimators=500; total time=   2.5s\n",
      "[CV] END criterion=entropy, max_depth=4, max_features=log2, n_estimators=500; total time=   2.4s\n",
      "[CV] END criterion=entropy, max_depth=4, max_features=log2, n_estimators=500; total time=   2.5s\n",
      "[CV] END criterion=entropy, max_depth=5, max_features=auto, n_estimators=200; total time=   1.0s\n",
      "[CV] END criterion=entropy, max_depth=5, max_features=auto, n_estimators=200; total time=   1.0s\n",
      "[CV] END criterion=entropy, max_depth=5, max_features=sqrt, n_estimators=200; total time=   1.2s\n",
      "[CV] END criterion=entropy, max_depth=5, max_features=auto, n_estimators=500; total time=   3.4s\n",
      "[CV] END criterion=entropy, max_depth=5, max_features=auto, n_estimators=500; total time=   3.6s\n",
      "[CV] END criterion=entropy, max_depth=5, max_features=auto, n_estimators=500; total time=   3.7s\n",
      "[CV] END criterion=entropy, max_depth=5, max_features=sqrt, n_estimators=200; total time=   2.1s\n",
      "[CV] END criterion=entropy, max_depth=5, max_features=sqrt, n_estimators=200; total time=   1.8s\n",
      "[CV] END criterion=entropy, max_depth=5, max_features=log2, n_estimators=200; total time=   1.3s\n",
      "[CV] END criterion=entropy, max_depth=5, max_features=sqrt, n_estimators=500; total time=   3.5s\n",
      "[CV] END criterion=entropy, max_depth=5, max_features=sqrt, n_estimators=500; total time=   3.4s\n",
      "[CV] END criterion=entropy, max_depth=5, max_features=sqrt, n_estimators=500; total time=   3.4s\n",
      "[CV] END criterion=entropy, max_depth=5, max_features=log2, n_estimators=200; total time=   1.7s\n",
      "[CV] END criterion=entropy, max_depth=5, max_features=log2, n_estimators=200; total time=   1.6s\n",
      "[CV] END criterion=entropy, max_depth=6, max_features=auto, n_estimators=200; total time=   1.2s\n",
      "[CV] END criterion=entropy, max_depth=5, max_features=log2, n_estimators=500; total time=   3.3s\n",
      "[CV] END criterion=entropy, max_depth=5, max_features=log2, n_estimators=500; total time=   3.3s\n",
      "[CV] END criterion=entropy, max_depth=5, max_features=log2, n_estimators=500; total time=   2.9s\n",
      "[CV] END criterion=entropy, max_depth=6, max_features=auto, n_estimators=200; total time=   1.2s\n",
      "[CV] END criterion=entropy, max_depth=6, max_features=auto, n_estimators=200; total time=   1.1s\n",
      "[CV] END criterion=entropy, max_depth=6, max_features=sqrt, n_estimators=200; total time=   1.0s\n",
      "[CV] END criterion=entropy, max_depth=6, max_features=auto, n_estimators=500; total time=   2.6s\n",
      "[CV] END criterion=entropy, max_depth=6, max_features=auto, n_estimators=500; total time=   2.5s\n",
      "[CV] END criterion=entropy, max_depth=6, max_features=auto, n_estimators=500; total time=   2.5s\n",
      "[CV] END criterion=entropy, max_depth=6, max_features=sqrt, n_estimators=200; total time=   1.0s\n",
      "[CV] END criterion=entropy, max_depth=6, max_features=sqrt, n_estimators=200; total time=   1.1s\n",
      "[CV] END criterion=entropy, max_depth=6, max_features=log2, n_estimators=200; total time=   1.1s\n",
      "[CV] END criterion=entropy, max_depth=6, max_features=sqrt, n_estimators=500; total time=   2.7s\n",
      "[CV] END criterion=entropy, max_depth=6, max_features=sqrt, n_estimators=500; total time=   2.7s\n",
      "[CV] END criterion=entropy, max_depth=6, max_features=sqrt, n_estimators=500; total time=   2.7s\n",
      "[CV] END criterion=entropy, max_depth=6, max_features=log2, n_estimators=200; total time=   1.1s\n",
      "[CV] END criterion=entropy, max_depth=6, max_features=log2, n_estimators=200; total time=   1.2s\n",
      "[CV] END criterion=entropy, max_depth=7, max_features=auto, n_estimators=200; total time=   1.0s\n",
      "[CV] END criterion=entropy, max_depth=6, max_features=log2, n_estimators=500; total time=   2.6s\n",
      "[CV] END criterion=entropy, max_depth=6, max_features=log2, n_estimators=500; total time=   2.6s\n",
      "[CV] END criterion=entropy, max_depth=6, max_features=log2, n_estimators=500; total time=   2.7s\n",
      "[CV] END criterion=entropy, max_depth=7, max_features=auto, n_estimators=200; total time=   1.3s\n",
      "[CV] END criterion=entropy, max_depth=7, max_features=auto, n_estimators=200; total time=   1.2s\n",
      "[CV] END criterion=entropy, max_depth=7, max_features=sqrt, n_estimators=200; total time=   1.2s\n",
      "[CV] END criterion=entropy, max_depth=7, max_features=auto, n_estimators=500; total time=   2.7s\n",
      "[CV] END criterion=entropy, max_depth=7, max_features=auto, n_estimators=500; total time=   2.7s\n",
      "[CV] END criterion=entropy, max_depth=7, max_features=auto, n_estimators=500; total time=   2.6s\n",
      "[CV] END criterion=entropy, max_depth=7, max_features=sqrt, n_estimators=200; total time=   1.0s\n",
      "[CV] END criterion=entropy, max_depth=7, max_features=sqrt, n_estimators=200; total time=   1.1s\n",
      "[CV] END criterion=entropy, max_depth=7, max_features=log2, n_estimators=200; total time=   1.1s\n",
      "[CV] END criterion=entropy, max_depth=7, max_features=sqrt, n_estimators=500; total time=   3.0s\n",
      "[CV] END criterion=entropy, max_depth=7, max_features=sqrt, n_estimators=500; total time=   3.1s\n",
      "[CV] END criterion=entropy, max_depth=7, max_features=sqrt, n_estimators=500; total time=   3.1s\n",
      "[CV] END criterion=entropy, max_depth=7, max_features=log2, n_estimators=200; total time=   1.4s\n",
      "[CV] END criterion=entropy, max_depth=7, max_features=log2, n_estimators=200; total time=   2.6s\n",
      "[CV] END criterion=entropy, max_depth=8, max_features=auto, n_estimators=200; total time=   2.0s\n",
      "[CV] END criterion=entropy, max_depth=7, max_features=log2, n_estimators=500; total time=   6.3s\n",
      "[CV] END criterion=entropy, max_depth=7, max_features=log2, n_estimators=500; total time=   6.3s\n",
      "[CV] END criterion=entropy, max_depth=7, max_features=log2, n_estimators=500; total time=   6.3s\n",
      "[CV] END criterion=entropy, max_depth=8, max_features=auto, n_estimators=200; total time=   2.5s\n",
      "[CV] END criterion=entropy, max_depth=8, max_features=auto, n_estimators=200; total time=   1.8s\n",
      "[CV] END criterion=entropy, max_depth=8, max_features=sqrt, n_estimators=200; total time=   1.7s\n",
      "[CV] END criterion=entropy, max_depth=8, max_features=auto, n_estimators=500; total time=   4.4s\n",
      "[CV] END criterion=entropy, max_depth=8, max_features=auto, n_estimators=500; total time=   4.4s\n",
      "[CV] END criterion=entropy, max_depth=8, max_features=auto, n_estimators=500; total time=   4.3s\n",
      "[CV] END criterion=entropy, max_depth=8, max_features=sqrt, n_estimators=200; total time=   1.6s\n",
      "[CV] END criterion=entropy, max_depth=8, max_features=sqrt, n_estimators=200; total time=   1.5s\n",
      "[CV] END criterion=entropy, max_depth=8, max_features=log2, n_estimators=200; total time=   1.4s\n",
      "[CV] END criterion=entropy, max_depth=8, max_features=sqrt, n_estimators=500; total time=   3.5s\n",
      "[CV] END criterion=entropy, max_depth=8, max_features=sqrt, n_estimators=500; total time=   3.5s\n",
      "[CV] END criterion=entropy, max_depth=8, max_features=sqrt, n_estimators=500; total time=   3.5s\n",
      "[CV] END criterion=entropy, max_depth=8, max_features=log2, n_estimators=200; total time=   1.3s\n",
      "[CV] END criterion=entropy, max_depth=8, max_features=log2, n_estimators=200; total time=   1.3s\n",
      "[CV] END criterion=entropy, max_depth=8, max_features=log2, n_estimators=500; total time=   2.6s\n",
      "[CV] END criterion=entropy, max_depth=8, max_features=log2, n_estimators=500; total time=   2.3s\n",
      "[CV] END criterion=entropy, max_depth=8, max_features=log2, n_estimators=500; total time=   2.3s\n"
     ]
    }
   ],
   "source": [
    "# Create the parameter grid based on the results of random search \n",
    "param_grid = { \n",
    "    'n_estimators': [200, 500],\n",
    "    'max_features': ['auto', 'sqrt', 'log2'],\n",
    "    'max_depth' : [4,5,6,7,8],\n",
    "    'criterion' :['gini', 'entropy']\n",
    "}\n",
    "# Create a based model\n",
    "rf = RandomForestClassifier(random_state=42)\n",
    "# Instantiate the grid search model\n",
    "rf_gsearch = GridSearchCV(estimator = rf, param_grid = param_grid, \n",
    "                          cv = 3, n_jobs = -1, verbose = 2).fit(X_train, y_train)"
   ]
  },
  {
   "cell_type": "code",
   "execution_count": 112,
   "metadata": {},
   "outputs": [
    {
     "name": "stdout",
     "output_type": "stream",
     "text": [
      "Score after Model Tuning:  0.7727272727272727\n"
     ]
    }
   ],
   "source": [
    "print('Score after Model Tuning: ', rf_gsearch.score(X_test, y_test))"
   ]
  },
  {
   "cell_type": "code",
   "execution_count": 113,
   "metadata": {},
   "outputs": [
    {
     "data": {
      "text/plain": [
       "{'criterion': 'gini',\n",
       " 'max_depth': 7,\n",
       " 'max_features': 'auto',\n",
       " 'n_estimators': 500}"
      ]
     },
     "execution_count": 113,
     "metadata": {},
     "output_type": "execute_result"
    }
   ],
   "source": [
    "best = rf_gsearch.best_params_\n",
    "best"
   ]
  },
  {
   "cell_type": "markdown",
   "metadata": {},
   "source": [
    "## Try Logistic Regression"
   ]
  },
  {
   "cell_type": "code",
   "execution_count": 94,
   "metadata": {},
   "outputs": [
    {
     "data": {
      "text/plain": [
       "LogisticRegression()"
      ]
     },
     "execution_count": 94,
     "metadata": {},
     "output_type": "execute_result"
    }
   ],
   "source": [
    "clf = LogisticRegression()\n",
    "clf.fit(X_train,y_train)"
   ]
  },
  {
   "cell_type": "code",
   "execution_count": 95,
   "metadata": {},
   "outputs": [],
   "source": [
    "y_pred = clf.predict(X_test)\n"
   ]
  },
  {
   "cell_type": "code",
   "execution_count": 96,
   "metadata": {},
   "outputs": [
    {
     "data": {
      "text/plain": [
       "0.7597402597402597"
      ]
     },
     "execution_count": 96,
     "metadata": {},
     "output_type": "execute_result"
    }
   ],
   "source": [
    "clf.score(X_test,y_test)"
   ]
  },
  {
   "cell_type": "markdown",
   "metadata": {},
   "source": [
    "Try paramater grid search to improve the results"
   ]
  },
  {
   "cell_type": "code",
   "execution_count": 83,
   "metadata": {
    "collapsed": false,
    "jupyter": {
     "outputs_hidden": false
    }
   },
   "outputs": [],
   "source": [
    "# Guide here: https://towardsdatascience.com/logistic-clfression-model-tuning-with-scikit-learn-part-1-425142e01af5\n",
    "param_grid = {\n",
    "    'penalty' : ['l1', 'l2'],\n",
    "    'C' : np.logspace(-4, 4, 20)\n",
    "}"
   ]
  },
  {
   "cell_type": "code",
   "execution_count": 99,
   "metadata": {
    "collapsed": false,
    "jupyter": {
     "outputs_hidden": false
    }
   },
   "outputs": [
    {
     "name": "stdout",
     "output_type": "stream",
     "text": [
      "Fitting 5 folds for each of 40 candidates, totalling 200 fits\n",
      "Score after Model Tuning:  0.7597402597402597\n"
     ]
    }
   ],
   "source": [
    "clf_gsearch = GridSearchCV(clf, param_grid, cv =5, verbose=1).fit(X_train, y_train)\n",
    "\n",
    "print('Score after Model Tuning: ', clf_gsearch.score(X_test, y_test))\n"
   ]
  },
  {
   "cell_type": "code",
   "execution_count": 100,
   "metadata": {},
   "outputs": [
    {
     "data": {
      "text/plain": [
       "{'C': 11.288378916846883, 'penalty': 'l2'}"
      ]
     },
     "execution_count": 100,
     "metadata": {},
     "output_type": "execute_result"
    }
   ],
   "source": [
    "best = clf_gsearch.best_params_\n",
    "best"
   ]
  }
 ],
 "metadata": {
  "kernelspec": {
   "display_name": "Python 3 (ipykernel)",
   "language": "python",
   "name": "python3"
  },
  "language_info": {
   "codemirror_mode": {
    "name": "ipython",
    "version": 3
   },
   "file_extension": ".py",
   "mimetype": "text/x-python",
   "name": "python",
   "nbconvert_exporter": "python",
   "pygments_lexer": "ipython3",
   "version": "3.8.12"
  }
 },
 "nbformat": 4,
 "nbformat_minor": 4
}
