{
 "cells": [
  {
   "cell_type": "markdown",
   "metadata": {},
   "source": [
    "# Loan predictions\n",
    "## `Data Preprocessing and Modeling Using Pipelines`"
   ]
  },
  {
   "cell_type": "code",
   "execution_count": 1,
   "metadata": {
    "collapsed": false,
    "jupyter": {
     "outputs_hidden": false
    }
   },
   "outputs": [],
   "source": [
    "import pandas as pd\n",
    "import numpy as np\n",
    "import matplotlib.pyplot as plt\n",
    "import seaborn as sns\n",
    "\n",
    "\n",
    "from sklearn.model_selection import train_test_split\n",
    "\n",
    "\n",
    "from sklearn.preprocessing import OneHotEncoder\n",
    "from sklearn.feature_selection import SelectKBest\n",
    "from sklearn.decomposition import PCA\n",
    "from sklearn.impute import SimpleImputer\n",
    "from sklearn.preprocessing import PowerTransformer\n",
    "\n",
    "from sklearn.compose import ColumnTransformer\n",
    "from sklearn.pipeline import Pipeline, FeatureUnion\n",
    "\n",
    "from sklearn.linear_model import LogisticRegression\n",
    "from sklearn.ensemble import RandomForestClassifier, GradientBoostingClassifier\n",
    "from sklearn.neighbors import KNeighborsClassifier\n",
    "from sklearn.naive_bayes import CategoricalNB\n",
    "\n",
    "from sklearn.model_selection import GridSearchCV\n",
    "\n",
    "import warnings \n",
    "warnings.filterwarnings('ignore')\n",
    "\n",
    "sns.set()\n",
    "%matplotlib inline"
   ]
  },
  {
   "cell_type": "code",
   "execution_count": 2,
   "metadata": {},
   "outputs": [
    {
     "name": "stdout",
     "output_type": "stream",
     "text": [
      "(614, 13)\n"
     ]
    },
    {
     "data": {
      "text/html": [
       "<div>\n",
       "<style scoped>\n",
       "    .dataframe tbody tr th:only-of-type {\n",
       "        vertical-align: middle;\n",
       "    }\n",
       "\n",
       "    .dataframe tbody tr th {\n",
       "        vertical-align: top;\n",
       "    }\n",
       "\n",
       "    .dataframe thead th {\n",
       "        text-align: right;\n",
       "    }\n",
       "</style>\n",
       "<table border=\"1\" class=\"dataframe\">\n",
       "  <thead>\n",
       "    <tr style=\"text-align: right;\">\n",
       "      <th></th>\n",
       "      <th>Loan_ID</th>\n",
       "      <th>Gender</th>\n",
       "      <th>Married</th>\n",
       "      <th>Dependents</th>\n",
       "      <th>Education</th>\n",
       "      <th>Self_Employed</th>\n",
       "      <th>ApplicantIncome</th>\n",
       "      <th>CoapplicantIncome</th>\n",
       "      <th>LoanAmount</th>\n",
       "      <th>Loan_Amount_Term</th>\n",
       "      <th>Credit_History</th>\n",
       "      <th>Property_Area</th>\n",
       "      <th>Loan_Status</th>\n",
       "    </tr>\n",
       "  </thead>\n",
       "  <tbody>\n",
       "    <tr>\n",
       "      <th>0</th>\n",
       "      <td>LP001002</td>\n",
       "      <td>Male</td>\n",
       "      <td>No</td>\n",
       "      <td>0</td>\n",
       "      <td>Graduate</td>\n",
       "      <td>No</td>\n",
       "      <td>5849</td>\n",
       "      <td>0.0</td>\n",
       "      <td>NaN</td>\n",
       "      <td>360.0</td>\n",
       "      <td>1.0</td>\n",
       "      <td>Urban</td>\n",
       "      <td>Y</td>\n",
       "    </tr>\n",
       "    <tr>\n",
       "      <th>1</th>\n",
       "      <td>LP001003</td>\n",
       "      <td>Male</td>\n",
       "      <td>Yes</td>\n",
       "      <td>1</td>\n",
       "      <td>Graduate</td>\n",
       "      <td>No</td>\n",
       "      <td>4583</td>\n",
       "      <td>1508.0</td>\n",
       "      <td>128.0</td>\n",
       "      <td>360.0</td>\n",
       "      <td>1.0</td>\n",
       "      <td>Rural</td>\n",
       "      <td>N</td>\n",
       "    </tr>\n",
       "    <tr>\n",
       "      <th>2</th>\n",
       "      <td>LP001005</td>\n",
       "      <td>Male</td>\n",
       "      <td>Yes</td>\n",
       "      <td>0</td>\n",
       "      <td>Graduate</td>\n",
       "      <td>Yes</td>\n",
       "      <td>3000</td>\n",
       "      <td>0.0</td>\n",
       "      <td>66.0</td>\n",
       "      <td>360.0</td>\n",
       "      <td>1.0</td>\n",
       "      <td>Urban</td>\n",
       "      <td>Y</td>\n",
       "    </tr>\n",
       "    <tr>\n",
       "      <th>3</th>\n",
       "      <td>LP001006</td>\n",
       "      <td>Male</td>\n",
       "      <td>Yes</td>\n",
       "      <td>0</td>\n",
       "      <td>Not Graduate</td>\n",
       "      <td>No</td>\n",
       "      <td>2583</td>\n",
       "      <td>2358.0</td>\n",
       "      <td>120.0</td>\n",
       "      <td>360.0</td>\n",
       "      <td>1.0</td>\n",
       "      <td>Urban</td>\n",
       "      <td>Y</td>\n",
       "    </tr>\n",
       "    <tr>\n",
       "      <th>4</th>\n",
       "      <td>LP001008</td>\n",
       "      <td>Male</td>\n",
       "      <td>No</td>\n",
       "      <td>0</td>\n",
       "      <td>Graduate</td>\n",
       "      <td>No</td>\n",
       "      <td>6000</td>\n",
       "      <td>0.0</td>\n",
       "      <td>141.0</td>\n",
       "      <td>360.0</td>\n",
       "      <td>1.0</td>\n",
       "      <td>Urban</td>\n",
       "      <td>Y</td>\n",
       "    </tr>\n",
       "  </tbody>\n",
       "</table>\n",
       "</div>"
      ],
      "text/plain": [
       "    Loan_ID Gender Married Dependents     Education Self_Employed  \\\n",
       "0  LP001002   Male      No          0      Graduate            No   \n",
       "1  LP001003   Male     Yes          1      Graduate            No   \n",
       "2  LP001005   Male     Yes          0      Graduate           Yes   \n",
       "3  LP001006   Male     Yes          0  Not Graduate            No   \n",
       "4  LP001008   Male      No          0      Graduate            No   \n",
       "\n",
       "   ApplicantIncome  CoapplicantIncome  LoanAmount  Loan_Amount_Term  \\\n",
       "0             5849                0.0         NaN             360.0   \n",
       "1             4583             1508.0       128.0             360.0   \n",
       "2             3000                0.0        66.0             360.0   \n",
       "3             2583             2358.0       120.0             360.0   \n",
       "4             6000                0.0       141.0             360.0   \n",
       "\n",
       "   Credit_History Property_Area Loan_Status  \n",
       "0             1.0         Urban           Y  \n",
       "1             1.0         Rural           N  \n",
       "2             1.0         Urban           Y  \n",
       "3             1.0         Urban           Y  \n",
       "4             1.0         Urban           Y  "
      ]
     },
     "execution_count": 2,
     "metadata": {},
     "output_type": "execute_result"
    }
   ],
   "source": [
    "df = pd.read_csv(\"data/data.csv\") \n",
    "print(df.shape)\n",
    "df.head()"
   ]
  },
  {
   "cell_type": "code",
   "execution_count": 3,
   "metadata": {},
   "outputs": [
    {
     "name": "stdout",
     "output_type": "stream",
     "text": [
      "<class 'pandas.core.frame.DataFrame'>\n",
      "RangeIndex: 614 entries, 0 to 613\n",
      "Data columns (total 13 columns):\n",
      " #   Column             Non-Null Count  Dtype  \n",
      "---  ------             --------------  -----  \n",
      " 0   Loan_ID            614 non-null    object \n",
      " 1   Gender             601 non-null    object \n",
      " 2   Married            611 non-null    object \n",
      " 3   Dependents         599 non-null    object \n",
      " 4   Education          614 non-null    object \n",
      " 5   Self_Employed      582 non-null    object \n",
      " 6   ApplicantIncome    614 non-null    int64  \n",
      " 7   CoapplicantIncome  614 non-null    float64\n",
      " 8   LoanAmount         592 non-null    float64\n",
      " 9   Loan_Amount_Term   600 non-null    float64\n",
      " 10  Credit_History     564 non-null    float64\n",
      " 11  Property_Area      614 non-null    object \n",
      " 12  Loan_Status        614 non-null    object \n",
      "dtypes: float64(4), int64(1), object(8)\n",
      "memory usage: 62.5+ KB\n"
     ]
    }
   ],
   "source": [
    "df.info()"
   ]
  },
  {
   "cell_type": "code",
   "execution_count": 4,
   "metadata": {},
   "outputs": [],
   "source": [
    "## Pull out credit history (1 is yes, 0 is no) from numerical\n",
    "df['Credit_History']= df['Credit_History'].astype('object')"
   ]
  },
  {
   "cell_type": "code",
   "execution_count": 5,
   "metadata": {},
   "outputs": [
    {
     "name": "stdout",
     "output_type": "stream",
     "text": [
      "numeric columns: ['ApplicantIncome', 'CoapplicantIncome', 'LoanAmount', 'Loan_Amount_Term']\n",
      "categorical cols: ['Gender', 'Married', 'Dependents', 'Education', 'Self_Employed', 'Credit_History', 'Property_Area']\n"
     ]
    }
   ],
   "source": [
    "#### Separate Categorical and numerical variables\n",
    "\n",
    "categorical_cols = df.select_dtypes(include='object').columns.tolist()\n",
    "\n",
    "# Remove Loan_ID as it is not needed and Loan_status as it is the target variable\n",
    "categorical_cols.remove('Loan_ID')\n",
    "categorical_cols.remove('Loan_Status')\n",
    "\n",
    "numeric_cols = df.select_dtypes(exclude='object').columns.tolist()\n",
    "\n",
    "print(f'numeric columns: {numeric_cols}')\n",
    "print(f'categorical cols: {categorical_cols}')"
   ]
  },
  {
   "cell_type": "markdown",
   "metadata": {},
   "source": [
    "## Building a Predictive Model Using Pipelines\n",
    "If you didn't use pipelines before, transform your data prep, feat. engineering and modeling steps into Pipeline. It will be helpful for deployment.\n",
    "\n",
    "The goal here is to create the pipeline that will take one row of our dataset and predict the probability of being granted a loan.\n",
    "\n",
    "`pipeline.predict(x)`"
   ]
  },
  {
   "cell_type": "code",
   "execution_count": 6,
   "metadata": {},
   "outputs": [],
   "source": [
    "# Split the dataset into train and test\n",
    "X = df.drop(columns=['Loan_Status','Loan_ID'])\n",
    "y = df['Loan_Status']\n",
    "\n",
    "X_train, X_test, y_train, y_test = train_test_split(X, y, test_size=0.25, random_state=42)"
   ]
  },
  {
   "cell_type": "code",
   "execution_count": 14,
   "metadata": {},
   "outputs": [],
   "source": [
    "# Use powertransformer instead of standard scaler as it is more robust to outliers\n",
    "numeric_pipe = Pipeline([('impute_mean', SimpleImputer(strategy='mean')), \n",
    "                              ('scaling', PowerTransformer(method=\"yeo-johnson\")),\n",
    "                              ('kbest', SelectKBest(k=4))]) # will tune later with gridsearchcv\n",
    "categorical_pipe = Pipeline([('impute_mode', SimpleImputer(strategy='most_frequent')), \n",
    "                                  ('one-hot-encode', OneHotEncoder(sparse=False)),\n",
    "                                  ('pca', PCA(n_components=5))]) # will tune later with gridsearchcv\n",
    "\n",
    "\n",
    "numeric_transform = ColumnTransformer([('numeric', numeric_pipe, numeric_cols)])\n",
    "categorical_transform = ColumnTransformer([('categorical', categorical_pipe, categorical_cols)])\n",
    "\n",
    "\n",
    "feature_union = FeatureUnion([('numeric_transform', numeric_transform), \n",
    "                              ('categorical_transform', categorical_transform)])"
   ]
  },
  {
   "cell_type": "code",
   "execution_count": 15,
   "metadata": {},
   "outputs": [
    {
     "name": "stdout",
     "output_type": "stream",
     "text": [
      "Random Forest score: 73.37662337662337%\n"
     ]
    }
   ],
   "source": [
    "# Random Forest Pipeline\n",
    "pipeline = Pipeline(steps=[('features', feature_union),\n",
    "                           ('classifier', RandomForestClassifier())])\n",
    "# fit and predict\n",
    "pipeline.fit(X_train, y_train)\n",
    "y_pred = pipeline.predict(X_test)\n",
    "\n",
    "# score\n",
    "print(f'Random Forest score: {pipeline.score(X_test,y_test)*100}%')"
   ]
  },
  {
   "cell_type": "code",
   "execution_count": 9,
   "metadata": {},
   "outputs": [
    {
     "name": "stdout",
     "output_type": "stream",
     "text": [
      "Highest accuracy: 74.67532467532467%\n",
      "Achieved with hyperparameters: {'classifier': RandomForestClassifier(), 'features__categorical_transform__categorical__pca__n_components': 5, 'features__numeric_transform__numeric__kbest__k': 4}\n"
     ]
    }
   ],
   "source": [
    "param_grid = {'features__numeric_transform__numeric__kbest__k': [2, 3, 4], \n",
    "              'features__categorical_transform__categorical__pca__n_components': [1, 3, 5],\n",
    "              'classifier': [LogisticRegression(), RandomForestClassifier(), GradientBoostingClassifier(), KNeighborsClassifier(), CategoricalNB()]}\n",
    "grid = GridSearchCV(pipeline, param_grid=param_grid, cv=5)\n",
    "grid.fit(X_train, y_train)\n",
    "\n",
    "best_model = grid.best_estimator_\n",
    "best_hyperparams = grid.best_params_\n",
    "best_acc = grid.score(X_test, y_test)\n",
    "print(f'Highest accuracy: {best_acc*100}%\\nAchieved with hyperparameters: {best_hyperparams}')"
   ]
  },
  {
   "cell_type": "code",
   "execution_count": 21,
   "metadata": {},
   "outputs": [
    {
     "name": "stdout",
     "output_type": "stream",
     "text": [
      "Fitting 3 folds for each of 324 candidates, totalling 972 fits\n"
     ]
    },
    {
     "name": "stderr",
     "output_type": "stream",
     "text": [
      "/Users/foreverrefugee/opt/anaconda3/lib/python3.8/site-packages/sklearn/preprocessing/_data.py:3253: RuntimeWarning: divide by zero encountered in log\n",
      "  loglike = -n_samples / 2 * np.log(x_trans.var())\n",
      "/Users/foreverrefugee/opt/anaconda3/lib/python3.8/site-packages/sklearn/feature_selection/_univariate_selection.py:112: UserWarning: Features [0] are constant.\n",
      "  warnings.warn(\"Features %s are constant.\" % constant_features_idx, UserWarning)\n",
      "/Users/foreverrefugee/opt/anaconda3/lib/python3.8/site-packages/sklearn/feature_selection/_univariate_selection.py:113: RuntimeWarning: invalid value encountered in true_divide\n",
      "  f = msb / msw\n"
     ]
    },
    {
     "name": "stdout",
     "output_type": "stream",
     "text": [
      "[CV] END classifier__bootstrap=True, classifier__max_depth=5, classifier__max_features=3, classifier__min_samples_leaf=3, classifier__min_samples_split=8, classifier__n_estimators=100; total time=   0.9s\n",
      "[CV] END classifier__bootstrap=True, classifier__max_depth=5, classifier__max_features=3, classifier__min_samples_leaf=3, classifier__min_samples_split=8, classifier__n_estimators=100; total time=   1.0s\n",
      "[CV] END classifier__bootstrap=True, classifier__max_depth=5, classifier__max_features=3, classifier__min_samples_leaf=3, classifier__min_samples_split=8, classifier__n_estimators=100; total time=   0.9s\n"
     ]
    },
    {
     "name": "stderr",
     "output_type": "stream",
     "text": [
      "/Users/foreverrefugee/opt/anaconda3/lib/python3.8/site-packages/sklearn/preprocessing/_data.py:3253: RuntimeWarning: divide by zero encountered in log\n",
      "  loglike = -n_samples / 2 * np.log(x_trans.var())\n",
      "/Users/foreverrefugee/opt/anaconda3/lib/python3.8/site-packages/sklearn/feature_selection/_univariate_selection.py:112: UserWarning: Features [0] are constant.\n",
      "  warnings.warn(\"Features %s are constant.\" % constant_features_idx, UserWarning)\n",
      "/Users/foreverrefugee/opt/anaconda3/lib/python3.8/site-packages/sklearn/feature_selection/_univariate_selection.py:113: RuntimeWarning: invalid value encountered in true_divide\n",
      "  f = msb / msw\n"
     ]
    },
    {
     "name": "stdout",
     "output_type": "stream",
     "text": [
      "[CV] END classifier__bootstrap=True, classifier__max_depth=5, classifier__max_features=3, classifier__min_samples_leaf=3, classifier__min_samples_split=8, classifier__n_estimators=200; total time=   1.9s\n",
      "[CV] END classifier__bootstrap=True, classifier__max_depth=5, classifier__max_features=3, classifier__min_samples_leaf=3, classifier__min_samples_split=8, classifier__n_estimators=200; total time=   1.5s\n",
      "[CV] END classifier__bootstrap=True, classifier__max_depth=5, classifier__max_features=3, classifier__min_samples_leaf=3, classifier__min_samples_split=8, classifier__n_estimators=200; total time=   1.5s\n"
     ]
    },
    {
     "name": "stderr",
     "output_type": "stream",
     "text": [
      "/Users/foreverrefugee/opt/anaconda3/lib/python3.8/site-packages/sklearn/preprocessing/_data.py:3253: RuntimeWarning: divide by zero encountered in log\n",
      "  loglike = -n_samples / 2 * np.log(x_trans.var())\n",
      "/Users/foreverrefugee/opt/anaconda3/lib/python3.8/site-packages/sklearn/feature_selection/_univariate_selection.py:112: UserWarning: Features [0] are constant.\n",
      "  warnings.warn(\"Features %s are constant.\" % constant_features_idx, UserWarning)\n",
      "/Users/foreverrefugee/opt/anaconda3/lib/python3.8/site-packages/sklearn/feature_selection/_univariate_selection.py:113: RuntimeWarning: invalid value encountered in true_divide\n",
      "  f = msb / msw\n"
     ]
    },
    {
     "name": "stdout",
     "output_type": "stream",
     "text": [
      "[CV] END classifier__bootstrap=True, classifier__max_depth=5, classifier__max_features=3, classifier__min_samples_leaf=3, classifier__min_samples_split=8, classifier__n_estimators=300; total time=   1.9s\n",
      "[CV] END classifier__bootstrap=True, classifier__max_depth=5, classifier__max_features=3, classifier__min_samples_leaf=3, classifier__min_samples_split=10, classifier__n_estimators=100; total time=   0.5s\n"
     ]
    },
    {
     "name": "stderr",
     "output_type": "stream",
     "text": [
      "/Users/foreverrefugee/opt/anaconda3/lib/python3.8/site-packages/sklearn/preprocessing/_data.py:3253: RuntimeWarning: divide by zero encountered in log\n",
      "  loglike = -n_samples / 2 * np.log(x_trans.var())\n",
      "/Users/foreverrefugee/opt/anaconda3/lib/python3.8/site-packages/sklearn/feature_selection/_univariate_selection.py:112: UserWarning: Features [0] are constant.\n",
      "  warnings.warn(\"Features %s are constant.\" % constant_features_idx, UserWarning)\n",
      "/Users/foreverrefugee/opt/anaconda3/lib/python3.8/site-packages/sklearn/feature_selection/_univariate_selection.py:113: RuntimeWarning: invalid value encountered in true_divide\n",
      "  f = msb / msw\n"
     ]
    },
    {
     "name": "stdout",
     "output_type": "stream",
     "text": [
      "[CV] END classifier__bootstrap=True, classifier__max_depth=5, classifier__max_features=3, classifier__min_samples_leaf=3, classifier__min_samples_split=8, classifier__n_estimators=300; total time=   1.5s\n",
      "[CV] END classifier__bootstrap=True, classifier__max_depth=5, classifier__max_features=3, classifier__min_samples_leaf=3, classifier__min_samples_split=10, classifier__n_estimators=100; total time=   0.6s\n",
      "[CV] END classifier__bootstrap=True, classifier__max_depth=5, classifier__max_features=3, classifier__min_samples_leaf=3, classifier__min_samples_split=10, classifier__n_estimators=100; total time=   0.6s\n"
     ]
    },
    {
     "name": "stderr",
     "output_type": "stream",
     "text": [
      "/Users/foreverrefugee/opt/anaconda3/lib/python3.8/site-packages/sklearn/preprocessing/_data.py:3253: RuntimeWarning: divide by zero encountered in log\n",
      "  loglike = -n_samples / 2 * np.log(x_trans.var())\n",
      "/Users/foreverrefugee/opt/anaconda3/lib/python3.8/site-packages/sklearn/feature_selection/_univariate_selection.py:112: UserWarning: Features [0] are constant.\n",
      "  warnings.warn(\"Features %s are constant.\" % constant_features_idx, UserWarning)\n",
      "/Users/foreverrefugee/opt/anaconda3/lib/python3.8/site-packages/sklearn/feature_selection/_univariate_selection.py:113: RuntimeWarning: invalid value encountered in true_divide\n",
      "  f = msb / msw\n"
     ]
    },
    {
     "name": "stdout",
     "output_type": "stream",
     "text": [
      "[CV] END classifier__bootstrap=True, classifier__max_depth=5, classifier__max_features=3, classifier__min_samples_leaf=3, classifier__min_samples_split=8, classifier__n_estimators=300; total time=   1.5s\n",
      "[CV] END classifier__bootstrap=True, classifier__max_depth=5, classifier__max_features=3, classifier__min_samples_leaf=3, classifier__min_samples_split=10, classifier__n_estimators=200; total time=   1.1s\n",
      "[CV] END classifier__bootstrap=True, classifier__max_depth=5, classifier__max_features=3, classifier__min_samples_leaf=3, classifier__min_samples_split=10, classifier__n_estimators=200; total time=   1.3s\n",
      "[CV] END classifier__bootstrap=True, classifier__max_depth=5, classifier__max_features=3, classifier__min_samples_leaf=3, classifier__min_samples_split=10, classifier__n_estimators=200; total time=   1.2s\n"
     ]
    },
    {
     "name": "stderr",
     "output_type": "stream",
     "text": [
      "/Users/foreverrefugee/opt/anaconda3/lib/python3.8/site-packages/sklearn/preprocessing/_data.py:3253: RuntimeWarning: divide by zero encountered in log\n",
      "  loglike = -n_samples / 2 * np.log(x_trans.var())\n",
      "/Users/foreverrefugee/opt/anaconda3/lib/python3.8/site-packages/sklearn/feature_selection/_univariate_selection.py:112: UserWarning: Features [0] are constant.\n",
      "  warnings.warn(\"Features %s are constant.\" % constant_features_idx, UserWarning)\n",
      "/Users/foreverrefugee/opt/anaconda3/lib/python3.8/site-packages/sklearn/feature_selection/_univariate_selection.py:113: RuntimeWarning: invalid value encountered in true_divide\n",
      "  f = msb / msw\n"
     ]
    },
    {
     "name": "stdout",
     "output_type": "stream",
     "text": [
      "[CV] END classifier__bootstrap=True, classifier__max_depth=5, classifier__max_features=3, classifier__min_samples_leaf=3, classifier__min_samples_split=12, classifier__n_estimators=100; total time=   0.5s\n",
      "[CV] END classifier__bootstrap=True, classifier__max_depth=5, classifier__max_features=3, classifier__min_samples_leaf=3, classifier__min_samples_split=10, classifier__n_estimators=300; total time=   1.8s\n"
     ]
    },
    {
     "name": "stderr",
     "output_type": "stream",
     "text": [
      "/Users/foreverrefugee/opt/anaconda3/lib/python3.8/site-packages/sklearn/preprocessing/_data.py:3253: RuntimeWarning: divide by zero encountered in log\n",
      "  loglike = -n_samples / 2 * np.log(x_trans.var())\n",
      "/Users/foreverrefugee/opt/anaconda3/lib/python3.8/site-packages/sklearn/feature_selection/_univariate_selection.py:112: UserWarning: Features [0] are constant.\n",
      "  warnings.warn(\"Features %s are constant.\" % constant_features_idx, UserWarning)\n",
      "/Users/foreverrefugee/opt/anaconda3/lib/python3.8/site-packages/sklearn/feature_selection/_univariate_selection.py:113: RuntimeWarning: invalid value encountered in true_divide\n",
      "  f = msb / msw\n"
     ]
    },
    {
     "name": "stdout",
     "output_type": "stream",
     "text": [
      "[CV] END classifier__bootstrap=True, classifier__max_depth=5, classifier__max_features=3, classifier__min_samples_leaf=3, classifier__min_samples_split=12, classifier__n_estimators=100; total time=   0.7s\n",
      "[CV] END classifier__bootstrap=True, classifier__max_depth=5, classifier__max_features=3, classifier__min_samples_leaf=3, classifier__min_samples_split=10, classifier__n_estimators=300; total time=   1.7s\n",
      "[CV] END classifier__bootstrap=True, classifier__max_depth=5, classifier__max_features=3, classifier__min_samples_leaf=3, classifier__min_samples_split=12, classifier__n_estimators=100; total time=   0.8s\n",
      "[CV] END classifier__bootstrap=True, classifier__max_depth=5, classifier__max_features=3, classifier__min_samples_leaf=3, classifier__min_samples_split=10, classifier__n_estimators=300; total time=   1.9s\n"
     ]
    },
    {
     "name": "stderr",
     "output_type": "stream",
     "text": [
      "/Users/foreverrefugee/opt/anaconda3/lib/python3.8/site-packages/sklearn/preprocessing/_data.py:3253: RuntimeWarning: divide by zero encountered in log\n",
      "  loglike = -n_samples / 2 * np.log(x_trans.var())\n",
      "/Users/foreverrefugee/opt/anaconda3/lib/python3.8/site-packages/sklearn/feature_selection/_univariate_selection.py:112: UserWarning: Features [0] are constant.\n",
      "  warnings.warn(\"Features %s are constant.\" % constant_features_idx, UserWarning)\n",
      "/Users/foreverrefugee/opt/anaconda3/lib/python3.8/site-packages/sklearn/feature_selection/_univariate_selection.py:113: RuntimeWarning: invalid value encountered in true_divide\n",
      "  f = msb / msw\n"
     ]
    },
    {
     "name": "stdout",
     "output_type": "stream",
     "text": [
      "[CV] END classifier__bootstrap=True, classifier__max_depth=5, classifier__max_features=3, classifier__min_samples_leaf=3, classifier__min_samples_split=12, classifier__n_estimators=200; total time=   1.7s\n",
      "[CV] END classifier__bootstrap=True, classifier__max_depth=5, classifier__max_features=3, classifier__min_samples_leaf=3, classifier__min_samples_split=12, classifier__n_estimators=200; total time=   1.9s\n",
      "[CV] END classifier__bootstrap=True, classifier__max_depth=5, classifier__max_features=3, classifier__min_samples_leaf=3, classifier__min_samples_split=12, classifier__n_estimators=200; total time=   1.8s\n"
     ]
    },
    {
     "name": "stderr",
     "output_type": "stream",
     "text": [
      "/Users/foreverrefugee/opt/anaconda3/lib/python3.8/site-packages/sklearn/preprocessing/_data.py:3253: RuntimeWarning: divide by zero encountered in log\n",
      "  loglike = -n_samples / 2 * np.log(x_trans.var())\n",
      "/Users/foreverrefugee/opt/anaconda3/lib/python3.8/site-packages/sklearn/feature_selection/_univariate_selection.py:112: UserWarning: Features [0] are constant.\n",
      "  warnings.warn(\"Features %s are constant.\" % constant_features_idx, UserWarning)\n",
      "/Users/foreverrefugee/opt/anaconda3/lib/python3.8/site-packages/sklearn/feature_selection/_univariate_selection.py:113: RuntimeWarning: invalid value encountered in true_divide\n",
      "  f = msb / msw\n"
     ]
    },
    {
     "name": "stdout",
     "output_type": "stream",
     "text": [
      "[CV] END classifier__bootstrap=True, classifier__max_depth=5, classifier__max_features=3, classifier__min_samples_leaf=3, classifier__min_samples_split=12, classifier__n_estimators=300; total time=   2.4s\n",
      "[CV] END classifier__bootstrap=True, classifier__max_depth=5, classifier__max_features=3, classifier__min_samples_leaf=4, classifier__min_samples_split=8, classifier__n_estimators=100; total time=   0.8s\n"
     ]
    },
    {
     "name": "stderr",
     "output_type": "stream",
     "text": [
      "/Users/foreverrefugee/opt/anaconda3/lib/python3.8/site-packages/sklearn/preprocessing/_data.py:3253: RuntimeWarning: divide by zero encountered in log\n",
      "  loglike = -n_samples / 2 * np.log(x_trans.var())\n",
      "/Users/foreverrefugee/opt/anaconda3/lib/python3.8/site-packages/sklearn/feature_selection/_univariate_selection.py:112: UserWarning: Features [0] are constant.\n",
      "  warnings.warn(\"Features %s are constant.\" % constant_features_idx, UserWarning)\n",
      "/Users/foreverrefugee/opt/anaconda3/lib/python3.8/site-packages/sklearn/feature_selection/_univariate_selection.py:113: RuntimeWarning: invalid value encountered in true_divide\n",
      "  f = msb / msw\n"
     ]
    },
    {
     "name": "stdout",
     "output_type": "stream",
     "text": [
      "[CV] END classifier__bootstrap=True, classifier__max_depth=5, classifier__max_features=3, classifier__min_samples_leaf=4, classifier__min_samples_split=8, classifier__n_estimators=100; total time=   0.9s\n",
      "[CV] END classifier__bootstrap=True, classifier__max_depth=5, classifier__max_features=3, classifier__min_samples_leaf=4, classifier__min_samples_split=8, classifier__n_estimators=100; total time=   0.9s\n",
      "[CV] END classifier__bootstrap=True, classifier__max_depth=5, classifier__max_features=3, classifier__min_samples_leaf=3, classifier__min_samples_split=12, classifier__n_estimators=300; total time=   2.4s\n"
     ]
    },
    {
     "name": "stderr",
     "output_type": "stream",
     "text": [
      "/Users/foreverrefugee/opt/anaconda3/lib/python3.8/site-packages/sklearn/preprocessing/_data.py:3253: RuntimeWarning: divide by zero encountered in log\n",
      "  loglike = -n_samples / 2 * np.log(x_trans.var())\n",
      "/Users/foreverrefugee/opt/anaconda3/lib/python3.8/site-packages/sklearn/feature_selection/_univariate_selection.py:112: UserWarning: Features [0] are constant.\n",
      "  warnings.warn(\"Features %s are constant.\" % constant_features_idx, UserWarning)\n",
      "/Users/foreverrefugee/opt/anaconda3/lib/python3.8/site-packages/sklearn/feature_selection/_univariate_selection.py:113: RuntimeWarning: invalid value encountered in true_divide\n",
      "  f = msb / msw\n"
     ]
    },
    {
     "name": "stdout",
     "output_type": "stream",
     "text": [
      "[CV] END classifier__bootstrap=True, classifier__max_depth=5, classifier__max_features=3, classifier__min_samples_leaf=3, classifier__min_samples_split=12, classifier__n_estimators=300; total time=   2.1s\n",
      "[CV] END classifier__bootstrap=True, classifier__max_depth=5, classifier__max_features=3, classifier__min_samples_leaf=4, classifier__min_samples_split=8, classifier__n_estimators=200; total time=   1.7s\n",
      "[CV] END classifier__bootstrap=True, classifier__max_depth=5, classifier__max_features=3, classifier__min_samples_leaf=4, classifier__min_samples_split=8, classifier__n_estimators=200; total time=   1.7s\n"
     ]
    },
    {
     "name": "stderr",
     "output_type": "stream",
     "text": [
      "/Users/foreverrefugee/opt/anaconda3/lib/python3.8/site-packages/sklearn/preprocessing/_data.py:3253: RuntimeWarning: divide by zero encountered in log\n",
      "  loglike = -n_samples / 2 * np.log(x_trans.var())\n",
      "/Users/foreverrefugee/opt/anaconda3/lib/python3.8/site-packages/sklearn/feature_selection/_univariate_selection.py:112: UserWarning: Features [0] are constant.\n",
      "  warnings.warn(\"Features %s are constant.\" % constant_features_idx, UserWarning)\n",
      "/Users/foreverrefugee/opt/anaconda3/lib/python3.8/site-packages/sklearn/feature_selection/_univariate_selection.py:113: RuntimeWarning: invalid value encountered in true_divide\n",
      "  f = msb / msw\n"
     ]
    },
    {
     "name": "stdout",
     "output_type": "stream",
     "text": [
      "[CV] END classifier__bootstrap=True, classifier__max_depth=5, classifier__max_features=3, classifier__min_samples_leaf=4, classifier__min_samples_split=8, classifier__n_estimators=200; total time=   1.9s\n",
      "[CV] END classifier__bootstrap=True, classifier__max_depth=5, classifier__max_features=3, classifier__min_samples_leaf=4, classifier__min_samples_split=10, classifier__n_estimators=100; total time=   1.1s\n",
      "[CV] END classifier__bootstrap=True, classifier__max_depth=5, classifier__max_features=3, classifier__min_samples_leaf=4, classifier__min_samples_split=8, classifier__n_estimators=300; total time=   3.1s\n"
     ]
    },
    {
     "name": "stderr",
     "output_type": "stream",
     "text": [
      "/Users/foreverrefugee/opt/anaconda3/lib/python3.8/site-packages/sklearn/preprocessing/_data.py:3253: RuntimeWarning: divide by zero encountered in log\n",
      "  loglike = -n_samples / 2 * np.log(x_trans.var())\n",
      "/Users/foreverrefugee/opt/anaconda3/lib/python3.8/site-packages/sklearn/feature_selection/_univariate_selection.py:112: UserWarning: Features [0] are constant.\n",
      "  warnings.warn(\"Features %s are constant.\" % constant_features_idx, UserWarning)\n",
      "/Users/foreverrefugee/opt/anaconda3/lib/python3.8/site-packages/sklearn/feature_selection/_univariate_selection.py:113: RuntimeWarning: invalid value encountered in true_divide\n",
      "  f = msb / msw\n"
     ]
    },
    {
     "name": "stdout",
     "output_type": "stream",
     "text": [
      "[CV] END classifier__bootstrap=True, classifier__max_depth=5, classifier__max_features=3, classifier__min_samples_leaf=4, classifier__min_samples_split=10, classifier__n_estimators=100; total time=   0.7s\n",
      "[CV] END classifier__bootstrap=True, classifier__max_depth=5, classifier__max_features=3, classifier__min_samples_leaf=4, classifier__min_samples_split=10, classifier__n_estimators=100; total time=   0.6s\n",
      "[CV] END classifier__bootstrap=True, classifier__max_depth=5, classifier__max_features=3, classifier__min_samples_leaf=4, classifier__min_samples_split=8, classifier__n_estimators=300; total time=   2.4s\n",
      "[CV] END classifier__bootstrap=True, classifier__max_depth=5, classifier__max_features=3, classifier__min_samples_leaf=4, classifier__min_samples_split=8, classifier__n_estimators=300; total time=   2.5s\n"
     ]
    },
    {
     "name": "stderr",
     "output_type": "stream",
     "text": [
      "/Users/foreverrefugee/opt/anaconda3/lib/python3.8/site-packages/sklearn/preprocessing/_data.py:3253: RuntimeWarning: divide by zero encountered in log\n",
      "  loglike = -n_samples / 2 * np.log(x_trans.var())\n",
      "/Users/foreverrefugee/opt/anaconda3/lib/python3.8/site-packages/sklearn/feature_selection/_univariate_selection.py:112: UserWarning: Features [0] are constant.\n",
      "  warnings.warn(\"Features %s are constant.\" % constant_features_idx, UserWarning)\n",
      "/Users/foreverrefugee/opt/anaconda3/lib/python3.8/site-packages/sklearn/feature_selection/_univariate_selection.py:113: RuntimeWarning: invalid value encountered in true_divide\n",
      "  f = msb / msw\n"
     ]
    },
    {
     "name": "stdout",
     "output_type": "stream",
     "text": [
      "[CV] END classifier__bootstrap=True, classifier__max_depth=5, classifier__max_features=3, classifier__min_samples_leaf=4, classifier__min_samples_split=10, classifier__n_estimators=200; total time=   1.0s\n",
      "[CV] END classifier__bootstrap=True, classifier__max_depth=5, classifier__max_features=3, classifier__min_samples_leaf=4, classifier__min_samples_split=10, classifier__n_estimators=200; total time=   1.0s\n",
      "[CV] END classifier__bootstrap=True, classifier__max_depth=5, classifier__max_features=3, classifier__min_samples_leaf=4, classifier__min_samples_split=10, classifier__n_estimators=200; total time=   1.0s\n"
     ]
    },
    {
     "name": "stderr",
     "output_type": "stream",
     "text": [
      "/Users/foreverrefugee/opt/anaconda3/lib/python3.8/site-packages/sklearn/preprocessing/_data.py:3253: RuntimeWarning: divide by zero encountered in log\n",
      "  loglike = -n_samples / 2 * np.log(x_trans.var())\n",
      "/Users/foreverrefugee/opt/anaconda3/lib/python3.8/site-packages/sklearn/feature_selection/_univariate_selection.py:112: UserWarning: Features [0] are constant.\n",
      "  warnings.warn(\"Features %s are constant.\" % constant_features_idx, UserWarning)\n",
      "/Users/foreverrefugee/opt/anaconda3/lib/python3.8/site-packages/sklearn/feature_selection/_univariate_selection.py:113: RuntimeWarning: invalid value encountered in true_divide\n",
      "  f = msb / msw\n"
     ]
    },
    {
     "name": "stdout",
     "output_type": "stream",
     "text": [
      "[CV] END classifier__bootstrap=True, classifier__max_depth=5, classifier__max_features=3, classifier__min_samples_leaf=4, classifier__min_samples_split=10, classifier__n_estimators=300; total time=   1.4s\n",
      "[CV] END classifier__bootstrap=True, classifier__max_depth=5, classifier__max_features=3, classifier__min_samples_leaf=4, classifier__min_samples_split=12, classifier__n_estimators=100; total time=   0.5s\n"
     ]
    },
    {
     "name": "stderr",
     "output_type": "stream",
     "text": [
      "/Users/foreverrefugee/opt/anaconda3/lib/python3.8/site-packages/sklearn/preprocessing/_data.py:3253: RuntimeWarning: divide by zero encountered in log\n",
      "  loglike = -n_samples / 2 * np.log(x_trans.var())\n",
      "/Users/foreverrefugee/opt/anaconda3/lib/python3.8/site-packages/sklearn/feature_selection/_univariate_selection.py:112: UserWarning: Features [0] are constant.\n",
      "  warnings.warn(\"Features %s are constant.\" % constant_features_idx, UserWarning)\n",
      "/Users/foreverrefugee/opt/anaconda3/lib/python3.8/site-packages/sklearn/feature_selection/_univariate_selection.py:113: RuntimeWarning: invalid value encountered in true_divide\n",
      "  f = msb / msw\n"
     ]
    },
    {
     "name": "stdout",
     "output_type": "stream",
     "text": [
      "[CV] END classifier__bootstrap=True, classifier__max_depth=5, classifier__max_features=3, classifier__min_samples_leaf=4, classifier__min_samples_split=12, classifier__n_estimators=100; total time=   0.8s\n",
      "[CV] END classifier__bootstrap=True, classifier__max_depth=5, classifier__max_features=3, classifier__min_samples_leaf=4, classifier__min_samples_split=12, classifier__n_estimators=100; total time=   0.9s\n",
      "[CV] END classifier__bootstrap=True, classifier__max_depth=5, classifier__max_features=3, classifier__min_samples_leaf=4, classifier__min_samples_split=10, classifier__n_estimators=300; total time=   2.0s\n",
      "[CV] END classifier__bootstrap=True, classifier__max_depth=5, classifier__max_features=3, classifier__min_samples_leaf=4, classifier__min_samples_split=10, classifier__n_estimators=300; total time=   1.9s\n"
     ]
    },
    {
     "name": "stderr",
     "output_type": "stream",
     "text": [
      "/Users/foreverrefugee/opt/anaconda3/lib/python3.8/site-packages/sklearn/preprocessing/_data.py:3253: RuntimeWarning: divide by zero encountered in log\n",
      "  loglike = -n_samples / 2 * np.log(x_trans.var())\n",
      "/Users/foreverrefugee/opt/anaconda3/lib/python3.8/site-packages/sklearn/feature_selection/_univariate_selection.py:112: UserWarning: Features [0] are constant.\n",
      "  warnings.warn(\"Features %s are constant.\" % constant_features_idx, UserWarning)\n",
      "/Users/foreverrefugee/opt/anaconda3/lib/python3.8/site-packages/sklearn/feature_selection/_univariate_selection.py:113: RuntimeWarning: invalid value encountered in true_divide\n",
      "  f = msb / msw\n"
     ]
    },
    {
     "name": "stdout",
     "output_type": "stream",
     "text": [
      "[CV] END classifier__bootstrap=True, classifier__max_depth=5, classifier__max_features=3, classifier__min_samples_leaf=4, classifier__min_samples_split=12, classifier__n_estimators=200; total time=   1.4s\n",
      "[CV] END classifier__bootstrap=True, classifier__max_depth=5, classifier__max_features=3, classifier__min_samples_leaf=4, classifier__min_samples_split=12, classifier__n_estimators=200; total time=   1.4s\n",
      "[CV] END classifier__bootstrap=True, classifier__max_depth=5, classifier__max_features=3, classifier__min_samples_leaf=4, classifier__min_samples_split=12, classifier__n_estimators=200; total time=   1.1s\n"
     ]
    },
    {
     "name": "stderr",
     "output_type": "stream",
     "text": [
      "/Users/foreverrefugee/opt/anaconda3/lib/python3.8/site-packages/sklearn/preprocessing/_data.py:3253: RuntimeWarning: divide by zero encountered in log\n",
      "  loglike = -n_samples / 2 * np.log(x_trans.var())\n",
      "/Users/foreverrefugee/opt/anaconda3/lib/python3.8/site-packages/sklearn/feature_selection/_univariate_selection.py:112: UserWarning: Features [0] are constant.\n",
      "  warnings.warn(\"Features %s are constant.\" % constant_features_idx, UserWarning)\n",
      "/Users/foreverrefugee/opt/anaconda3/lib/python3.8/site-packages/sklearn/feature_selection/_univariate_selection.py:113: RuntimeWarning: invalid value encountered in true_divide\n",
      "  f = msb / msw\n"
     ]
    },
    {
     "name": "stdout",
     "output_type": "stream",
     "text": [
      "[CV] END classifier__bootstrap=True, classifier__max_depth=5, classifier__max_features=3, classifier__min_samples_leaf=4, classifier__min_samples_split=12, classifier__n_estimators=300; total time=   1.6s\n",
      "[CV] END classifier__bootstrap=True, classifier__max_depth=5, classifier__max_features=3, classifier__min_samples_leaf=5, classifier__min_samples_split=8, classifier__n_estimators=100; total time=   0.5s\n"
     ]
    },
    {
     "name": "stderr",
     "output_type": "stream",
     "text": [
      "/Users/foreverrefugee/opt/anaconda3/lib/python3.8/site-packages/sklearn/preprocessing/_data.py:3253: RuntimeWarning: divide by zero encountered in log\n",
      "  loglike = -n_samples / 2 * np.log(x_trans.var())\n",
      "/Users/foreverrefugee/opt/anaconda3/lib/python3.8/site-packages/sklearn/feature_selection/_univariate_selection.py:112: UserWarning: Features [0] are constant.\n",
      "  warnings.warn(\"Features %s are constant.\" % constant_features_idx, UserWarning)\n",
      "/Users/foreverrefugee/opt/anaconda3/lib/python3.8/site-packages/sklearn/feature_selection/_univariate_selection.py:113: RuntimeWarning: invalid value encountered in true_divide\n",
      "  f = msb / msw\n"
     ]
    },
    {
     "name": "stdout",
     "output_type": "stream",
     "text": [
      "[CV] END classifier__bootstrap=True, classifier__max_depth=5, classifier__max_features=3, classifier__min_samples_leaf=5, classifier__min_samples_split=8, classifier__n_estimators=100; total time=   0.9s\n",
      "[CV] END classifier__bootstrap=True, classifier__max_depth=5, classifier__max_features=3, classifier__min_samples_leaf=5, classifier__min_samples_split=8, classifier__n_estimators=100; total time=   0.9s\n",
      "[CV] END classifier__bootstrap=True, classifier__max_depth=5, classifier__max_features=3, classifier__min_samples_leaf=4, classifier__min_samples_split=12, classifier__n_estimators=300; total time=   1.7s\n"
     ]
    },
    {
     "name": "stderr",
     "output_type": "stream",
     "text": [
      "/Users/foreverrefugee/opt/anaconda3/lib/python3.8/site-packages/sklearn/preprocessing/_data.py:3253: RuntimeWarning: divide by zero encountered in log\n",
      "  loglike = -n_samples / 2 * np.log(x_trans.var())\n",
      "/Users/foreverrefugee/opt/anaconda3/lib/python3.8/site-packages/sklearn/feature_selection/_univariate_selection.py:112: UserWarning: Features [0] are constant.\n",
      "  warnings.warn(\"Features %s are constant.\" % constant_features_idx, UserWarning)\n",
      "/Users/foreverrefugee/opt/anaconda3/lib/python3.8/site-packages/sklearn/feature_selection/_univariate_selection.py:113: RuntimeWarning: invalid value encountered in true_divide\n",
      "  f = msb / msw\n"
     ]
    },
    {
     "name": "stdout",
     "output_type": "stream",
     "text": [
      "[CV] END classifier__bootstrap=True, classifier__max_depth=5, classifier__max_features=3, classifier__min_samples_leaf=4, classifier__min_samples_split=12, classifier__n_estimators=300; total time=   1.8s\n",
      "[CV] END classifier__bootstrap=True, classifier__max_depth=5, classifier__max_features=3, classifier__min_samples_leaf=5, classifier__min_samples_split=8, classifier__n_estimators=200; total time=   1.5s\n",
      "[CV] END classifier__bootstrap=True, classifier__max_depth=5, classifier__max_features=3, classifier__min_samples_leaf=5, classifier__min_samples_split=8, classifier__n_estimators=200; total time=   1.5s\n"
     ]
    },
    {
     "name": "stderr",
     "output_type": "stream",
     "text": [
      "/Users/foreverrefugee/opt/anaconda3/lib/python3.8/site-packages/sklearn/preprocessing/_data.py:3253: RuntimeWarning: divide by zero encountered in log\n",
      "  loglike = -n_samples / 2 * np.log(x_trans.var())\n",
      "/Users/foreverrefugee/opt/anaconda3/lib/python3.8/site-packages/sklearn/feature_selection/_univariate_selection.py:112: UserWarning: Features [0] are constant.\n",
      "  warnings.warn(\"Features %s are constant.\" % constant_features_idx, UserWarning)\n",
      "/Users/foreverrefugee/opt/anaconda3/lib/python3.8/site-packages/sklearn/feature_selection/_univariate_selection.py:113: RuntimeWarning: invalid value encountered in true_divide\n",
      "  f = msb / msw\n"
     ]
    },
    {
     "name": "stdout",
     "output_type": "stream",
     "text": [
      "[CV] END classifier__bootstrap=True, classifier__max_depth=5, classifier__max_features=3, classifier__min_samples_leaf=5, classifier__min_samples_split=8, classifier__n_estimators=200; total time=   1.7s\n",
      "[CV] END classifier__bootstrap=True, classifier__max_depth=5, classifier__max_features=3, classifier__min_samples_leaf=5, classifier__min_samples_split=10, classifier__n_estimators=100; total time=   0.5s\n",
      "[CV] END classifier__bootstrap=True, classifier__max_depth=5, classifier__max_features=3, classifier__min_samples_leaf=5, classifier__min_samples_split=8, classifier__n_estimators=300; total time=   2.1s\n"
     ]
    },
    {
     "name": "stderr",
     "output_type": "stream",
     "text": [
      "/Users/foreverrefugee/opt/anaconda3/lib/python3.8/site-packages/sklearn/preprocessing/_data.py:3253: RuntimeWarning: divide by zero encountered in log\n",
      "  loglike = -n_samples / 2 * np.log(x_trans.var())\n",
      "/Users/foreverrefugee/opt/anaconda3/lib/python3.8/site-packages/sklearn/feature_selection/_univariate_selection.py:112: UserWarning: Features [0] are constant.\n",
      "  warnings.warn(\"Features %s are constant.\" % constant_features_idx, UserWarning)\n",
      "/Users/foreverrefugee/opt/anaconda3/lib/python3.8/site-packages/sklearn/feature_selection/_univariate_selection.py:113: RuntimeWarning: invalid value encountered in true_divide\n",
      "  f = msb / msw\n"
     ]
    },
    {
     "name": "stdout",
     "output_type": "stream",
     "text": [
      "[CV] END classifier__bootstrap=True, classifier__max_depth=5, classifier__max_features=3, classifier__min_samples_leaf=5, classifier__min_samples_split=10, classifier__n_estimators=100; total time=   0.5s\n",
      "[CV] END classifier__bootstrap=True, classifier__max_depth=5, classifier__max_features=3, classifier__min_samples_leaf=5, classifier__min_samples_split=10, classifier__n_estimators=100; total time=   0.5s\n",
      "[CV] END classifier__bootstrap=True, classifier__max_depth=5, classifier__max_features=3, classifier__min_samples_leaf=5, classifier__min_samples_split=8, classifier__n_estimators=300; total time=   1.6s\n",
      "[CV] END classifier__bootstrap=True, classifier__max_depth=5, classifier__max_features=3, classifier__min_samples_leaf=5, classifier__min_samples_split=8, classifier__n_estimators=300; total time=   1.6s\n"
     ]
    },
    {
     "name": "stderr",
     "output_type": "stream",
     "text": [
      "/Users/foreverrefugee/opt/anaconda3/lib/python3.8/site-packages/sklearn/preprocessing/_data.py:3253: RuntimeWarning: divide by zero encountered in log\n",
      "  loglike = -n_samples / 2 * np.log(x_trans.var())\n",
      "/Users/foreverrefugee/opt/anaconda3/lib/python3.8/site-packages/sklearn/feature_selection/_univariate_selection.py:112: UserWarning: Features [0] are constant.\n",
      "  warnings.warn(\"Features %s are constant.\" % constant_features_idx, UserWarning)\n",
      "/Users/foreverrefugee/opt/anaconda3/lib/python3.8/site-packages/sklearn/feature_selection/_univariate_selection.py:113: RuntimeWarning: invalid value encountered in true_divide\n",
      "  f = msb / msw\n"
     ]
    },
    {
     "name": "stdout",
     "output_type": "stream",
     "text": [
      "[CV] END classifier__bootstrap=True, classifier__max_depth=5, classifier__max_features=3, classifier__min_samples_leaf=5, classifier__min_samples_split=10, classifier__n_estimators=200; total time=   1.7s\n",
      "[CV] END classifier__bootstrap=True, classifier__max_depth=5, classifier__max_features=3, classifier__min_samples_leaf=5, classifier__min_samples_split=10, classifier__n_estimators=200; total time=   1.7s\n"
     ]
    },
    {
     "name": "stderr",
     "output_type": "stream",
     "text": [
      "/Users/foreverrefugee/opt/anaconda3/lib/python3.8/site-packages/sklearn/preprocessing/_data.py:3253: RuntimeWarning: divide by zero encountered in log\n",
      "  loglike = -n_samples / 2 * np.log(x_trans.var())\n",
      "/Users/foreverrefugee/opt/anaconda3/lib/python3.8/site-packages/sklearn/feature_selection/_univariate_selection.py:112: UserWarning: Features [0] are constant.\n",
      "  warnings.warn(\"Features %s are constant.\" % constant_features_idx, UserWarning)\n",
      "/Users/foreverrefugee/opt/anaconda3/lib/python3.8/site-packages/sklearn/feature_selection/_univariate_selection.py:113: RuntimeWarning: invalid value encountered in true_divide\n",
      "  f = msb / msw\n"
     ]
    },
    {
     "name": "stdout",
     "output_type": "stream",
     "text": [
      "[CV] END classifier__bootstrap=True, classifier__max_depth=5, classifier__max_features=3, classifier__min_samples_leaf=5, classifier__min_samples_split=10, classifier__n_estimators=200; total time=   2.2s\n",
      "[CV] END classifier__bootstrap=True, classifier__max_depth=5, classifier__max_features=3, classifier__min_samples_leaf=5, classifier__min_samples_split=10, classifier__n_estimators=300; total time=   3.4s\n",
      "[CV] END classifier__bootstrap=True, classifier__max_depth=5, classifier__max_features=3, classifier__min_samples_leaf=5, classifier__min_samples_split=12, classifier__n_estimators=100; total time=   1.2s\n"
     ]
    },
    {
     "name": "stderr",
     "output_type": "stream",
     "text": [
      "/Users/foreverrefugee/opt/anaconda3/lib/python3.8/site-packages/sklearn/preprocessing/_data.py:3253: RuntimeWarning: divide by zero encountered in log\n",
      "  loglike = -n_samples / 2 * np.log(x_trans.var())\n",
      "/Users/foreverrefugee/opt/anaconda3/lib/python3.8/site-packages/sklearn/feature_selection/_univariate_selection.py:112: UserWarning: Features [0] are constant.\n",
      "  warnings.warn(\"Features %s are constant.\" % constant_features_idx, UserWarning)\n",
      "/Users/foreverrefugee/opt/anaconda3/lib/python3.8/site-packages/sklearn/feature_selection/_univariate_selection.py:113: RuntimeWarning: invalid value encountered in true_divide\n",
      "  f = msb / msw\n"
     ]
    },
    {
     "name": "stdout",
     "output_type": "stream",
     "text": [
      "[CV] END classifier__bootstrap=True, classifier__max_depth=5, classifier__max_features=3, classifier__min_samples_leaf=5, classifier__min_samples_split=12, classifier__n_estimators=100; total time=   0.7s\n",
      "[CV] END classifier__bootstrap=True, classifier__max_depth=5, classifier__max_features=3, classifier__min_samples_leaf=5, classifier__min_samples_split=12, classifier__n_estimators=100; total time=   0.7s\n",
      "[CV] END classifier__bootstrap=True, classifier__max_depth=5, classifier__max_features=3, classifier__min_samples_leaf=5, classifier__min_samples_split=10, classifier__n_estimators=300; total time=   3.1s\n",
      "[CV] END classifier__bootstrap=True, classifier__max_depth=5, classifier__max_features=3, classifier__min_samples_leaf=5, classifier__min_samples_split=10, classifier__n_estimators=300; total time=   3.1s\n"
     ]
    },
    {
     "name": "stderr",
     "output_type": "stream",
     "text": [
      "/Users/foreverrefugee/opt/anaconda3/lib/python3.8/site-packages/sklearn/preprocessing/_data.py:3253: RuntimeWarning: divide by zero encountered in log\n",
      "  loglike = -n_samples / 2 * np.log(x_trans.var())\n",
      "/Users/foreverrefugee/opt/anaconda3/lib/python3.8/site-packages/sklearn/feature_selection/_univariate_selection.py:112: UserWarning: Features [0] are constant.\n",
      "  warnings.warn(\"Features %s are constant.\" % constant_features_idx, UserWarning)\n",
      "/Users/foreverrefugee/opt/anaconda3/lib/python3.8/site-packages/sklearn/feature_selection/_univariate_selection.py:113: RuntimeWarning: invalid value encountered in true_divide\n",
      "  f = msb / msw\n"
     ]
    },
    {
     "name": "stdout",
     "output_type": "stream",
     "text": [
      "[CV] END classifier__bootstrap=True, classifier__max_depth=5, classifier__max_features=3, classifier__min_samples_leaf=5, classifier__min_samples_split=12, classifier__n_estimators=200; total time=   2.4s\n",
      "[CV] END classifier__bootstrap=True, classifier__max_depth=5, classifier__max_features=3, classifier__min_samples_leaf=5, classifier__min_samples_split=12, classifier__n_estimators=200; total time=   2.4s\n",
      "[CV] END classifier__bootstrap=True, classifier__max_depth=5, classifier__max_features=3, classifier__min_samples_leaf=5, classifier__min_samples_split=12, classifier__n_estimators=200; total time=   2.2s\n"
     ]
    },
    {
     "name": "stderr",
     "output_type": "stream",
     "text": [
      "/Users/foreverrefugee/opt/anaconda3/lib/python3.8/site-packages/sklearn/preprocessing/_data.py:3253: RuntimeWarning: divide by zero encountered in log\n",
      "  loglike = -n_samples / 2 * np.log(x_trans.var())\n",
      "/Users/foreverrefugee/opt/anaconda3/lib/python3.8/site-packages/sklearn/feature_selection/_univariate_selection.py:112: UserWarning: Features [0] are constant.\n",
      "  warnings.warn(\"Features %s are constant.\" % constant_features_idx, UserWarning)\n",
      "/Users/foreverrefugee/opt/anaconda3/lib/python3.8/site-packages/sklearn/feature_selection/_univariate_selection.py:113: RuntimeWarning: invalid value encountered in true_divide\n",
      "  f = msb / msw\n"
     ]
    },
    {
     "name": "stdout",
     "output_type": "stream",
     "text": [
      "[CV] END classifier__bootstrap=True, classifier__max_depth=5, classifier__max_features=3, classifier__min_samples_leaf=5, classifier__min_samples_split=12, classifier__n_estimators=300; total time=   2.8s\n",
      "[CV] END classifier__bootstrap=True, classifier__max_depth=5, classifier__max_features=5, classifier__min_samples_leaf=3, classifier__min_samples_split=8, classifier__n_estimators=100; total time=   0.7s\n"
     ]
    },
    {
     "name": "stderr",
     "output_type": "stream",
     "text": [
      "/Users/foreverrefugee/opt/anaconda3/lib/python3.8/site-packages/sklearn/preprocessing/_data.py:3253: RuntimeWarning: divide by zero encountered in log\n",
      "  loglike = -n_samples / 2 * np.log(x_trans.var())\n",
      "/Users/foreverrefugee/opt/anaconda3/lib/python3.8/site-packages/sklearn/feature_selection/_univariate_selection.py:112: UserWarning: Features [0] are constant.\n",
      "  warnings.warn(\"Features %s are constant.\" % constant_features_idx, UserWarning)\n",
      "/Users/foreverrefugee/opt/anaconda3/lib/python3.8/site-packages/sklearn/feature_selection/_univariate_selection.py:113: RuntimeWarning: invalid value encountered in true_divide\n",
      "  f = msb / msw\n"
     ]
    },
    {
     "name": "stdout",
     "output_type": "stream",
     "text": [
      "[CV] END classifier__bootstrap=True, classifier__max_depth=5, classifier__max_features=5, classifier__min_samples_leaf=3, classifier__min_samples_split=8, classifier__n_estimators=100; total time=   1.3s\n",
      "[CV] END classifier__bootstrap=True, classifier__max_depth=5, classifier__max_features=5, classifier__min_samples_leaf=3, classifier__min_samples_split=8, classifier__n_estimators=100; total time=   1.7s\n",
      "[CV] END classifier__bootstrap=True, classifier__max_depth=5, classifier__max_features=3, classifier__min_samples_leaf=5, classifier__min_samples_split=12, classifier__n_estimators=300; total time=   2.8s\n",
      "[CV] END classifier__bootstrap=True, classifier__max_depth=5, classifier__max_features=3, classifier__min_samples_leaf=5, classifier__min_samples_split=12, classifier__n_estimators=300; total time=   2.8s\n"
     ]
    },
    {
     "name": "stderr",
     "output_type": "stream",
     "text": [
      "/Users/foreverrefugee/opt/anaconda3/lib/python3.8/site-packages/sklearn/preprocessing/_data.py:3253: RuntimeWarning: divide by zero encountered in log\n",
      "  loglike = -n_samples / 2 * np.log(x_trans.var())\n",
      "/Users/foreverrefugee/opt/anaconda3/lib/python3.8/site-packages/sklearn/feature_selection/_univariate_selection.py:112: UserWarning: Features [0] are constant.\n",
      "  warnings.warn(\"Features %s are constant.\" % constant_features_idx, UserWarning)\n",
      "/Users/foreverrefugee/opt/anaconda3/lib/python3.8/site-packages/sklearn/feature_selection/_univariate_selection.py:113: RuntimeWarning: invalid value encountered in true_divide\n",
      "  f = msb / msw\n"
     ]
    },
    {
     "name": "stdout",
     "output_type": "stream",
     "text": [
      "[CV] END classifier__bootstrap=True, classifier__max_depth=5, classifier__max_features=5, classifier__min_samples_leaf=3, classifier__min_samples_split=8, classifier__n_estimators=200; total time=   2.6s\n",
      "[CV] END classifier__bootstrap=True, classifier__max_depth=5, classifier__max_features=5, classifier__min_samples_leaf=3, classifier__min_samples_split=8, classifier__n_estimators=200; total time=   2.7s\n",
      "[CV] END classifier__bootstrap=True, classifier__max_depth=5, classifier__max_features=5, classifier__min_samples_leaf=3, classifier__min_samples_split=8, classifier__n_estimators=200; total time=   2.7s\n"
     ]
    },
    {
     "name": "stderr",
     "output_type": "stream",
     "text": [
      "/Users/foreverrefugee/opt/anaconda3/lib/python3.8/site-packages/sklearn/preprocessing/_data.py:3253: RuntimeWarning: divide by zero encountered in log\n",
      "  loglike = -n_samples / 2 * np.log(x_trans.var())\n",
      "/Users/foreverrefugee/opt/anaconda3/lib/python3.8/site-packages/sklearn/feature_selection/_univariate_selection.py:112: UserWarning: Features [0] are constant.\n",
      "  warnings.warn(\"Features %s are constant.\" % constant_features_idx, UserWarning)\n",
      "/Users/foreverrefugee/opt/anaconda3/lib/python3.8/site-packages/sklearn/feature_selection/_univariate_selection.py:113: RuntimeWarning: invalid value encountered in true_divide\n",
      "  f = msb / msw\n"
     ]
    },
    {
     "name": "stdout",
     "output_type": "stream",
     "text": [
      "[CV] END classifier__bootstrap=True, classifier__max_depth=5, classifier__max_features=5, classifier__min_samples_leaf=3, classifier__min_samples_split=8, classifier__n_estimators=300; total time=   4.6s\n",
      "[CV] END classifier__bootstrap=True, classifier__max_depth=5, classifier__max_features=5, classifier__min_samples_leaf=3, classifier__min_samples_split=10, classifier__n_estimators=100; total time=   2.4s\n"
     ]
    },
    {
     "name": "stderr",
     "output_type": "stream",
     "text": [
      "/Users/foreverrefugee/opt/anaconda3/lib/python3.8/site-packages/sklearn/preprocessing/_data.py:3253: RuntimeWarning: divide by zero encountered in log\n",
      "  loglike = -n_samples / 2 * np.log(x_trans.var())\n",
      "/Users/foreverrefugee/opt/anaconda3/lib/python3.8/site-packages/sklearn/feature_selection/_univariate_selection.py:112: UserWarning: Features [0] are constant.\n",
      "  warnings.warn(\"Features %s are constant.\" % constant_features_idx, UserWarning)\n",
      "/Users/foreverrefugee/opt/anaconda3/lib/python3.8/site-packages/sklearn/feature_selection/_univariate_selection.py:113: RuntimeWarning: invalid value encountered in true_divide\n",
      "  f = msb / msw\n"
     ]
    },
    {
     "name": "stdout",
     "output_type": "stream",
     "text": [
      "[CV] END classifier__bootstrap=True, classifier__max_depth=5, classifier__max_features=5, classifier__min_samples_leaf=3, classifier__min_samples_split=10, classifier__n_estimators=100; total time=   1.7s\n",
      "[CV] END classifier__bootstrap=True, classifier__max_depth=5, classifier__max_features=5, classifier__min_samples_leaf=3, classifier__min_samples_split=10, classifier__n_estimators=100; total time=   1.4s\n",
      "[CV] END classifier__bootstrap=True, classifier__max_depth=5, classifier__max_features=5, classifier__min_samples_leaf=3, classifier__min_samples_split=8, classifier__n_estimators=300; total time=   5.5s\n"
     ]
    },
    {
     "name": "stderr",
     "output_type": "stream",
     "text": [
      "/Users/foreverrefugee/opt/anaconda3/lib/python3.8/site-packages/sklearn/preprocessing/_data.py:3253: RuntimeWarning: divide by zero encountered in log\n",
      "  loglike = -n_samples / 2 * np.log(x_trans.var())\n",
      "/Users/foreverrefugee/opt/anaconda3/lib/python3.8/site-packages/sklearn/feature_selection/_univariate_selection.py:112: UserWarning: Features [0] are constant.\n",
      "  warnings.warn(\"Features %s are constant.\" % constant_features_idx, UserWarning)\n",
      "/Users/foreverrefugee/opt/anaconda3/lib/python3.8/site-packages/sklearn/feature_selection/_univariate_selection.py:113: RuntimeWarning: invalid value encountered in true_divide\n",
      "  f = msb / msw\n"
     ]
    },
    {
     "name": "stdout",
     "output_type": "stream",
     "text": [
      "[CV] END classifier__bootstrap=True, classifier__max_depth=5, classifier__max_features=5, classifier__min_samples_leaf=3, classifier__min_samples_split=8, classifier__n_estimators=300; total time=   5.2s\n",
      "[CV] END classifier__bootstrap=True, classifier__max_depth=5, classifier__max_features=5, classifier__min_samples_leaf=3, classifier__min_samples_split=10, classifier__n_estimators=200; total time=   3.0s\n",
      "[CV] END classifier__bootstrap=True, classifier__max_depth=5, classifier__max_features=5, classifier__min_samples_leaf=3, classifier__min_samples_split=10, classifier__n_estimators=200; total time=   2.9s\n"
     ]
    },
    {
     "name": "stderr",
     "output_type": "stream",
     "text": [
      "/Users/foreverrefugee/opt/anaconda3/lib/python3.8/site-packages/sklearn/preprocessing/_data.py:3253: RuntimeWarning: divide by zero encountered in log\n",
      "  loglike = -n_samples / 2 * np.log(x_trans.var())\n",
      "/Users/foreverrefugee/opt/anaconda3/lib/python3.8/site-packages/sklearn/feature_selection/_univariate_selection.py:112: UserWarning: Features [0] are constant.\n",
      "  warnings.warn(\"Features %s are constant.\" % constant_features_idx, UserWarning)\n",
      "/Users/foreverrefugee/opt/anaconda3/lib/python3.8/site-packages/sklearn/feature_selection/_univariate_selection.py:113: RuntimeWarning: invalid value encountered in true_divide\n",
      "  f = msb / msw\n"
     ]
    },
    {
     "name": "stdout",
     "output_type": "stream",
     "text": [
      "[CV] END classifier__bootstrap=True, classifier__max_depth=5, classifier__max_features=5, classifier__min_samples_leaf=3, classifier__min_samples_split=10, classifier__n_estimators=200; total time=   2.4s\n",
      "[CV] END classifier__bootstrap=True, classifier__max_depth=5, classifier__max_features=5, classifier__min_samples_leaf=3, classifier__min_samples_split=12, classifier__n_estimators=100; total time=   1.0s\n",
      "[CV] END classifier__bootstrap=True, classifier__max_depth=5, classifier__max_features=5, classifier__min_samples_leaf=3, classifier__min_samples_split=10, classifier__n_estimators=300; total time=   3.1s\n"
     ]
    },
    {
     "name": "stderr",
     "output_type": "stream",
     "text": [
      "/Users/foreverrefugee/opt/anaconda3/lib/python3.8/site-packages/sklearn/preprocessing/_data.py:3253: RuntimeWarning: divide by zero encountered in log\n",
      "  loglike = -n_samples / 2 * np.log(x_trans.var())\n",
      "/Users/foreverrefugee/opt/anaconda3/lib/python3.8/site-packages/sklearn/feature_selection/_univariate_selection.py:112: UserWarning: Features [0] are constant.\n",
      "  warnings.warn(\"Features %s are constant.\" % constant_features_idx, UserWarning)\n",
      "/Users/foreverrefugee/opt/anaconda3/lib/python3.8/site-packages/sklearn/feature_selection/_univariate_selection.py:113: RuntimeWarning: invalid value encountered in true_divide\n",
      "  f = msb / msw\n"
     ]
    },
    {
     "name": "stdout",
     "output_type": "stream",
     "text": [
      "[CV] END classifier__bootstrap=True, classifier__max_depth=5, classifier__max_features=5, classifier__min_samples_leaf=3, classifier__min_samples_split=12, classifier__n_estimators=100; total time=   1.0s\n",
      "[CV] END classifier__bootstrap=True, classifier__max_depth=5, classifier__max_features=5, classifier__min_samples_leaf=3, classifier__min_samples_split=12, classifier__n_estimators=100; total time=   1.1s\n",
      "[CV] END classifier__bootstrap=True, classifier__max_depth=5, classifier__max_features=5, classifier__min_samples_leaf=3, classifier__min_samples_split=10, classifier__n_estimators=300; total time=   2.7s\n",
      "[CV] END classifier__bootstrap=True, classifier__max_depth=5, classifier__max_features=5, classifier__min_samples_leaf=3, classifier__min_samples_split=10, classifier__n_estimators=300; total time=   3.0s\n"
     ]
    },
    {
     "name": "stderr",
     "output_type": "stream",
     "text": [
      "/Users/foreverrefugee/opt/anaconda3/lib/python3.8/site-packages/sklearn/preprocessing/_data.py:3253: RuntimeWarning: divide by zero encountered in log\n",
      "  loglike = -n_samples / 2 * np.log(x_trans.var())\n",
      "/Users/foreverrefugee/opt/anaconda3/lib/python3.8/site-packages/sklearn/feature_selection/_univariate_selection.py:112: UserWarning: Features [0] are constant.\n",
      "  warnings.warn(\"Features %s are constant.\" % constant_features_idx, UserWarning)\n",
      "/Users/foreverrefugee/opt/anaconda3/lib/python3.8/site-packages/sklearn/feature_selection/_univariate_selection.py:113: RuntimeWarning: invalid value encountered in true_divide\n",
      "  f = msb / msw\n"
     ]
    },
    {
     "name": "stdout",
     "output_type": "stream",
     "text": [
      "[CV] END classifier__bootstrap=True, classifier__max_depth=5, classifier__max_features=5, classifier__min_samples_leaf=3, classifier__min_samples_split=12, classifier__n_estimators=200; total time=   2.0s\n",
      "[CV] END classifier__bootstrap=True, classifier__max_depth=5, classifier__max_features=5, classifier__min_samples_leaf=3, classifier__min_samples_split=12, classifier__n_estimators=200; total time=   1.9s\n"
     ]
    },
    {
     "name": "stderr",
     "output_type": "stream",
     "text": [
      "/Users/foreverrefugee/opt/anaconda3/lib/python3.8/site-packages/sklearn/preprocessing/_data.py:3253: RuntimeWarning: divide by zero encountered in log\n",
      "  loglike = -n_samples / 2 * np.log(x_trans.var())\n",
      "/Users/foreverrefugee/opt/anaconda3/lib/python3.8/site-packages/sklearn/feature_selection/_univariate_selection.py:112: UserWarning: Features [0] are constant.\n",
      "  warnings.warn(\"Features %s are constant.\" % constant_features_idx, UserWarning)\n",
      "/Users/foreverrefugee/opt/anaconda3/lib/python3.8/site-packages/sklearn/feature_selection/_univariate_selection.py:113: RuntimeWarning: invalid value encountered in true_divide\n",
      "  f = msb / msw\n"
     ]
    },
    {
     "name": "stdout",
     "output_type": "stream",
     "text": [
      "[CV] END classifier__bootstrap=True, classifier__max_depth=5, classifier__max_features=5, classifier__min_samples_leaf=3, classifier__min_samples_split=12, classifier__n_estimators=200; total time=   2.2s\n",
      "[CV] END classifier__bootstrap=True, classifier__max_depth=5, classifier__max_features=5, classifier__min_samples_leaf=4, classifier__min_samples_split=8, classifier__n_estimators=100; total time=   1.0s\n",
      "[CV] END classifier__bootstrap=True, classifier__max_depth=5, classifier__max_features=5, classifier__min_samples_leaf=3, classifier__min_samples_split=12, classifier__n_estimators=300; total time=   3.1s\n"
     ]
    },
    {
     "name": "stderr",
     "output_type": "stream",
     "text": [
      "/Users/foreverrefugee/opt/anaconda3/lib/python3.8/site-packages/sklearn/preprocessing/_data.py:3253: RuntimeWarning: divide by zero encountered in log\n",
      "  loglike = -n_samples / 2 * np.log(x_trans.var())\n",
      "/Users/foreverrefugee/opt/anaconda3/lib/python3.8/site-packages/sklearn/feature_selection/_univariate_selection.py:112: UserWarning: Features [0] are constant.\n",
      "  warnings.warn(\"Features %s are constant.\" % constant_features_idx, UserWarning)\n",
      "/Users/foreverrefugee/opt/anaconda3/lib/python3.8/site-packages/sklearn/feature_selection/_univariate_selection.py:113: RuntimeWarning: invalid value encountered in true_divide\n",
      "  f = msb / msw\n"
     ]
    },
    {
     "name": "stdout",
     "output_type": "stream",
     "text": [
      "[CV] END classifier__bootstrap=True, classifier__max_depth=5, classifier__max_features=5, classifier__min_samples_leaf=4, classifier__min_samples_split=8, classifier__n_estimators=100; total time=   1.1s\n",
      "[CV] END classifier__bootstrap=True, classifier__max_depth=5, classifier__max_features=5, classifier__min_samples_leaf=4, classifier__min_samples_split=8, classifier__n_estimators=100; total time=   1.2s\n",
      "[CV] END classifier__bootstrap=True, classifier__max_depth=5, classifier__max_features=5, classifier__min_samples_leaf=3, classifier__min_samples_split=12, classifier__n_estimators=300; total time=   3.1s\n",
      "[CV] END classifier__bootstrap=True, classifier__max_depth=5, classifier__max_features=5, classifier__min_samples_leaf=3, classifier__min_samples_split=12, classifier__n_estimators=300; total time=   3.1s\n"
     ]
    },
    {
     "name": "stderr",
     "output_type": "stream",
     "text": [
      "/Users/foreverrefugee/opt/anaconda3/lib/python3.8/site-packages/sklearn/preprocessing/_data.py:3253: RuntimeWarning: divide by zero encountered in log\n",
      "  loglike = -n_samples / 2 * np.log(x_trans.var())\n",
      "/Users/foreverrefugee/opt/anaconda3/lib/python3.8/site-packages/sklearn/feature_selection/_univariate_selection.py:112: UserWarning: Features [0] are constant.\n",
      "  warnings.warn(\"Features %s are constant.\" % constant_features_idx, UserWarning)\n",
      "/Users/foreverrefugee/opt/anaconda3/lib/python3.8/site-packages/sklearn/feature_selection/_univariate_selection.py:113: RuntimeWarning: invalid value encountered in true_divide\n",
      "  f = msb / msw\n"
     ]
    },
    {
     "name": "stdout",
     "output_type": "stream",
     "text": [
      "[CV] END classifier__bootstrap=True, classifier__max_depth=5, classifier__max_features=5, classifier__min_samples_leaf=4, classifier__min_samples_split=8, classifier__n_estimators=200; total time=   2.0s\n",
      "[CV] END classifier__bootstrap=True, classifier__max_depth=5, classifier__max_features=5, classifier__min_samples_leaf=4, classifier__min_samples_split=8, classifier__n_estimators=200; total time=   2.0s\n"
     ]
    },
    {
     "name": "stderr",
     "output_type": "stream",
     "text": [
      "/Users/foreverrefugee/opt/anaconda3/lib/python3.8/site-packages/sklearn/preprocessing/_data.py:3253: RuntimeWarning: divide by zero encountered in log\n",
      "  loglike = -n_samples / 2 * np.log(x_trans.var())\n",
      "/Users/foreverrefugee/opt/anaconda3/lib/python3.8/site-packages/sklearn/feature_selection/_univariate_selection.py:112: UserWarning: Features [0] are constant.\n",
      "  warnings.warn(\"Features %s are constant.\" % constant_features_idx, UserWarning)\n",
      "/Users/foreverrefugee/opt/anaconda3/lib/python3.8/site-packages/sklearn/feature_selection/_univariate_selection.py:113: RuntimeWarning: invalid value encountered in true_divide\n",
      "  f = msb / msw\n"
     ]
    },
    {
     "name": "stdout",
     "output_type": "stream",
     "text": [
      "[CV] END classifier__bootstrap=True, classifier__max_depth=5, classifier__max_features=5, classifier__min_samples_leaf=4, classifier__min_samples_split=8, classifier__n_estimators=200; total time=   2.0s\n",
      "[CV] END classifier__bootstrap=True, classifier__max_depth=5, classifier__max_features=5, classifier__min_samples_leaf=4, classifier__min_samples_split=8, classifier__n_estimators=300; total time=   2.8s\n",
      "[CV] END classifier__bootstrap=True, classifier__max_depth=5, classifier__max_features=5, classifier__min_samples_leaf=4, classifier__min_samples_split=10, classifier__n_estimators=100; total time=   1.0s\n"
     ]
    },
    {
     "name": "stderr",
     "output_type": "stream",
     "text": [
      "/Users/foreverrefugee/opt/anaconda3/lib/python3.8/site-packages/sklearn/preprocessing/_data.py:3253: RuntimeWarning: divide by zero encountered in log\n",
      "  loglike = -n_samples / 2 * np.log(x_trans.var())\n",
      "/Users/foreverrefugee/opt/anaconda3/lib/python3.8/site-packages/sklearn/feature_selection/_univariate_selection.py:112: UserWarning: Features [0] are constant.\n",
      "  warnings.warn(\"Features %s are constant.\" % constant_features_idx, UserWarning)\n",
      "/Users/foreverrefugee/opt/anaconda3/lib/python3.8/site-packages/sklearn/feature_selection/_univariate_selection.py:113: RuntimeWarning: invalid value encountered in true_divide\n",
      "  f = msb / msw\n"
     ]
    },
    {
     "name": "stdout",
     "output_type": "stream",
     "text": [
      "[CV] END classifier__bootstrap=True, classifier__max_depth=5, classifier__max_features=5, classifier__min_samples_leaf=4, classifier__min_samples_split=10, classifier__n_estimators=100; total time=   1.0s\n",
      "[CV] END classifier__bootstrap=True, classifier__max_depth=5, classifier__max_features=5, classifier__min_samples_leaf=4, classifier__min_samples_split=10, classifier__n_estimators=100; total time=   1.1s\n",
      "[CV] END classifier__bootstrap=True, classifier__max_depth=5, classifier__max_features=5, classifier__min_samples_leaf=4, classifier__min_samples_split=8, classifier__n_estimators=300; total time=   2.6s\n",
      "[CV] END classifier__bootstrap=True, classifier__max_depth=5, classifier__max_features=5, classifier__min_samples_leaf=4, classifier__min_samples_split=8, classifier__n_estimators=300; total time=   2.6s\n"
     ]
    },
    {
     "name": "stderr",
     "output_type": "stream",
     "text": [
      "/Users/foreverrefugee/opt/anaconda3/lib/python3.8/site-packages/sklearn/preprocessing/_data.py:3253: RuntimeWarning: divide by zero encountered in log\n",
      "  loglike = -n_samples / 2 * np.log(x_trans.var())\n",
      "/Users/foreverrefugee/opt/anaconda3/lib/python3.8/site-packages/sklearn/feature_selection/_univariate_selection.py:112: UserWarning: Features [0] are constant.\n",
      "  warnings.warn(\"Features %s are constant.\" % constant_features_idx, UserWarning)\n",
      "/Users/foreverrefugee/opt/anaconda3/lib/python3.8/site-packages/sklearn/feature_selection/_univariate_selection.py:113: RuntimeWarning: invalid value encountered in true_divide\n",
      "  f = msb / msw\n"
     ]
    },
    {
     "name": "stdout",
     "output_type": "stream",
     "text": [
      "[CV] END classifier__bootstrap=True, classifier__max_depth=5, classifier__max_features=5, classifier__min_samples_leaf=4, classifier__min_samples_split=10, classifier__n_estimators=200; total time=   1.8s\n",
      "[CV] END classifier__bootstrap=True, classifier__max_depth=5, classifier__max_features=5, classifier__min_samples_leaf=4, classifier__min_samples_split=10, classifier__n_estimators=200; total time=   1.8s\n",
      "[CV] END classifier__bootstrap=True, classifier__max_depth=5, classifier__max_features=5, classifier__min_samples_leaf=4, classifier__min_samples_split=10, classifier__n_estimators=200; total time=   1.7s\n"
     ]
    },
    {
     "name": "stderr",
     "output_type": "stream",
     "text": [
      "/Users/foreverrefugee/opt/anaconda3/lib/python3.8/site-packages/sklearn/preprocessing/_data.py:3253: RuntimeWarning: divide by zero encountered in log\n",
      "  loglike = -n_samples / 2 * np.log(x_trans.var())\n",
      "/Users/foreverrefugee/opt/anaconda3/lib/python3.8/site-packages/sklearn/feature_selection/_univariate_selection.py:112: UserWarning: Features [0] are constant.\n",
      "  warnings.warn(\"Features %s are constant.\" % constant_features_idx, UserWarning)\n",
      "/Users/foreverrefugee/opt/anaconda3/lib/python3.8/site-packages/sklearn/feature_selection/_univariate_selection.py:113: RuntimeWarning: invalid value encountered in true_divide\n",
      "  f = msb / msw\n"
     ]
    },
    {
     "name": "stdout",
     "output_type": "stream",
     "text": [
      "[CV] END classifier__bootstrap=True, classifier__max_depth=5, classifier__max_features=5, classifier__min_samples_leaf=4, classifier__min_samples_split=10, classifier__n_estimators=300; total time=   2.2s\n",
      "[CV] END classifier__bootstrap=True, classifier__max_depth=5, classifier__max_features=5, classifier__min_samples_leaf=4, classifier__min_samples_split=12, classifier__n_estimators=100; total time=   0.7s\n"
     ]
    },
    {
     "name": "stderr",
     "output_type": "stream",
     "text": [
      "/Users/foreverrefugee/opt/anaconda3/lib/python3.8/site-packages/sklearn/preprocessing/_data.py:3253: RuntimeWarning: divide by zero encountered in log\n",
      "  loglike = -n_samples / 2 * np.log(x_trans.var())\n",
      "/Users/foreverrefugee/opt/anaconda3/lib/python3.8/site-packages/sklearn/feature_selection/_univariate_selection.py:112: UserWarning: Features [0] are constant.\n",
      "  warnings.warn(\"Features %s are constant.\" % constant_features_idx, UserWarning)\n",
      "/Users/foreverrefugee/opt/anaconda3/lib/python3.8/site-packages/sklearn/feature_selection/_univariate_selection.py:113: RuntimeWarning: invalid value encountered in true_divide\n",
      "  f = msb / msw\n"
     ]
    },
    {
     "name": "stdout",
     "output_type": "stream",
     "text": [
      "[CV] END classifier__bootstrap=True, classifier__max_depth=5, classifier__max_features=5, classifier__min_samples_leaf=4, classifier__min_samples_split=12, classifier__n_estimators=100; total time=   1.3s\n",
      "[CV] END classifier__bootstrap=True, classifier__max_depth=5, classifier__max_features=5, classifier__min_samples_leaf=4, classifier__min_samples_split=12, classifier__n_estimators=100; total time=   1.3s\n",
      "[CV] END classifier__bootstrap=True, classifier__max_depth=5, classifier__max_features=5, classifier__min_samples_leaf=4, classifier__min_samples_split=10, classifier__n_estimators=300; total time=   2.5s\n",
      "[CV] END classifier__bootstrap=True, classifier__max_depth=5, classifier__max_features=5, classifier__min_samples_leaf=4, classifier__min_samples_split=10, classifier__n_estimators=300; total time=   2.5s\n"
     ]
    },
    {
     "name": "stderr",
     "output_type": "stream",
     "text": [
      "/Users/foreverrefugee/opt/anaconda3/lib/python3.8/site-packages/sklearn/preprocessing/_data.py:3253: RuntimeWarning: divide by zero encountered in log\n",
      "  loglike = -n_samples / 2 * np.log(x_trans.var())\n",
      "/Users/foreverrefugee/opt/anaconda3/lib/python3.8/site-packages/sklearn/feature_selection/_univariate_selection.py:112: UserWarning: Features [0] are constant.\n",
      "  warnings.warn(\"Features %s are constant.\" % constant_features_idx, UserWarning)\n",
      "/Users/foreverrefugee/opt/anaconda3/lib/python3.8/site-packages/sklearn/feature_selection/_univariate_selection.py:113: RuntimeWarning: invalid value encountered in true_divide\n",
      "  f = msb / msw\n"
     ]
    },
    {
     "name": "stdout",
     "output_type": "stream",
     "text": [
      "[CV] END classifier__bootstrap=True, classifier__max_depth=5, classifier__max_features=5, classifier__min_samples_leaf=4, classifier__min_samples_split=12, classifier__n_estimators=200; total time=   1.3s\n",
      "[CV] END classifier__bootstrap=True, classifier__max_depth=5, classifier__max_features=5, classifier__min_samples_leaf=4, classifier__min_samples_split=12, classifier__n_estimators=200; total time=   1.3s\n"
     ]
    },
    {
     "name": "stderr",
     "output_type": "stream",
     "text": [
      "/Users/foreverrefugee/opt/anaconda3/lib/python3.8/site-packages/sklearn/preprocessing/_data.py:3253: RuntimeWarning: divide by zero encountered in log\n",
      "  loglike = -n_samples / 2 * np.log(x_trans.var())\n",
      "/Users/foreverrefugee/opt/anaconda3/lib/python3.8/site-packages/sklearn/feature_selection/_univariate_selection.py:112: UserWarning: Features [0] are constant.\n",
      "  warnings.warn(\"Features %s are constant.\" % constant_features_idx, UserWarning)\n",
      "/Users/foreverrefugee/opt/anaconda3/lib/python3.8/site-packages/sklearn/feature_selection/_univariate_selection.py:113: RuntimeWarning: invalid value encountered in true_divide\n",
      "  f = msb / msw\n"
     ]
    },
    {
     "name": "stdout",
     "output_type": "stream",
     "text": [
      "[CV] END classifier__bootstrap=True, classifier__max_depth=5, classifier__max_features=5, classifier__min_samples_leaf=4, classifier__min_samples_split=12, classifier__n_estimators=200; total time=   1.2s\n",
      "[CV] END classifier__bootstrap=True, classifier__max_depth=5, classifier__max_features=5, classifier__min_samples_leaf=4, classifier__min_samples_split=12, classifier__n_estimators=300; total time=   1.7s\n",
      "[CV] END classifier__bootstrap=True, classifier__max_depth=5, classifier__max_features=5, classifier__min_samples_leaf=5, classifier__min_samples_split=8, classifier__n_estimators=100; total time=   0.6s\n"
     ]
    },
    {
     "name": "stderr",
     "output_type": "stream",
     "text": [
      "/Users/foreverrefugee/opt/anaconda3/lib/python3.8/site-packages/sklearn/preprocessing/_data.py:3253: RuntimeWarning: divide by zero encountered in log\n",
      "  loglike = -n_samples / 2 * np.log(x_trans.var())\n",
      "/Users/foreverrefugee/opt/anaconda3/lib/python3.8/site-packages/sklearn/feature_selection/_univariate_selection.py:112: UserWarning: Features [0] are constant.\n",
      "  warnings.warn(\"Features %s are constant.\" % constant_features_idx, UserWarning)\n",
      "/Users/foreverrefugee/opt/anaconda3/lib/python3.8/site-packages/sklearn/feature_selection/_univariate_selection.py:113: RuntimeWarning: invalid value encountered in true_divide\n",
      "  f = msb / msw\n"
     ]
    },
    {
     "name": "stdout",
     "output_type": "stream",
     "text": [
      "[CV] END classifier__bootstrap=True, classifier__max_depth=5, classifier__max_features=5, classifier__min_samples_leaf=5, classifier__min_samples_split=8, classifier__n_estimators=100; total time=   0.7s\n",
      "[CV] END classifier__bootstrap=True, classifier__max_depth=5, classifier__max_features=5, classifier__min_samples_leaf=5, classifier__min_samples_split=8, classifier__n_estimators=100; total time=   0.7s\n",
      "[CV] END classifier__bootstrap=True, classifier__max_depth=5, classifier__max_features=5, classifier__min_samples_leaf=4, classifier__min_samples_split=12, classifier__n_estimators=300; total time=   1.9s\n",
      "[CV] END classifier__bootstrap=True, classifier__max_depth=5, classifier__max_features=5, classifier__min_samples_leaf=4, classifier__min_samples_split=12, classifier__n_estimators=300; total time=   1.9s\n"
     ]
    },
    {
     "name": "stderr",
     "output_type": "stream",
     "text": [
      "/Users/foreverrefugee/opt/anaconda3/lib/python3.8/site-packages/sklearn/preprocessing/_data.py:3253: RuntimeWarning: divide by zero encountered in log\n",
      "  loglike = -n_samples / 2 * np.log(x_trans.var())\n",
      "/Users/foreverrefugee/opt/anaconda3/lib/python3.8/site-packages/sklearn/feature_selection/_univariate_selection.py:112: UserWarning: Features [0] are constant.\n",
      "  warnings.warn(\"Features %s are constant.\" % constant_features_idx, UserWarning)\n",
      "/Users/foreverrefugee/opt/anaconda3/lib/python3.8/site-packages/sklearn/feature_selection/_univariate_selection.py:113: RuntimeWarning: invalid value encountered in true_divide\n",
      "  f = msb / msw\n"
     ]
    },
    {
     "name": "stdout",
     "output_type": "stream",
     "text": [
      "[CV] END classifier__bootstrap=True, classifier__max_depth=5, classifier__max_features=5, classifier__min_samples_leaf=5, classifier__min_samples_split=8, classifier__n_estimators=200; total time=   1.5s\n",
      "[CV] END classifier__bootstrap=True, classifier__max_depth=5, classifier__max_features=5, classifier__min_samples_leaf=5, classifier__min_samples_split=8, classifier__n_estimators=200; total time=   1.5s\n"
     ]
    },
    {
     "name": "stderr",
     "output_type": "stream",
     "text": [
      "/Users/foreverrefugee/opt/anaconda3/lib/python3.8/site-packages/sklearn/preprocessing/_data.py:3253: RuntimeWarning: divide by zero encountered in log\n",
      "  loglike = -n_samples / 2 * np.log(x_trans.var())\n",
      "/Users/foreverrefugee/opt/anaconda3/lib/python3.8/site-packages/sklearn/feature_selection/_univariate_selection.py:112: UserWarning: Features [0] are constant.\n",
      "  warnings.warn(\"Features %s are constant.\" % constant_features_idx, UserWarning)\n",
      "/Users/foreverrefugee/opt/anaconda3/lib/python3.8/site-packages/sklearn/feature_selection/_univariate_selection.py:113: RuntimeWarning: invalid value encountered in true_divide\n",
      "  f = msb / msw\n"
     ]
    },
    {
     "name": "stdout",
     "output_type": "stream",
     "text": [
      "[CV] END classifier__bootstrap=True, classifier__max_depth=5, classifier__max_features=5, classifier__min_samples_leaf=5, classifier__min_samples_split=8, classifier__n_estimators=200; total time=   1.5s\n",
      "[CV] END classifier__bootstrap=True, classifier__max_depth=5, classifier__max_features=5, classifier__min_samples_leaf=5, classifier__min_samples_split=8, classifier__n_estimators=300; total time=   1.9s\n",
      "[CV] END classifier__bootstrap=True, classifier__max_depth=5, classifier__max_features=5, classifier__min_samples_leaf=5, classifier__min_samples_split=10, classifier__n_estimators=100; total time=   0.7s\n"
     ]
    },
    {
     "name": "stderr",
     "output_type": "stream",
     "text": [
      "/Users/foreverrefugee/opt/anaconda3/lib/python3.8/site-packages/sklearn/preprocessing/_data.py:3253: RuntimeWarning: divide by zero encountered in log\n",
      "  loglike = -n_samples / 2 * np.log(x_trans.var())\n",
      "/Users/foreverrefugee/opt/anaconda3/lib/python3.8/site-packages/sklearn/feature_selection/_univariate_selection.py:112: UserWarning: Features [0] are constant.\n",
      "  warnings.warn(\"Features %s are constant.\" % constant_features_idx, UserWarning)\n",
      "/Users/foreverrefugee/opt/anaconda3/lib/python3.8/site-packages/sklearn/feature_selection/_univariate_selection.py:113: RuntimeWarning: invalid value encountered in true_divide\n",
      "  f = msb / msw\n"
     ]
    },
    {
     "name": "stdout",
     "output_type": "stream",
     "text": [
      "[CV] END classifier__bootstrap=True, classifier__max_depth=5, classifier__max_features=5, classifier__min_samples_leaf=5, classifier__min_samples_split=10, classifier__n_estimators=100; total time=   0.7s\n",
      "[CV] END classifier__bootstrap=True, classifier__max_depth=5, classifier__max_features=5, classifier__min_samples_leaf=5, classifier__min_samples_split=10, classifier__n_estimators=100; total time=   0.7s\n",
      "[CV] END classifier__bootstrap=True, classifier__max_depth=5, classifier__max_features=5, classifier__min_samples_leaf=5, classifier__min_samples_split=8, classifier__n_estimators=300; total time=   2.0s\n"
     ]
    },
    {
     "name": "stderr",
     "output_type": "stream",
     "text": [
      "/Users/foreverrefugee/opt/anaconda3/lib/python3.8/site-packages/sklearn/preprocessing/_data.py:3253: RuntimeWarning: divide by zero encountered in log\n",
      "  loglike = -n_samples / 2 * np.log(x_trans.var())\n",
      "/Users/foreverrefugee/opt/anaconda3/lib/python3.8/site-packages/sklearn/feature_selection/_univariate_selection.py:112: UserWarning: Features [0] are constant.\n",
      "  warnings.warn(\"Features %s are constant.\" % constant_features_idx, UserWarning)\n",
      "/Users/foreverrefugee/opt/anaconda3/lib/python3.8/site-packages/sklearn/feature_selection/_univariate_selection.py:113: RuntimeWarning: invalid value encountered in true_divide\n",
      "  f = msb / msw\n"
     ]
    },
    {
     "name": "stdout",
     "output_type": "stream",
     "text": [
      "[CV] END classifier__bootstrap=True, classifier__max_depth=5, classifier__max_features=5, classifier__min_samples_leaf=5, classifier__min_samples_split=8, classifier__n_estimators=300; total time=   1.9s\n",
      "[CV] END classifier__bootstrap=True, classifier__max_depth=5, classifier__max_features=5, classifier__min_samples_leaf=5, classifier__min_samples_split=10, classifier__n_estimators=200; total time=   1.6s\n",
      "[CV] END classifier__bootstrap=True, classifier__max_depth=5, classifier__max_features=5, classifier__min_samples_leaf=5, classifier__min_samples_split=10, classifier__n_estimators=200; total time=   1.6s\n"
     ]
    },
    {
     "name": "stderr",
     "output_type": "stream",
     "text": [
      "/Users/foreverrefugee/opt/anaconda3/lib/python3.8/site-packages/sklearn/preprocessing/_data.py:3253: RuntimeWarning: divide by zero encountered in log\n",
      "  loglike = -n_samples / 2 * np.log(x_trans.var())\n",
      "/Users/foreverrefugee/opt/anaconda3/lib/python3.8/site-packages/sklearn/feature_selection/_univariate_selection.py:112: UserWarning: Features [0] are constant.\n",
      "  warnings.warn(\"Features %s are constant.\" % constant_features_idx, UserWarning)\n",
      "/Users/foreverrefugee/opt/anaconda3/lib/python3.8/site-packages/sklearn/feature_selection/_univariate_selection.py:113: RuntimeWarning: invalid value encountered in true_divide\n",
      "  f = msb / msw\n"
     ]
    },
    {
     "name": "stdout",
     "output_type": "stream",
     "text": [
      "[CV] END classifier__bootstrap=True, classifier__max_depth=5, classifier__max_features=5, classifier__min_samples_leaf=5, classifier__min_samples_split=10, classifier__n_estimators=200; total time=   1.8s\n",
      "[CV] END classifier__bootstrap=True, classifier__max_depth=5, classifier__max_features=5, classifier__min_samples_leaf=5, classifier__min_samples_split=10, classifier__n_estimators=300; total time=   2.6s\n",
      "[CV] END classifier__bootstrap=True, classifier__max_depth=5, classifier__max_features=5, classifier__min_samples_leaf=5, classifier__min_samples_split=12, classifier__n_estimators=100; total time=   0.8s\n"
     ]
    },
    {
     "name": "stderr",
     "output_type": "stream",
     "text": [
      "/Users/foreverrefugee/opt/anaconda3/lib/python3.8/site-packages/sklearn/preprocessing/_data.py:3253: RuntimeWarning: divide by zero encountered in log\n",
      "  loglike = -n_samples / 2 * np.log(x_trans.var())\n",
      "/Users/foreverrefugee/opt/anaconda3/lib/python3.8/site-packages/sklearn/feature_selection/_univariate_selection.py:112: UserWarning: Features [0] are constant.\n",
      "  warnings.warn(\"Features %s are constant.\" % constant_features_idx, UserWarning)\n",
      "/Users/foreverrefugee/opt/anaconda3/lib/python3.8/site-packages/sklearn/feature_selection/_univariate_selection.py:113: RuntimeWarning: invalid value encountered in true_divide\n",
      "  f = msb / msw\n"
     ]
    },
    {
     "name": "stdout",
     "output_type": "stream",
     "text": [
      "[CV] END classifier__bootstrap=True, classifier__max_depth=5, classifier__max_features=5, classifier__min_samples_leaf=5, classifier__min_samples_split=12, classifier__n_estimators=100; total time=   0.7s\n",
      "[CV] END classifier__bootstrap=True, classifier__max_depth=5, classifier__max_features=5, classifier__min_samples_leaf=5, classifier__min_samples_split=12, classifier__n_estimators=100; total time=   0.7s\n",
      "[CV] END classifier__bootstrap=True, classifier__max_depth=5, classifier__max_features=5, classifier__min_samples_leaf=5, classifier__min_samples_split=10, classifier__n_estimators=300; total time=   2.3s\n"
     ]
    },
    {
     "name": "stderr",
     "output_type": "stream",
     "text": [
      "/Users/foreverrefugee/opt/anaconda3/lib/python3.8/site-packages/sklearn/preprocessing/_data.py:3253: RuntimeWarning: divide by zero encountered in log\n",
      "  loglike = -n_samples / 2 * np.log(x_trans.var())\n",
      "/Users/foreverrefugee/opt/anaconda3/lib/python3.8/site-packages/sklearn/feature_selection/_univariate_selection.py:112: UserWarning: Features [0] are constant.\n",
      "  warnings.warn(\"Features %s are constant.\" % constant_features_idx, UserWarning)\n",
      "/Users/foreverrefugee/opt/anaconda3/lib/python3.8/site-packages/sklearn/feature_selection/_univariate_selection.py:113: RuntimeWarning: invalid value encountered in true_divide\n",
      "  f = msb / msw\n"
     ]
    },
    {
     "name": "stdout",
     "output_type": "stream",
     "text": [
      "[CV] END classifier__bootstrap=True, classifier__max_depth=5, classifier__max_features=5, classifier__min_samples_leaf=5, classifier__min_samples_split=10, classifier__n_estimators=300; total time=   2.4s\n",
      "[CV] END classifier__bootstrap=True, classifier__max_depth=5, classifier__max_features=5, classifier__min_samples_leaf=5, classifier__min_samples_split=12, classifier__n_estimators=200; total time=   1.9s\n",
      "[CV] END classifier__bootstrap=True, classifier__max_depth=5, classifier__max_features=5, classifier__min_samples_leaf=5, classifier__min_samples_split=12, classifier__n_estimators=200; total time=   1.9s\n",
      "[CV] END classifier__bootstrap=True, classifier__max_depth=5, classifier__max_features=5, classifier__min_samples_leaf=5, classifier__min_samples_split=12, classifier__n_estimators=200; total time=   1.9s\n"
     ]
    },
    {
     "name": "stderr",
     "output_type": "stream",
     "text": [
      "/Users/foreverrefugee/opt/anaconda3/lib/python3.8/site-packages/sklearn/preprocessing/_data.py:3253: RuntimeWarning: divide by zero encountered in log\n",
      "  loglike = -n_samples / 2 * np.log(x_trans.var())\n",
      "/Users/foreverrefugee/opt/anaconda3/lib/python3.8/site-packages/sklearn/feature_selection/_univariate_selection.py:112: UserWarning: Features [0] are constant.\n",
      "  warnings.warn(\"Features %s are constant.\" % constant_features_idx, UserWarning)\n",
      "/Users/foreverrefugee/opt/anaconda3/lib/python3.8/site-packages/sklearn/feature_selection/_univariate_selection.py:113: RuntimeWarning: invalid value encountered in true_divide\n",
      "  f = msb / msw\n"
     ]
    },
    {
     "name": "stdout",
     "output_type": "stream",
     "text": [
      "[CV] END classifier__bootstrap=True, classifier__max_depth=10, classifier__max_features=3, classifier__min_samples_leaf=3, classifier__min_samples_split=8, classifier__n_estimators=100; total time=   0.8s\n",
      "[CV] END classifier__bootstrap=True, classifier__max_depth=5, classifier__max_features=5, classifier__min_samples_leaf=5, classifier__min_samples_split=12, classifier__n_estimators=300; total time=   2.6s\n"
     ]
    },
    {
     "name": "stderr",
     "output_type": "stream",
     "text": [
      "/Users/foreverrefugee/opt/anaconda3/lib/python3.8/site-packages/sklearn/preprocessing/_data.py:3253: RuntimeWarning: divide by zero encountered in log\n",
      "  loglike = -n_samples / 2 * np.log(x_trans.var())\n",
      "/Users/foreverrefugee/opt/anaconda3/lib/python3.8/site-packages/sklearn/feature_selection/_univariate_selection.py:112: UserWarning: Features [0] are constant.\n",
      "  warnings.warn(\"Features %s are constant.\" % constant_features_idx, UserWarning)\n",
      "/Users/foreverrefugee/opt/anaconda3/lib/python3.8/site-packages/sklearn/feature_selection/_univariate_selection.py:113: RuntimeWarning: invalid value encountered in true_divide\n",
      "  f = msb / msw\n"
     ]
    },
    {
     "name": "stdout",
     "output_type": "stream",
     "text": [
      "[CV] END classifier__bootstrap=True, classifier__max_depth=10, classifier__max_features=3, classifier__min_samples_leaf=3, classifier__min_samples_split=8, classifier__n_estimators=100; total time=   0.8s\n",
      "[CV] END classifier__bootstrap=True, classifier__max_depth=10, classifier__max_features=3, classifier__min_samples_leaf=3, classifier__min_samples_split=8, classifier__n_estimators=100; total time=   0.8s\n",
      "[CV] END classifier__bootstrap=True, classifier__max_depth=5, classifier__max_features=5, classifier__min_samples_leaf=5, classifier__min_samples_split=12, classifier__n_estimators=300; total time=   2.3s\n",
      "[CV] END classifier__bootstrap=True, classifier__max_depth=5, classifier__max_features=5, classifier__min_samples_leaf=5, classifier__min_samples_split=12, classifier__n_estimators=300; total time=   2.3s\n"
     ]
    },
    {
     "name": "stderr",
     "output_type": "stream",
     "text": [
      "/Users/foreverrefugee/opt/anaconda3/lib/python3.8/site-packages/sklearn/preprocessing/_data.py:3253: RuntimeWarning: divide by zero encountered in log\n",
      "  loglike = -n_samples / 2 * np.log(x_trans.var())\n",
      "/Users/foreverrefugee/opt/anaconda3/lib/python3.8/site-packages/sklearn/feature_selection/_univariate_selection.py:112: UserWarning: Features [0] are constant.\n",
      "  warnings.warn(\"Features %s are constant.\" % constant_features_idx, UserWarning)\n",
      "/Users/foreverrefugee/opt/anaconda3/lib/python3.8/site-packages/sklearn/feature_selection/_univariate_selection.py:113: RuntimeWarning: invalid value encountered in true_divide\n",
      "  f = msb / msw\n"
     ]
    },
    {
     "name": "stdout",
     "output_type": "stream",
     "text": [
      "[CV] END classifier__bootstrap=True, classifier__max_depth=10, classifier__max_features=3, classifier__min_samples_leaf=3, classifier__min_samples_split=8, classifier__n_estimators=200; total time=   1.8s\n",
      "[CV] END classifier__bootstrap=True, classifier__max_depth=10, classifier__max_features=3, classifier__min_samples_leaf=3, classifier__min_samples_split=8, classifier__n_estimators=200; total time=   1.7s\n"
     ]
    },
    {
     "name": "stderr",
     "output_type": "stream",
     "text": [
      "/Users/foreverrefugee/opt/anaconda3/lib/python3.8/site-packages/sklearn/preprocessing/_data.py:3253: RuntimeWarning: divide by zero encountered in log\n",
      "  loglike = -n_samples / 2 * np.log(x_trans.var())\n",
      "/Users/foreverrefugee/opt/anaconda3/lib/python3.8/site-packages/sklearn/feature_selection/_univariate_selection.py:112: UserWarning: Features [0] are constant.\n",
      "  warnings.warn(\"Features %s are constant.\" % constant_features_idx, UserWarning)\n",
      "/Users/foreverrefugee/opt/anaconda3/lib/python3.8/site-packages/sklearn/feature_selection/_univariate_selection.py:113: RuntimeWarning: invalid value encountered in true_divide\n",
      "  f = msb / msw\n"
     ]
    },
    {
     "name": "stdout",
     "output_type": "stream",
     "text": [
      "[CV] END classifier__bootstrap=True, classifier__max_depth=10, classifier__max_features=3, classifier__min_samples_leaf=3, classifier__min_samples_split=8, classifier__n_estimators=200; total time=   1.7s\n",
      "[CV] END classifier__bootstrap=True, classifier__max_depth=10, classifier__max_features=3, classifier__min_samples_leaf=3, classifier__min_samples_split=8, classifier__n_estimators=300; total time=   2.3s\n",
      "[CV] END classifier__bootstrap=True, classifier__max_depth=10, classifier__max_features=3, classifier__min_samples_leaf=3, classifier__min_samples_split=10, classifier__n_estimators=100; total time=   0.8s\n"
     ]
    },
    {
     "name": "stderr",
     "output_type": "stream",
     "text": [
      "/Users/foreverrefugee/opt/anaconda3/lib/python3.8/site-packages/sklearn/preprocessing/_data.py:3253: RuntimeWarning: divide by zero encountered in log\n",
      "  loglike = -n_samples / 2 * np.log(x_trans.var())\n",
      "/Users/foreverrefugee/opt/anaconda3/lib/python3.8/site-packages/sklearn/feature_selection/_univariate_selection.py:112: UserWarning: Features [0] are constant.\n",
      "  warnings.warn(\"Features %s are constant.\" % constant_features_idx, UserWarning)\n",
      "/Users/foreverrefugee/opt/anaconda3/lib/python3.8/site-packages/sklearn/feature_selection/_univariate_selection.py:113: RuntimeWarning: invalid value encountered in true_divide\n",
      "  f = msb / msw\n"
     ]
    },
    {
     "name": "stdout",
     "output_type": "stream",
     "text": [
      "[CV] END classifier__bootstrap=True, classifier__max_depth=10, classifier__max_features=3, classifier__min_samples_leaf=3, classifier__min_samples_split=10, classifier__n_estimators=100; total time=   0.8s\n",
      "[CV] END classifier__bootstrap=True, classifier__max_depth=10, classifier__max_features=3, classifier__min_samples_leaf=3, classifier__min_samples_split=10, classifier__n_estimators=100; total time=   0.8s\n",
      "[CV] END classifier__bootstrap=True, classifier__max_depth=10, classifier__max_features=3, classifier__min_samples_leaf=3, classifier__min_samples_split=8, classifier__n_estimators=300; total time=   2.2s\n"
     ]
    },
    {
     "name": "stderr",
     "output_type": "stream",
     "text": [
      "/Users/foreverrefugee/opt/anaconda3/lib/python3.8/site-packages/sklearn/preprocessing/_data.py:3253: RuntimeWarning: divide by zero encountered in log\n",
      "  loglike = -n_samples / 2 * np.log(x_trans.var())\n",
      "/Users/foreverrefugee/opt/anaconda3/lib/python3.8/site-packages/sklearn/feature_selection/_univariate_selection.py:112: UserWarning: Features [0] are constant.\n",
      "  warnings.warn(\"Features %s are constant.\" % constant_features_idx, UserWarning)\n",
      "/Users/foreverrefugee/opt/anaconda3/lib/python3.8/site-packages/sklearn/feature_selection/_univariate_selection.py:113: RuntimeWarning: invalid value encountered in true_divide\n",
      "  f = msb / msw\n"
     ]
    },
    {
     "name": "stdout",
     "output_type": "stream",
     "text": [
      "[CV] END classifier__bootstrap=True, classifier__max_depth=10, classifier__max_features=3, classifier__min_samples_leaf=3, classifier__min_samples_split=8, classifier__n_estimators=300; total time=   2.2s\n",
      "[CV] END classifier__bootstrap=True, classifier__max_depth=10, classifier__max_features=3, classifier__min_samples_leaf=3, classifier__min_samples_split=10, classifier__n_estimators=200; total time=   1.7s\n",
      "[CV] END classifier__bootstrap=True, classifier__max_depth=10, classifier__max_features=3, classifier__min_samples_leaf=3, classifier__min_samples_split=10, classifier__n_estimators=200; total time=   1.8s\n"
     ]
    },
    {
     "name": "stderr",
     "output_type": "stream",
     "text": [
      "/Users/foreverrefugee/opt/anaconda3/lib/python3.8/site-packages/sklearn/preprocessing/_data.py:3253: RuntimeWarning: divide by zero encountered in log\n",
      "  loglike = -n_samples / 2 * np.log(x_trans.var())\n",
      "/Users/foreverrefugee/opt/anaconda3/lib/python3.8/site-packages/sklearn/feature_selection/_univariate_selection.py:112: UserWarning: Features [0] are constant.\n",
      "  warnings.warn(\"Features %s are constant.\" % constant_features_idx, UserWarning)\n",
      "/Users/foreverrefugee/opt/anaconda3/lib/python3.8/site-packages/sklearn/feature_selection/_univariate_selection.py:113: RuntimeWarning: invalid value encountered in true_divide\n",
      "  f = msb / msw\n"
     ]
    },
    {
     "name": "stdout",
     "output_type": "stream",
     "text": [
      "[CV] END classifier__bootstrap=True, classifier__max_depth=10, classifier__max_features=3, classifier__min_samples_leaf=3, classifier__min_samples_split=10, classifier__n_estimators=200; total time=   1.9s\n",
      "[CV] END classifier__bootstrap=True, classifier__max_depth=10, classifier__max_features=3, classifier__min_samples_leaf=3, classifier__min_samples_split=10, classifier__n_estimators=300; total time=   2.9s\n",
      "[CV] END classifier__bootstrap=True, classifier__max_depth=10, classifier__max_features=3, classifier__min_samples_leaf=3, classifier__min_samples_split=12, classifier__n_estimators=100; total time=   1.2s\n"
     ]
    },
    {
     "name": "stderr",
     "output_type": "stream",
     "text": [
      "/Users/foreverrefugee/opt/anaconda3/lib/python3.8/site-packages/sklearn/preprocessing/_data.py:3253: RuntimeWarning: divide by zero encountered in log\n",
      "  loglike = -n_samples / 2 * np.log(x_trans.var())\n",
      "/Users/foreverrefugee/opt/anaconda3/lib/python3.8/site-packages/sklearn/feature_selection/_univariate_selection.py:112: UserWarning: Features [0] are constant.\n",
      "  warnings.warn(\"Features %s are constant.\" % constant_features_idx, UserWarning)\n",
      "/Users/foreverrefugee/opt/anaconda3/lib/python3.8/site-packages/sklearn/feature_selection/_univariate_selection.py:113: RuntimeWarning: invalid value encountered in true_divide\n",
      "  f = msb / msw\n"
     ]
    },
    {
     "name": "stdout",
     "output_type": "stream",
     "text": [
      "[CV] END classifier__bootstrap=True, classifier__max_depth=10, classifier__max_features=3, classifier__min_samples_leaf=3, classifier__min_samples_split=12, classifier__n_estimators=100; total time=   0.8s\n",
      "[CV] END classifier__bootstrap=True, classifier__max_depth=10, classifier__max_features=3, classifier__min_samples_leaf=3, classifier__min_samples_split=12, classifier__n_estimators=100; total time=   0.9s\n",
      "[CV] END classifier__bootstrap=True, classifier__max_depth=10, classifier__max_features=3, classifier__min_samples_leaf=3, classifier__min_samples_split=10, classifier__n_estimators=300; total time=   2.8s\n",
      "[CV] END classifier__bootstrap=True, classifier__max_depth=10, classifier__max_features=3, classifier__min_samples_leaf=3, classifier__min_samples_split=10, classifier__n_estimators=300; total time=   2.8s\n"
     ]
    },
    {
     "name": "stderr",
     "output_type": "stream",
     "text": [
      "/Users/foreverrefugee/opt/anaconda3/lib/python3.8/site-packages/sklearn/preprocessing/_data.py:3253: RuntimeWarning: divide by zero encountered in log\n",
      "  loglike = -n_samples / 2 * np.log(x_trans.var())\n",
      "/Users/foreverrefugee/opt/anaconda3/lib/python3.8/site-packages/sklearn/feature_selection/_univariate_selection.py:112: UserWarning: Features [0] are constant.\n",
      "  warnings.warn(\"Features %s are constant.\" % constant_features_idx, UserWarning)\n",
      "/Users/foreverrefugee/opt/anaconda3/lib/python3.8/site-packages/sklearn/feature_selection/_univariate_selection.py:113: RuntimeWarning: invalid value encountered in true_divide\n",
      "  f = msb / msw\n"
     ]
    },
    {
     "name": "stdout",
     "output_type": "stream",
     "text": [
      "[CV] END classifier__bootstrap=True, classifier__max_depth=10, classifier__max_features=3, classifier__min_samples_leaf=3, classifier__min_samples_split=12, classifier__n_estimators=200; total time=   1.9s\n",
      "[CV] END classifier__bootstrap=True, classifier__max_depth=10, classifier__max_features=3, classifier__min_samples_leaf=3, classifier__min_samples_split=12, classifier__n_estimators=200; total time=   1.9s\n"
     ]
    },
    {
     "name": "stderr",
     "output_type": "stream",
     "text": [
      "/Users/foreverrefugee/opt/anaconda3/lib/python3.8/site-packages/sklearn/preprocessing/_data.py:3253: RuntimeWarning: divide by zero encountered in log\n",
      "  loglike = -n_samples / 2 * np.log(x_trans.var())\n",
      "/Users/foreverrefugee/opt/anaconda3/lib/python3.8/site-packages/sklearn/feature_selection/_univariate_selection.py:112: UserWarning: Features [0] are constant.\n",
      "  warnings.warn(\"Features %s are constant.\" % constant_features_idx, UserWarning)\n",
      "/Users/foreverrefugee/opt/anaconda3/lib/python3.8/site-packages/sklearn/feature_selection/_univariate_selection.py:113: RuntimeWarning: invalid value encountered in true_divide\n",
      "  f = msb / msw\n"
     ]
    },
    {
     "name": "stdout",
     "output_type": "stream",
     "text": [
      "[CV] END classifier__bootstrap=True, classifier__max_depth=10, classifier__max_features=3, classifier__min_samples_leaf=3, classifier__min_samples_split=12, classifier__n_estimators=200; total time=   2.6s\n",
      "[CV] END classifier__bootstrap=True, classifier__max_depth=10, classifier__max_features=3, classifier__min_samples_leaf=4, classifier__min_samples_split=8, classifier__n_estimators=100; total time=   1.2s\n",
      "[CV] END classifier__bootstrap=True, classifier__max_depth=10, classifier__max_features=3, classifier__min_samples_leaf=3, classifier__min_samples_split=12, classifier__n_estimators=300; total time=   3.8s\n"
     ]
    },
    {
     "name": "stderr",
     "output_type": "stream",
     "text": [
      "/Users/foreverrefugee/opt/anaconda3/lib/python3.8/site-packages/sklearn/preprocessing/_data.py:3253: RuntimeWarning: divide by zero encountered in log\n",
      "  loglike = -n_samples / 2 * np.log(x_trans.var())\n",
      "/Users/foreverrefugee/opt/anaconda3/lib/python3.8/site-packages/sklearn/feature_selection/_univariate_selection.py:112: UserWarning: Features [0] are constant.\n",
      "  warnings.warn(\"Features %s are constant.\" % constant_features_idx, UserWarning)\n",
      "/Users/foreverrefugee/opt/anaconda3/lib/python3.8/site-packages/sklearn/feature_selection/_univariate_selection.py:113: RuntimeWarning: invalid value encountered in true_divide\n",
      "  f = msb / msw\n"
     ]
    },
    {
     "name": "stdout",
     "output_type": "stream",
     "text": [
      "[CV] END classifier__bootstrap=True, classifier__max_depth=10, classifier__max_features=3, classifier__min_samples_leaf=4, classifier__min_samples_split=8, classifier__n_estimators=100; total time=   0.9s\n",
      "[CV] END classifier__bootstrap=True, classifier__max_depth=10, classifier__max_features=3, classifier__min_samples_leaf=4, classifier__min_samples_split=8, classifier__n_estimators=100; total time=   0.8s\n",
      "[CV] END classifier__bootstrap=True, classifier__max_depth=10, classifier__max_features=3, classifier__min_samples_leaf=3, classifier__min_samples_split=12, classifier__n_estimators=300; total time=   3.4s\n",
      "[CV] END classifier__bootstrap=True, classifier__max_depth=10, classifier__max_features=3, classifier__min_samples_leaf=3, classifier__min_samples_split=12, classifier__n_estimators=300; total time=   3.4s\n"
     ]
    },
    {
     "name": "stderr",
     "output_type": "stream",
     "text": [
      "/Users/foreverrefugee/opt/anaconda3/lib/python3.8/site-packages/sklearn/preprocessing/_data.py:3253: RuntimeWarning: divide by zero encountered in log\n",
      "  loglike = -n_samples / 2 * np.log(x_trans.var())\n",
      "/Users/foreverrefugee/opt/anaconda3/lib/python3.8/site-packages/sklearn/feature_selection/_univariate_selection.py:112: UserWarning: Features [0] are constant.\n",
      "  warnings.warn(\"Features %s are constant.\" % constant_features_idx, UserWarning)\n",
      "/Users/foreverrefugee/opt/anaconda3/lib/python3.8/site-packages/sklearn/feature_selection/_univariate_selection.py:113: RuntimeWarning: invalid value encountered in true_divide\n",
      "  f = msb / msw\n"
     ]
    },
    {
     "name": "stdout",
     "output_type": "stream",
     "text": [
      "[CV] END classifier__bootstrap=True, classifier__max_depth=10, classifier__max_features=3, classifier__min_samples_leaf=4, classifier__min_samples_split=8, classifier__n_estimators=200; total time=   1.6s\n",
      "[CV] END classifier__bootstrap=True, classifier__max_depth=10, classifier__max_features=3, classifier__min_samples_leaf=4, classifier__min_samples_split=8, classifier__n_estimators=200; total time=   1.7s\n",
      "[CV] END classifier__bootstrap=True, classifier__max_depth=10, classifier__max_features=3, classifier__min_samples_leaf=4, classifier__min_samples_split=8, classifier__n_estimators=200; total time=   1.7s\n"
     ]
    },
    {
     "name": "stderr",
     "output_type": "stream",
     "text": [
      "/Users/foreverrefugee/opt/anaconda3/lib/python3.8/site-packages/sklearn/preprocessing/_data.py:3253: RuntimeWarning: divide by zero encountered in log\n",
      "  loglike = -n_samples / 2 * np.log(x_trans.var())\n",
      "/Users/foreverrefugee/opt/anaconda3/lib/python3.8/site-packages/sklearn/feature_selection/_univariate_selection.py:112: UserWarning: Features [0] are constant.\n",
      "  warnings.warn(\"Features %s are constant.\" % constant_features_idx, UserWarning)\n",
      "/Users/foreverrefugee/opt/anaconda3/lib/python3.8/site-packages/sklearn/feature_selection/_univariate_selection.py:113: RuntimeWarning: invalid value encountered in true_divide\n",
      "  f = msb / msw\n"
     ]
    },
    {
     "name": "stdout",
     "output_type": "stream",
     "text": [
      "[CV] END classifier__bootstrap=True, classifier__max_depth=10, classifier__max_features=3, classifier__min_samples_leaf=4, classifier__min_samples_split=8, classifier__n_estimators=300; total time=   2.6s\n",
      "[CV] END classifier__bootstrap=True, classifier__max_depth=10, classifier__max_features=3, classifier__min_samples_leaf=4, classifier__min_samples_split=10, classifier__n_estimators=100; total time=   1.1s\n"
     ]
    },
    {
     "name": "stderr",
     "output_type": "stream",
     "text": [
      "/Users/foreverrefugee/opt/anaconda3/lib/python3.8/site-packages/sklearn/preprocessing/_data.py:3253: RuntimeWarning: divide by zero encountered in log\n",
      "  loglike = -n_samples / 2 * np.log(x_trans.var())\n",
      "/Users/foreverrefugee/opt/anaconda3/lib/python3.8/site-packages/sklearn/feature_selection/_univariate_selection.py:112: UserWarning: Features [0] are constant.\n",
      "  warnings.warn(\"Features %s are constant.\" % constant_features_idx, UserWarning)\n",
      "/Users/foreverrefugee/opt/anaconda3/lib/python3.8/site-packages/sklearn/feature_selection/_univariate_selection.py:113: RuntimeWarning: invalid value encountered in true_divide\n",
      "  f = msb / msw\n"
     ]
    },
    {
     "name": "stdout",
     "output_type": "stream",
     "text": [
      "[CV] END classifier__bootstrap=True, classifier__max_depth=10, classifier__max_features=3, classifier__min_samples_leaf=4, classifier__min_samples_split=10, classifier__n_estimators=100; total time=   1.0s\n",
      "[CV] END classifier__bootstrap=True, classifier__max_depth=10, classifier__max_features=3, classifier__min_samples_leaf=4, classifier__min_samples_split=10, classifier__n_estimators=100; total time=   1.0s\n",
      "[CV] END classifier__bootstrap=True, classifier__max_depth=10, classifier__max_features=3, classifier__min_samples_leaf=4, classifier__min_samples_split=8, classifier__n_estimators=300; total time=   2.8s\n",
      "[CV] END classifier__bootstrap=True, classifier__max_depth=10, classifier__max_features=3, classifier__min_samples_leaf=4, classifier__min_samples_split=8, classifier__n_estimators=300; total time=   2.7s\n"
     ]
    },
    {
     "name": "stderr",
     "output_type": "stream",
     "text": [
      "/Users/foreverrefugee/opt/anaconda3/lib/python3.8/site-packages/sklearn/preprocessing/_data.py:3253: RuntimeWarning: divide by zero encountered in log\n",
      "  loglike = -n_samples / 2 * np.log(x_trans.var())\n",
      "/Users/foreverrefugee/opt/anaconda3/lib/python3.8/site-packages/sklearn/feature_selection/_univariate_selection.py:112: UserWarning: Features [0] are constant.\n",
      "  warnings.warn(\"Features %s are constant.\" % constant_features_idx, UserWarning)\n",
      "/Users/foreverrefugee/opt/anaconda3/lib/python3.8/site-packages/sklearn/feature_selection/_univariate_selection.py:113: RuntimeWarning: invalid value encountered in true_divide\n",
      "  f = msb / msw\n"
     ]
    },
    {
     "name": "stdout",
     "output_type": "stream",
     "text": [
      "[CV] END classifier__bootstrap=True, classifier__max_depth=10, classifier__max_features=3, classifier__min_samples_leaf=4, classifier__min_samples_split=10, classifier__n_estimators=200; total time=   1.7s\n",
      "[CV] END classifier__bootstrap=True, classifier__max_depth=10, classifier__max_features=3, classifier__min_samples_leaf=4, classifier__min_samples_split=10, classifier__n_estimators=200; total time=   1.7s\n"
     ]
    },
    {
     "name": "stderr",
     "output_type": "stream",
     "text": [
      "/Users/foreverrefugee/opt/anaconda3/lib/python3.8/site-packages/sklearn/preprocessing/_data.py:3253: RuntimeWarning: divide by zero encountered in log\n",
      "  loglike = -n_samples / 2 * np.log(x_trans.var())\n",
      "/Users/foreverrefugee/opt/anaconda3/lib/python3.8/site-packages/sklearn/feature_selection/_univariate_selection.py:112: UserWarning: Features [0] are constant.\n",
      "  warnings.warn(\"Features %s are constant.\" % constant_features_idx, UserWarning)\n",
      "/Users/foreverrefugee/opt/anaconda3/lib/python3.8/site-packages/sklearn/feature_selection/_univariate_selection.py:113: RuntimeWarning: invalid value encountered in true_divide\n",
      "  f = msb / msw\n"
     ]
    },
    {
     "name": "stdout",
     "output_type": "stream",
     "text": [
      "[CV] END classifier__bootstrap=True, classifier__max_depth=10, classifier__max_features=3, classifier__min_samples_leaf=4, classifier__min_samples_split=10, classifier__n_estimators=200; total time=   1.6s\n",
      "[CV] END classifier__bootstrap=True, classifier__max_depth=10, classifier__max_features=3, classifier__min_samples_leaf=4, classifier__min_samples_split=10, classifier__n_estimators=300; total time=   2.4s\n",
      "[CV] END classifier__bootstrap=True, classifier__max_depth=10, classifier__max_features=3, classifier__min_samples_leaf=4, classifier__min_samples_split=12, classifier__n_estimators=100; total time=   1.0s\n"
     ]
    },
    {
     "name": "stderr",
     "output_type": "stream",
     "text": [
      "/Users/foreverrefugee/opt/anaconda3/lib/python3.8/site-packages/sklearn/preprocessing/_data.py:3253: RuntimeWarning: divide by zero encountered in log\n",
      "  loglike = -n_samples / 2 * np.log(x_trans.var())\n",
      "/Users/foreverrefugee/opt/anaconda3/lib/python3.8/site-packages/sklearn/feature_selection/_univariate_selection.py:112: UserWarning: Features [0] are constant.\n",
      "  warnings.warn(\"Features %s are constant.\" % constant_features_idx, UserWarning)\n",
      "/Users/foreverrefugee/opt/anaconda3/lib/python3.8/site-packages/sklearn/feature_selection/_univariate_selection.py:113: RuntimeWarning: invalid value encountered in true_divide\n",
      "  f = msb / msw\n"
     ]
    },
    {
     "name": "stdout",
     "output_type": "stream",
     "text": [
      "[CV] END classifier__bootstrap=True, classifier__max_depth=10, classifier__max_features=3, classifier__min_samples_leaf=4, classifier__min_samples_split=12, classifier__n_estimators=100; total time=   1.0s\n",
      "[CV] END classifier__bootstrap=True, classifier__max_depth=10, classifier__max_features=3, classifier__min_samples_leaf=4, classifier__min_samples_split=12, classifier__n_estimators=100; total time=   1.0s\n",
      "[CV] END classifier__bootstrap=True, classifier__max_depth=10, classifier__max_features=3, classifier__min_samples_leaf=4, classifier__min_samples_split=10, classifier__n_estimators=300; total time=   2.6s\n"
     ]
    },
    {
     "name": "stderr",
     "output_type": "stream",
     "text": [
      "/Users/foreverrefugee/opt/anaconda3/lib/python3.8/site-packages/sklearn/preprocessing/_data.py:3253: RuntimeWarning: divide by zero encountered in log\n",
      "  loglike = -n_samples / 2 * np.log(x_trans.var())\n",
      "/Users/foreverrefugee/opt/anaconda3/lib/python3.8/site-packages/sklearn/feature_selection/_univariate_selection.py:112: UserWarning: Features [0] are constant.\n",
      "  warnings.warn(\"Features %s are constant.\" % constant_features_idx, UserWarning)\n",
      "/Users/foreverrefugee/opt/anaconda3/lib/python3.8/site-packages/sklearn/feature_selection/_univariate_selection.py:113: RuntimeWarning: invalid value encountered in true_divide\n",
      "  f = msb / msw\n"
     ]
    },
    {
     "name": "stdout",
     "output_type": "stream",
     "text": [
      "[CV] END classifier__bootstrap=True, classifier__max_depth=10, classifier__max_features=3, classifier__min_samples_leaf=4, classifier__min_samples_split=10, classifier__n_estimators=300; total time=   2.6s\n",
      "[CV] END classifier__bootstrap=True, classifier__max_depth=10, classifier__max_features=3, classifier__min_samples_leaf=4, classifier__min_samples_split=12, classifier__n_estimators=200; total time=   1.7s\n",
      "[CV] END classifier__bootstrap=True, classifier__max_depth=10, classifier__max_features=3, classifier__min_samples_leaf=4, classifier__min_samples_split=12, classifier__n_estimators=200; total time=   1.7s\n",
      "[CV] END classifier__bootstrap=True, classifier__max_depth=10, classifier__max_features=3, classifier__min_samples_leaf=4, classifier__min_samples_split=12, classifier__n_estimators=200; total time=   1.6s\n"
     ]
    },
    {
     "name": "stderr",
     "output_type": "stream",
     "text": [
      "/Users/foreverrefugee/opt/anaconda3/lib/python3.8/site-packages/sklearn/preprocessing/_data.py:3253: RuntimeWarning: divide by zero encountered in log\n",
      "  loglike = -n_samples / 2 * np.log(x_trans.var())\n",
      "/Users/foreverrefugee/opt/anaconda3/lib/python3.8/site-packages/sklearn/feature_selection/_univariate_selection.py:112: UserWarning: Features [0] are constant.\n",
      "  warnings.warn(\"Features %s are constant.\" % constant_features_idx, UserWarning)\n",
      "/Users/foreverrefugee/opt/anaconda3/lib/python3.8/site-packages/sklearn/feature_selection/_univariate_selection.py:113: RuntimeWarning: invalid value encountered in true_divide\n",
      "  f = msb / msw\n"
     ]
    },
    {
     "name": "stdout",
     "output_type": "stream",
     "text": [
      "[CV] END classifier__bootstrap=True, classifier__max_depth=10, classifier__max_features=3, classifier__min_samples_leaf=5, classifier__min_samples_split=8, classifier__n_estimators=100; total time=   0.8s\n",
      "[CV] END classifier__bootstrap=True, classifier__max_depth=10, classifier__max_features=3, classifier__min_samples_leaf=4, classifier__min_samples_split=12, classifier__n_estimators=300; total time=   2.3s\n"
     ]
    },
    {
     "name": "stderr",
     "output_type": "stream",
     "text": [
      "/Users/foreverrefugee/opt/anaconda3/lib/python3.8/site-packages/sklearn/preprocessing/_data.py:3253: RuntimeWarning: divide by zero encountered in log\n",
      "  loglike = -n_samples / 2 * np.log(x_trans.var())\n",
      "/Users/foreverrefugee/opt/anaconda3/lib/python3.8/site-packages/sklearn/feature_selection/_univariate_selection.py:112: UserWarning: Features [0] are constant.\n",
      "  warnings.warn(\"Features %s are constant.\" % constant_features_idx, UserWarning)\n",
      "/Users/foreverrefugee/opt/anaconda3/lib/python3.8/site-packages/sklearn/feature_selection/_univariate_selection.py:113: RuntimeWarning: invalid value encountered in true_divide\n",
      "  f = msb / msw\n"
     ]
    },
    {
     "name": "stdout",
     "output_type": "stream",
     "text": [
      "[CV] END classifier__bootstrap=True, classifier__max_depth=10, classifier__max_features=3, classifier__min_samples_leaf=5, classifier__min_samples_split=8, classifier__n_estimators=100; total time=   0.6s\n",
      "[CV] END classifier__bootstrap=True, classifier__max_depth=10, classifier__max_features=3, classifier__min_samples_leaf=5, classifier__min_samples_split=8, classifier__n_estimators=100; total time=   0.6s\n",
      "[CV] END classifier__bootstrap=True, classifier__max_depth=10, classifier__max_features=3, classifier__min_samples_leaf=4, classifier__min_samples_split=12, classifier__n_estimators=300; total time=   1.8s\n",
      "[CV] END classifier__bootstrap=True, classifier__max_depth=10, classifier__max_features=3, classifier__min_samples_leaf=4, classifier__min_samples_split=12, classifier__n_estimators=300; total time=   1.9s\n"
     ]
    },
    {
     "name": "stderr",
     "output_type": "stream",
     "text": [
      "/Users/foreverrefugee/opt/anaconda3/lib/python3.8/site-packages/sklearn/preprocessing/_data.py:3253: RuntimeWarning: divide by zero encountered in log\n",
      "  loglike = -n_samples / 2 * np.log(x_trans.var())\n",
      "/Users/foreverrefugee/opt/anaconda3/lib/python3.8/site-packages/sklearn/feature_selection/_univariate_selection.py:112: UserWarning: Features [0] are constant.\n",
      "  warnings.warn(\"Features %s are constant.\" % constant_features_idx, UserWarning)\n",
      "/Users/foreverrefugee/opt/anaconda3/lib/python3.8/site-packages/sklearn/feature_selection/_univariate_selection.py:113: RuntimeWarning: invalid value encountered in true_divide\n",
      "  f = msb / msw\n"
     ]
    },
    {
     "name": "stdout",
     "output_type": "stream",
     "text": [
      "[CV] END classifier__bootstrap=True, classifier__max_depth=10, classifier__max_features=3, classifier__min_samples_leaf=5, classifier__min_samples_split=8, classifier__n_estimators=200; total time=   1.2s\n",
      "[CV] END classifier__bootstrap=True, classifier__max_depth=10, classifier__max_features=3, classifier__min_samples_leaf=5, classifier__min_samples_split=8, classifier__n_estimators=200; total time=   1.1s\n"
     ]
    },
    {
     "name": "stderr",
     "output_type": "stream",
     "text": [
      "/Users/foreverrefugee/opt/anaconda3/lib/python3.8/site-packages/sklearn/preprocessing/_data.py:3253: RuntimeWarning: divide by zero encountered in log\n",
      "  loglike = -n_samples / 2 * np.log(x_trans.var())\n",
      "/Users/foreverrefugee/opt/anaconda3/lib/python3.8/site-packages/sklearn/feature_selection/_univariate_selection.py:112: UserWarning: Features [0] are constant.\n",
      "  warnings.warn(\"Features %s are constant.\" % constant_features_idx, UserWarning)\n",
      "/Users/foreverrefugee/opt/anaconda3/lib/python3.8/site-packages/sklearn/feature_selection/_univariate_selection.py:113: RuntimeWarning: invalid value encountered in true_divide\n",
      "  f = msb / msw\n"
     ]
    },
    {
     "name": "stdout",
     "output_type": "stream",
     "text": [
      "[CV] END classifier__bootstrap=True, classifier__max_depth=10, classifier__max_features=3, classifier__min_samples_leaf=5, classifier__min_samples_split=8, classifier__n_estimators=200; total time=   1.4s\n",
      "[CV] END classifier__bootstrap=True, classifier__max_depth=10, classifier__max_features=3, classifier__min_samples_leaf=5, classifier__min_samples_split=8, classifier__n_estimators=300; total time=   2.0s\n",
      "[CV] END classifier__bootstrap=True, classifier__max_depth=10, classifier__max_features=3, classifier__min_samples_leaf=5, classifier__min_samples_split=10, classifier__n_estimators=100; total time=   0.7s\n"
     ]
    },
    {
     "name": "stderr",
     "output_type": "stream",
     "text": [
      "/Users/foreverrefugee/opt/anaconda3/lib/python3.8/site-packages/sklearn/preprocessing/_data.py:3253: RuntimeWarning: divide by zero encountered in log\n",
      "  loglike = -n_samples / 2 * np.log(x_trans.var())\n",
      "/Users/foreverrefugee/opt/anaconda3/lib/python3.8/site-packages/sklearn/feature_selection/_univariate_selection.py:112: UserWarning: Features [0] are constant.\n",
      "  warnings.warn(\"Features %s are constant.\" % constant_features_idx, UserWarning)\n",
      "/Users/foreverrefugee/opt/anaconda3/lib/python3.8/site-packages/sklearn/feature_selection/_univariate_selection.py:113: RuntimeWarning: invalid value encountered in true_divide\n",
      "  f = msb / msw\n"
     ]
    },
    {
     "name": "stdout",
     "output_type": "stream",
     "text": [
      "[CV] END classifier__bootstrap=True, classifier__max_depth=10, classifier__max_features=3, classifier__min_samples_leaf=5, classifier__min_samples_split=10, classifier__n_estimators=100; total time=   0.6s\n",
      "[CV] END classifier__bootstrap=True, classifier__max_depth=10, classifier__max_features=3, classifier__min_samples_leaf=5, classifier__min_samples_split=10, classifier__n_estimators=100; total time=   0.7s\n",
      "[CV] END classifier__bootstrap=True, classifier__max_depth=10, classifier__max_features=3, classifier__min_samples_leaf=5, classifier__min_samples_split=8, classifier__n_estimators=300; total time=   2.2s\n",
      "[CV] END classifier__bootstrap=True, classifier__max_depth=10, classifier__max_features=3, classifier__min_samples_leaf=5, classifier__min_samples_split=8, classifier__n_estimators=300; total time=   2.2s\n"
     ]
    },
    {
     "name": "stderr",
     "output_type": "stream",
     "text": [
      "/Users/foreverrefugee/opt/anaconda3/lib/python3.8/site-packages/sklearn/preprocessing/_data.py:3253: RuntimeWarning: divide by zero encountered in log\n",
      "  loglike = -n_samples / 2 * np.log(x_trans.var())\n",
      "/Users/foreverrefugee/opt/anaconda3/lib/python3.8/site-packages/sklearn/feature_selection/_univariate_selection.py:112: UserWarning: Features [0] are constant.\n",
      "  warnings.warn(\"Features %s are constant.\" % constant_features_idx, UserWarning)\n",
      "/Users/foreverrefugee/opt/anaconda3/lib/python3.8/site-packages/sklearn/feature_selection/_univariate_selection.py:113: RuntimeWarning: invalid value encountered in true_divide\n",
      "  f = msb / msw\n"
     ]
    },
    {
     "name": "stdout",
     "output_type": "stream",
     "text": [
      "[CV] END classifier__bootstrap=True, classifier__max_depth=10, classifier__max_features=3, classifier__min_samples_leaf=5, classifier__min_samples_split=10, classifier__n_estimators=200; total time=   2.0s\n",
      "[CV] END classifier__bootstrap=True, classifier__max_depth=10, classifier__max_features=3, classifier__min_samples_leaf=5, classifier__min_samples_split=10, classifier__n_estimators=200; total time=   2.1s\n",
      "[CV] END classifier__bootstrap=True, classifier__max_depth=10, classifier__max_features=3, classifier__min_samples_leaf=5, classifier__min_samples_split=10, classifier__n_estimators=200; total time=   2.0s\n"
     ]
    },
    {
     "name": "stderr",
     "output_type": "stream",
     "text": [
      "/Users/foreverrefugee/opt/anaconda3/lib/python3.8/site-packages/sklearn/preprocessing/_data.py:3253: RuntimeWarning: divide by zero encountered in log\n",
      "  loglike = -n_samples / 2 * np.log(x_trans.var())\n",
      "/Users/foreverrefugee/opt/anaconda3/lib/python3.8/site-packages/sklearn/feature_selection/_univariate_selection.py:112: UserWarning: Features [0] are constant.\n",
      "  warnings.warn(\"Features %s are constant.\" % constant_features_idx, UserWarning)\n",
      "/Users/foreverrefugee/opt/anaconda3/lib/python3.8/site-packages/sklearn/feature_selection/_univariate_selection.py:113: RuntimeWarning: invalid value encountered in true_divide\n",
      "  f = msb / msw\n"
     ]
    },
    {
     "name": "stdout",
     "output_type": "stream",
     "text": [
      "[CV] END classifier__bootstrap=True, classifier__max_depth=10, classifier__max_features=3, classifier__min_samples_leaf=5, classifier__min_samples_split=10, classifier__n_estimators=300; total time=   2.9s\n",
      "[CV] END classifier__bootstrap=True, classifier__max_depth=10, classifier__max_features=3, classifier__min_samples_leaf=5, classifier__min_samples_split=12, classifier__n_estimators=100; total time=   1.4s\n"
     ]
    },
    {
     "name": "stderr",
     "output_type": "stream",
     "text": [
      "/Users/foreverrefugee/opt/anaconda3/lib/python3.8/site-packages/sklearn/preprocessing/_data.py:3253: RuntimeWarning: divide by zero encountered in log\n",
      "  loglike = -n_samples / 2 * np.log(x_trans.var())\n",
      "/Users/foreverrefugee/opt/anaconda3/lib/python3.8/site-packages/sklearn/feature_selection/_univariate_selection.py:112: UserWarning: Features [0] are constant.\n",
      "  warnings.warn(\"Features %s are constant.\" % constant_features_idx, UserWarning)\n",
      "/Users/foreverrefugee/opt/anaconda3/lib/python3.8/site-packages/sklearn/feature_selection/_univariate_selection.py:113: RuntimeWarning: invalid value encountered in true_divide\n",
      "  f = msb / msw\n"
     ]
    },
    {
     "name": "stdout",
     "output_type": "stream",
     "text": [
      "[CV] END classifier__bootstrap=True, classifier__max_depth=10, classifier__max_features=3, classifier__min_samples_leaf=5, classifier__min_samples_split=12, classifier__n_estimators=100; total time=   1.9s\n",
      "[CV] END classifier__bootstrap=True, classifier__max_depth=10, classifier__max_features=3, classifier__min_samples_leaf=5, classifier__min_samples_split=12, classifier__n_estimators=100; total time=   1.6s\n",
      "[CV] END classifier__bootstrap=True, classifier__max_depth=10, classifier__max_features=3, classifier__min_samples_leaf=5, classifier__min_samples_split=10, classifier__n_estimators=300; total time=   3.5s\n",
      "[CV] END classifier__bootstrap=True, classifier__max_depth=10, classifier__max_features=3, classifier__min_samples_leaf=5, classifier__min_samples_split=10, classifier__n_estimators=300; total time=   3.4s\n"
     ]
    },
    {
     "name": "stderr",
     "output_type": "stream",
     "text": [
      "/Users/foreverrefugee/opt/anaconda3/lib/python3.8/site-packages/sklearn/preprocessing/_data.py:3253: RuntimeWarning: divide by zero encountered in log\n",
      "  loglike = -n_samples / 2 * np.log(x_trans.var())\n",
      "/Users/foreverrefugee/opt/anaconda3/lib/python3.8/site-packages/sklearn/feature_selection/_univariate_selection.py:112: UserWarning: Features [0] are constant.\n",
      "  warnings.warn(\"Features %s are constant.\" % constant_features_idx, UserWarning)\n",
      "/Users/foreverrefugee/opt/anaconda3/lib/python3.8/site-packages/sklearn/feature_selection/_univariate_selection.py:113: RuntimeWarning: invalid value encountered in true_divide\n",
      "  f = msb / msw\n"
     ]
    },
    {
     "name": "stdout",
     "output_type": "stream",
     "text": [
      "[CV] END classifier__bootstrap=True, classifier__max_depth=10, classifier__max_features=3, classifier__min_samples_leaf=5, classifier__min_samples_split=12, classifier__n_estimators=200; total time=   1.5s\n",
      "[CV] END classifier__bootstrap=True, classifier__max_depth=10, classifier__max_features=3, classifier__min_samples_leaf=5, classifier__min_samples_split=12, classifier__n_estimators=200; total time=   1.4s\n"
     ]
    },
    {
     "name": "stderr",
     "output_type": "stream",
     "text": [
      "/Users/foreverrefugee/opt/anaconda3/lib/python3.8/site-packages/sklearn/preprocessing/_data.py:3253: RuntimeWarning: divide by zero encountered in log\n",
      "  loglike = -n_samples / 2 * np.log(x_trans.var())\n",
      "/Users/foreverrefugee/opt/anaconda3/lib/python3.8/site-packages/sklearn/feature_selection/_univariate_selection.py:112: UserWarning: Features [0] are constant.\n",
      "  warnings.warn(\"Features %s are constant.\" % constant_features_idx, UserWarning)\n",
      "/Users/foreverrefugee/opt/anaconda3/lib/python3.8/site-packages/sklearn/feature_selection/_univariate_selection.py:113: RuntimeWarning: invalid value encountered in true_divide\n",
      "  f = msb / msw\n"
     ]
    },
    {
     "name": "stdout",
     "output_type": "stream",
     "text": [
      "[CV] END classifier__bootstrap=True, classifier__max_depth=10, classifier__max_features=3, classifier__min_samples_leaf=5, classifier__min_samples_split=12, classifier__n_estimators=200; total time=   1.4s\n",
      "[CV] END classifier__bootstrap=True, classifier__max_depth=10, classifier__max_features=3, classifier__min_samples_leaf=5, classifier__min_samples_split=12, classifier__n_estimators=300; total time=   2.5s\n",
      "[CV] END classifier__bootstrap=True, classifier__max_depth=10, classifier__max_features=5, classifier__min_samples_leaf=3, classifier__min_samples_split=8, classifier__n_estimators=100; total time=   1.4s\n"
     ]
    },
    {
     "name": "stderr",
     "output_type": "stream",
     "text": [
      "/Users/foreverrefugee/opt/anaconda3/lib/python3.8/site-packages/sklearn/preprocessing/_data.py:3253: RuntimeWarning: divide by zero encountered in log\n",
      "  loglike = -n_samples / 2 * np.log(x_trans.var())\n",
      "/Users/foreverrefugee/opt/anaconda3/lib/python3.8/site-packages/sklearn/feature_selection/_univariate_selection.py:112: UserWarning: Features [0] are constant.\n",
      "  warnings.warn(\"Features %s are constant.\" % constant_features_idx, UserWarning)\n",
      "/Users/foreverrefugee/opt/anaconda3/lib/python3.8/site-packages/sklearn/feature_selection/_univariate_selection.py:113: RuntimeWarning: invalid value encountered in true_divide\n",
      "  f = msb / msw\n"
     ]
    },
    {
     "name": "stdout",
     "output_type": "stream",
     "text": [
      "[CV] END classifier__bootstrap=True, classifier__max_depth=10, classifier__max_features=5, classifier__min_samples_leaf=3, classifier__min_samples_split=8, classifier__n_estimators=100; total time=   0.9s\n",
      "[CV] END classifier__bootstrap=True, classifier__max_depth=10, classifier__max_features=5, classifier__min_samples_leaf=3, classifier__min_samples_split=8, classifier__n_estimators=100; total time=   0.8s\n",
      "[CV] END classifier__bootstrap=True, classifier__max_depth=10, classifier__max_features=3, classifier__min_samples_leaf=5, classifier__min_samples_split=12, classifier__n_estimators=300; total time=   2.7s\n",
      "[CV] END classifier__bootstrap=True, classifier__max_depth=10, classifier__max_features=3, classifier__min_samples_leaf=5, classifier__min_samples_split=12, classifier__n_estimators=300; total time=   2.6s\n"
     ]
    },
    {
     "name": "stderr",
     "output_type": "stream",
     "text": [
      "/Users/foreverrefugee/opt/anaconda3/lib/python3.8/site-packages/sklearn/preprocessing/_data.py:3253: RuntimeWarning: divide by zero encountered in log\n",
      "  loglike = -n_samples / 2 * np.log(x_trans.var())\n",
      "/Users/foreverrefugee/opt/anaconda3/lib/python3.8/site-packages/sklearn/feature_selection/_univariate_selection.py:112: UserWarning: Features [0] are constant.\n",
      "  warnings.warn(\"Features %s are constant.\" % constant_features_idx, UserWarning)\n",
      "/Users/foreverrefugee/opt/anaconda3/lib/python3.8/site-packages/sklearn/feature_selection/_univariate_selection.py:113: RuntimeWarning: invalid value encountered in true_divide\n",
      "  f = msb / msw\n"
     ]
    },
    {
     "name": "stdout",
     "output_type": "stream",
     "text": [
      "[CV] END classifier__bootstrap=True, classifier__max_depth=10, classifier__max_features=5, classifier__min_samples_leaf=3, classifier__min_samples_split=8, classifier__n_estimators=200; total time=   2.4s\n",
      "[CV] END classifier__bootstrap=True, classifier__max_depth=10, classifier__max_features=5, classifier__min_samples_leaf=3, classifier__min_samples_split=8, classifier__n_estimators=200; total time=   2.4s\n",
      "[CV] END classifier__bootstrap=True, classifier__max_depth=10, classifier__max_features=5, classifier__min_samples_leaf=3, classifier__min_samples_split=8, classifier__n_estimators=200; total time=   2.4s\n"
     ]
    },
    {
     "name": "stderr",
     "output_type": "stream",
     "text": [
      "/Users/foreverrefugee/opt/anaconda3/lib/python3.8/site-packages/sklearn/preprocessing/_data.py:3253: RuntimeWarning: divide by zero encountered in log\n",
      "  loglike = -n_samples / 2 * np.log(x_trans.var())\n",
      "/Users/foreverrefugee/opt/anaconda3/lib/python3.8/site-packages/sklearn/feature_selection/_univariate_selection.py:112: UserWarning: Features [0] are constant.\n",
      "  warnings.warn(\"Features %s are constant.\" % constant_features_idx, UserWarning)\n",
      "/Users/foreverrefugee/opt/anaconda3/lib/python3.8/site-packages/sklearn/feature_selection/_univariate_selection.py:113: RuntimeWarning: invalid value encountered in true_divide\n",
      "  f = msb / msw\n"
     ]
    },
    {
     "name": "stdout",
     "output_type": "stream",
     "text": [
      "[CV] END classifier__bootstrap=True, classifier__max_depth=10, classifier__max_features=5, classifier__min_samples_leaf=3, classifier__min_samples_split=8, classifier__n_estimators=300; total time=   3.2s\n",
      "[CV] END classifier__bootstrap=True, classifier__max_depth=10, classifier__max_features=5, classifier__min_samples_leaf=3, classifier__min_samples_split=10, classifier__n_estimators=100; total time=   1.1s\n"
     ]
    },
    {
     "name": "stderr",
     "output_type": "stream",
     "text": [
      "/Users/foreverrefugee/opt/anaconda3/lib/python3.8/site-packages/sklearn/preprocessing/_data.py:3253: RuntimeWarning: divide by zero encountered in log\n",
      "  loglike = -n_samples / 2 * np.log(x_trans.var())\n",
      "/Users/foreverrefugee/opt/anaconda3/lib/python3.8/site-packages/sklearn/feature_selection/_univariate_selection.py:112: UserWarning: Features [0] are constant.\n",
      "  warnings.warn(\"Features %s are constant.\" % constant_features_idx, UserWarning)\n",
      "/Users/foreverrefugee/opt/anaconda3/lib/python3.8/site-packages/sklearn/feature_selection/_univariate_selection.py:113: RuntimeWarning: invalid value encountered in true_divide\n",
      "  f = msb / msw\n"
     ]
    },
    {
     "name": "stdout",
     "output_type": "stream",
     "text": [
      "[CV] END classifier__bootstrap=True, classifier__max_depth=10, classifier__max_features=5, classifier__min_samples_leaf=3, classifier__min_samples_split=10, classifier__n_estimators=100; total time=   1.3s\n",
      "[CV] END classifier__bootstrap=True, classifier__max_depth=10, classifier__max_features=5, classifier__min_samples_leaf=3, classifier__min_samples_split=10, classifier__n_estimators=100; total time=   1.2s\n",
      "[CV] END classifier__bootstrap=True, classifier__max_depth=10, classifier__max_features=5, classifier__min_samples_leaf=3, classifier__min_samples_split=8, classifier__n_estimators=300; total time=   3.0s\n",
      "[CV] END classifier__bootstrap=True, classifier__max_depth=10, classifier__max_features=5, classifier__min_samples_leaf=3, classifier__min_samples_split=8, classifier__n_estimators=300; total time=   3.0s\n"
     ]
    },
    {
     "name": "stderr",
     "output_type": "stream",
     "text": [
      "/Users/foreverrefugee/opt/anaconda3/lib/python3.8/site-packages/sklearn/preprocessing/_data.py:3253: RuntimeWarning: divide by zero encountered in log\n",
      "  loglike = -n_samples / 2 * np.log(x_trans.var())\n",
      "/Users/foreverrefugee/opt/anaconda3/lib/python3.8/site-packages/sklearn/feature_selection/_univariate_selection.py:112: UserWarning: Features [0] are constant.\n",
      "  warnings.warn(\"Features %s are constant.\" % constant_features_idx, UserWarning)\n",
      "/Users/foreverrefugee/opt/anaconda3/lib/python3.8/site-packages/sklearn/feature_selection/_univariate_selection.py:113: RuntimeWarning: invalid value encountered in true_divide\n",
      "  f = msb / msw\n"
     ]
    },
    {
     "name": "stdout",
     "output_type": "stream",
     "text": [
      "[CV] END classifier__bootstrap=True, classifier__max_depth=10, classifier__max_features=5, classifier__min_samples_leaf=3, classifier__min_samples_split=10, classifier__n_estimators=200; total time=   1.7s\n",
      "[CV] END classifier__bootstrap=True, classifier__max_depth=10, classifier__max_features=5, classifier__min_samples_leaf=3, classifier__min_samples_split=10, classifier__n_estimators=200; total time=   1.7s\n"
     ]
    },
    {
     "name": "stderr",
     "output_type": "stream",
     "text": [
      "/Users/foreverrefugee/opt/anaconda3/lib/python3.8/site-packages/sklearn/preprocessing/_data.py:3253: RuntimeWarning: divide by zero encountered in log\n",
      "  loglike = -n_samples / 2 * np.log(x_trans.var())\n",
      "/Users/foreverrefugee/opt/anaconda3/lib/python3.8/site-packages/sklearn/feature_selection/_univariate_selection.py:112: UserWarning: Features [0] are constant.\n",
      "  warnings.warn(\"Features %s are constant.\" % constant_features_idx, UserWarning)\n",
      "/Users/foreverrefugee/opt/anaconda3/lib/python3.8/site-packages/sklearn/feature_selection/_univariate_selection.py:113: RuntimeWarning: invalid value encountered in true_divide\n",
      "  f = msb / msw\n"
     ]
    },
    {
     "name": "stdout",
     "output_type": "stream",
     "text": [
      "[CV] END classifier__bootstrap=True, classifier__max_depth=10, classifier__max_features=5, classifier__min_samples_leaf=3, classifier__min_samples_split=10, classifier__n_estimators=200; total time=   1.7s\n",
      "[CV] END classifier__bootstrap=True, classifier__max_depth=10, classifier__max_features=5, classifier__min_samples_leaf=3, classifier__min_samples_split=10, classifier__n_estimators=300; total time=   2.3s\n",
      "[CV] END classifier__bootstrap=True, classifier__max_depth=10, classifier__max_features=5, classifier__min_samples_leaf=3, classifier__min_samples_split=12, classifier__n_estimators=100; total time=   0.7s\n"
     ]
    },
    {
     "name": "stderr",
     "output_type": "stream",
     "text": [
      "/Users/foreverrefugee/opt/anaconda3/lib/python3.8/site-packages/sklearn/preprocessing/_data.py:3253: RuntimeWarning: divide by zero encountered in log\n",
      "  loglike = -n_samples / 2 * np.log(x_trans.var())\n",
      "/Users/foreverrefugee/opt/anaconda3/lib/python3.8/site-packages/sklearn/feature_selection/_univariate_selection.py:112: UserWarning: Features [0] are constant.\n",
      "  warnings.warn(\"Features %s are constant.\" % constant_features_idx, UserWarning)\n",
      "/Users/foreverrefugee/opt/anaconda3/lib/python3.8/site-packages/sklearn/feature_selection/_univariate_selection.py:113: RuntimeWarning: invalid value encountered in true_divide\n",
      "  f = msb / msw\n"
     ]
    },
    {
     "name": "stdout",
     "output_type": "stream",
     "text": [
      "[CV] END classifier__bootstrap=True, classifier__max_depth=10, classifier__max_features=5, classifier__min_samples_leaf=3, classifier__min_samples_split=12, classifier__n_estimators=100; total time=   0.9s\n",
      "[CV] END classifier__bootstrap=True, classifier__max_depth=10, classifier__max_features=5, classifier__min_samples_leaf=3, classifier__min_samples_split=12, classifier__n_estimators=100; total time=   1.0s\n",
      "[CV] END classifier__bootstrap=True, classifier__max_depth=10, classifier__max_features=5, classifier__min_samples_leaf=3, classifier__min_samples_split=10, classifier__n_estimators=300; total time=   2.6s\n",
      "[CV] END classifier__bootstrap=True, classifier__max_depth=10, classifier__max_features=5, classifier__min_samples_leaf=3, classifier__min_samples_split=10, classifier__n_estimators=300; total time=   2.6s\n"
     ]
    },
    {
     "name": "stderr",
     "output_type": "stream",
     "text": [
      "/Users/foreverrefugee/opt/anaconda3/lib/python3.8/site-packages/sklearn/preprocessing/_data.py:3253: RuntimeWarning: divide by zero encountered in log\n",
      "  loglike = -n_samples / 2 * np.log(x_trans.var())\n",
      "/Users/foreverrefugee/opt/anaconda3/lib/python3.8/site-packages/sklearn/feature_selection/_univariate_selection.py:112: UserWarning: Features [0] are constant.\n",
      "  warnings.warn(\"Features %s are constant.\" % constant_features_idx, UserWarning)\n",
      "/Users/foreverrefugee/opt/anaconda3/lib/python3.8/site-packages/sklearn/feature_selection/_univariate_selection.py:113: RuntimeWarning: invalid value encountered in true_divide\n",
      "  f = msb / msw\n"
     ]
    },
    {
     "name": "stdout",
     "output_type": "stream",
     "text": [
      "[CV] END classifier__bootstrap=True, classifier__max_depth=10, classifier__max_features=5, classifier__min_samples_leaf=3, classifier__min_samples_split=12, classifier__n_estimators=200; total time=   1.8s\n",
      "[CV] END classifier__bootstrap=True, classifier__max_depth=10, classifier__max_features=5, classifier__min_samples_leaf=3, classifier__min_samples_split=12, classifier__n_estimators=200; total time=   2.1s\n",
      "[CV] END classifier__bootstrap=True, classifier__max_depth=10, classifier__max_features=5, classifier__min_samples_leaf=3, classifier__min_samples_split=12, classifier__n_estimators=200; total time=   1.9s\n"
     ]
    },
    {
     "name": "stderr",
     "output_type": "stream",
     "text": [
      "/Users/foreverrefugee/opt/anaconda3/lib/python3.8/site-packages/sklearn/preprocessing/_data.py:3253: RuntimeWarning: divide by zero encountered in log\n",
      "  loglike = -n_samples / 2 * np.log(x_trans.var())\n",
      "/Users/foreverrefugee/opt/anaconda3/lib/python3.8/site-packages/sklearn/feature_selection/_univariate_selection.py:112: UserWarning: Features [0] are constant.\n",
      "  warnings.warn(\"Features %s are constant.\" % constant_features_idx, UserWarning)\n",
      "/Users/foreverrefugee/opt/anaconda3/lib/python3.8/site-packages/sklearn/feature_selection/_univariate_selection.py:113: RuntimeWarning: invalid value encountered in true_divide\n",
      "  f = msb / msw\n"
     ]
    },
    {
     "name": "stdout",
     "output_type": "stream",
     "text": [
      "[CV] END classifier__bootstrap=True, classifier__max_depth=10, classifier__max_features=5, classifier__min_samples_leaf=3, classifier__min_samples_split=12, classifier__n_estimators=300; total time=   2.9s\n",
      "[CV] END classifier__bootstrap=True, classifier__max_depth=10, classifier__max_features=5, classifier__min_samples_leaf=4, classifier__min_samples_split=8, classifier__n_estimators=100; total time=   1.1s\n"
     ]
    },
    {
     "name": "stderr",
     "output_type": "stream",
     "text": [
      "/Users/foreverrefugee/opt/anaconda3/lib/python3.8/site-packages/sklearn/preprocessing/_data.py:3253: RuntimeWarning: divide by zero encountered in log\n",
      "  loglike = -n_samples / 2 * np.log(x_trans.var())\n",
      "/Users/foreverrefugee/opt/anaconda3/lib/python3.8/site-packages/sklearn/feature_selection/_univariate_selection.py:112: UserWarning: Features [0] are constant.\n",
      "  warnings.warn(\"Features %s are constant.\" % constant_features_idx, UserWarning)\n",
      "/Users/foreverrefugee/opt/anaconda3/lib/python3.8/site-packages/sklearn/feature_selection/_univariate_selection.py:113: RuntimeWarning: invalid value encountered in true_divide\n",
      "  f = msb / msw\n"
     ]
    },
    {
     "name": "stdout",
     "output_type": "stream",
     "text": [
      "[CV] END classifier__bootstrap=True, classifier__max_depth=10, classifier__max_features=5, classifier__min_samples_leaf=4, classifier__min_samples_split=8, classifier__n_estimators=100; total time=   0.8s\n",
      "[CV] END classifier__bootstrap=True, classifier__max_depth=10, classifier__max_features=5, classifier__min_samples_leaf=4, classifier__min_samples_split=8, classifier__n_estimators=100; total time=   0.8s\n",
      "[CV] END classifier__bootstrap=True, classifier__max_depth=10, classifier__max_features=5, classifier__min_samples_leaf=3, classifier__min_samples_split=12, classifier__n_estimators=300; total time=   2.9s\n",
      "[CV] END classifier__bootstrap=True, classifier__max_depth=10, classifier__max_features=5, classifier__min_samples_leaf=3, classifier__min_samples_split=12, classifier__n_estimators=300; total time=   2.8s\n"
     ]
    },
    {
     "name": "stderr",
     "output_type": "stream",
     "text": [
      "/Users/foreverrefugee/opt/anaconda3/lib/python3.8/site-packages/sklearn/preprocessing/_data.py:3253: RuntimeWarning: divide by zero encountered in log\n",
      "  loglike = -n_samples / 2 * np.log(x_trans.var())\n",
      "/Users/foreverrefugee/opt/anaconda3/lib/python3.8/site-packages/sklearn/feature_selection/_univariate_selection.py:112: UserWarning: Features [0] are constant.\n",
      "  warnings.warn(\"Features %s are constant.\" % constant_features_idx, UserWarning)\n",
      "/Users/foreverrefugee/opt/anaconda3/lib/python3.8/site-packages/sklearn/feature_selection/_univariate_selection.py:113: RuntimeWarning: invalid value encountered in true_divide\n",
      "  f = msb / msw\n"
     ]
    },
    {
     "name": "stdout",
     "output_type": "stream",
     "text": [
      "[CV] END classifier__bootstrap=True, classifier__max_depth=10, classifier__max_features=5, classifier__min_samples_leaf=4, classifier__min_samples_split=8, classifier__n_estimators=200; total time=   2.0s\n",
      "[CV] END classifier__bootstrap=True, classifier__max_depth=10, classifier__max_features=5, classifier__min_samples_leaf=4, classifier__min_samples_split=8, classifier__n_estimators=200; total time=   2.0s\n"
     ]
    },
    {
     "name": "stderr",
     "output_type": "stream",
     "text": [
      "/Users/foreverrefugee/opt/anaconda3/lib/python3.8/site-packages/sklearn/preprocessing/_data.py:3253: RuntimeWarning: divide by zero encountered in log\n",
      "  loglike = -n_samples / 2 * np.log(x_trans.var())\n",
      "/Users/foreverrefugee/opt/anaconda3/lib/python3.8/site-packages/sklearn/feature_selection/_univariate_selection.py:112: UserWarning: Features [0] are constant.\n",
      "  warnings.warn(\"Features %s are constant.\" % constant_features_idx, UserWarning)\n",
      "/Users/foreverrefugee/opt/anaconda3/lib/python3.8/site-packages/sklearn/feature_selection/_univariate_selection.py:113: RuntimeWarning: invalid value encountered in true_divide\n",
      "  f = msb / msw\n"
     ]
    },
    {
     "name": "stdout",
     "output_type": "stream",
     "text": [
      "[CV] END classifier__bootstrap=True, classifier__max_depth=10, classifier__max_features=5, classifier__min_samples_leaf=4, classifier__min_samples_split=8, classifier__n_estimators=200; total time=   1.8s\n",
      "[CV] END classifier__bootstrap=True, classifier__max_depth=10, classifier__max_features=5, classifier__min_samples_leaf=4, classifier__min_samples_split=8, classifier__n_estimators=300; total time=   2.8s\n",
      "[CV] END classifier__bootstrap=True, classifier__max_depth=10, classifier__max_features=5, classifier__min_samples_leaf=4, classifier__min_samples_split=10, classifier__n_estimators=100; total time=   1.1s\n"
     ]
    },
    {
     "name": "stderr",
     "output_type": "stream",
     "text": [
      "/Users/foreverrefugee/opt/anaconda3/lib/python3.8/site-packages/sklearn/preprocessing/_data.py:3253: RuntimeWarning: divide by zero encountered in log\n",
      "  loglike = -n_samples / 2 * np.log(x_trans.var())\n",
      "/Users/foreverrefugee/opt/anaconda3/lib/python3.8/site-packages/sklearn/feature_selection/_univariate_selection.py:112: UserWarning: Features [0] are constant.\n",
      "  warnings.warn(\"Features %s are constant.\" % constant_features_idx, UserWarning)\n",
      "/Users/foreverrefugee/opt/anaconda3/lib/python3.8/site-packages/sklearn/feature_selection/_univariate_selection.py:113: RuntimeWarning: invalid value encountered in true_divide\n",
      "  f = msb / msw\n"
     ]
    },
    {
     "name": "stdout",
     "output_type": "stream",
     "text": [
      "[CV] END classifier__bootstrap=True, classifier__max_depth=10, classifier__max_features=5, classifier__min_samples_leaf=4, classifier__min_samples_split=10, classifier__n_estimators=100; total time=   0.9s\n",
      "[CV] END classifier__bootstrap=True, classifier__max_depth=10, classifier__max_features=5, classifier__min_samples_leaf=4, classifier__min_samples_split=10, classifier__n_estimators=100; total time=   0.9s\n",
      "[CV] END classifier__bootstrap=True, classifier__max_depth=10, classifier__max_features=5, classifier__min_samples_leaf=4, classifier__min_samples_split=8, classifier__n_estimators=300; total time=   2.6s\n"
     ]
    },
    {
     "name": "stderr",
     "output_type": "stream",
     "text": [
      "/Users/foreverrefugee/opt/anaconda3/lib/python3.8/site-packages/sklearn/preprocessing/_data.py:3253: RuntimeWarning: divide by zero encountered in log\n",
      "  loglike = -n_samples / 2 * np.log(x_trans.var())\n",
      "/Users/foreverrefugee/opt/anaconda3/lib/python3.8/site-packages/sklearn/feature_selection/_univariate_selection.py:112: UserWarning: Features [0] are constant.\n",
      "  warnings.warn(\"Features %s are constant.\" % constant_features_idx, UserWarning)\n",
      "/Users/foreverrefugee/opt/anaconda3/lib/python3.8/site-packages/sklearn/feature_selection/_univariate_selection.py:113: RuntimeWarning: invalid value encountered in true_divide\n",
      "  f = msb / msw\n"
     ]
    },
    {
     "name": "stdout",
     "output_type": "stream",
     "text": [
      "[CV] END classifier__bootstrap=True, classifier__max_depth=10, classifier__max_features=5, classifier__min_samples_leaf=4, classifier__min_samples_split=8, classifier__n_estimators=300; total time=   3.0s\n",
      "[CV] END classifier__bootstrap=True, classifier__max_depth=10, classifier__max_features=5, classifier__min_samples_leaf=4, classifier__min_samples_split=10, classifier__n_estimators=200; total time=   2.0s\n",
      "[CV] END classifier__bootstrap=True, classifier__max_depth=10, classifier__max_features=5, classifier__min_samples_leaf=4, classifier__min_samples_split=10, classifier__n_estimators=200; total time=   2.0s\n"
     ]
    },
    {
     "name": "stderr",
     "output_type": "stream",
     "text": [
      "/Users/foreverrefugee/opt/anaconda3/lib/python3.8/site-packages/sklearn/preprocessing/_data.py:3253: RuntimeWarning: divide by zero encountered in log\n",
      "  loglike = -n_samples / 2 * np.log(x_trans.var())\n",
      "/Users/foreverrefugee/opt/anaconda3/lib/python3.8/site-packages/sklearn/feature_selection/_univariate_selection.py:112: UserWarning: Features [0] are constant.\n",
      "  warnings.warn(\"Features %s are constant.\" % constant_features_idx, UserWarning)\n",
      "/Users/foreverrefugee/opt/anaconda3/lib/python3.8/site-packages/sklearn/feature_selection/_univariate_selection.py:113: RuntimeWarning: invalid value encountered in true_divide\n",
      "  f = msb / msw\n"
     ]
    },
    {
     "name": "stdout",
     "output_type": "stream",
     "text": [
      "[CV] END classifier__bootstrap=True, classifier__max_depth=10, classifier__max_features=5, classifier__min_samples_leaf=4, classifier__min_samples_split=10, classifier__n_estimators=200; total time=   2.1s\n",
      "[CV] END classifier__bootstrap=True, classifier__max_depth=10, classifier__max_features=5, classifier__min_samples_leaf=4, classifier__min_samples_split=12, classifier__n_estimators=100; total time=   1.2s\n",
      "[CV] END classifier__bootstrap=True, classifier__max_depth=10, classifier__max_features=5, classifier__min_samples_leaf=4, classifier__min_samples_split=10, classifier__n_estimators=300; total time=   3.1s\n"
     ]
    },
    {
     "name": "stderr",
     "output_type": "stream",
     "text": [
      "/Users/foreverrefugee/opt/anaconda3/lib/python3.8/site-packages/sklearn/preprocessing/_data.py:3253: RuntimeWarning: divide by zero encountered in log\n",
      "  loglike = -n_samples / 2 * np.log(x_trans.var())\n",
      "/Users/foreverrefugee/opt/anaconda3/lib/python3.8/site-packages/sklearn/feature_selection/_univariate_selection.py:112: UserWarning: Features [0] are constant.\n",
      "  warnings.warn(\"Features %s are constant.\" % constant_features_idx, UserWarning)\n",
      "/Users/foreverrefugee/opt/anaconda3/lib/python3.8/site-packages/sklearn/feature_selection/_univariate_selection.py:113: RuntimeWarning: invalid value encountered in true_divide\n",
      "  f = msb / msw\n"
     ]
    },
    {
     "name": "stdout",
     "output_type": "stream",
     "text": [
      "[CV] END classifier__bootstrap=True, classifier__max_depth=10, classifier__max_features=5, classifier__min_samples_leaf=4, classifier__min_samples_split=12, classifier__n_estimators=100; total time=   1.4s\n",
      "[CV] END classifier__bootstrap=True, classifier__max_depth=10, classifier__max_features=5, classifier__min_samples_leaf=4, classifier__min_samples_split=12, classifier__n_estimators=100; total time=   1.4s\n",
      "[CV] END classifier__bootstrap=True, classifier__max_depth=10, classifier__max_features=5, classifier__min_samples_leaf=4, classifier__min_samples_split=10, classifier__n_estimators=300; total time=   3.3s\n",
      "[CV] END classifier__bootstrap=True, classifier__max_depth=10, classifier__max_features=5, classifier__min_samples_leaf=4, classifier__min_samples_split=10, classifier__n_estimators=300; total time=   3.4s\n"
     ]
    },
    {
     "name": "stderr",
     "output_type": "stream",
     "text": [
      "/Users/foreverrefugee/opt/anaconda3/lib/python3.8/site-packages/sklearn/preprocessing/_data.py:3253: RuntimeWarning: divide by zero encountered in log\n",
      "  loglike = -n_samples / 2 * np.log(x_trans.var())\n",
      "/Users/foreverrefugee/opt/anaconda3/lib/python3.8/site-packages/sklearn/feature_selection/_univariate_selection.py:112: UserWarning: Features [0] are constant.\n",
      "  warnings.warn(\"Features %s are constant.\" % constant_features_idx, UserWarning)\n",
      "/Users/foreverrefugee/opt/anaconda3/lib/python3.8/site-packages/sklearn/feature_selection/_univariate_selection.py:113: RuntimeWarning: invalid value encountered in true_divide\n",
      "  f = msb / msw\n"
     ]
    },
    {
     "name": "stdout",
     "output_type": "stream",
     "text": [
      "[CV] END classifier__bootstrap=True, classifier__max_depth=10, classifier__max_features=5, classifier__min_samples_leaf=4, classifier__min_samples_split=12, classifier__n_estimators=200; total time=   1.8s\n",
      "[CV] END classifier__bootstrap=True, classifier__max_depth=10, classifier__max_features=5, classifier__min_samples_leaf=4, classifier__min_samples_split=12, classifier__n_estimators=200; total time=   2.0s\n"
     ]
    },
    {
     "name": "stderr",
     "output_type": "stream",
     "text": [
      "/Users/foreverrefugee/opt/anaconda3/lib/python3.8/site-packages/sklearn/preprocessing/_data.py:3253: RuntimeWarning: divide by zero encountered in log\n",
      "  loglike = -n_samples / 2 * np.log(x_trans.var())\n",
      "/Users/foreverrefugee/opt/anaconda3/lib/python3.8/site-packages/sklearn/feature_selection/_univariate_selection.py:112: UserWarning: Features [0] are constant.\n",
      "  warnings.warn(\"Features %s are constant.\" % constant_features_idx, UserWarning)\n",
      "/Users/foreverrefugee/opt/anaconda3/lib/python3.8/site-packages/sklearn/feature_selection/_univariate_selection.py:113: RuntimeWarning: invalid value encountered in true_divide\n",
      "  f = msb / msw\n"
     ]
    },
    {
     "name": "stdout",
     "output_type": "stream",
     "text": [
      "[CV] END classifier__bootstrap=True, classifier__max_depth=10, classifier__max_features=5, classifier__min_samples_leaf=4, classifier__min_samples_split=12, classifier__n_estimators=200; total time=   2.1s\n",
      "[CV] END classifier__bootstrap=True, classifier__max_depth=10, classifier__max_features=5, classifier__min_samples_leaf=4, classifier__min_samples_split=12, classifier__n_estimators=300; total time=   2.9s\n",
      "[CV] END classifier__bootstrap=True, classifier__max_depth=10, classifier__max_features=5, classifier__min_samples_leaf=5, classifier__min_samples_split=8, classifier__n_estimators=100; total time=   1.0s\n"
     ]
    },
    {
     "name": "stderr",
     "output_type": "stream",
     "text": [
      "/Users/foreverrefugee/opt/anaconda3/lib/python3.8/site-packages/sklearn/preprocessing/_data.py:3253: RuntimeWarning: divide by zero encountered in log\n",
      "  loglike = -n_samples / 2 * np.log(x_trans.var())\n",
      "/Users/foreverrefugee/opt/anaconda3/lib/python3.8/site-packages/sklearn/feature_selection/_univariate_selection.py:112: UserWarning: Features [0] are constant.\n",
      "  warnings.warn(\"Features %s are constant.\" % constant_features_idx, UserWarning)\n",
      "/Users/foreverrefugee/opt/anaconda3/lib/python3.8/site-packages/sklearn/feature_selection/_univariate_selection.py:113: RuntimeWarning: invalid value encountered in true_divide\n",
      "  f = msb / msw\n"
     ]
    },
    {
     "name": "stdout",
     "output_type": "stream",
     "text": [
      "[CV] END classifier__bootstrap=True, classifier__max_depth=10, classifier__max_features=5, classifier__min_samples_leaf=5, classifier__min_samples_split=8, classifier__n_estimators=100; total time=   1.0s\n",
      "[CV] END classifier__bootstrap=True, classifier__max_depth=10, classifier__max_features=5, classifier__min_samples_leaf=5, classifier__min_samples_split=8, classifier__n_estimators=100; total time=   1.0s\n",
      "[CV] END classifier__bootstrap=True, classifier__max_depth=10, classifier__max_features=5, classifier__min_samples_leaf=4, classifier__min_samples_split=12, classifier__n_estimators=300; total time=   3.0s\n",
      "[CV] END classifier__bootstrap=True, classifier__max_depth=10, classifier__max_features=5, classifier__min_samples_leaf=4, classifier__min_samples_split=12, classifier__n_estimators=300; total time=   2.9s\n"
     ]
    },
    {
     "name": "stderr",
     "output_type": "stream",
     "text": [
      "/Users/foreverrefugee/opt/anaconda3/lib/python3.8/site-packages/sklearn/preprocessing/_data.py:3253: RuntimeWarning: divide by zero encountered in log\n",
      "  loglike = -n_samples / 2 * np.log(x_trans.var())\n",
      "/Users/foreverrefugee/opt/anaconda3/lib/python3.8/site-packages/sklearn/feature_selection/_univariate_selection.py:112: UserWarning: Features [0] are constant.\n",
      "  warnings.warn(\"Features %s are constant.\" % constant_features_idx, UserWarning)\n",
      "/Users/foreverrefugee/opt/anaconda3/lib/python3.8/site-packages/sklearn/feature_selection/_univariate_selection.py:113: RuntimeWarning: invalid value encountered in true_divide\n",
      "  f = msb / msw\n"
     ]
    },
    {
     "name": "stdout",
     "output_type": "stream",
     "text": [
      "[CV] END classifier__bootstrap=True, classifier__max_depth=10, classifier__max_features=5, classifier__min_samples_leaf=5, classifier__min_samples_split=8, classifier__n_estimators=200; total time=   1.9s\n",
      "[CV] END classifier__bootstrap=True, classifier__max_depth=10, classifier__max_features=5, classifier__min_samples_leaf=5, classifier__min_samples_split=8, classifier__n_estimators=200; total time=   2.0s\n"
     ]
    },
    {
     "name": "stderr",
     "output_type": "stream",
     "text": [
      "/Users/foreverrefugee/opt/anaconda3/lib/python3.8/site-packages/sklearn/preprocessing/_data.py:3253: RuntimeWarning: divide by zero encountered in log\n",
      "  loglike = -n_samples / 2 * np.log(x_trans.var())\n",
      "/Users/foreverrefugee/opt/anaconda3/lib/python3.8/site-packages/sklearn/feature_selection/_univariate_selection.py:112: UserWarning: Features [0] are constant.\n",
      "  warnings.warn(\"Features %s are constant.\" % constant_features_idx, UserWarning)\n",
      "/Users/foreverrefugee/opt/anaconda3/lib/python3.8/site-packages/sklearn/feature_selection/_univariate_selection.py:113: RuntimeWarning: invalid value encountered in true_divide\n",
      "  f = msb / msw\n"
     ]
    },
    {
     "name": "stdout",
     "output_type": "stream",
     "text": [
      "[CV] END classifier__bootstrap=True, classifier__max_depth=10, classifier__max_features=5, classifier__min_samples_leaf=5, classifier__min_samples_split=8, classifier__n_estimators=200; total time=   2.0s\n",
      "[CV] END classifier__bootstrap=True, classifier__max_depth=10, classifier__max_features=5, classifier__min_samples_leaf=5, classifier__min_samples_split=8, classifier__n_estimators=300; total time=   2.6s\n",
      "[CV] END classifier__bootstrap=True, classifier__max_depth=10, classifier__max_features=5, classifier__min_samples_leaf=5, classifier__min_samples_split=10, classifier__n_estimators=100; total time=   0.9s\n"
     ]
    },
    {
     "name": "stderr",
     "output_type": "stream",
     "text": [
      "/Users/foreverrefugee/opt/anaconda3/lib/python3.8/site-packages/sklearn/preprocessing/_data.py:3253: RuntimeWarning: divide by zero encountered in log\n",
      "  loglike = -n_samples / 2 * np.log(x_trans.var())\n",
      "/Users/foreverrefugee/opt/anaconda3/lib/python3.8/site-packages/sklearn/feature_selection/_univariate_selection.py:112: UserWarning: Features [0] are constant.\n",
      "  warnings.warn(\"Features %s are constant.\" % constant_features_idx, UserWarning)\n",
      "/Users/foreverrefugee/opt/anaconda3/lib/python3.8/site-packages/sklearn/feature_selection/_univariate_selection.py:113: RuntimeWarning: invalid value encountered in true_divide\n",
      "  f = msb / msw\n"
     ]
    },
    {
     "name": "stdout",
     "output_type": "stream",
     "text": [
      "[CV] END classifier__bootstrap=True, classifier__max_depth=10, classifier__max_features=5, classifier__min_samples_leaf=5, classifier__min_samples_split=10, classifier__n_estimators=100; total time=   0.9s\n",
      "[CV] END classifier__bootstrap=True, classifier__max_depth=10, classifier__max_features=5, classifier__min_samples_leaf=5, classifier__min_samples_split=10, classifier__n_estimators=100; total time=   0.9s\n",
      "[CV] END classifier__bootstrap=True, classifier__max_depth=10, classifier__max_features=5, classifier__min_samples_leaf=5, classifier__min_samples_split=8, classifier__n_estimators=300; total time=   2.5s\n",
      "[CV] END classifier__bootstrap=True, classifier__max_depth=10, classifier__max_features=5, classifier__min_samples_leaf=5, classifier__min_samples_split=8, classifier__n_estimators=300; total time=   2.7s\n"
     ]
    },
    {
     "name": "stderr",
     "output_type": "stream",
     "text": [
      "/Users/foreverrefugee/opt/anaconda3/lib/python3.8/site-packages/sklearn/preprocessing/_data.py:3253: RuntimeWarning: divide by zero encountered in log\n",
      "  loglike = -n_samples / 2 * np.log(x_trans.var())\n",
      "/Users/foreverrefugee/opt/anaconda3/lib/python3.8/site-packages/sklearn/feature_selection/_univariate_selection.py:112: UserWarning: Features [0] are constant.\n",
      "  warnings.warn(\"Features %s are constant.\" % constant_features_idx, UserWarning)\n",
      "/Users/foreverrefugee/opt/anaconda3/lib/python3.8/site-packages/sklearn/feature_selection/_univariate_selection.py:113: RuntimeWarning: invalid value encountered in true_divide\n",
      "  f = msb / msw\n"
     ]
    },
    {
     "name": "stdout",
     "output_type": "stream",
     "text": [
      "[CV] END classifier__bootstrap=True, classifier__max_depth=10, classifier__max_features=5, classifier__min_samples_leaf=5, classifier__min_samples_split=10, classifier__n_estimators=200; total time=   1.9s\n",
      "[CV] END classifier__bootstrap=True, classifier__max_depth=10, classifier__max_features=5, classifier__min_samples_leaf=5, classifier__min_samples_split=10, classifier__n_estimators=200; total time=   1.9s\n"
     ]
    },
    {
     "name": "stderr",
     "output_type": "stream",
     "text": [
      "/Users/foreverrefugee/opt/anaconda3/lib/python3.8/site-packages/sklearn/preprocessing/_data.py:3253: RuntimeWarning: divide by zero encountered in log\n",
      "  loglike = -n_samples / 2 * np.log(x_trans.var())\n",
      "/Users/foreverrefugee/opt/anaconda3/lib/python3.8/site-packages/sklearn/feature_selection/_univariate_selection.py:112: UserWarning: Features [0] are constant.\n",
      "  warnings.warn(\"Features %s are constant.\" % constant_features_idx, UserWarning)\n",
      "/Users/foreverrefugee/opt/anaconda3/lib/python3.8/site-packages/sklearn/feature_selection/_univariate_selection.py:113: RuntimeWarning: invalid value encountered in true_divide\n",
      "  f = msb / msw\n"
     ]
    },
    {
     "name": "stdout",
     "output_type": "stream",
     "text": [
      "[CV] END classifier__bootstrap=True, classifier__max_depth=10, classifier__max_features=5, classifier__min_samples_leaf=5, classifier__min_samples_split=10, classifier__n_estimators=200; total time=   1.9s\n",
      "[CV] END classifier__bootstrap=True, classifier__max_depth=10, classifier__max_features=5, classifier__min_samples_leaf=5, classifier__min_samples_split=10, classifier__n_estimators=300; total time=   2.7s\n",
      "[CV] END classifier__bootstrap=True, classifier__max_depth=10, classifier__max_features=5, classifier__min_samples_leaf=5, classifier__min_samples_split=12, classifier__n_estimators=100; total time=   1.0s\n"
     ]
    },
    {
     "name": "stderr",
     "output_type": "stream",
     "text": [
      "/Users/foreverrefugee/opt/anaconda3/lib/python3.8/site-packages/sklearn/preprocessing/_data.py:3253: RuntimeWarning: divide by zero encountered in log\n",
      "  loglike = -n_samples / 2 * np.log(x_trans.var())\n",
      "/Users/foreverrefugee/opt/anaconda3/lib/python3.8/site-packages/sklearn/feature_selection/_univariate_selection.py:112: UserWarning: Features [0] are constant.\n",
      "  warnings.warn(\"Features %s are constant.\" % constant_features_idx, UserWarning)\n",
      "/Users/foreverrefugee/opt/anaconda3/lib/python3.8/site-packages/sklearn/feature_selection/_univariate_selection.py:113: RuntimeWarning: invalid value encountered in true_divide\n",
      "  f = msb / msw\n"
     ]
    },
    {
     "name": "stdout",
     "output_type": "stream",
     "text": [
      "[CV] END classifier__bootstrap=True, classifier__max_depth=10, classifier__max_features=5, classifier__min_samples_leaf=5, classifier__min_samples_split=12, classifier__n_estimators=100; total time=   1.9s\n",
      "[CV] END classifier__bootstrap=True, classifier__max_depth=10, classifier__max_features=5, classifier__min_samples_leaf=5, classifier__min_samples_split=12, classifier__n_estimators=100; total time=   1.8s\n",
      "[CV] END classifier__bootstrap=True, classifier__max_depth=10, classifier__max_features=5, classifier__min_samples_leaf=5, classifier__min_samples_split=10, classifier__n_estimators=300; total time=   3.7s\n"
     ]
    },
    {
     "name": "stderr",
     "output_type": "stream",
     "text": [
      "/Users/foreverrefugee/opt/anaconda3/lib/python3.8/site-packages/sklearn/preprocessing/_data.py:3253: RuntimeWarning: divide by zero encountered in log\n",
      "  loglike = -n_samples / 2 * np.log(x_trans.var())\n",
      "/Users/foreverrefugee/opt/anaconda3/lib/python3.8/site-packages/sklearn/feature_selection/_univariate_selection.py:112: UserWarning: Features [0] are constant.\n",
      "  warnings.warn(\"Features %s are constant.\" % constant_features_idx, UserWarning)\n",
      "/Users/foreverrefugee/opt/anaconda3/lib/python3.8/site-packages/sklearn/feature_selection/_univariate_selection.py:113: RuntimeWarning: invalid value encountered in true_divide\n",
      "  f = msb / msw\n"
     ]
    },
    {
     "name": "stdout",
     "output_type": "stream",
     "text": [
      "[CV] END classifier__bootstrap=True, classifier__max_depth=10, classifier__max_features=5, classifier__min_samples_leaf=5, classifier__min_samples_split=10, classifier__n_estimators=300; total time=   4.1s\n",
      "[CV] END classifier__bootstrap=True, classifier__max_depth=10, classifier__max_features=5, classifier__min_samples_leaf=5, classifier__min_samples_split=12, classifier__n_estimators=200; total time=   3.0s\n",
      "[CV] END classifier__bootstrap=True, classifier__max_depth=10, classifier__max_features=5, classifier__min_samples_leaf=5, classifier__min_samples_split=12, classifier__n_estimators=200; total time=   3.1s\n"
     ]
    },
    {
     "name": "stderr",
     "output_type": "stream",
     "text": [
      "/Users/foreverrefugee/opt/anaconda3/lib/python3.8/site-packages/sklearn/preprocessing/_data.py:3253: RuntimeWarning: divide by zero encountered in log\n",
      "  loglike = -n_samples / 2 * np.log(x_trans.var())\n",
      "/Users/foreverrefugee/opt/anaconda3/lib/python3.8/site-packages/sklearn/feature_selection/_univariate_selection.py:112: UserWarning: Features [0] are constant.\n",
      "  warnings.warn(\"Features %s are constant.\" % constant_features_idx, UserWarning)\n",
      "/Users/foreverrefugee/opt/anaconda3/lib/python3.8/site-packages/sklearn/feature_selection/_univariate_selection.py:113: RuntimeWarning: invalid value encountered in true_divide\n",
      "  f = msb / msw\n"
     ]
    },
    {
     "name": "stdout",
     "output_type": "stream",
     "text": [
      "[CV] END classifier__bootstrap=True, classifier__max_depth=10, classifier__max_features=5, classifier__min_samples_leaf=5, classifier__min_samples_split=12, classifier__n_estimators=200; total time=   3.1s\n",
      "[CV] END classifier__bootstrap=True, classifier__max_depth=20, classifier__max_features=3, classifier__min_samples_leaf=3, classifier__min_samples_split=8, classifier__n_estimators=100; total time=   0.7s\n",
      "[CV] END classifier__bootstrap=True, classifier__max_depth=10, classifier__max_features=5, classifier__min_samples_leaf=5, classifier__min_samples_split=12, classifier__n_estimators=300; total time=   3.5s\n"
     ]
    },
    {
     "name": "stderr",
     "output_type": "stream",
     "text": [
      "/Users/foreverrefugee/opt/anaconda3/lib/python3.8/site-packages/sklearn/preprocessing/_data.py:3253: RuntimeWarning: divide by zero encountered in log\n",
      "  loglike = -n_samples / 2 * np.log(x_trans.var())\n",
      "/Users/foreverrefugee/opt/anaconda3/lib/python3.8/site-packages/sklearn/feature_selection/_univariate_selection.py:112: UserWarning: Features [0] are constant.\n",
      "  warnings.warn(\"Features %s are constant.\" % constant_features_idx, UserWarning)\n",
      "/Users/foreverrefugee/opt/anaconda3/lib/python3.8/site-packages/sklearn/feature_selection/_univariate_selection.py:113: RuntimeWarning: invalid value encountered in true_divide\n",
      "  f = msb / msw\n"
     ]
    },
    {
     "name": "stdout",
     "output_type": "stream",
     "text": [
      "[CV] END classifier__bootstrap=True, classifier__max_depth=20, classifier__max_features=3, classifier__min_samples_leaf=3, classifier__min_samples_split=8, classifier__n_estimators=100; total time=   0.9s\n",
      "[CV] END classifier__bootstrap=True, classifier__max_depth=20, classifier__max_features=3, classifier__min_samples_leaf=3, classifier__min_samples_split=8, classifier__n_estimators=100; total time=   1.1s\n",
      "[CV] END classifier__bootstrap=True, classifier__max_depth=10, classifier__max_features=5, classifier__min_samples_leaf=5, classifier__min_samples_split=12, classifier__n_estimators=300; total time=   2.6s\n"
     ]
    },
    {
     "name": "stderr",
     "output_type": "stream",
     "text": [
      "/Users/foreverrefugee/opt/anaconda3/lib/python3.8/site-packages/sklearn/preprocessing/_data.py:3253: RuntimeWarning: divide by zero encountered in log\n",
      "  loglike = -n_samples / 2 * np.log(x_trans.var())\n",
      "/Users/foreverrefugee/opt/anaconda3/lib/python3.8/site-packages/sklearn/feature_selection/_univariate_selection.py:112: UserWarning: Features [0] are constant.\n",
      "  warnings.warn(\"Features %s are constant.\" % constant_features_idx, UserWarning)\n",
      "/Users/foreverrefugee/opt/anaconda3/lib/python3.8/site-packages/sklearn/feature_selection/_univariate_selection.py:113: RuntimeWarning: invalid value encountered in true_divide\n",
      "  f = msb / msw\n"
     ]
    },
    {
     "name": "stdout",
     "output_type": "stream",
     "text": [
      "[CV] END classifier__bootstrap=True, classifier__max_depth=10, classifier__max_features=5, classifier__min_samples_leaf=5, classifier__min_samples_split=12, classifier__n_estimators=300; total time=   2.5s\n",
      "[CV] END classifier__bootstrap=True, classifier__max_depth=20, classifier__max_features=3, classifier__min_samples_leaf=3, classifier__min_samples_split=8, classifier__n_estimators=200; total time=   1.8s\n",
      "[CV] END classifier__bootstrap=True, classifier__max_depth=20, classifier__max_features=3, classifier__min_samples_leaf=3, classifier__min_samples_split=8, classifier__n_estimators=200; total time=   1.7s\n",
      "[CV] END classifier__bootstrap=True, classifier__max_depth=20, classifier__max_features=3, classifier__min_samples_leaf=3, classifier__min_samples_split=8, classifier__n_estimators=200; total time=   1.7s\n"
     ]
    },
    {
     "name": "stderr",
     "output_type": "stream",
     "text": [
      "/Users/foreverrefugee/opt/anaconda3/lib/python3.8/site-packages/sklearn/preprocessing/_data.py:3253: RuntimeWarning: divide by zero encountered in log\n",
      "  loglike = -n_samples / 2 * np.log(x_trans.var())\n",
      "/Users/foreverrefugee/opt/anaconda3/lib/python3.8/site-packages/sklearn/feature_selection/_univariate_selection.py:112: UserWarning: Features [0] are constant.\n",
      "  warnings.warn(\"Features %s are constant.\" % constant_features_idx, UserWarning)\n",
      "/Users/foreverrefugee/opt/anaconda3/lib/python3.8/site-packages/sklearn/feature_selection/_univariate_selection.py:113: RuntimeWarning: invalid value encountered in true_divide\n",
      "  f = msb / msw\n"
     ]
    },
    {
     "name": "stdout",
     "output_type": "stream",
     "text": [
      "[CV] END classifier__bootstrap=True, classifier__max_depth=20, classifier__max_features=3, classifier__min_samples_leaf=3, classifier__min_samples_split=10, classifier__n_estimators=100; total time=   1.2s\n",
      "[CV] END classifier__bootstrap=True, classifier__max_depth=20, classifier__max_features=3, classifier__min_samples_leaf=3, classifier__min_samples_split=8, classifier__n_estimators=300; total time=   2.8s\n"
     ]
    },
    {
     "name": "stderr",
     "output_type": "stream",
     "text": [
      "/Users/foreverrefugee/opt/anaconda3/lib/python3.8/site-packages/sklearn/preprocessing/_data.py:3253: RuntimeWarning: divide by zero encountered in log\n",
      "  loglike = -n_samples / 2 * np.log(x_trans.var())\n",
      "/Users/foreverrefugee/opt/anaconda3/lib/python3.8/site-packages/sklearn/feature_selection/_univariate_selection.py:112: UserWarning: Features [0] are constant.\n",
      "  warnings.warn(\"Features %s are constant.\" % constant_features_idx, UserWarning)\n",
      "/Users/foreverrefugee/opt/anaconda3/lib/python3.8/site-packages/sklearn/feature_selection/_univariate_selection.py:113: RuntimeWarning: invalid value encountered in true_divide\n",
      "  f = msb / msw\n"
     ]
    },
    {
     "name": "stdout",
     "output_type": "stream",
     "text": [
      "[CV] END classifier__bootstrap=True, classifier__max_depth=20, classifier__max_features=3, classifier__min_samples_leaf=3, classifier__min_samples_split=10, classifier__n_estimators=100; total time=   1.0s\n",
      "[CV] END classifier__bootstrap=True, classifier__max_depth=20, classifier__max_features=3, classifier__min_samples_leaf=3, classifier__min_samples_split=10, classifier__n_estimators=100; total time=   1.1s\n",
      "[CV] END classifier__bootstrap=True, classifier__max_depth=20, classifier__max_features=3, classifier__min_samples_leaf=3, classifier__min_samples_split=8, classifier__n_estimators=300; total time=   3.1s\n",
      "[CV] END classifier__bootstrap=True, classifier__max_depth=20, classifier__max_features=3, classifier__min_samples_leaf=3, classifier__min_samples_split=8, classifier__n_estimators=300; total time=   3.0s\n"
     ]
    },
    {
     "name": "stderr",
     "output_type": "stream",
     "text": [
      "/Users/foreverrefugee/opt/anaconda3/lib/python3.8/site-packages/sklearn/preprocessing/_data.py:3253: RuntimeWarning: divide by zero encountered in log\n",
      "  loglike = -n_samples / 2 * np.log(x_trans.var())\n",
      "/Users/foreverrefugee/opt/anaconda3/lib/python3.8/site-packages/sklearn/feature_selection/_univariate_selection.py:112: UserWarning: Features [0] are constant.\n",
      "  warnings.warn(\"Features %s are constant.\" % constant_features_idx, UserWarning)\n",
      "/Users/foreverrefugee/opt/anaconda3/lib/python3.8/site-packages/sklearn/feature_selection/_univariate_selection.py:113: RuntimeWarning: invalid value encountered in true_divide\n",
      "  f = msb / msw\n"
     ]
    },
    {
     "name": "stdout",
     "output_type": "stream",
     "text": [
      "[CV] END classifier__bootstrap=True, classifier__max_depth=20, classifier__max_features=3, classifier__min_samples_leaf=3, classifier__min_samples_split=10, classifier__n_estimators=200; total time=   1.6s\n",
      "[CV] END classifier__bootstrap=True, classifier__max_depth=20, classifier__max_features=3, classifier__min_samples_leaf=3, classifier__min_samples_split=10, classifier__n_estimators=200; total time=   1.7s\n"
     ]
    },
    {
     "name": "stderr",
     "output_type": "stream",
     "text": [
      "/Users/foreverrefugee/opt/anaconda3/lib/python3.8/site-packages/sklearn/preprocessing/_data.py:3253: RuntimeWarning: divide by zero encountered in log\n",
      "  loglike = -n_samples / 2 * np.log(x_trans.var())\n",
      "/Users/foreverrefugee/opt/anaconda3/lib/python3.8/site-packages/sklearn/feature_selection/_univariate_selection.py:112: UserWarning: Features [0] are constant.\n",
      "  warnings.warn(\"Features %s are constant.\" % constant_features_idx, UserWarning)\n",
      "/Users/foreverrefugee/opt/anaconda3/lib/python3.8/site-packages/sklearn/feature_selection/_univariate_selection.py:113: RuntimeWarning: invalid value encountered in true_divide\n",
      "  f = msb / msw\n"
     ]
    },
    {
     "name": "stdout",
     "output_type": "stream",
     "text": [
      "[CV] END classifier__bootstrap=True, classifier__max_depth=20, classifier__max_features=3, classifier__min_samples_leaf=3, classifier__min_samples_split=10, classifier__n_estimators=200; total time=   1.8s\n",
      "[CV] END classifier__bootstrap=True, classifier__max_depth=20, classifier__max_features=3, classifier__min_samples_leaf=3, classifier__min_samples_split=10, classifier__n_estimators=300; total time=   2.6s\n",
      "[CV] END classifier__bootstrap=True, classifier__max_depth=20, classifier__max_features=3, classifier__min_samples_leaf=3, classifier__min_samples_split=12, classifier__n_estimators=100; total time=   0.9s\n"
     ]
    },
    {
     "name": "stderr",
     "output_type": "stream",
     "text": [
      "/Users/foreverrefugee/opt/anaconda3/lib/python3.8/site-packages/sklearn/preprocessing/_data.py:3253: RuntimeWarning: divide by zero encountered in log\n",
      "  loglike = -n_samples / 2 * np.log(x_trans.var())\n",
      "/Users/foreverrefugee/opt/anaconda3/lib/python3.8/site-packages/sklearn/feature_selection/_univariate_selection.py:112: UserWarning: Features [0] are constant.\n",
      "  warnings.warn(\"Features %s are constant.\" % constant_features_idx, UserWarning)\n",
      "/Users/foreverrefugee/opt/anaconda3/lib/python3.8/site-packages/sklearn/feature_selection/_univariate_selection.py:113: RuntimeWarning: invalid value encountered in true_divide\n",
      "  f = msb / msw\n"
     ]
    },
    {
     "name": "stdout",
     "output_type": "stream",
     "text": [
      "[CV] END classifier__bootstrap=True, classifier__max_depth=20, classifier__max_features=3, classifier__min_samples_leaf=3, classifier__min_samples_split=12, classifier__n_estimators=100; total time=   1.0s\n",
      "[CV] END classifier__bootstrap=True, classifier__max_depth=20, classifier__max_features=3, classifier__min_samples_leaf=3, classifier__min_samples_split=12, classifier__n_estimators=100; total time=   1.0s\n",
      "[CV] END classifier__bootstrap=True, classifier__max_depth=20, classifier__max_features=3, classifier__min_samples_leaf=3, classifier__min_samples_split=10, classifier__n_estimators=300; total time=   2.7s\n",
      "[CV] END classifier__bootstrap=True, classifier__max_depth=20, classifier__max_features=3, classifier__min_samples_leaf=3, classifier__min_samples_split=10, classifier__n_estimators=300; total time=   2.8s\n"
     ]
    },
    {
     "name": "stderr",
     "output_type": "stream",
     "text": [
      "/Users/foreverrefugee/opt/anaconda3/lib/python3.8/site-packages/sklearn/preprocessing/_data.py:3253: RuntimeWarning: divide by zero encountered in log\n",
      "  loglike = -n_samples / 2 * np.log(x_trans.var())\n",
      "/Users/foreverrefugee/opt/anaconda3/lib/python3.8/site-packages/sklearn/feature_selection/_univariate_selection.py:112: UserWarning: Features [0] are constant.\n",
      "  warnings.warn(\"Features %s are constant.\" % constant_features_idx, UserWarning)\n",
      "/Users/foreverrefugee/opt/anaconda3/lib/python3.8/site-packages/sklearn/feature_selection/_univariate_selection.py:113: RuntimeWarning: invalid value encountered in true_divide\n",
      "  f = msb / msw\n"
     ]
    },
    {
     "name": "stdout",
     "output_type": "stream",
     "text": [
      "[CV] END classifier__bootstrap=True, classifier__max_depth=20, classifier__max_features=3, classifier__min_samples_leaf=3, classifier__min_samples_split=12, classifier__n_estimators=200; total time=   1.8s\n",
      "[CV] END classifier__bootstrap=True, classifier__max_depth=20, classifier__max_features=3, classifier__min_samples_leaf=3, classifier__min_samples_split=12, classifier__n_estimators=200; total time=   1.8s\n"
     ]
    },
    {
     "name": "stderr",
     "output_type": "stream",
     "text": [
      "/Users/foreverrefugee/opt/anaconda3/lib/python3.8/site-packages/sklearn/preprocessing/_data.py:3253: RuntimeWarning: divide by zero encountered in log\n",
      "  loglike = -n_samples / 2 * np.log(x_trans.var())\n",
      "/Users/foreverrefugee/opt/anaconda3/lib/python3.8/site-packages/sklearn/feature_selection/_univariate_selection.py:112: UserWarning: Features [0] are constant.\n",
      "  warnings.warn(\"Features %s are constant.\" % constant_features_idx, UserWarning)\n",
      "/Users/foreverrefugee/opt/anaconda3/lib/python3.8/site-packages/sklearn/feature_selection/_univariate_selection.py:113: RuntimeWarning: invalid value encountered in true_divide\n",
      "  f = msb / msw\n"
     ]
    },
    {
     "name": "stdout",
     "output_type": "stream",
     "text": [
      "[CV] END classifier__bootstrap=True, classifier__max_depth=20, classifier__max_features=3, classifier__min_samples_leaf=3, classifier__min_samples_split=12, classifier__n_estimators=200; total time=   1.8s\n",
      "[CV] END classifier__bootstrap=True, classifier__max_depth=20, classifier__max_features=3, classifier__min_samples_leaf=3, classifier__min_samples_split=12, classifier__n_estimators=300; total time=   3.9s\n",
      "[CV] END classifier__bootstrap=True, classifier__max_depth=20, classifier__max_features=3, classifier__min_samples_leaf=4, classifier__min_samples_split=8, classifier__n_estimators=100; total time=   2.7s\n"
     ]
    },
    {
     "name": "stderr",
     "output_type": "stream",
     "text": [
      "/Users/foreverrefugee/opt/anaconda3/lib/python3.8/site-packages/sklearn/preprocessing/_data.py:3253: RuntimeWarning: divide by zero encountered in log\n",
      "  loglike = -n_samples / 2 * np.log(x_trans.var())\n",
      "/Users/foreverrefugee/opt/anaconda3/lib/python3.8/site-packages/sklearn/feature_selection/_univariate_selection.py:112: UserWarning: Features [0] are constant.\n",
      "  warnings.warn(\"Features %s are constant.\" % constant_features_idx, UserWarning)\n",
      "/Users/foreverrefugee/opt/anaconda3/lib/python3.8/site-packages/sklearn/feature_selection/_univariate_selection.py:113: RuntimeWarning: invalid value encountered in true_divide\n",
      "  f = msb / msw\n"
     ]
    },
    {
     "name": "stdout",
     "output_type": "stream",
     "text": [
      "[CV] END classifier__bootstrap=True, classifier__max_depth=20, classifier__max_features=3, classifier__min_samples_leaf=4, classifier__min_samples_split=8, classifier__n_estimators=100; total time=   2.1s\n",
      "[CV] END classifier__bootstrap=True, classifier__max_depth=20, classifier__max_features=3, classifier__min_samples_leaf=4, classifier__min_samples_split=8, classifier__n_estimators=100; total time=   1.8s\n",
      "[CV] END classifier__bootstrap=True, classifier__max_depth=20, classifier__max_features=3, classifier__min_samples_leaf=3, classifier__min_samples_split=12, classifier__n_estimators=300; total time=   5.0s\n",
      "[CV] END classifier__bootstrap=True, classifier__max_depth=20, classifier__max_features=3, classifier__min_samples_leaf=3, classifier__min_samples_split=12, classifier__n_estimators=300; total time=   5.1s\n"
     ]
    },
    {
     "name": "stderr",
     "output_type": "stream",
     "text": [
      "/Users/foreverrefugee/opt/anaconda3/lib/python3.8/site-packages/sklearn/preprocessing/_data.py:3253: RuntimeWarning: divide by zero encountered in log\n",
      "  loglike = -n_samples / 2 * np.log(x_trans.var())\n",
      "/Users/foreverrefugee/opt/anaconda3/lib/python3.8/site-packages/sklearn/feature_selection/_univariate_selection.py:112: UserWarning: Features [0] are constant.\n",
      "  warnings.warn(\"Features %s are constant.\" % constant_features_idx, UserWarning)\n",
      "/Users/foreverrefugee/opt/anaconda3/lib/python3.8/site-packages/sklearn/feature_selection/_univariate_selection.py:113: RuntimeWarning: invalid value encountered in true_divide\n",
      "  f = msb / msw\n"
     ]
    },
    {
     "name": "stdout",
     "output_type": "stream",
     "text": [
      "[CV] END classifier__bootstrap=True, classifier__max_depth=20, classifier__max_features=3, classifier__min_samples_leaf=4, classifier__min_samples_split=8, classifier__n_estimators=200; total time=   1.9s\n",
      "[CV] END classifier__bootstrap=True, classifier__max_depth=20, classifier__max_features=3, classifier__min_samples_leaf=4, classifier__min_samples_split=8, classifier__n_estimators=200; total time=   1.8s\n"
     ]
    },
    {
     "name": "stderr",
     "output_type": "stream",
     "text": [
      "/Users/foreverrefugee/opt/anaconda3/lib/python3.8/site-packages/sklearn/preprocessing/_data.py:3253: RuntimeWarning: divide by zero encountered in log\n",
      "  loglike = -n_samples / 2 * np.log(x_trans.var())\n",
      "/Users/foreverrefugee/opt/anaconda3/lib/python3.8/site-packages/sklearn/feature_selection/_univariate_selection.py:112: UserWarning: Features [0] are constant.\n",
      "  warnings.warn(\"Features %s are constant.\" % constant_features_idx, UserWarning)\n",
      "/Users/foreverrefugee/opt/anaconda3/lib/python3.8/site-packages/sklearn/feature_selection/_univariate_selection.py:113: RuntimeWarning: invalid value encountered in true_divide\n",
      "  f = msb / msw\n"
     ]
    },
    {
     "name": "stdout",
     "output_type": "stream",
     "text": [
      "[CV] END classifier__bootstrap=True, classifier__max_depth=20, classifier__max_features=3, classifier__min_samples_leaf=4, classifier__min_samples_split=8, classifier__n_estimators=200; total time=   1.9s\n",
      "[CV] END classifier__bootstrap=True, classifier__max_depth=20, classifier__max_features=3, classifier__min_samples_leaf=4, classifier__min_samples_split=8, classifier__n_estimators=300; total time=   2.6s\n",
      "[CV] END classifier__bootstrap=True, classifier__max_depth=20, classifier__max_features=3, classifier__min_samples_leaf=4, classifier__min_samples_split=10, classifier__n_estimators=100; total time=   0.9s\n"
     ]
    },
    {
     "name": "stderr",
     "output_type": "stream",
     "text": [
      "/Users/foreverrefugee/opt/anaconda3/lib/python3.8/site-packages/sklearn/preprocessing/_data.py:3253: RuntimeWarning: divide by zero encountered in log\n",
      "  loglike = -n_samples / 2 * np.log(x_trans.var())\n",
      "/Users/foreverrefugee/opt/anaconda3/lib/python3.8/site-packages/sklearn/feature_selection/_univariate_selection.py:112: UserWarning: Features [0] are constant.\n",
      "  warnings.warn(\"Features %s are constant.\" % constant_features_idx, UserWarning)\n",
      "/Users/foreverrefugee/opt/anaconda3/lib/python3.8/site-packages/sklearn/feature_selection/_univariate_selection.py:113: RuntimeWarning: invalid value encountered in true_divide\n",
      "  f = msb / msw\n"
     ]
    },
    {
     "name": "stdout",
     "output_type": "stream",
     "text": [
      "[CV] END classifier__bootstrap=True, classifier__max_depth=20, classifier__max_features=3, classifier__min_samples_leaf=4, classifier__min_samples_split=10, classifier__n_estimators=100; total time=   1.0s\n",
      "[CV] END classifier__bootstrap=True, classifier__max_depth=20, classifier__max_features=3, classifier__min_samples_leaf=4, classifier__min_samples_split=8, classifier__n_estimators=300; total time=   2.5s\n",
      "[CV] END classifier__bootstrap=True, classifier__max_depth=20, classifier__max_features=3, classifier__min_samples_leaf=4, classifier__min_samples_split=10, classifier__n_estimators=100; total time=   1.5s\n",
      "[CV] END classifier__bootstrap=True, classifier__max_depth=20, classifier__max_features=3, classifier__min_samples_leaf=4, classifier__min_samples_split=8, classifier__n_estimators=300; total time=   2.5s\n"
     ]
    },
    {
     "name": "stderr",
     "output_type": "stream",
     "text": [
      "/Users/foreverrefugee/opt/anaconda3/lib/python3.8/site-packages/sklearn/preprocessing/_data.py:3253: RuntimeWarning: divide by zero encountered in log\n",
      "  loglike = -n_samples / 2 * np.log(x_trans.var())\n",
      "/Users/foreverrefugee/opt/anaconda3/lib/python3.8/site-packages/sklearn/feature_selection/_univariate_selection.py:112: UserWarning: Features [0] are constant.\n",
      "  warnings.warn(\"Features %s are constant.\" % constant_features_idx, UserWarning)\n",
      "/Users/foreverrefugee/opt/anaconda3/lib/python3.8/site-packages/sklearn/feature_selection/_univariate_selection.py:113: RuntimeWarning: invalid value encountered in true_divide\n",
      "  f = msb / msw\n"
     ]
    },
    {
     "name": "stdout",
     "output_type": "stream",
     "text": [
      "[CV] END classifier__bootstrap=True, classifier__max_depth=20, classifier__max_features=3, classifier__min_samples_leaf=4, classifier__min_samples_split=10, classifier__n_estimators=200; total time=   1.9s\n",
      "[CV] END classifier__bootstrap=True, classifier__max_depth=20, classifier__max_features=3, classifier__min_samples_leaf=4, classifier__min_samples_split=10, classifier__n_estimators=200; total time=   1.8s\n",
      "[CV] END classifier__bootstrap=True, classifier__max_depth=20, classifier__max_features=3, classifier__min_samples_leaf=4, classifier__min_samples_split=10, classifier__n_estimators=200; total time=   1.8s\n"
     ]
    },
    {
     "name": "stderr",
     "output_type": "stream",
     "text": [
      "/Users/foreverrefugee/opt/anaconda3/lib/python3.8/site-packages/sklearn/preprocessing/_data.py:3253: RuntimeWarning: divide by zero encountered in log\n",
      "  loglike = -n_samples / 2 * np.log(x_trans.var())\n",
      "/Users/foreverrefugee/opt/anaconda3/lib/python3.8/site-packages/sklearn/feature_selection/_univariate_selection.py:112: UserWarning: Features [0] are constant.\n",
      "  warnings.warn(\"Features %s are constant.\" % constant_features_idx, UserWarning)\n",
      "/Users/foreverrefugee/opt/anaconda3/lib/python3.8/site-packages/sklearn/feature_selection/_univariate_selection.py:113: RuntimeWarning: invalid value encountered in true_divide\n",
      "  f = msb / msw\n"
     ]
    },
    {
     "name": "stdout",
     "output_type": "stream",
     "text": [
      "[CV] END classifier__bootstrap=True, classifier__max_depth=20, classifier__max_features=3, classifier__min_samples_leaf=4, classifier__min_samples_split=10, classifier__n_estimators=300; total time=   2.6s\n",
      "[CV] END classifier__bootstrap=True, classifier__max_depth=20, classifier__max_features=3, classifier__min_samples_leaf=4, classifier__min_samples_split=12, classifier__n_estimators=100; total time=   0.9s\n"
     ]
    },
    {
     "name": "stderr",
     "output_type": "stream",
     "text": [
      "/Users/foreverrefugee/opt/anaconda3/lib/python3.8/site-packages/sklearn/preprocessing/_data.py:3253: RuntimeWarning: divide by zero encountered in log\n",
      "  loglike = -n_samples / 2 * np.log(x_trans.var())\n",
      "/Users/foreverrefugee/opt/anaconda3/lib/python3.8/site-packages/sklearn/feature_selection/_univariate_selection.py:112: UserWarning: Features [0] are constant.\n",
      "  warnings.warn(\"Features %s are constant.\" % constant_features_idx, UserWarning)\n",
      "/Users/foreverrefugee/opt/anaconda3/lib/python3.8/site-packages/sklearn/feature_selection/_univariate_selection.py:113: RuntimeWarning: invalid value encountered in true_divide\n",
      "  f = msb / msw\n"
     ]
    },
    {
     "name": "stdout",
     "output_type": "stream",
     "text": [
      "[CV] END classifier__bootstrap=True, classifier__max_depth=20, classifier__max_features=3, classifier__min_samples_leaf=4, classifier__min_samples_split=12, classifier__n_estimators=100; total time=   1.1s\n",
      "[CV] END classifier__bootstrap=True, classifier__max_depth=20, classifier__max_features=3, classifier__min_samples_leaf=4, classifier__min_samples_split=12, classifier__n_estimators=100; total time=   1.1s\n",
      "[CV] END classifier__bootstrap=True, classifier__max_depth=20, classifier__max_features=3, classifier__min_samples_leaf=4, classifier__min_samples_split=10, classifier__n_estimators=300; total time=   2.8s\n",
      "[CV] END classifier__bootstrap=True, classifier__max_depth=20, classifier__max_features=3, classifier__min_samples_leaf=4, classifier__min_samples_split=10, classifier__n_estimators=300; total time=   2.7s\n"
     ]
    },
    {
     "name": "stderr",
     "output_type": "stream",
     "text": [
      "/Users/foreverrefugee/opt/anaconda3/lib/python3.8/site-packages/sklearn/preprocessing/_data.py:3253: RuntimeWarning: divide by zero encountered in log\n",
      "  loglike = -n_samples / 2 * np.log(x_trans.var())\n",
      "/Users/foreverrefugee/opt/anaconda3/lib/python3.8/site-packages/sklearn/feature_selection/_univariate_selection.py:112: UserWarning: Features [0] are constant.\n",
      "  warnings.warn(\"Features %s are constant.\" % constant_features_idx, UserWarning)\n",
      "/Users/foreverrefugee/opt/anaconda3/lib/python3.8/site-packages/sklearn/feature_selection/_univariate_selection.py:113: RuntimeWarning: invalid value encountered in true_divide\n",
      "  f = msb / msw\n"
     ]
    },
    {
     "name": "stdout",
     "output_type": "stream",
     "text": [
      "[CV] END classifier__bootstrap=True, classifier__max_depth=20, classifier__max_features=3, classifier__min_samples_leaf=4, classifier__min_samples_split=12, classifier__n_estimators=200; total time=   1.5s\n",
      "[CV] END classifier__bootstrap=True, classifier__max_depth=20, classifier__max_features=3, classifier__min_samples_leaf=4, classifier__min_samples_split=12, classifier__n_estimators=200; total time=   1.9s\n"
     ]
    },
    {
     "name": "stderr",
     "output_type": "stream",
     "text": [
      "/Users/foreverrefugee/opt/anaconda3/lib/python3.8/site-packages/sklearn/preprocessing/_data.py:3253: RuntimeWarning: divide by zero encountered in log\n",
      "  loglike = -n_samples / 2 * np.log(x_trans.var())\n",
      "/Users/foreverrefugee/opt/anaconda3/lib/python3.8/site-packages/sklearn/feature_selection/_univariate_selection.py:112: UserWarning: Features [0] are constant.\n",
      "  warnings.warn(\"Features %s are constant.\" % constant_features_idx, UserWarning)\n",
      "/Users/foreverrefugee/opt/anaconda3/lib/python3.8/site-packages/sklearn/feature_selection/_univariate_selection.py:113: RuntimeWarning: invalid value encountered in true_divide\n",
      "  f = msb / msw\n"
     ]
    },
    {
     "name": "stdout",
     "output_type": "stream",
     "text": [
      "[CV] END classifier__bootstrap=True, classifier__max_depth=20, classifier__max_features=3, classifier__min_samples_leaf=4, classifier__min_samples_split=12, classifier__n_estimators=200; total time=   1.6s\n",
      "[CV] END classifier__bootstrap=True, classifier__max_depth=20, classifier__max_features=3, classifier__min_samples_leaf=4, classifier__min_samples_split=12, classifier__n_estimators=300; total time=   2.3s\n",
      "[CV] END classifier__bootstrap=True, classifier__max_depth=20, classifier__max_features=3, classifier__min_samples_leaf=5, classifier__min_samples_split=8, classifier__n_estimators=100; total time=   0.8s\n"
     ]
    },
    {
     "name": "stderr",
     "output_type": "stream",
     "text": [
      "/Users/foreverrefugee/opt/anaconda3/lib/python3.8/site-packages/sklearn/preprocessing/_data.py:3253: RuntimeWarning: divide by zero encountered in log\n",
      "  loglike = -n_samples / 2 * np.log(x_trans.var())\n",
      "/Users/foreverrefugee/opt/anaconda3/lib/python3.8/site-packages/sklearn/feature_selection/_univariate_selection.py:112: UserWarning: Features [0] are constant.\n",
      "  warnings.warn(\"Features %s are constant.\" % constant_features_idx, UserWarning)\n",
      "/Users/foreverrefugee/opt/anaconda3/lib/python3.8/site-packages/sklearn/feature_selection/_univariate_selection.py:113: RuntimeWarning: invalid value encountered in true_divide\n",
      "  f = msb / msw\n"
     ]
    },
    {
     "name": "stdout",
     "output_type": "stream",
     "text": [
      "[CV] END classifier__bootstrap=True, classifier__max_depth=20, classifier__max_features=3, classifier__min_samples_leaf=5, classifier__min_samples_split=8, classifier__n_estimators=100; total time=   1.8s\n",
      "[CV] END classifier__bootstrap=True, classifier__max_depth=20, classifier__max_features=3, classifier__min_samples_leaf=5, classifier__min_samples_split=8, classifier__n_estimators=100; total time=   1.9s\n",
      "[CV] END classifier__bootstrap=True, classifier__max_depth=20, classifier__max_features=3, classifier__min_samples_leaf=4, classifier__min_samples_split=12, classifier__n_estimators=300; total time=   3.6s\n"
     ]
    },
    {
     "name": "stderr",
     "output_type": "stream",
     "text": [
      "/Users/foreverrefugee/opt/anaconda3/lib/python3.8/site-packages/sklearn/preprocessing/_data.py:3253: RuntimeWarning: divide by zero encountered in log\n",
      "  loglike = -n_samples / 2 * np.log(x_trans.var())\n",
      "/Users/foreverrefugee/opt/anaconda3/lib/python3.8/site-packages/sklearn/feature_selection/_univariate_selection.py:112: UserWarning: Features [0] are constant.\n",
      "  warnings.warn(\"Features %s are constant.\" % constant_features_idx, UserWarning)\n",
      "/Users/foreverrefugee/opt/anaconda3/lib/python3.8/site-packages/sklearn/feature_selection/_univariate_selection.py:113: RuntimeWarning: invalid value encountered in true_divide\n",
      "  f = msb / msw\n"
     ]
    },
    {
     "name": "stdout",
     "output_type": "stream",
     "text": [
      "[CV] END classifier__bootstrap=True, classifier__max_depth=20, classifier__max_features=3, classifier__min_samples_leaf=4, classifier__min_samples_split=12, classifier__n_estimators=300; total time=   3.6s\n",
      "[CV] END classifier__bootstrap=True, classifier__max_depth=20, classifier__max_features=3, classifier__min_samples_leaf=5, classifier__min_samples_split=8, classifier__n_estimators=200; total time=   2.2s[CV] END classifier__bootstrap=True, classifier__max_depth=20, classifier__max_features=3, classifier__min_samples_leaf=5, classifier__min_samples_split=8, classifier__n_estimators=200; total time=   2.3s\n",
      "\n"
     ]
    },
    {
     "name": "stderr",
     "output_type": "stream",
     "text": [
      "/Users/foreverrefugee/opt/anaconda3/lib/python3.8/site-packages/sklearn/preprocessing/_data.py:3253: RuntimeWarning: divide by zero encountered in log\n",
      "  loglike = -n_samples / 2 * np.log(x_trans.var())\n",
      "/Users/foreverrefugee/opt/anaconda3/lib/python3.8/site-packages/sklearn/feature_selection/_univariate_selection.py:112: UserWarning: Features [0] are constant.\n",
      "  warnings.warn(\"Features %s are constant.\" % constant_features_idx, UserWarning)\n",
      "/Users/foreverrefugee/opt/anaconda3/lib/python3.8/site-packages/sklearn/feature_selection/_univariate_selection.py:113: RuntimeWarning: invalid value encountered in true_divide\n",
      "  f = msb / msw\n"
     ]
    },
    {
     "name": "stdout",
     "output_type": "stream",
     "text": [
      "[CV] END classifier__bootstrap=True, classifier__max_depth=20, classifier__max_features=3, classifier__min_samples_leaf=5, classifier__min_samples_split=8, classifier__n_estimators=200; total time=   2.2s\n",
      "[CV] END classifier__bootstrap=True, classifier__max_depth=20, classifier__max_features=3, classifier__min_samples_leaf=5, classifier__min_samples_split=10, classifier__n_estimators=100; total time=   1.2s\n",
      "[CV] END classifier__bootstrap=True, classifier__max_depth=20, classifier__max_features=3, classifier__min_samples_leaf=5, classifier__min_samples_split=8, classifier__n_estimators=300; total time=   3.2s\n"
     ]
    },
    {
     "name": "stderr",
     "output_type": "stream",
     "text": [
      "/Users/foreverrefugee/opt/anaconda3/lib/python3.8/site-packages/sklearn/preprocessing/_data.py:3253: RuntimeWarning: divide by zero encountered in log\n",
      "  loglike = -n_samples / 2 * np.log(x_trans.var())\n",
      "/Users/foreverrefugee/opt/anaconda3/lib/python3.8/site-packages/sklearn/feature_selection/_univariate_selection.py:112: UserWarning: Features [0] are constant.\n",
      "  warnings.warn(\"Features %s are constant.\" % constant_features_idx, UserWarning)\n",
      "/Users/foreverrefugee/opt/anaconda3/lib/python3.8/site-packages/sklearn/feature_selection/_univariate_selection.py:113: RuntimeWarning: invalid value encountered in true_divide\n",
      "  f = msb / msw\n"
     ]
    },
    {
     "name": "stdout",
     "output_type": "stream",
     "text": [
      "[CV] END classifier__bootstrap=True, classifier__max_depth=20, classifier__max_features=3, classifier__min_samples_leaf=5, classifier__min_samples_split=10, classifier__n_estimators=100; total time=   1.5s\n",
      "[CV] END classifier__bootstrap=True, classifier__max_depth=20, classifier__max_features=3, classifier__min_samples_leaf=5, classifier__min_samples_split=10, classifier__n_estimators=100; total time=   1.5s\n",
      "[CV] END classifier__bootstrap=True, classifier__max_depth=20, classifier__max_features=3, classifier__min_samples_leaf=5, classifier__min_samples_split=8, classifier__n_estimators=300; total time=   3.7s\n",
      "[CV] END classifier__bootstrap=True, classifier__max_depth=20, classifier__max_features=3, classifier__min_samples_leaf=5, classifier__min_samples_split=8, classifier__n_estimators=300; total time=   3.8s\n"
     ]
    },
    {
     "name": "stderr",
     "output_type": "stream",
     "text": [
      "/Users/foreverrefugee/opt/anaconda3/lib/python3.8/site-packages/sklearn/preprocessing/_data.py:3253: RuntimeWarning: divide by zero encountered in log\n",
      "  loglike = -n_samples / 2 * np.log(x_trans.var())\n",
      "/Users/foreverrefugee/opt/anaconda3/lib/python3.8/site-packages/sklearn/feature_selection/_univariate_selection.py:112: UserWarning: Features [0] are constant.\n",
      "  warnings.warn(\"Features %s are constant.\" % constant_features_idx, UserWarning)\n",
      "/Users/foreverrefugee/opt/anaconda3/lib/python3.8/site-packages/sklearn/feature_selection/_univariate_selection.py:113: RuntimeWarning: invalid value encountered in true_divide\n",
      "  f = msb / msw\n"
     ]
    },
    {
     "name": "stdout",
     "output_type": "stream",
     "text": [
      "[CV] END classifier__bootstrap=True, classifier__max_depth=20, classifier__max_features=3, classifier__min_samples_leaf=5, classifier__min_samples_split=10, classifier__n_estimators=200; total time=   2.4s\n",
      "[CV] END classifier__bootstrap=True, classifier__max_depth=20, classifier__max_features=3, classifier__min_samples_leaf=5, classifier__min_samples_split=10, classifier__n_estimators=200; total time=   2.3s\n"
     ]
    },
    {
     "name": "stderr",
     "output_type": "stream",
     "text": [
      "/Users/foreverrefugee/opt/anaconda3/lib/python3.8/site-packages/sklearn/preprocessing/_data.py:3253: RuntimeWarning: divide by zero encountered in log\n",
      "  loglike = -n_samples / 2 * np.log(x_trans.var())\n",
      "/Users/foreverrefugee/opt/anaconda3/lib/python3.8/site-packages/sklearn/feature_selection/_univariate_selection.py:112: UserWarning: Features [0] are constant.\n",
      "  warnings.warn(\"Features %s are constant.\" % constant_features_idx, UserWarning)\n",
      "/Users/foreverrefugee/opt/anaconda3/lib/python3.8/site-packages/sklearn/feature_selection/_univariate_selection.py:113: RuntimeWarning: invalid value encountered in true_divide\n",
      "  f = msb / msw\n"
     ]
    },
    {
     "name": "stdout",
     "output_type": "stream",
     "text": [
      "[CV] END classifier__bootstrap=True, classifier__max_depth=20, classifier__max_features=3, classifier__min_samples_leaf=5, classifier__min_samples_split=10, classifier__n_estimators=200; total time=   2.2s\n",
      "[CV] END classifier__bootstrap=True, classifier__max_depth=20, classifier__max_features=3, classifier__min_samples_leaf=5, classifier__min_samples_split=10, classifier__n_estimators=300; total time=   2.9s\n",
      "[CV] END classifier__bootstrap=True, classifier__max_depth=20, classifier__max_features=3, classifier__min_samples_leaf=5, classifier__min_samples_split=12, classifier__n_estimators=100; total time=   1.0s\n"
     ]
    },
    {
     "name": "stderr",
     "output_type": "stream",
     "text": [
      "/Users/foreverrefugee/opt/anaconda3/lib/python3.8/site-packages/sklearn/preprocessing/_data.py:3253: RuntimeWarning: divide by zero encountered in log\n",
      "  loglike = -n_samples / 2 * np.log(x_trans.var())\n",
      "/Users/foreverrefugee/opt/anaconda3/lib/python3.8/site-packages/sklearn/feature_selection/_univariate_selection.py:112: UserWarning: Features [0] are constant.\n",
      "  warnings.warn(\"Features %s are constant.\" % constant_features_idx, UserWarning)\n",
      "/Users/foreverrefugee/opt/anaconda3/lib/python3.8/site-packages/sklearn/feature_selection/_univariate_selection.py:113: RuntimeWarning: invalid value encountered in true_divide\n",
      "  f = msb / msw\n"
     ]
    },
    {
     "name": "stdout",
     "output_type": "stream",
     "text": [
      "[CV] END classifier__bootstrap=True, classifier__max_depth=20, classifier__max_features=3, classifier__min_samples_leaf=5, classifier__min_samples_split=12, classifier__n_estimators=100; total time=   1.0s\n",
      "[CV] END classifier__bootstrap=True, classifier__max_depth=20, classifier__max_features=3, classifier__min_samples_leaf=5, classifier__min_samples_split=12, classifier__n_estimators=100; total time=   0.8s\n",
      "[CV] END classifier__bootstrap=True, classifier__max_depth=20, classifier__max_features=3, classifier__min_samples_leaf=5, classifier__min_samples_split=10, classifier__n_estimators=300; total time=   2.9s\n"
     ]
    },
    {
     "name": "stderr",
     "output_type": "stream",
     "text": [
      "/Users/foreverrefugee/opt/anaconda3/lib/python3.8/site-packages/sklearn/preprocessing/_data.py:3253: RuntimeWarning: divide by zero encountered in log\n",
      "  loglike = -n_samples / 2 * np.log(x_trans.var())\n",
      "/Users/foreverrefugee/opt/anaconda3/lib/python3.8/site-packages/sklearn/feature_selection/_univariate_selection.py:112: UserWarning: Features [0] are constant.\n",
      "  warnings.warn(\"Features %s are constant.\" % constant_features_idx, UserWarning)\n",
      "/Users/foreverrefugee/opt/anaconda3/lib/python3.8/site-packages/sklearn/feature_selection/_univariate_selection.py:113: RuntimeWarning: invalid value encountered in true_divide\n",
      "  f = msb / msw\n"
     ]
    },
    {
     "name": "stdout",
     "output_type": "stream",
     "text": [
      "[CV] END classifier__bootstrap=True, classifier__max_depth=20, classifier__max_features=3, classifier__min_samples_leaf=5, classifier__min_samples_split=10, classifier__n_estimators=300; total time=   3.0s\n",
      "[CV] END classifier__bootstrap=True, classifier__max_depth=20, classifier__max_features=3, classifier__min_samples_leaf=5, classifier__min_samples_split=12, classifier__n_estimators=200; total time=   1.6s\n",
      "[CV] END classifier__bootstrap=True, classifier__max_depth=20, classifier__max_features=3, classifier__min_samples_leaf=5, classifier__min_samples_split=12, classifier__n_estimators=200; total time=   1.6s\n"
     ]
    },
    {
     "name": "stderr",
     "output_type": "stream",
     "text": [
      "/Users/foreverrefugee/opt/anaconda3/lib/python3.8/site-packages/sklearn/preprocessing/_data.py:3253: RuntimeWarning: divide by zero encountered in log\n",
      "  loglike = -n_samples / 2 * np.log(x_trans.var())\n",
      "/Users/foreverrefugee/opt/anaconda3/lib/python3.8/site-packages/sklearn/feature_selection/_univariate_selection.py:112: UserWarning: Features [0] are constant.\n",
      "  warnings.warn(\"Features %s are constant.\" % constant_features_idx, UserWarning)\n",
      "/Users/foreverrefugee/opt/anaconda3/lib/python3.8/site-packages/sklearn/feature_selection/_univariate_selection.py:113: RuntimeWarning: invalid value encountered in true_divide\n",
      "  f = msb / msw\n"
     ]
    },
    {
     "name": "stdout",
     "output_type": "stream",
     "text": [
      "[CV] END classifier__bootstrap=True, classifier__max_depth=20, classifier__max_features=3, classifier__min_samples_leaf=5, classifier__min_samples_split=12, classifier__n_estimators=200; total time=   1.4s\n",
      "[CV] END classifier__bootstrap=True, classifier__max_depth=20, classifier__max_features=5, classifier__min_samples_leaf=3, classifier__min_samples_split=8, classifier__n_estimators=100; total time=   0.8s\n",
      "[CV] END classifier__bootstrap=True, classifier__max_depth=20, classifier__max_features=3, classifier__min_samples_leaf=5, classifier__min_samples_split=12, classifier__n_estimators=300; total time=   1.9s\n"
     ]
    },
    {
     "name": "stderr",
     "output_type": "stream",
     "text": [
      "/Users/foreverrefugee/opt/anaconda3/lib/python3.8/site-packages/sklearn/preprocessing/_data.py:3253: RuntimeWarning: divide by zero encountered in log\n",
      "  loglike = -n_samples / 2 * np.log(x_trans.var())\n",
      "/Users/foreverrefugee/opt/anaconda3/lib/python3.8/site-packages/sklearn/feature_selection/_univariate_selection.py:112: UserWarning: Features [0] are constant.\n",
      "  warnings.warn(\"Features %s are constant.\" % constant_features_idx, UserWarning)\n",
      "/Users/foreverrefugee/opt/anaconda3/lib/python3.8/site-packages/sklearn/feature_selection/_univariate_selection.py:113: RuntimeWarning: invalid value encountered in true_divide\n",
      "  f = msb / msw\n"
     ]
    },
    {
     "name": "stdout",
     "output_type": "stream",
     "text": [
      "[CV] END classifier__bootstrap=True, classifier__max_depth=20, classifier__max_features=5, classifier__min_samples_leaf=3, classifier__min_samples_split=8, classifier__n_estimators=100; total time=   1.2s\n",
      "[CV] END classifier__bootstrap=True, classifier__max_depth=20, classifier__max_features=5, classifier__min_samples_leaf=3, classifier__min_samples_split=8, classifier__n_estimators=100; total time=   1.3s\n",
      "[CV] END classifier__bootstrap=True, classifier__max_depth=20, classifier__max_features=3, classifier__min_samples_leaf=5, classifier__min_samples_split=12, classifier__n_estimators=300; total time=   2.5s\n"
     ]
    },
    {
     "name": "stderr",
     "output_type": "stream",
     "text": [
      "/Users/foreverrefugee/opt/anaconda3/lib/python3.8/site-packages/sklearn/preprocessing/_data.py:3253: RuntimeWarning: divide by zero encountered in log\n",
      "  loglike = -n_samples / 2 * np.log(x_trans.var())\n",
      "/Users/foreverrefugee/opt/anaconda3/lib/python3.8/site-packages/sklearn/feature_selection/_univariate_selection.py:112: UserWarning: Features [0] are constant.\n",
      "  warnings.warn(\"Features %s are constant.\" % constant_features_idx, UserWarning)\n",
      "/Users/foreverrefugee/opt/anaconda3/lib/python3.8/site-packages/sklearn/feature_selection/_univariate_selection.py:113: RuntimeWarning: invalid value encountered in true_divide\n",
      "  f = msb / msw\n"
     ]
    },
    {
     "name": "stdout",
     "output_type": "stream",
     "text": [
      "[CV] END classifier__bootstrap=True, classifier__max_depth=20, classifier__max_features=3, classifier__min_samples_leaf=5, classifier__min_samples_split=12, classifier__n_estimators=300; total time=   2.7s\n",
      "[CV] END classifier__bootstrap=True, classifier__max_depth=20, classifier__max_features=5, classifier__min_samples_leaf=3, classifier__min_samples_split=8, classifier__n_estimators=200; total time=   2.3s\n",
      "[CV] END classifier__bootstrap=True, classifier__max_depth=20, classifier__max_features=5, classifier__min_samples_leaf=3, classifier__min_samples_split=8, classifier__n_estimators=200; total time=   2.3s\n",
      "[CV] END classifier__bootstrap=True, classifier__max_depth=20, classifier__max_features=5, classifier__min_samples_leaf=3, classifier__min_samples_split=8, classifier__n_estimators=200; total time=   2.3s\n"
     ]
    },
    {
     "name": "stderr",
     "output_type": "stream",
     "text": [
      "/Users/foreverrefugee/opt/anaconda3/lib/python3.8/site-packages/sklearn/preprocessing/_data.py:3253: RuntimeWarning: divide by zero encountered in log\n",
      "  loglike = -n_samples / 2 * np.log(x_trans.var())\n",
      "/Users/foreverrefugee/opt/anaconda3/lib/python3.8/site-packages/sklearn/feature_selection/_univariate_selection.py:112: UserWarning: Features [0] are constant.\n",
      "  warnings.warn(\"Features %s are constant.\" % constant_features_idx, UserWarning)\n",
      "/Users/foreverrefugee/opt/anaconda3/lib/python3.8/site-packages/sklearn/feature_selection/_univariate_selection.py:113: RuntimeWarning: invalid value encountered in true_divide\n",
      "  f = msb / msw\n"
     ]
    },
    {
     "name": "stdout",
     "output_type": "stream",
     "text": [
      "[CV] END classifier__bootstrap=True, classifier__max_depth=20, classifier__max_features=5, classifier__min_samples_leaf=3, classifier__min_samples_split=10, classifier__n_estimators=100; total time=   0.7s\n",
      "[CV] END classifier__bootstrap=True, classifier__max_depth=20, classifier__max_features=5, classifier__min_samples_leaf=3, classifier__min_samples_split=8, classifier__n_estimators=300; total time=   2.8s\n"
     ]
    },
    {
     "name": "stderr",
     "output_type": "stream",
     "text": [
      "/Users/foreverrefugee/opt/anaconda3/lib/python3.8/site-packages/sklearn/preprocessing/_data.py:3253: RuntimeWarning: divide by zero encountered in log\n",
      "  loglike = -n_samples / 2 * np.log(x_trans.var())\n",
      "/Users/foreverrefugee/opt/anaconda3/lib/python3.8/site-packages/sklearn/feature_selection/_univariate_selection.py:112: UserWarning: Features [0] are constant.\n",
      "  warnings.warn(\"Features %s are constant.\" % constant_features_idx, UserWarning)\n",
      "/Users/foreverrefugee/opt/anaconda3/lib/python3.8/site-packages/sklearn/feature_selection/_univariate_selection.py:113: RuntimeWarning: invalid value encountered in true_divide\n",
      "  f = msb / msw\n"
     ]
    },
    {
     "name": "stdout",
     "output_type": "stream",
     "text": [
      "[CV] END classifier__bootstrap=True, classifier__max_depth=20, classifier__max_features=5, classifier__min_samples_leaf=3, classifier__min_samples_split=10, classifier__n_estimators=100; total time=   0.8s\n",
      "[CV] END classifier__bootstrap=True, classifier__max_depth=20, classifier__max_features=5, classifier__min_samples_leaf=3, classifier__min_samples_split=10, classifier__n_estimators=100; total time=   0.8s\n",
      "[CV] END classifier__bootstrap=True, classifier__max_depth=20, classifier__max_features=5, classifier__min_samples_leaf=3, classifier__min_samples_split=8, classifier__n_estimators=300; total time=   2.1s\n",
      "[CV] END classifier__bootstrap=True, classifier__max_depth=20, classifier__max_features=5, classifier__min_samples_leaf=3, classifier__min_samples_split=8, classifier__n_estimators=300; total time=   2.1s\n"
     ]
    },
    {
     "name": "stderr",
     "output_type": "stream",
     "text": [
      "/Users/foreverrefugee/opt/anaconda3/lib/python3.8/site-packages/sklearn/preprocessing/_data.py:3253: RuntimeWarning: divide by zero encountered in log\n",
      "  loglike = -n_samples / 2 * np.log(x_trans.var())\n",
      "/Users/foreverrefugee/opt/anaconda3/lib/python3.8/site-packages/sklearn/feature_selection/_univariate_selection.py:112: UserWarning: Features [0] are constant.\n",
      "  warnings.warn(\"Features %s are constant.\" % constant_features_idx, UserWarning)\n",
      "/Users/foreverrefugee/opt/anaconda3/lib/python3.8/site-packages/sklearn/feature_selection/_univariate_selection.py:113: RuntimeWarning: invalid value encountered in true_divide\n",
      "  f = msb / msw\n"
     ]
    },
    {
     "name": "stdout",
     "output_type": "stream",
     "text": [
      "[CV] END classifier__bootstrap=True, classifier__max_depth=20, classifier__max_features=5, classifier__min_samples_leaf=3, classifier__min_samples_split=10, classifier__n_estimators=200; total time=   1.4s\n",
      "[CV] END classifier__bootstrap=True, classifier__max_depth=20, classifier__max_features=5, classifier__min_samples_leaf=3, classifier__min_samples_split=10, classifier__n_estimators=200; total time=   1.4s\n"
     ]
    },
    {
     "name": "stderr",
     "output_type": "stream",
     "text": [
      "/Users/foreverrefugee/opt/anaconda3/lib/python3.8/site-packages/sklearn/preprocessing/_data.py:3253: RuntimeWarning: divide by zero encountered in log\n",
      "  loglike = -n_samples / 2 * np.log(x_trans.var())\n",
      "/Users/foreverrefugee/opt/anaconda3/lib/python3.8/site-packages/sklearn/feature_selection/_univariate_selection.py:112: UserWarning: Features [0] are constant.\n",
      "  warnings.warn(\"Features %s are constant.\" % constant_features_idx, UserWarning)\n",
      "/Users/foreverrefugee/opt/anaconda3/lib/python3.8/site-packages/sklearn/feature_selection/_univariate_selection.py:113: RuntimeWarning: invalid value encountered in true_divide\n",
      "  f = msb / msw\n"
     ]
    },
    {
     "name": "stdout",
     "output_type": "stream",
     "text": [
      "[CV] END classifier__bootstrap=True, classifier__max_depth=20, classifier__max_features=5, classifier__min_samples_leaf=3, classifier__min_samples_split=10, classifier__n_estimators=200; total time=   1.4s\n",
      "[CV] END classifier__bootstrap=True, classifier__max_depth=20, classifier__max_features=5, classifier__min_samples_leaf=3, classifier__min_samples_split=10, classifier__n_estimators=300; total time=   2.1s\n",
      "[CV] END classifier__bootstrap=True, classifier__max_depth=20, classifier__max_features=5, classifier__min_samples_leaf=3, classifier__min_samples_split=12, classifier__n_estimators=100; total time=   0.8s\n"
     ]
    },
    {
     "name": "stderr",
     "output_type": "stream",
     "text": [
      "/Users/foreverrefugee/opt/anaconda3/lib/python3.8/site-packages/sklearn/preprocessing/_data.py:3253: RuntimeWarning: divide by zero encountered in log\n",
      "  loglike = -n_samples / 2 * np.log(x_trans.var())\n",
      "/Users/foreverrefugee/opt/anaconda3/lib/python3.8/site-packages/sklearn/feature_selection/_univariate_selection.py:112: UserWarning: Features [0] are constant.\n",
      "  warnings.warn(\"Features %s are constant.\" % constant_features_idx, UserWarning)\n",
      "/Users/foreverrefugee/opt/anaconda3/lib/python3.8/site-packages/sklearn/feature_selection/_univariate_selection.py:113: RuntimeWarning: invalid value encountered in true_divide\n",
      "  f = msb / msw\n"
     ]
    },
    {
     "name": "stdout",
     "output_type": "stream",
     "text": [
      "[CV] END classifier__bootstrap=True, classifier__max_depth=20, classifier__max_features=5, classifier__min_samples_leaf=3, classifier__min_samples_split=12, classifier__n_estimators=100; total time=   0.7s\n",
      "[CV] END classifier__bootstrap=True, classifier__max_depth=20, classifier__max_features=5, classifier__min_samples_leaf=3, classifier__min_samples_split=12, classifier__n_estimators=100; total time=   0.7s\n",
      "[CV] END classifier__bootstrap=True, classifier__max_depth=20, classifier__max_features=5, classifier__min_samples_leaf=3, classifier__min_samples_split=10, classifier__n_estimators=300; total time=   2.2s\n",
      "[CV] END classifier__bootstrap=True, classifier__max_depth=20, classifier__max_features=5, classifier__min_samples_leaf=3, classifier__min_samples_split=10, classifier__n_estimators=300; total time=   2.2s\n"
     ]
    },
    {
     "name": "stderr",
     "output_type": "stream",
     "text": [
      "/Users/foreverrefugee/opt/anaconda3/lib/python3.8/site-packages/sklearn/preprocessing/_data.py:3253: RuntimeWarning: divide by zero encountered in log\n",
      "  loglike = -n_samples / 2 * np.log(x_trans.var())\n",
      "/Users/foreverrefugee/opt/anaconda3/lib/python3.8/site-packages/sklearn/feature_selection/_univariate_selection.py:112: UserWarning: Features [0] are constant.\n",
      "  warnings.warn(\"Features %s are constant.\" % constant_features_idx, UserWarning)\n",
      "/Users/foreverrefugee/opt/anaconda3/lib/python3.8/site-packages/sklearn/feature_selection/_univariate_selection.py:113: RuntimeWarning: invalid value encountered in true_divide\n",
      "  f = msb / msw\n"
     ]
    },
    {
     "name": "stdout",
     "output_type": "stream",
     "text": [
      "[CV] END classifier__bootstrap=True, classifier__max_depth=20, classifier__max_features=5, classifier__min_samples_leaf=3, classifier__min_samples_split=12, classifier__n_estimators=200; total time=   1.3s\n",
      "[CV] END classifier__bootstrap=True, classifier__max_depth=20, classifier__max_features=5, classifier__min_samples_leaf=3, classifier__min_samples_split=12, classifier__n_estimators=200; total time=   1.3s\n"
     ]
    },
    {
     "name": "stderr",
     "output_type": "stream",
     "text": [
      "/Users/foreverrefugee/opt/anaconda3/lib/python3.8/site-packages/sklearn/preprocessing/_data.py:3253: RuntimeWarning: divide by zero encountered in log\n",
      "  loglike = -n_samples / 2 * np.log(x_trans.var())\n",
      "/Users/foreverrefugee/opt/anaconda3/lib/python3.8/site-packages/sklearn/feature_selection/_univariate_selection.py:112: UserWarning: Features [0] are constant.\n",
      "  warnings.warn(\"Features %s are constant.\" % constant_features_idx, UserWarning)\n",
      "/Users/foreverrefugee/opt/anaconda3/lib/python3.8/site-packages/sklearn/feature_selection/_univariate_selection.py:113: RuntimeWarning: invalid value encountered in true_divide\n",
      "  f = msb / msw\n"
     ]
    },
    {
     "name": "stdout",
     "output_type": "stream",
     "text": [
      "[CV] END classifier__bootstrap=True, classifier__max_depth=20, classifier__max_features=5, classifier__min_samples_leaf=3, classifier__min_samples_split=12, classifier__n_estimators=200; total time=   1.2s\n",
      "[CV] END classifier__bootstrap=True, classifier__max_depth=20, classifier__max_features=5, classifier__min_samples_leaf=3, classifier__min_samples_split=12, classifier__n_estimators=300; total time=   2.0s\n",
      "[CV] END classifier__bootstrap=True, classifier__max_depth=20, classifier__max_features=5, classifier__min_samples_leaf=4, classifier__min_samples_split=8, classifier__n_estimators=100; total time=   0.9s\n"
     ]
    },
    {
     "name": "stderr",
     "output_type": "stream",
     "text": [
      "/Users/foreverrefugee/opt/anaconda3/lib/python3.8/site-packages/sklearn/preprocessing/_data.py:3253: RuntimeWarning: divide by zero encountered in log\n",
      "  loglike = -n_samples / 2 * np.log(x_trans.var())\n",
      "/Users/foreverrefugee/opt/anaconda3/lib/python3.8/site-packages/sklearn/feature_selection/_univariate_selection.py:112: UserWarning: Features [0] are constant.\n",
      "  warnings.warn(\"Features %s are constant.\" % constant_features_idx, UserWarning)\n",
      "/Users/foreverrefugee/opt/anaconda3/lib/python3.8/site-packages/sklearn/feature_selection/_univariate_selection.py:113: RuntimeWarning: invalid value encountered in true_divide\n",
      "  f = msb / msw\n"
     ]
    },
    {
     "name": "stdout",
     "output_type": "stream",
     "text": [
      "[CV] END classifier__bootstrap=True, classifier__max_depth=20, classifier__max_features=5, classifier__min_samples_leaf=4, classifier__min_samples_split=8, classifier__n_estimators=100; total time=   0.9s\n",
      "[CV] END classifier__bootstrap=True, classifier__max_depth=20, classifier__max_features=5, classifier__min_samples_leaf=4, classifier__min_samples_split=8, classifier__n_estimators=100; total time=   1.1s\n",
      "[CV] END classifier__bootstrap=True, classifier__max_depth=20, classifier__max_features=5, classifier__min_samples_leaf=3, classifier__min_samples_split=12, classifier__n_estimators=300; total time=   2.7s\n"
     ]
    },
    {
     "name": "stderr",
     "output_type": "stream",
     "text": [
      "/Users/foreverrefugee/opt/anaconda3/lib/python3.8/site-packages/sklearn/preprocessing/_data.py:3253: RuntimeWarning: divide by zero encountered in log\n",
      "  loglike = -n_samples / 2 * np.log(x_trans.var())\n",
      "/Users/foreverrefugee/opt/anaconda3/lib/python3.8/site-packages/sklearn/feature_selection/_univariate_selection.py:112: UserWarning: Features [0] are constant.\n",
      "  warnings.warn(\"Features %s are constant.\" % constant_features_idx, UserWarning)\n",
      "/Users/foreverrefugee/opt/anaconda3/lib/python3.8/site-packages/sklearn/feature_selection/_univariate_selection.py:113: RuntimeWarning: invalid value encountered in true_divide\n",
      "  f = msb / msw\n"
     ]
    },
    {
     "name": "stdout",
     "output_type": "stream",
     "text": [
      "[CV] END classifier__bootstrap=True, classifier__max_depth=20, classifier__max_features=5, classifier__min_samples_leaf=3, classifier__min_samples_split=12, classifier__n_estimators=300; total time=   2.8s\n",
      "[CV] END classifier__bootstrap=True, classifier__max_depth=20, classifier__max_features=5, classifier__min_samples_leaf=4, classifier__min_samples_split=8, classifier__n_estimators=200; total time=   1.8s\n",
      "[CV] END classifier__bootstrap=True, classifier__max_depth=20, classifier__max_features=5, classifier__min_samples_leaf=4, classifier__min_samples_split=8, classifier__n_estimators=200; total time=   1.6s\n"
     ]
    },
    {
     "name": "stderr",
     "output_type": "stream",
     "text": [
      "/Users/foreverrefugee/opt/anaconda3/lib/python3.8/site-packages/sklearn/preprocessing/_data.py:3253: RuntimeWarning: divide by zero encountered in log\n",
      "  loglike = -n_samples / 2 * np.log(x_trans.var())\n",
      "/Users/foreverrefugee/opt/anaconda3/lib/python3.8/site-packages/sklearn/feature_selection/_univariate_selection.py:112: UserWarning: Features [0] are constant.\n",
      "  warnings.warn(\"Features %s are constant.\" % constant_features_idx, UserWarning)\n",
      "/Users/foreverrefugee/opt/anaconda3/lib/python3.8/site-packages/sklearn/feature_selection/_univariate_selection.py:113: RuntimeWarning: invalid value encountered in true_divide\n",
      "  f = msb / msw\n"
     ]
    },
    {
     "name": "stdout",
     "output_type": "stream",
     "text": [
      "[CV] END classifier__bootstrap=True, classifier__max_depth=20, classifier__max_features=5, classifier__min_samples_leaf=4, classifier__min_samples_split=8, classifier__n_estimators=200; total time=   1.7s\n",
      "[CV] END classifier__bootstrap=True, classifier__max_depth=20, classifier__max_features=5, classifier__min_samples_leaf=4, classifier__min_samples_split=10, classifier__n_estimators=100; total time=   1.2s\n",
      "[CV] END classifier__bootstrap=True, classifier__max_depth=20, classifier__max_features=5, classifier__min_samples_leaf=4, classifier__min_samples_split=8, classifier__n_estimators=300; total time=   2.7s\n"
     ]
    },
    {
     "name": "stderr",
     "output_type": "stream",
     "text": [
      "/Users/foreverrefugee/opt/anaconda3/lib/python3.8/site-packages/sklearn/preprocessing/_data.py:3253: RuntimeWarning: divide by zero encountered in log\n",
      "  loglike = -n_samples / 2 * np.log(x_trans.var())\n",
      "/Users/foreverrefugee/opt/anaconda3/lib/python3.8/site-packages/sklearn/feature_selection/_univariate_selection.py:112: UserWarning: Features [0] are constant.\n",
      "  warnings.warn(\"Features %s are constant.\" % constant_features_idx, UserWarning)\n",
      "/Users/foreverrefugee/opt/anaconda3/lib/python3.8/site-packages/sklearn/feature_selection/_univariate_selection.py:113: RuntimeWarning: invalid value encountered in true_divide\n",
      "  f = msb / msw\n"
     ]
    },
    {
     "name": "stdout",
     "output_type": "stream",
     "text": [
      "[CV] END classifier__bootstrap=True, classifier__max_depth=20, classifier__max_features=5, classifier__min_samples_leaf=4, classifier__min_samples_split=10, classifier__n_estimators=100; total time=   0.9s\n",
      "[CV] END classifier__bootstrap=True, classifier__max_depth=20, classifier__max_features=5, classifier__min_samples_leaf=4, classifier__min_samples_split=10, classifier__n_estimators=100; total time=   0.9s\n",
      "[CV] END classifier__bootstrap=True, classifier__max_depth=20, classifier__max_features=5, classifier__min_samples_leaf=4, classifier__min_samples_split=8, classifier__n_estimators=300; total time=   2.9s\n",
      "[CV] END classifier__bootstrap=True, classifier__max_depth=20, classifier__max_features=5, classifier__min_samples_leaf=4, classifier__min_samples_split=8, classifier__n_estimators=300; total time=   2.9s\n"
     ]
    },
    {
     "name": "stderr",
     "output_type": "stream",
     "text": [
      "/Users/foreverrefugee/opt/anaconda3/lib/python3.8/site-packages/sklearn/preprocessing/_data.py:3253: RuntimeWarning: divide by zero encountered in log\n",
      "  loglike = -n_samples / 2 * np.log(x_trans.var())\n",
      "/Users/foreverrefugee/opt/anaconda3/lib/python3.8/site-packages/sklearn/feature_selection/_univariate_selection.py:112: UserWarning: Features [0] are constant.\n",
      "  warnings.warn(\"Features %s are constant.\" % constant_features_idx, UserWarning)\n",
      "/Users/foreverrefugee/opt/anaconda3/lib/python3.8/site-packages/sklearn/feature_selection/_univariate_selection.py:113: RuntimeWarning: invalid value encountered in true_divide\n",
      "  f = msb / msw\n"
     ]
    },
    {
     "name": "stdout",
     "output_type": "stream",
     "text": [
      "[CV] END classifier__bootstrap=True, classifier__max_depth=20, classifier__max_features=5, classifier__min_samples_leaf=4, classifier__min_samples_split=10, classifier__n_estimators=200; total time=   1.3s\n",
      "[CV] END classifier__bootstrap=True, classifier__max_depth=20, classifier__max_features=5, classifier__min_samples_leaf=4, classifier__min_samples_split=10, classifier__n_estimators=200; total time=   1.3s\n",
      "[CV] END classifier__bootstrap=True, classifier__max_depth=20, classifier__max_features=5, classifier__min_samples_leaf=4, classifier__min_samples_split=10, classifier__n_estimators=200; total time=   1.3s\n"
     ]
    },
    {
     "name": "stderr",
     "output_type": "stream",
     "text": [
      "/Users/foreverrefugee/opt/anaconda3/lib/python3.8/site-packages/sklearn/preprocessing/_data.py:3253: RuntimeWarning: divide by zero encountered in log\n",
      "  loglike = -n_samples / 2 * np.log(x_trans.var())\n",
      "/Users/foreverrefugee/opt/anaconda3/lib/python3.8/site-packages/sklearn/feature_selection/_univariate_selection.py:112: UserWarning: Features [0] are constant.\n",
      "  warnings.warn(\"Features %s are constant.\" % constant_features_idx, UserWarning)\n",
      "/Users/foreverrefugee/opt/anaconda3/lib/python3.8/site-packages/sklearn/feature_selection/_univariate_selection.py:113: RuntimeWarning: invalid value encountered in true_divide\n",
      "  f = msb / msw\n"
     ]
    },
    {
     "name": "stdout",
     "output_type": "stream",
     "text": [
      "[CV] END classifier__bootstrap=True, classifier__max_depth=20, classifier__max_features=5, classifier__min_samples_leaf=4, classifier__min_samples_split=10, classifier__n_estimators=300; total time=   1.9s\n",
      "[CV] END classifier__bootstrap=True, classifier__max_depth=20, classifier__max_features=5, classifier__min_samples_leaf=4, classifier__min_samples_split=12, classifier__n_estimators=100; total time=   0.7s\n"
     ]
    },
    {
     "name": "stderr",
     "output_type": "stream",
     "text": [
      "/Users/foreverrefugee/opt/anaconda3/lib/python3.8/site-packages/sklearn/preprocessing/_data.py:3253: RuntimeWarning: divide by zero encountered in log\n",
      "  loglike = -n_samples / 2 * np.log(x_trans.var())\n",
      "/Users/foreverrefugee/opt/anaconda3/lib/python3.8/site-packages/sklearn/feature_selection/_univariate_selection.py:112: UserWarning: Features [0] are constant.\n",
      "  warnings.warn(\"Features %s are constant.\" % constant_features_idx, UserWarning)\n",
      "/Users/foreverrefugee/opt/anaconda3/lib/python3.8/site-packages/sklearn/feature_selection/_univariate_selection.py:113: RuntimeWarning: invalid value encountered in true_divide\n",
      "  f = msb / msw\n"
     ]
    },
    {
     "name": "stdout",
     "output_type": "stream",
     "text": [
      "[CV] END classifier__bootstrap=True, classifier__max_depth=20, classifier__max_features=5, classifier__min_samples_leaf=4, classifier__min_samples_split=12, classifier__n_estimators=100; total time=   1.1s\n",
      "[CV] END classifier__bootstrap=True, classifier__max_depth=20, classifier__max_features=5, classifier__min_samples_leaf=4, classifier__min_samples_split=12, classifier__n_estimators=100; total time=   1.1s\n",
      "[CV] END classifier__bootstrap=True, classifier__max_depth=20, classifier__max_features=5, classifier__min_samples_leaf=4, classifier__min_samples_split=10, classifier__n_estimators=300; total time=   2.3s\n",
      "[CV] END classifier__bootstrap=True, classifier__max_depth=20, classifier__max_features=5, classifier__min_samples_leaf=4, classifier__min_samples_split=10, classifier__n_estimators=300; total time=   2.4s\n"
     ]
    },
    {
     "name": "stderr",
     "output_type": "stream",
     "text": [
      "/Users/foreverrefugee/opt/anaconda3/lib/python3.8/site-packages/sklearn/preprocessing/_data.py:3253: RuntimeWarning: divide by zero encountered in log\n",
      "  loglike = -n_samples / 2 * np.log(x_trans.var())\n",
      "/Users/foreverrefugee/opt/anaconda3/lib/python3.8/site-packages/sklearn/feature_selection/_univariate_selection.py:112: UserWarning: Features [0] are constant.\n",
      "  warnings.warn(\"Features %s are constant.\" % constant_features_idx, UserWarning)\n",
      "/Users/foreverrefugee/opt/anaconda3/lib/python3.8/site-packages/sklearn/feature_selection/_univariate_selection.py:113: RuntimeWarning: invalid value encountered in true_divide\n",
      "  f = msb / msw\n"
     ]
    },
    {
     "name": "stdout",
     "output_type": "stream",
     "text": [
      "[CV] END classifier__bootstrap=True, classifier__max_depth=20, classifier__max_features=5, classifier__min_samples_leaf=4, classifier__min_samples_split=12, classifier__n_estimators=200; total time=   1.7s\n",
      "[CV] END classifier__bootstrap=True, classifier__max_depth=20, classifier__max_features=5, classifier__min_samples_leaf=4, classifier__min_samples_split=12, classifier__n_estimators=200; total time=   1.7s\n"
     ]
    },
    {
     "name": "stderr",
     "output_type": "stream",
     "text": [
      "/Users/foreverrefugee/opt/anaconda3/lib/python3.8/site-packages/sklearn/preprocessing/_data.py:3253: RuntimeWarning: divide by zero encountered in log\n",
      "  loglike = -n_samples / 2 * np.log(x_trans.var())\n",
      "/Users/foreverrefugee/opt/anaconda3/lib/python3.8/site-packages/sklearn/feature_selection/_univariate_selection.py:112: UserWarning: Features [0] are constant.\n",
      "  warnings.warn(\"Features %s are constant.\" % constant_features_idx, UserWarning)\n",
      "/Users/foreverrefugee/opt/anaconda3/lib/python3.8/site-packages/sklearn/feature_selection/_univariate_selection.py:113: RuntimeWarning: invalid value encountered in true_divide\n",
      "  f = msb / msw\n"
     ]
    },
    {
     "name": "stdout",
     "output_type": "stream",
     "text": [
      "[CV] END classifier__bootstrap=True, classifier__max_depth=20, classifier__max_features=5, classifier__min_samples_leaf=4, classifier__min_samples_split=12, classifier__n_estimators=200; total time=   1.7s\n",
      "[CV] END classifier__bootstrap=True, classifier__max_depth=20, classifier__max_features=5, classifier__min_samples_leaf=4, classifier__min_samples_split=12, classifier__n_estimators=300; total time=   2.4s\n",
      "[CV] END classifier__bootstrap=True, classifier__max_depth=20, classifier__max_features=5, classifier__min_samples_leaf=5, classifier__min_samples_split=8, classifier__n_estimators=100; total time=   0.9s\n"
     ]
    },
    {
     "name": "stderr",
     "output_type": "stream",
     "text": [
      "/Users/foreverrefugee/opt/anaconda3/lib/python3.8/site-packages/sklearn/preprocessing/_data.py:3253: RuntimeWarning: divide by zero encountered in log\n",
      "  loglike = -n_samples / 2 * np.log(x_trans.var())\n",
      "/Users/foreverrefugee/opt/anaconda3/lib/python3.8/site-packages/sklearn/feature_selection/_univariate_selection.py:112: UserWarning: Features [0] are constant.\n",
      "  warnings.warn(\"Features %s are constant.\" % constant_features_idx, UserWarning)\n",
      "/Users/foreverrefugee/opt/anaconda3/lib/python3.8/site-packages/sklearn/feature_selection/_univariate_selection.py:113: RuntimeWarning: invalid value encountered in true_divide\n",
      "  f = msb / msw\n"
     ]
    },
    {
     "name": "stdout",
     "output_type": "stream",
     "text": [
      "[CV] END classifier__bootstrap=True, classifier__max_depth=20, classifier__max_features=5, classifier__min_samples_leaf=5, classifier__min_samples_split=8, classifier__n_estimators=100; total time=   1.1s\n",
      "[CV] END classifier__bootstrap=True, classifier__max_depth=20, classifier__max_features=5, classifier__min_samples_leaf=5, classifier__min_samples_split=8, classifier__n_estimators=100; total time=   1.1s\n",
      "[CV] END classifier__bootstrap=True, classifier__max_depth=20, classifier__max_features=5, classifier__min_samples_leaf=4, classifier__min_samples_split=12, classifier__n_estimators=300; total time=   2.6s\n",
      "[CV] END classifier__bootstrap=True, classifier__max_depth=20, classifier__max_features=5, classifier__min_samples_leaf=4, classifier__min_samples_split=12, classifier__n_estimators=300; total time=   2.6s\n"
     ]
    },
    {
     "name": "stderr",
     "output_type": "stream",
     "text": [
      "/Users/foreverrefugee/opt/anaconda3/lib/python3.8/site-packages/sklearn/preprocessing/_data.py:3253: RuntimeWarning: divide by zero encountered in log\n",
      "  loglike = -n_samples / 2 * np.log(x_trans.var())\n",
      "/Users/foreverrefugee/opt/anaconda3/lib/python3.8/site-packages/sklearn/feature_selection/_univariate_selection.py:112: UserWarning: Features [0] are constant.\n",
      "  warnings.warn(\"Features %s are constant.\" % constant_features_idx, UserWarning)\n",
      "/Users/foreverrefugee/opt/anaconda3/lib/python3.8/site-packages/sklearn/feature_selection/_univariate_selection.py:113: RuntimeWarning: invalid value encountered in true_divide\n",
      "  f = msb / msw\n"
     ]
    },
    {
     "name": "stdout",
     "output_type": "stream",
     "text": [
      "[CV] END classifier__bootstrap=True, classifier__max_depth=20, classifier__max_features=5, classifier__min_samples_leaf=5, classifier__min_samples_split=8, classifier__n_estimators=200; total time=   1.5s\n",
      "[CV] END classifier__bootstrap=True, classifier__max_depth=20, classifier__max_features=5, classifier__min_samples_leaf=5, classifier__min_samples_split=8, classifier__n_estimators=200; total time=   1.4s\n",
      "[CV] END classifier__bootstrap=True, classifier__max_depth=20, classifier__max_features=5, classifier__min_samples_leaf=5, classifier__min_samples_split=8, classifier__n_estimators=200; total time=   1.5s\n"
     ]
    },
    {
     "name": "stderr",
     "output_type": "stream",
     "text": [
      "/Users/foreverrefugee/opt/anaconda3/lib/python3.8/site-packages/sklearn/preprocessing/_data.py:3253: RuntimeWarning: divide by zero encountered in log\n",
      "  loglike = -n_samples / 2 * np.log(x_trans.var())\n",
      "/Users/foreverrefugee/opt/anaconda3/lib/python3.8/site-packages/sklearn/feature_selection/_univariate_selection.py:112: UserWarning: Features [0] are constant.\n",
      "  warnings.warn(\"Features %s are constant.\" % constant_features_idx, UserWarning)\n",
      "/Users/foreverrefugee/opt/anaconda3/lib/python3.8/site-packages/sklearn/feature_selection/_univariate_selection.py:113: RuntimeWarning: invalid value encountered in true_divide\n",
      "  f = msb / msw\n"
     ]
    },
    {
     "name": "stdout",
     "output_type": "stream",
     "text": [
      "[CV] END classifier__bootstrap=True, classifier__max_depth=20, classifier__max_features=5, classifier__min_samples_leaf=5, classifier__min_samples_split=8, classifier__n_estimators=300; total time=   2.0s\n",
      "[CV] END classifier__bootstrap=True, classifier__max_depth=20, classifier__max_features=5, classifier__min_samples_leaf=5, classifier__min_samples_split=10, classifier__n_estimators=100; total time=   0.7s\n"
     ]
    },
    {
     "name": "stderr",
     "output_type": "stream",
     "text": [
      "/Users/foreverrefugee/opt/anaconda3/lib/python3.8/site-packages/sklearn/preprocessing/_data.py:3253: RuntimeWarning: divide by zero encountered in log\n",
      "  loglike = -n_samples / 2 * np.log(x_trans.var())\n",
      "/Users/foreverrefugee/opt/anaconda3/lib/python3.8/site-packages/sklearn/feature_selection/_univariate_selection.py:112: UserWarning: Features [0] are constant.\n",
      "  warnings.warn(\"Features %s are constant.\" % constant_features_idx, UserWarning)\n",
      "/Users/foreverrefugee/opt/anaconda3/lib/python3.8/site-packages/sklearn/feature_selection/_univariate_selection.py:113: RuntimeWarning: invalid value encountered in true_divide\n",
      "  f = msb / msw\n"
     ]
    },
    {
     "name": "stdout",
     "output_type": "stream",
     "text": [
      "[CV] END classifier__bootstrap=True, classifier__max_depth=20, classifier__max_features=5, classifier__min_samples_leaf=5, classifier__min_samples_split=10, classifier__n_estimators=100; total time=   0.7s\n",
      "[CV] END classifier__bootstrap=True, classifier__max_depth=20, classifier__max_features=5, classifier__min_samples_leaf=5, classifier__min_samples_split=10, classifier__n_estimators=100; total time=   0.7s\n",
      "[CV] END classifier__bootstrap=True, classifier__max_depth=20, classifier__max_features=5, classifier__min_samples_leaf=5, classifier__min_samples_split=8, classifier__n_estimators=300; total time=   1.9s\n",
      "[CV] END classifier__bootstrap=True, classifier__max_depth=20, classifier__max_features=5, classifier__min_samples_leaf=5, classifier__min_samples_split=8, classifier__n_estimators=300; total time=   1.8s\n"
     ]
    },
    {
     "name": "stderr",
     "output_type": "stream",
     "text": [
      "/Users/foreverrefugee/opt/anaconda3/lib/python3.8/site-packages/sklearn/preprocessing/_data.py:3253: RuntimeWarning: divide by zero encountered in log\n",
      "  loglike = -n_samples / 2 * np.log(x_trans.var())\n",
      "/Users/foreverrefugee/opt/anaconda3/lib/python3.8/site-packages/sklearn/feature_selection/_univariate_selection.py:112: UserWarning: Features [0] are constant.\n",
      "  warnings.warn(\"Features %s are constant.\" % constant_features_idx, UserWarning)\n",
      "/Users/foreverrefugee/opt/anaconda3/lib/python3.8/site-packages/sklearn/feature_selection/_univariate_selection.py:113: RuntimeWarning: invalid value encountered in true_divide\n",
      "  f = msb / msw\n"
     ]
    },
    {
     "name": "stdout",
     "output_type": "stream",
     "text": [
      "[CV] END classifier__bootstrap=True, classifier__max_depth=20, classifier__max_features=5, classifier__min_samples_leaf=5, classifier__min_samples_split=10, classifier__n_estimators=200; total time=   1.2s\n",
      "[CV] END classifier__bootstrap=True, classifier__max_depth=20, classifier__max_features=5, classifier__min_samples_leaf=5, classifier__min_samples_split=10, classifier__n_estimators=200; total time=   1.2s\n"
     ]
    },
    {
     "name": "stderr",
     "output_type": "stream",
     "text": [
      "/Users/foreverrefugee/opt/anaconda3/lib/python3.8/site-packages/sklearn/preprocessing/_data.py:3253: RuntimeWarning: divide by zero encountered in log\n",
      "  loglike = -n_samples / 2 * np.log(x_trans.var())\n",
      "/Users/foreverrefugee/opt/anaconda3/lib/python3.8/site-packages/sklearn/feature_selection/_univariate_selection.py:112: UserWarning: Features [0] are constant.\n",
      "  warnings.warn(\"Features %s are constant.\" % constant_features_idx, UserWarning)\n",
      "/Users/foreverrefugee/opt/anaconda3/lib/python3.8/site-packages/sklearn/feature_selection/_univariate_selection.py:113: RuntimeWarning: invalid value encountered in true_divide\n",
      "  f = msb / msw\n"
     ]
    },
    {
     "name": "stdout",
     "output_type": "stream",
     "text": [
      "[CV] END classifier__bootstrap=True, classifier__max_depth=20, classifier__max_features=5, classifier__min_samples_leaf=5, classifier__min_samples_split=10, classifier__n_estimators=200; total time=   1.3s\n",
      "[CV] END classifier__bootstrap=True, classifier__max_depth=20, classifier__max_features=5, classifier__min_samples_leaf=5, classifier__min_samples_split=10, classifier__n_estimators=300; total time=   1.8s\n",
      "[CV] END classifier__bootstrap=True, classifier__max_depth=20, classifier__max_features=5, classifier__min_samples_leaf=5, classifier__min_samples_split=12, classifier__n_estimators=100; total time=   0.7s\n"
     ]
    },
    {
     "name": "stderr",
     "output_type": "stream",
     "text": [
      "/Users/foreverrefugee/opt/anaconda3/lib/python3.8/site-packages/sklearn/preprocessing/_data.py:3253: RuntimeWarning: divide by zero encountered in log\n",
      "  loglike = -n_samples / 2 * np.log(x_trans.var())\n",
      "/Users/foreverrefugee/opt/anaconda3/lib/python3.8/site-packages/sklearn/feature_selection/_univariate_selection.py:112: UserWarning: Features [0] are constant.\n",
      "  warnings.warn(\"Features %s are constant.\" % constant_features_idx, UserWarning)\n",
      "/Users/foreverrefugee/opt/anaconda3/lib/python3.8/site-packages/sklearn/feature_selection/_univariate_selection.py:113: RuntimeWarning: invalid value encountered in true_divide\n",
      "  f = msb / msw\n"
     ]
    },
    {
     "name": "stdout",
     "output_type": "stream",
     "text": [
      "[CV] END classifier__bootstrap=True, classifier__max_depth=20, classifier__max_features=5, classifier__min_samples_leaf=5, classifier__min_samples_split=12, classifier__n_estimators=100; total time=   0.7s\n",
      "[CV] END classifier__bootstrap=True, classifier__max_depth=20, classifier__max_features=5, classifier__min_samples_leaf=5, classifier__min_samples_split=12, classifier__n_estimators=100; total time=   0.7s\n",
      "[CV] END classifier__bootstrap=True, classifier__max_depth=20, classifier__max_features=5, classifier__min_samples_leaf=5, classifier__min_samples_split=10, classifier__n_estimators=300; total time=   1.9s\n",
      "[CV] END classifier__bootstrap=True, classifier__max_depth=20, classifier__max_features=5, classifier__min_samples_leaf=5, classifier__min_samples_split=10, classifier__n_estimators=300; total time=   2.0s\n"
     ]
    },
    {
     "name": "stderr",
     "output_type": "stream",
     "text": [
      "/Users/foreverrefugee/opt/anaconda3/lib/python3.8/site-packages/sklearn/preprocessing/_data.py:3253: RuntimeWarning: divide by zero encountered in log\n",
      "  loglike = -n_samples / 2 * np.log(x_trans.var())\n",
      "/Users/foreverrefugee/opt/anaconda3/lib/python3.8/site-packages/sklearn/feature_selection/_univariate_selection.py:112: UserWarning: Features [0] are constant.\n",
      "  warnings.warn(\"Features %s are constant.\" % constant_features_idx, UserWarning)\n",
      "/Users/foreverrefugee/opt/anaconda3/lib/python3.8/site-packages/sklearn/feature_selection/_univariate_selection.py:113: RuntimeWarning: invalid value encountered in true_divide\n",
      "  f = msb / msw\n"
     ]
    },
    {
     "name": "stdout",
     "output_type": "stream",
     "text": [
      "[CV] END classifier__bootstrap=True, classifier__max_depth=20, classifier__max_features=5, classifier__min_samples_leaf=5, classifier__min_samples_split=12, classifier__n_estimators=200; total time=   1.3s\n",
      "[CV] END classifier__bootstrap=True, classifier__max_depth=20, classifier__max_features=5, classifier__min_samples_leaf=5, classifier__min_samples_split=12, classifier__n_estimators=200; total time=   1.3s\n",
      "[CV] END classifier__bootstrap=True, classifier__max_depth=20, classifier__max_features=5, classifier__min_samples_leaf=5, classifier__min_samples_split=12, classifier__n_estimators=200; total time=   1.3s\n"
     ]
    },
    {
     "name": "stderr",
     "output_type": "stream",
     "text": [
      "/Users/foreverrefugee/opt/anaconda3/lib/python3.8/site-packages/sklearn/preprocessing/_data.py:3253: RuntimeWarning: divide by zero encountered in log\n",
      "  loglike = -n_samples / 2 * np.log(x_trans.var())\n",
      "/Users/foreverrefugee/opt/anaconda3/lib/python3.8/site-packages/sklearn/feature_selection/_univariate_selection.py:112: UserWarning: Features [0] are constant.\n",
      "  warnings.warn(\"Features %s are constant.\" % constant_features_idx, UserWarning)\n",
      "/Users/foreverrefugee/opt/anaconda3/lib/python3.8/site-packages/sklearn/feature_selection/_univariate_selection.py:113: RuntimeWarning: invalid value encountered in true_divide\n",
      "  f = msb / msw\n"
     ]
    },
    {
     "name": "stdout",
     "output_type": "stream",
     "text": [
      "[CV] END classifier__bootstrap=False, classifier__max_depth=5, classifier__max_features=3, classifier__min_samples_leaf=3, classifier__min_samples_split=8, classifier__n_estimators=100; total time=   0.7s\n",
      "[CV] END classifier__bootstrap=True, classifier__max_depth=20, classifier__max_features=5, classifier__min_samples_leaf=5, classifier__min_samples_split=12, classifier__n_estimators=300; total time=   2.1s\n"
     ]
    },
    {
     "name": "stderr",
     "output_type": "stream",
     "text": [
      "/Users/foreverrefugee/opt/anaconda3/lib/python3.8/site-packages/sklearn/preprocessing/_data.py:3253: RuntimeWarning: divide by zero encountered in log\n",
      "  loglike = -n_samples / 2 * np.log(x_trans.var())\n",
      "/Users/foreverrefugee/opt/anaconda3/lib/python3.8/site-packages/sklearn/feature_selection/_univariate_selection.py:112: UserWarning: Features [0] are constant.\n",
      "  warnings.warn(\"Features %s are constant.\" % constant_features_idx, UserWarning)\n",
      "/Users/foreverrefugee/opt/anaconda3/lib/python3.8/site-packages/sklearn/feature_selection/_univariate_selection.py:113: RuntimeWarning: invalid value encountered in true_divide\n",
      "  f = msb / msw\n"
     ]
    },
    {
     "name": "stdout",
     "output_type": "stream",
     "text": [
      "[CV] END classifier__bootstrap=False, classifier__max_depth=5, classifier__max_features=3, classifier__min_samples_leaf=3, classifier__min_samples_split=8, classifier__n_estimators=100; total time=   0.7s\n",
      "[CV] END classifier__bootstrap=False, classifier__max_depth=5, classifier__max_features=3, classifier__min_samples_leaf=3, classifier__min_samples_split=8, classifier__n_estimators=100; total time=   0.6s\n",
      "[CV] END classifier__bootstrap=True, classifier__max_depth=20, classifier__max_features=5, classifier__min_samples_leaf=5, classifier__min_samples_split=12, classifier__n_estimators=300; total time=   2.2s\n"
     ]
    },
    {
     "name": "stderr",
     "output_type": "stream",
     "text": [
      "/Users/foreverrefugee/opt/anaconda3/lib/python3.8/site-packages/sklearn/preprocessing/_data.py:3253: RuntimeWarning: divide by zero encountered in log\n",
      "  loglike = -n_samples / 2 * np.log(x_trans.var())\n",
      "/Users/foreverrefugee/opt/anaconda3/lib/python3.8/site-packages/sklearn/feature_selection/_univariate_selection.py:112: UserWarning: Features [0] are constant.\n",
      "  warnings.warn(\"Features %s are constant.\" % constant_features_idx, UserWarning)\n",
      "/Users/foreverrefugee/opt/anaconda3/lib/python3.8/site-packages/sklearn/feature_selection/_univariate_selection.py:113: RuntimeWarning: invalid value encountered in true_divide\n",
      "  f = msb / msw\n"
     ]
    },
    {
     "name": "stdout",
     "output_type": "stream",
     "text": [
      "[CV] END classifier__bootstrap=True, classifier__max_depth=20, classifier__max_features=5, classifier__min_samples_leaf=5, classifier__min_samples_split=12, classifier__n_estimators=300; total time=   2.9s\n",
      "[CV] END classifier__bootstrap=False, classifier__max_depth=5, classifier__max_features=3, classifier__min_samples_leaf=3, classifier__min_samples_split=8, classifier__n_estimators=200; total time=   2.0s\n",
      "[CV] END classifier__bootstrap=False, classifier__max_depth=5, classifier__max_features=3, classifier__min_samples_leaf=3, classifier__min_samples_split=8, classifier__n_estimators=200; total time=   2.1s\n"
     ]
    },
    {
     "name": "stderr",
     "output_type": "stream",
     "text": [
      "/Users/foreverrefugee/opt/anaconda3/lib/python3.8/site-packages/sklearn/preprocessing/_data.py:3253: RuntimeWarning: divide by zero encountered in log\n",
      "  loglike = -n_samples / 2 * np.log(x_trans.var())\n",
      "/Users/foreverrefugee/opt/anaconda3/lib/python3.8/site-packages/sklearn/feature_selection/_univariate_selection.py:112: UserWarning: Features [0] are constant.\n",
      "  warnings.warn(\"Features %s are constant.\" % constant_features_idx, UserWarning)\n",
      "/Users/foreverrefugee/opt/anaconda3/lib/python3.8/site-packages/sklearn/feature_selection/_univariate_selection.py:113: RuntimeWarning: invalid value encountered in true_divide\n",
      "  f = msb / msw\n"
     ]
    },
    {
     "name": "stdout",
     "output_type": "stream",
     "text": [
      "[CV] END classifier__bootstrap=False, classifier__max_depth=5, classifier__max_features=3, classifier__min_samples_leaf=3, classifier__min_samples_split=8, classifier__n_estimators=200; total time=   2.3s\n",
      "[CV] END classifier__bootstrap=False, classifier__max_depth=5, classifier__max_features=3, classifier__min_samples_leaf=3, classifier__min_samples_split=8, classifier__n_estimators=300; total time=   3.1s\n",
      "[CV] END classifier__bootstrap=False, classifier__max_depth=5, classifier__max_features=3, classifier__min_samples_leaf=3, classifier__min_samples_split=10, classifier__n_estimators=100; total time=   1.4s\n"
     ]
    },
    {
     "name": "stderr",
     "output_type": "stream",
     "text": [
      "/Users/foreverrefugee/opt/anaconda3/lib/python3.8/site-packages/sklearn/preprocessing/_data.py:3253: RuntimeWarning: divide by zero encountered in log\n",
      "  loglike = -n_samples / 2 * np.log(x_trans.var())\n",
      "/Users/foreverrefugee/opt/anaconda3/lib/python3.8/site-packages/sklearn/feature_selection/_univariate_selection.py:112: UserWarning: Features [0] are constant.\n",
      "  warnings.warn(\"Features %s are constant.\" % constant_features_idx, UserWarning)\n",
      "/Users/foreverrefugee/opt/anaconda3/lib/python3.8/site-packages/sklearn/feature_selection/_univariate_selection.py:113: RuntimeWarning: invalid value encountered in true_divide\n",
      "  f = msb / msw\n"
     ]
    },
    {
     "name": "stdout",
     "output_type": "stream",
     "text": [
      "[CV] END classifier__bootstrap=False, classifier__max_depth=5, classifier__max_features=3, classifier__min_samples_leaf=3, classifier__min_samples_split=8, classifier__n_estimators=300; total time=   3.0s\n",
      "[CV] END classifier__bootstrap=False, classifier__max_depth=5, classifier__max_features=3, classifier__min_samples_leaf=3, classifier__min_samples_split=8, classifier__n_estimators=300; total time=   3.0s\n",
      "[CV] END classifier__bootstrap=False, classifier__max_depth=5, classifier__max_features=3, classifier__min_samples_leaf=3, classifier__min_samples_split=10, classifier__n_estimators=100; total time=   0.9s\n",
      "[CV] END classifier__bootstrap=False, classifier__max_depth=5, classifier__max_features=3, classifier__min_samples_leaf=3, classifier__min_samples_split=10, classifier__n_estimators=100; total time=   0.8s\n"
     ]
    },
    {
     "name": "stderr",
     "output_type": "stream",
     "text": [
      "/Users/foreverrefugee/opt/anaconda3/lib/python3.8/site-packages/sklearn/preprocessing/_data.py:3253: RuntimeWarning: divide by zero encountered in log\n",
      "  loglike = -n_samples / 2 * np.log(x_trans.var())\n",
      "/Users/foreverrefugee/opt/anaconda3/lib/python3.8/site-packages/sklearn/feature_selection/_univariate_selection.py:112: UserWarning: Features [0] are constant.\n",
      "  warnings.warn(\"Features %s are constant.\" % constant_features_idx, UserWarning)\n",
      "/Users/foreverrefugee/opt/anaconda3/lib/python3.8/site-packages/sklearn/feature_selection/_univariate_selection.py:113: RuntimeWarning: invalid value encountered in true_divide\n",
      "  f = msb / msw\n"
     ]
    },
    {
     "name": "stdout",
     "output_type": "stream",
     "text": [
      "[CV] END classifier__bootstrap=False, classifier__max_depth=5, classifier__max_features=3, classifier__min_samples_leaf=3, classifier__min_samples_split=10, classifier__n_estimators=200; total time=   1.7s\n",
      "[CV] END classifier__bootstrap=False, classifier__max_depth=5, classifier__max_features=3, classifier__min_samples_leaf=3, classifier__min_samples_split=10, classifier__n_estimators=200; total time=   1.7s\n"
     ]
    },
    {
     "name": "stderr",
     "output_type": "stream",
     "text": [
      "/Users/foreverrefugee/opt/anaconda3/lib/python3.8/site-packages/sklearn/preprocessing/_data.py:3253: RuntimeWarning: divide by zero encountered in log\n",
      "  loglike = -n_samples / 2 * np.log(x_trans.var())\n",
      "/Users/foreverrefugee/opt/anaconda3/lib/python3.8/site-packages/sklearn/feature_selection/_univariate_selection.py:112: UserWarning: Features [0] are constant.\n",
      "  warnings.warn(\"Features %s are constant.\" % constant_features_idx, UserWarning)\n",
      "/Users/foreverrefugee/opt/anaconda3/lib/python3.8/site-packages/sklearn/feature_selection/_univariate_selection.py:113: RuntimeWarning: invalid value encountered in true_divide\n",
      "  f = msb / msw\n"
     ]
    },
    {
     "name": "stdout",
     "output_type": "stream",
     "text": [
      "[CV] END classifier__bootstrap=False, classifier__max_depth=5, classifier__max_features=3, classifier__min_samples_leaf=3, classifier__min_samples_split=10, classifier__n_estimators=200; total time=   1.5s\n",
      "[CV] END classifier__bootstrap=False, classifier__max_depth=5, classifier__max_features=3, classifier__min_samples_leaf=3, classifier__min_samples_split=10, classifier__n_estimators=300; total time=   2.0s\n",
      "[CV] END classifier__bootstrap=False, classifier__max_depth=5, classifier__max_features=3, classifier__min_samples_leaf=3, classifier__min_samples_split=12, classifier__n_estimators=100; total time=   0.6s\n"
     ]
    },
    {
     "name": "stderr",
     "output_type": "stream",
     "text": [
      "/Users/foreverrefugee/opt/anaconda3/lib/python3.8/site-packages/sklearn/preprocessing/_data.py:3253: RuntimeWarning: divide by zero encountered in log\n",
      "  loglike = -n_samples / 2 * np.log(x_trans.var())\n",
      "/Users/foreverrefugee/opt/anaconda3/lib/python3.8/site-packages/sklearn/feature_selection/_univariate_selection.py:112: UserWarning: Features [0] are constant.\n",
      "  warnings.warn(\"Features %s are constant.\" % constant_features_idx, UserWarning)\n",
      "/Users/foreverrefugee/opt/anaconda3/lib/python3.8/site-packages/sklearn/feature_selection/_univariate_selection.py:113: RuntimeWarning: invalid value encountered in true_divide\n",
      "  f = msb / msw\n"
     ]
    },
    {
     "name": "stdout",
     "output_type": "stream",
     "text": [
      "[CV] END classifier__bootstrap=False, classifier__max_depth=5, classifier__max_features=3, classifier__min_samples_leaf=3, classifier__min_samples_split=12, classifier__n_estimators=100; total time=   0.6s\n",
      "[CV] END classifier__bootstrap=False, classifier__max_depth=5, classifier__max_features=3, classifier__min_samples_leaf=3, classifier__min_samples_split=10, classifier__n_estimators=300; total time=   1.4s\n",
      "[CV] END classifier__bootstrap=False, classifier__max_depth=5, classifier__max_features=3, classifier__min_samples_leaf=3, classifier__min_samples_split=12, classifier__n_estimators=100; total time=   0.6s\n",
      "[CV] END classifier__bootstrap=False, classifier__max_depth=5, classifier__max_features=3, classifier__min_samples_leaf=3, classifier__min_samples_split=10, classifier__n_estimators=300; total time=   1.6s\n"
     ]
    },
    {
     "name": "stderr",
     "output_type": "stream",
     "text": [
      "/Users/foreverrefugee/opt/anaconda3/lib/python3.8/site-packages/sklearn/preprocessing/_data.py:3253: RuntimeWarning: divide by zero encountered in log\n",
      "  loglike = -n_samples / 2 * np.log(x_trans.var())\n",
      "/Users/foreverrefugee/opt/anaconda3/lib/python3.8/site-packages/sklearn/feature_selection/_univariate_selection.py:112: UserWarning: Features [0] are constant.\n",
      "  warnings.warn(\"Features %s are constant.\" % constant_features_idx, UserWarning)\n",
      "/Users/foreverrefugee/opt/anaconda3/lib/python3.8/site-packages/sklearn/feature_selection/_univariate_selection.py:113: RuntimeWarning: invalid value encountered in true_divide\n",
      "  f = msb / msw\n"
     ]
    },
    {
     "name": "stdout",
     "output_type": "stream",
     "text": [
      "[CV] END classifier__bootstrap=False, classifier__max_depth=5, classifier__max_features=3, classifier__min_samples_leaf=3, classifier__min_samples_split=12, classifier__n_estimators=200; total time=   1.0s\n",
      "[CV] END classifier__bootstrap=False, classifier__max_depth=5, classifier__max_features=3, classifier__min_samples_leaf=3, classifier__min_samples_split=12, classifier__n_estimators=200; total time=   1.0s\n",
      "[CV] END classifier__bootstrap=False, classifier__max_depth=5, classifier__max_features=3, classifier__min_samples_leaf=3, classifier__min_samples_split=12, classifier__n_estimators=200; total time=   1.0s\n"
     ]
    },
    {
     "name": "stderr",
     "output_type": "stream",
     "text": [
      "/Users/foreverrefugee/opt/anaconda3/lib/python3.8/site-packages/sklearn/preprocessing/_data.py:3253: RuntimeWarning: divide by zero encountered in log\n",
      "  loglike = -n_samples / 2 * np.log(x_trans.var())\n",
      "/Users/foreverrefugee/opt/anaconda3/lib/python3.8/site-packages/sklearn/feature_selection/_univariate_selection.py:112: UserWarning: Features [0] are constant.\n",
      "  warnings.warn(\"Features %s are constant.\" % constant_features_idx, UserWarning)\n",
      "/Users/foreverrefugee/opt/anaconda3/lib/python3.8/site-packages/sklearn/feature_selection/_univariate_selection.py:113: RuntimeWarning: invalid value encountered in true_divide\n",
      "  f = msb / msw\n"
     ]
    },
    {
     "name": "stdout",
     "output_type": "stream",
     "text": [
      "[CV] END classifier__bootstrap=False, classifier__max_depth=5, classifier__max_features=3, classifier__min_samples_leaf=3, classifier__min_samples_split=12, classifier__n_estimators=300; total time=   1.6s\n",
      "[CV] END classifier__bootstrap=False, classifier__max_depth=5, classifier__max_features=3, classifier__min_samples_leaf=4, classifier__min_samples_split=8, classifier__n_estimators=100; total time=   0.7s\n"
     ]
    },
    {
     "name": "stderr",
     "output_type": "stream",
     "text": [
      "/Users/foreverrefugee/opt/anaconda3/lib/python3.8/site-packages/sklearn/preprocessing/_data.py:3253: RuntimeWarning: divide by zero encountered in log\n",
      "  loglike = -n_samples / 2 * np.log(x_trans.var())\n",
      "/Users/foreverrefugee/opt/anaconda3/lib/python3.8/site-packages/sklearn/feature_selection/_univariate_selection.py:112: UserWarning: Features [0] are constant.\n",
      "  warnings.warn(\"Features %s are constant.\" % constant_features_idx, UserWarning)\n",
      "/Users/foreverrefugee/opt/anaconda3/lib/python3.8/site-packages/sklearn/feature_selection/_univariate_selection.py:113: RuntimeWarning: invalid value encountered in true_divide\n",
      "  f = msb / msw\n"
     ]
    },
    {
     "name": "stdout",
     "output_type": "stream",
     "text": [
      "[CV] END classifier__bootstrap=False, classifier__max_depth=5, classifier__max_features=3, classifier__min_samples_leaf=4, classifier__min_samples_split=8, classifier__n_estimators=100; total time=   0.5s\n",
      "[CV] END classifier__bootstrap=False, classifier__max_depth=5, classifier__max_features=3, classifier__min_samples_leaf=4, classifier__min_samples_split=8, classifier__n_estimators=100; total time=   0.5s\n",
      "[CV] END classifier__bootstrap=False, classifier__max_depth=5, classifier__max_features=3, classifier__min_samples_leaf=3, classifier__min_samples_split=12, classifier__n_estimators=300; total time=   1.6s\n",
      "[CV] END classifier__bootstrap=False, classifier__max_depth=5, classifier__max_features=3, classifier__min_samples_leaf=3, classifier__min_samples_split=12, classifier__n_estimators=300; total time=   1.6s\n"
     ]
    },
    {
     "name": "stderr",
     "output_type": "stream",
     "text": [
      "/Users/foreverrefugee/opt/anaconda3/lib/python3.8/site-packages/sklearn/preprocessing/_data.py:3253: RuntimeWarning: divide by zero encountered in log\n",
      "  loglike = -n_samples / 2 * np.log(x_trans.var())\n",
      "/Users/foreverrefugee/opt/anaconda3/lib/python3.8/site-packages/sklearn/feature_selection/_univariate_selection.py:112: UserWarning: Features [0] are constant.\n",
      "  warnings.warn(\"Features %s are constant.\" % constant_features_idx, UserWarning)\n",
      "/Users/foreverrefugee/opt/anaconda3/lib/python3.8/site-packages/sklearn/feature_selection/_univariate_selection.py:113: RuntimeWarning: invalid value encountered in true_divide\n",
      "  f = msb / msw\n"
     ]
    },
    {
     "name": "stdout",
     "output_type": "stream",
     "text": [
      "[CV] END classifier__bootstrap=False, classifier__max_depth=5, classifier__max_features=3, classifier__min_samples_leaf=4, classifier__min_samples_split=8, classifier__n_estimators=200; total time=   1.2s\n",
      "[CV] END classifier__bootstrap=False, classifier__max_depth=5, classifier__max_features=3, classifier__min_samples_leaf=4, classifier__min_samples_split=8, classifier__n_estimators=200; total time=   1.2s\n"
     ]
    },
    {
     "name": "stderr",
     "output_type": "stream",
     "text": [
      "/Users/foreverrefugee/opt/anaconda3/lib/python3.8/site-packages/sklearn/preprocessing/_data.py:3253: RuntimeWarning: divide by zero encountered in log\n",
      "  loglike = -n_samples / 2 * np.log(x_trans.var())\n",
      "/Users/foreverrefugee/opt/anaconda3/lib/python3.8/site-packages/sklearn/feature_selection/_univariate_selection.py:112: UserWarning: Features [0] are constant.\n",
      "  warnings.warn(\"Features %s are constant.\" % constant_features_idx, UserWarning)\n",
      "/Users/foreverrefugee/opt/anaconda3/lib/python3.8/site-packages/sklearn/feature_selection/_univariate_selection.py:113: RuntimeWarning: invalid value encountered in true_divide\n",
      "  f = msb / msw\n"
     ]
    },
    {
     "name": "stdout",
     "output_type": "stream",
     "text": [
      "[CV] END classifier__bootstrap=False, classifier__max_depth=5, classifier__max_features=3, classifier__min_samples_leaf=4, classifier__min_samples_split=8, classifier__n_estimators=200; total time=   1.2s\n",
      "[CV] END classifier__bootstrap=False, classifier__max_depth=5, classifier__max_features=3, classifier__min_samples_leaf=4, classifier__min_samples_split=8, classifier__n_estimators=300; total time=   1.6s\n",
      "[CV] END classifier__bootstrap=False, classifier__max_depth=5, classifier__max_features=3, classifier__min_samples_leaf=4, classifier__min_samples_split=10, classifier__n_estimators=100; total time=   0.6s\n"
     ]
    },
    {
     "name": "stderr",
     "output_type": "stream",
     "text": [
      "/Users/foreverrefugee/opt/anaconda3/lib/python3.8/site-packages/sklearn/preprocessing/_data.py:3253: RuntimeWarning: divide by zero encountered in log\n",
      "  loglike = -n_samples / 2 * np.log(x_trans.var())\n",
      "/Users/foreverrefugee/opt/anaconda3/lib/python3.8/site-packages/sklearn/feature_selection/_univariate_selection.py:112: UserWarning: Features [0] are constant.\n",
      "  warnings.warn(\"Features %s are constant.\" % constant_features_idx, UserWarning)\n",
      "/Users/foreverrefugee/opt/anaconda3/lib/python3.8/site-packages/sklearn/feature_selection/_univariate_selection.py:113: RuntimeWarning: invalid value encountered in true_divide\n",
      "  f = msb / msw\n"
     ]
    },
    {
     "name": "stdout",
     "output_type": "stream",
     "text": [
      "[CV] END classifier__bootstrap=False, classifier__max_depth=5, classifier__max_features=3, classifier__min_samples_leaf=4, classifier__min_samples_split=10, classifier__n_estimators=100; total time=   0.7s\n",
      "[CV] END classifier__bootstrap=False, classifier__max_depth=5, classifier__max_features=3, classifier__min_samples_leaf=4, classifier__min_samples_split=10, classifier__n_estimators=100; total time=   0.7s\n",
      "[CV] END classifier__bootstrap=False, classifier__max_depth=5, classifier__max_features=3, classifier__min_samples_leaf=4, classifier__min_samples_split=8, classifier__n_estimators=300; total time=   1.7s\n",
      "[CV] END classifier__bootstrap=False, classifier__max_depth=5, classifier__max_features=3, classifier__min_samples_leaf=4, classifier__min_samples_split=8, classifier__n_estimators=300; total time=   1.6s\n"
     ]
    },
    {
     "name": "stderr",
     "output_type": "stream",
     "text": [
      "/Users/foreverrefugee/opt/anaconda3/lib/python3.8/site-packages/sklearn/preprocessing/_data.py:3253: RuntimeWarning: divide by zero encountered in log\n",
      "  loglike = -n_samples / 2 * np.log(x_trans.var())\n",
      "/Users/foreverrefugee/opt/anaconda3/lib/python3.8/site-packages/sklearn/feature_selection/_univariate_selection.py:112: UserWarning: Features [0] are constant.\n",
      "  warnings.warn(\"Features %s are constant.\" % constant_features_idx, UserWarning)\n",
      "/Users/foreverrefugee/opt/anaconda3/lib/python3.8/site-packages/sklearn/feature_selection/_univariate_selection.py:113: RuntimeWarning: invalid value encountered in true_divide\n",
      "  f = msb / msw\n"
     ]
    },
    {
     "name": "stdout",
     "output_type": "stream",
     "text": [
      "[CV] END classifier__bootstrap=False, classifier__max_depth=5, classifier__max_features=3, classifier__min_samples_leaf=4, classifier__min_samples_split=10, classifier__n_estimators=200; total time=   1.2s\n",
      "[CV] END classifier__bootstrap=False, classifier__max_depth=5, classifier__max_features=3, classifier__min_samples_leaf=4, classifier__min_samples_split=10, classifier__n_estimators=200; total time=   1.1s\n",
      "[CV] END classifier__bootstrap=False, classifier__max_depth=5, classifier__max_features=3, classifier__min_samples_leaf=4, classifier__min_samples_split=10, classifier__n_estimators=200; total time=   1.1s\n"
     ]
    },
    {
     "name": "stderr",
     "output_type": "stream",
     "text": [
      "/Users/foreverrefugee/opt/anaconda3/lib/python3.8/site-packages/sklearn/preprocessing/_data.py:3253: RuntimeWarning: divide by zero encountered in log\n",
      "  loglike = -n_samples / 2 * np.log(x_trans.var())\n",
      "/Users/foreverrefugee/opt/anaconda3/lib/python3.8/site-packages/sklearn/feature_selection/_univariate_selection.py:112: UserWarning: Features [0] are constant.\n",
      "  warnings.warn(\"Features %s are constant.\" % constant_features_idx, UserWarning)\n",
      "/Users/foreverrefugee/opt/anaconda3/lib/python3.8/site-packages/sklearn/feature_selection/_univariate_selection.py:113: RuntimeWarning: invalid value encountered in true_divide\n",
      "  f = msb / msw\n"
     ]
    },
    {
     "name": "stdout",
     "output_type": "stream",
     "text": [
      "[CV] END classifier__bootstrap=False, classifier__max_depth=5, classifier__max_features=3, classifier__min_samples_leaf=4, classifier__min_samples_split=10, classifier__n_estimators=300; total time=   1.6s\n",
      "[CV] END classifier__bootstrap=False, classifier__max_depth=5, classifier__max_features=3, classifier__min_samples_leaf=4, classifier__min_samples_split=12, classifier__n_estimators=100; total time=   0.6s\n"
     ]
    },
    {
     "name": "stderr",
     "output_type": "stream",
     "text": [
      "/Users/foreverrefugee/opt/anaconda3/lib/python3.8/site-packages/sklearn/preprocessing/_data.py:3253: RuntimeWarning: divide by zero encountered in log\n",
      "  loglike = -n_samples / 2 * np.log(x_trans.var())\n",
      "/Users/foreverrefugee/opt/anaconda3/lib/python3.8/site-packages/sklearn/feature_selection/_univariate_selection.py:112: UserWarning: Features [0] are constant.\n",
      "  warnings.warn(\"Features %s are constant.\" % constant_features_idx, UserWarning)\n",
      "/Users/foreverrefugee/opt/anaconda3/lib/python3.8/site-packages/sklearn/feature_selection/_univariate_selection.py:113: RuntimeWarning: invalid value encountered in true_divide\n",
      "  f = msb / msw\n"
     ]
    },
    {
     "name": "stdout",
     "output_type": "stream",
     "text": [
      "[CV] END classifier__bootstrap=False, classifier__max_depth=5, classifier__max_features=3, classifier__min_samples_leaf=4, classifier__min_samples_split=12, classifier__n_estimators=100; total time=   0.5s\n",
      "[CV] END classifier__bootstrap=False, classifier__max_depth=5, classifier__max_features=3, classifier__min_samples_leaf=4, classifier__min_samples_split=12, classifier__n_estimators=100; total time=   0.5s\n",
      "[CV] END classifier__bootstrap=False, classifier__max_depth=5, classifier__max_features=3, classifier__min_samples_leaf=4, classifier__min_samples_split=10, classifier__n_estimators=300; total time=   1.7s\n",
      "[CV] END classifier__bootstrap=False, classifier__max_depth=5, classifier__max_features=3, classifier__min_samples_leaf=4, classifier__min_samples_split=10, classifier__n_estimators=300; total time=   1.7s\n"
     ]
    },
    {
     "name": "stderr",
     "output_type": "stream",
     "text": [
      "/Users/foreverrefugee/opt/anaconda3/lib/python3.8/site-packages/sklearn/preprocessing/_data.py:3253: RuntimeWarning: divide by zero encountered in log\n",
      "  loglike = -n_samples / 2 * np.log(x_trans.var())\n",
      "/Users/foreverrefugee/opt/anaconda3/lib/python3.8/site-packages/sklearn/feature_selection/_univariate_selection.py:112: UserWarning: Features [0] are constant.\n",
      "  warnings.warn(\"Features %s are constant.\" % constant_features_idx, UserWarning)\n",
      "/Users/foreverrefugee/opt/anaconda3/lib/python3.8/site-packages/sklearn/feature_selection/_univariate_selection.py:113: RuntimeWarning: invalid value encountered in true_divide\n",
      "  f = msb / msw\n"
     ]
    },
    {
     "name": "stdout",
     "output_type": "stream",
     "text": [
      "[CV] END classifier__bootstrap=False, classifier__max_depth=5, classifier__max_features=3, classifier__min_samples_leaf=4, classifier__min_samples_split=12, classifier__n_estimators=200; total time=   1.3s\n",
      "[CV] END classifier__bootstrap=False, classifier__max_depth=5, classifier__max_features=3, classifier__min_samples_leaf=4, classifier__min_samples_split=12, classifier__n_estimators=200; total time=   1.3s\n"
     ]
    },
    {
     "name": "stderr",
     "output_type": "stream",
     "text": [
      "/Users/foreverrefugee/opt/anaconda3/lib/python3.8/site-packages/sklearn/preprocessing/_data.py:3253: RuntimeWarning: divide by zero encountered in log\n",
      "  loglike = -n_samples / 2 * np.log(x_trans.var())\n",
      "/Users/foreverrefugee/opt/anaconda3/lib/python3.8/site-packages/sklearn/feature_selection/_univariate_selection.py:112: UserWarning: Features [0] are constant.\n",
      "  warnings.warn(\"Features %s are constant.\" % constant_features_idx, UserWarning)\n",
      "/Users/foreverrefugee/opt/anaconda3/lib/python3.8/site-packages/sklearn/feature_selection/_univariate_selection.py:113: RuntimeWarning: invalid value encountered in true_divide\n",
      "  f = msb / msw\n"
     ]
    },
    {
     "name": "stdout",
     "output_type": "stream",
     "text": [
      "[CV] END classifier__bootstrap=False, classifier__max_depth=5, classifier__max_features=3, classifier__min_samples_leaf=4, classifier__min_samples_split=12, classifier__n_estimators=200; total time=   1.1s\n",
      "[CV] END classifier__bootstrap=False, classifier__max_depth=5, classifier__max_features=3, classifier__min_samples_leaf=4, classifier__min_samples_split=12, classifier__n_estimators=300; total time=   1.5s\n",
      "[CV] END classifier__bootstrap=False, classifier__max_depth=5, classifier__max_features=3, classifier__min_samples_leaf=5, classifier__min_samples_split=8, classifier__n_estimators=100; total time=   0.5s\n"
     ]
    },
    {
     "name": "stderr",
     "output_type": "stream",
     "text": [
      "/Users/foreverrefugee/opt/anaconda3/lib/python3.8/site-packages/sklearn/preprocessing/_data.py:3253: RuntimeWarning: divide by zero encountered in log\n",
      "  loglike = -n_samples / 2 * np.log(x_trans.var())\n",
      "/Users/foreverrefugee/opt/anaconda3/lib/python3.8/site-packages/sklearn/feature_selection/_univariate_selection.py:112: UserWarning: Features [0] are constant.\n",
      "  warnings.warn(\"Features %s are constant.\" % constant_features_idx, UserWarning)\n",
      "/Users/foreverrefugee/opt/anaconda3/lib/python3.8/site-packages/sklearn/feature_selection/_univariate_selection.py:113: RuntimeWarning: invalid value encountered in true_divide\n",
      "  f = msb / msw\n"
     ]
    },
    {
     "name": "stdout",
     "output_type": "stream",
     "text": [
      "[CV] END classifier__bootstrap=False, classifier__max_depth=5, classifier__max_features=3, classifier__min_samples_leaf=5, classifier__min_samples_split=8, classifier__n_estimators=100; total time=   0.6s\n",
      "[CV] END classifier__bootstrap=False, classifier__max_depth=5, classifier__max_features=3, classifier__min_samples_leaf=5, classifier__min_samples_split=8, classifier__n_estimators=100; total time=   0.5s\n",
      "[CV] END classifier__bootstrap=False, classifier__max_depth=5, classifier__max_features=3, classifier__min_samples_leaf=4, classifier__min_samples_split=12, classifier__n_estimators=300; total time=   1.4s\n",
      "[CV] END classifier__bootstrap=False, classifier__max_depth=5, classifier__max_features=3, classifier__min_samples_leaf=4, classifier__min_samples_split=12, classifier__n_estimators=300; total time=   1.4s\n"
     ]
    },
    {
     "name": "stderr",
     "output_type": "stream",
     "text": [
      "/Users/foreverrefugee/opt/anaconda3/lib/python3.8/site-packages/sklearn/preprocessing/_data.py:3253: RuntimeWarning: divide by zero encountered in log\n",
      "  loglike = -n_samples / 2 * np.log(x_trans.var())\n",
      "/Users/foreverrefugee/opt/anaconda3/lib/python3.8/site-packages/sklearn/feature_selection/_univariate_selection.py:112: UserWarning: Features [0] are constant.\n",
      "  warnings.warn(\"Features %s are constant.\" % constant_features_idx, UserWarning)\n",
      "/Users/foreverrefugee/opt/anaconda3/lib/python3.8/site-packages/sklearn/feature_selection/_univariate_selection.py:113: RuntimeWarning: invalid value encountered in true_divide\n",
      "  f = msb / msw\n"
     ]
    },
    {
     "name": "stdout",
     "output_type": "stream",
     "text": [
      "[CV] END classifier__bootstrap=False, classifier__max_depth=5, classifier__max_features=3, classifier__min_samples_leaf=5, classifier__min_samples_split=8, classifier__n_estimators=200; total time=   0.9s\n",
      "[CV] END classifier__bootstrap=False, classifier__max_depth=5, classifier__max_features=3, classifier__min_samples_leaf=5, classifier__min_samples_split=8, classifier__n_estimators=200; total time=   1.0s\n",
      "[CV] END classifier__bootstrap=False, classifier__max_depth=5, classifier__max_features=3, classifier__min_samples_leaf=5, classifier__min_samples_split=8, classifier__n_estimators=200; total time=   1.1s\n"
     ]
    },
    {
     "name": "stderr",
     "output_type": "stream",
     "text": [
      "/Users/foreverrefugee/opt/anaconda3/lib/python3.8/site-packages/sklearn/preprocessing/_data.py:3253: RuntimeWarning: divide by zero encountered in log\n",
      "  loglike = -n_samples / 2 * np.log(x_trans.var())\n",
      "/Users/foreverrefugee/opt/anaconda3/lib/python3.8/site-packages/sklearn/feature_selection/_univariate_selection.py:112: UserWarning: Features [0] are constant.\n",
      "  warnings.warn(\"Features %s are constant.\" % constant_features_idx, UserWarning)\n",
      "/Users/foreverrefugee/opt/anaconda3/lib/python3.8/site-packages/sklearn/feature_selection/_univariate_selection.py:113: RuntimeWarning: invalid value encountered in true_divide\n",
      "  f = msb / msw\n"
     ]
    },
    {
     "name": "stdout",
     "output_type": "stream",
     "text": [
      "[CV] END classifier__bootstrap=False, classifier__max_depth=5, classifier__max_features=3, classifier__min_samples_leaf=5, classifier__min_samples_split=8, classifier__n_estimators=300; total time=   2.0s\n",
      "[CV] END classifier__bootstrap=False, classifier__max_depth=5, classifier__max_features=3, classifier__min_samples_leaf=5, classifier__min_samples_split=10, classifier__n_estimators=100; total time=   1.0s\n"
     ]
    },
    {
     "name": "stderr",
     "output_type": "stream",
     "text": [
      "/Users/foreverrefugee/opt/anaconda3/lib/python3.8/site-packages/sklearn/preprocessing/_data.py:3253: RuntimeWarning: divide by zero encountered in log\n",
      "  loglike = -n_samples / 2 * np.log(x_trans.var())\n",
      "/Users/foreverrefugee/opt/anaconda3/lib/python3.8/site-packages/sklearn/feature_selection/_univariate_selection.py:112: UserWarning: Features [0] are constant.\n",
      "  warnings.warn(\"Features %s are constant.\" % constant_features_idx, UserWarning)\n",
      "/Users/foreverrefugee/opt/anaconda3/lib/python3.8/site-packages/sklearn/feature_selection/_univariate_selection.py:113: RuntimeWarning: invalid value encountered in true_divide\n",
      "  f = msb / msw\n"
     ]
    },
    {
     "name": "stdout",
     "output_type": "stream",
     "text": [
      "[CV] END classifier__bootstrap=False, classifier__max_depth=5, classifier__max_features=3, classifier__min_samples_leaf=5, classifier__min_samples_split=10, classifier__n_estimators=100; total time=   0.7s\n",
      "[CV] END classifier__bootstrap=False, classifier__max_depth=5, classifier__max_features=3, classifier__min_samples_leaf=5, classifier__min_samples_split=10, classifier__n_estimators=100; total time=   0.6s\n",
      "[CV] END classifier__bootstrap=False, classifier__max_depth=5, classifier__max_features=3, classifier__min_samples_leaf=5, classifier__min_samples_split=8, classifier__n_estimators=300; total time=   2.0s\n",
      "[CV] END classifier__bootstrap=False, classifier__max_depth=5, classifier__max_features=3, classifier__min_samples_leaf=5, classifier__min_samples_split=8, classifier__n_estimators=300; total time=   2.2s\n"
     ]
    },
    {
     "name": "stderr",
     "output_type": "stream",
     "text": [
      "/Users/foreverrefugee/opt/anaconda3/lib/python3.8/site-packages/sklearn/preprocessing/_data.py:3253: RuntimeWarning: divide by zero encountered in log\n",
      "  loglike = -n_samples / 2 * np.log(x_trans.var())\n",
      "/Users/foreverrefugee/opt/anaconda3/lib/python3.8/site-packages/sklearn/feature_selection/_univariate_selection.py:112: UserWarning: Features [0] are constant.\n",
      "  warnings.warn(\"Features %s are constant.\" % constant_features_idx, UserWarning)\n",
      "/Users/foreverrefugee/opt/anaconda3/lib/python3.8/site-packages/sklearn/feature_selection/_univariate_selection.py:113: RuntimeWarning: invalid value encountered in true_divide\n",
      "  f = msb / msw\n"
     ]
    },
    {
     "name": "stdout",
     "output_type": "stream",
     "text": [
      "[CV] END classifier__bootstrap=False, classifier__max_depth=5, classifier__max_features=3, classifier__min_samples_leaf=5, classifier__min_samples_split=10, classifier__n_estimators=200; total time=   1.0s\n",
      "[CV] END classifier__bootstrap=False, classifier__max_depth=5, classifier__max_features=3, classifier__min_samples_leaf=5, classifier__min_samples_split=10, classifier__n_estimators=200; total time=   1.0s\n"
     ]
    },
    {
     "name": "stderr",
     "output_type": "stream",
     "text": [
      "/Users/foreverrefugee/opt/anaconda3/lib/python3.8/site-packages/sklearn/preprocessing/_data.py:3253: RuntimeWarning: divide by zero encountered in log\n",
      "  loglike = -n_samples / 2 * np.log(x_trans.var())\n",
      "/Users/foreverrefugee/opt/anaconda3/lib/python3.8/site-packages/sklearn/feature_selection/_univariate_selection.py:112: UserWarning: Features [0] are constant.\n",
      "  warnings.warn(\"Features %s are constant.\" % constant_features_idx, UserWarning)\n",
      "/Users/foreverrefugee/opt/anaconda3/lib/python3.8/site-packages/sklearn/feature_selection/_univariate_selection.py:113: RuntimeWarning: invalid value encountered in true_divide\n",
      "  f = msb / msw\n"
     ]
    },
    {
     "name": "stdout",
     "output_type": "stream",
     "text": [
      "[CV] END classifier__bootstrap=False, classifier__max_depth=5, classifier__max_features=3, classifier__min_samples_leaf=5, classifier__min_samples_split=10, classifier__n_estimators=200; total time=   1.0s\n",
      "[CV] END classifier__bootstrap=False, classifier__max_depth=5, classifier__max_features=3, classifier__min_samples_leaf=5, classifier__min_samples_split=10, classifier__n_estimators=300; total time=   1.4s\n",
      "[CV] END classifier__bootstrap=False, classifier__max_depth=5, classifier__max_features=3, classifier__min_samples_leaf=5, classifier__min_samples_split=12, classifier__n_estimators=100; total time=   0.5s\n"
     ]
    },
    {
     "name": "stderr",
     "output_type": "stream",
     "text": [
      "/Users/foreverrefugee/opt/anaconda3/lib/python3.8/site-packages/sklearn/preprocessing/_data.py:3253: RuntimeWarning: divide by zero encountered in log\n",
      "  loglike = -n_samples / 2 * np.log(x_trans.var())\n",
      "/Users/foreverrefugee/opt/anaconda3/lib/python3.8/site-packages/sklearn/feature_selection/_univariate_selection.py:112: UserWarning: Features [0] are constant.\n",
      "  warnings.warn(\"Features %s are constant.\" % constant_features_idx, UserWarning)\n",
      "/Users/foreverrefugee/opt/anaconda3/lib/python3.8/site-packages/sklearn/feature_selection/_univariate_selection.py:113: RuntimeWarning: invalid value encountered in true_divide\n",
      "  f = msb / msw\n"
     ]
    },
    {
     "name": "stdout",
     "output_type": "stream",
     "text": [
      "[CV] END classifier__bootstrap=False, classifier__max_depth=5, classifier__max_features=3, classifier__min_samples_leaf=5, classifier__min_samples_split=12, classifier__n_estimators=100; total time=   0.5s\n",
      "[CV] END classifier__bootstrap=False, classifier__max_depth=5, classifier__max_features=3, classifier__min_samples_leaf=5, classifier__min_samples_split=12, classifier__n_estimators=100; total time=   0.5s\n",
      "[CV] END classifier__bootstrap=False, classifier__max_depth=5, classifier__max_features=3, classifier__min_samples_leaf=5, classifier__min_samples_split=10, classifier__n_estimators=300; total time=   1.4s\n",
      "[CV] END classifier__bootstrap=False, classifier__max_depth=5, classifier__max_features=3, classifier__min_samples_leaf=5, classifier__min_samples_split=10, classifier__n_estimators=300; total time=   1.5s\n"
     ]
    },
    {
     "name": "stderr",
     "output_type": "stream",
     "text": [
      "/Users/foreverrefugee/opt/anaconda3/lib/python3.8/site-packages/sklearn/preprocessing/_data.py:3253: RuntimeWarning: divide by zero encountered in log\n",
      "  loglike = -n_samples / 2 * np.log(x_trans.var())\n",
      "/Users/foreverrefugee/opt/anaconda3/lib/python3.8/site-packages/sklearn/feature_selection/_univariate_selection.py:112: UserWarning: Features [0] are constant.\n",
      "  warnings.warn(\"Features %s are constant.\" % constant_features_idx, UserWarning)\n",
      "/Users/foreverrefugee/opt/anaconda3/lib/python3.8/site-packages/sklearn/feature_selection/_univariate_selection.py:113: RuntimeWarning: invalid value encountered in true_divide\n",
      "  f = msb / msw\n"
     ]
    },
    {
     "name": "stdout",
     "output_type": "stream",
     "text": [
      "[CV] END classifier__bootstrap=False, classifier__max_depth=5, classifier__max_features=3, classifier__min_samples_leaf=5, classifier__min_samples_split=12, classifier__n_estimators=200; total time=   0.9s\n",
      "[CV] END classifier__bootstrap=False, classifier__max_depth=5, classifier__max_features=3, classifier__min_samples_leaf=5, classifier__min_samples_split=12, classifier__n_estimators=200; total time=   0.9s\n",
      "[CV] END classifier__bootstrap=False, classifier__max_depth=5, classifier__max_features=3, classifier__min_samples_leaf=5, classifier__min_samples_split=12, classifier__n_estimators=200; total time=   0.9s\n"
     ]
    },
    {
     "name": "stderr",
     "output_type": "stream",
     "text": [
      "/Users/foreverrefugee/opt/anaconda3/lib/python3.8/site-packages/sklearn/preprocessing/_data.py:3253: RuntimeWarning: divide by zero encountered in log\n",
      "  loglike = -n_samples / 2 * np.log(x_trans.var())\n",
      "/Users/foreverrefugee/opt/anaconda3/lib/python3.8/site-packages/sklearn/feature_selection/_univariate_selection.py:112: UserWarning: Features [0] are constant.\n",
      "  warnings.warn(\"Features %s are constant.\" % constant_features_idx, UserWarning)\n",
      "/Users/foreverrefugee/opt/anaconda3/lib/python3.8/site-packages/sklearn/feature_selection/_univariate_selection.py:113: RuntimeWarning: invalid value encountered in true_divide\n",
      "  f = msb / msw\n"
     ]
    },
    {
     "name": "stdout",
     "output_type": "stream",
     "text": [
      "[CV] END classifier__bootstrap=False, classifier__max_depth=5, classifier__max_features=3, classifier__min_samples_leaf=5, classifier__min_samples_split=12, classifier__n_estimators=300; total time=   1.4s\n",
      "[CV] END classifier__bootstrap=False, classifier__max_depth=5, classifier__max_features=5, classifier__min_samples_leaf=3, classifier__min_samples_split=8, classifier__n_estimators=100; total time=   0.6s\n"
     ]
    },
    {
     "name": "stderr",
     "output_type": "stream",
     "text": [
      "/Users/foreverrefugee/opt/anaconda3/lib/python3.8/site-packages/sklearn/preprocessing/_data.py:3253: RuntimeWarning: divide by zero encountered in log\n",
      "  loglike = -n_samples / 2 * np.log(x_trans.var())\n",
      "/Users/foreverrefugee/opt/anaconda3/lib/python3.8/site-packages/sklearn/feature_selection/_univariate_selection.py:112: UserWarning: Features [0] are constant.\n",
      "  warnings.warn(\"Features %s are constant.\" % constant_features_idx, UserWarning)\n",
      "/Users/foreverrefugee/opt/anaconda3/lib/python3.8/site-packages/sklearn/feature_selection/_univariate_selection.py:113: RuntimeWarning: invalid value encountered in true_divide\n",
      "  f = msb / msw\n"
     ]
    },
    {
     "name": "stdout",
     "output_type": "stream",
     "text": [
      "[CV] END classifier__bootstrap=False, classifier__max_depth=5, classifier__max_features=5, classifier__min_samples_leaf=3, classifier__min_samples_split=8, classifier__n_estimators=100; total time=   0.6s\n",
      "[CV] END classifier__bootstrap=False, classifier__max_depth=5, classifier__max_features=5, classifier__min_samples_leaf=3, classifier__min_samples_split=8, classifier__n_estimators=100; total time=   0.6s\n",
      "[CV] END classifier__bootstrap=False, classifier__max_depth=5, classifier__max_features=3, classifier__min_samples_leaf=5, classifier__min_samples_split=12, classifier__n_estimators=300; total time=   1.7s\n"
     ]
    },
    {
     "name": "stderr",
     "output_type": "stream",
     "text": [
      "/Users/foreverrefugee/opt/anaconda3/lib/python3.8/site-packages/sklearn/preprocessing/_data.py:3253: RuntimeWarning: divide by zero encountered in log\n",
      "  loglike = -n_samples / 2 * np.log(x_trans.var())\n",
      "/Users/foreverrefugee/opt/anaconda3/lib/python3.8/site-packages/sklearn/feature_selection/_univariate_selection.py:112: UserWarning: Features [0] are constant.\n",
      "  warnings.warn(\"Features %s are constant.\" % constant_features_idx, UserWarning)\n",
      "/Users/foreverrefugee/opt/anaconda3/lib/python3.8/site-packages/sklearn/feature_selection/_univariate_selection.py:113: RuntimeWarning: invalid value encountered in true_divide\n",
      "  f = msb / msw\n"
     ]
    },
    {
     "name": "stdout",
     "output_type": "stream",
     "text": [
      "[CV] END classifier__bootstrap=False, classifier__max_depth=5, classifier__max_features=3, classifier__min_samples_leaf=5, classifier__min_samples_split=12, classifier__n_estimators=300; total time=   1.9s\n",
      "[CV] END classifier__bootstrap=False, classifier__max_depth=5, classifier__max_features=5, classifier__min_samples_leaf=3, classifier__min_samples_split=8, classifier__n_estimators=200; total time=   1.9s\n",
      "[CV] END classifier__bootstrap=False, classifier__max_depth=5, classifier__max_features=5, classifier__min_samples_leaf=3, classifier__min_samples_split=8, classifier__n_estimators=200; total time=   1.9s\n",
      "[CV] END classifier__bootstrap=False, classifier__max_depth=5, classifier__max_features=5, classifier__min_samples_leaf=3, classifier__min_samples_split=8, classifier__n_estimators=200; total time=   1.5s\n"
     ]
    },
    {
     "name": "stderr",
     "output_type": "stream",
     "text": [
      "/Users/foreverrefugee/opt/anaconda3/lib/python3.8/site-packages/sklearn/preprocessing/_data.py:3253: RuntimeWarning: divide by zero encountered in log\n",
      "  loglike = -n_samples / 2 * np.log(x_trans.var())\n",
      "/Users/foreverrefugee/opt/anaconda3/lib/python3.8/site-packages/sklearn/feature_selection/_univariate_selection.py:112: UserWarning: Features [0] are constant.\n",
      "  warnings.warn(\"Features %s are constant.\" % constant_features_idx, UserWarning)\n",
      "/Users/foreverrefugee/opt/anaconda3/lib/python3.8/site-packages/sklearn/feature_selection/_univariate_selection.py:113: RuntimeWarning: invalid value encountered in true_divide\n",
      "  f = msb / msw\n"
     ]
    },
    {
     "name": "stdout",
     "output_type": "stream",
     "text": [
      "[CV] END classifier__bootstrap=False, classifier__max_depth=5, classifier__max_features=5, classifier__min_samples_leaf=3, classifier__min_samples_split=8, classifier__n_estimators=300; total time=   1.9s\n",
      "[CV] END classifier__bootstrap=False, classifier__max_depth=5, classifier__max_features=5, classifier__min_samples_leaf=3, classifier__min_samples_split=10, classifier__n_estimators=100; total time=   0.6s\n"
     ]
    },
    {
     "name": "stderr",
     "output_type": "stream",
     "text": [
      "/Users/foreverrefugee/opt/anaconda3/lib/python3.8/site-packages/sklearn/preprocessing/_data.py:3253: RuntimeWarning: divide by zero encountered in log\n",
      "  loglike = -n_samples / 2 * np.log(x_trans.var())\n",
      "/Users/foreverrefugee/opt/anaconda3/lib/python3.8/site-packages/sklearn/feature_selection/_univariate_selection.py:112: UserWarning: Features [0] are constant.\n",
      "  warnings.warn(\"Features %s are constant.\" % constant_features_idx, UserWarning)\n",
      "/Users/foreverrefugee/opt/anaconda3/lib/python3.8/site-packages/sklearn/feature_selection/_univariate_selection.py:113: RuntimeWarning: invalid value encountered in true_divide\n",
      "  f = msb / msw\n"
     ]
    },
    {
     "name": "stdout",
     "output_type": "stream",
     "text": [
      "[CV] END classifier__bootstrap=False, classifier__max_depth=5, classifier__max_features=5, classifier__min_samples_leaf=3, classifier__min_samples_split=10, classifier__n_estimators=100; total time=   0.6s\n",
      "[CV] END classifier__bootstrap=False, classifier__max_depth=5, classifier__max_features=5, classifier__min_samples_leaf=3, classifier__min_samples_split=10, classifier__n_estimators=100; total time=   0.6s\n",
      "[CV] END classifier__bootstrap=False, classifier__max_depth=5, classifier__max_features=5, classifier__min_samples_leaf=3, classifier__min_samples_split=8, classifier__n_estimators=300; total time=   1.6s\n",
      "[CV] END classifier__bootstrap=False, classifier__max_depth=5, classifier__max_features=5, classifier__min_samples_leaf=3, classifier__min_samples_split=8, classifier__n_estimators=300; total time=   1.5s\n"
     ]
    },
    {
     "name": "stderr",
     "output_type": "stream",
     "text": [
      "/Users/foreverrefugee/opt/anaconda3/lib/python3.8/site-packages/sklearn/preprocessing/_data.py:3253: RuntimeWarning: divide by zero encountered in log\n",
      "  loglike = -n_samples / 2 * np.log(x_trans.var())\n",
      "/Users/foreverrefugee/opt/anaconda3/lib/python3.8/site-packages/sklearn/feature_selection/_univariate_selection.py:112: UserWarning: Features [0] are constant.\n",
      "  warnings.warn(\"Features %s are constant.\" % constant_features_idx, UserWarning)\n",
      "/Users/foreverrefugee/opt/anaconda3/lib/python3.8/site-packages/sklearn/feature_selection/_univariate_selection.py:113: RuntimeWarning: invalid value encountered in true_divide\n",
      "  f = msb / msw\n"
     ]
    },
    {
     "name": "stdout",
     "output_type": "stream",
     "text": [
      "[CV] END classifier__bootstrap=False, classifier__max_depth=5, classifier__max_features=5, classifier__min_samples_leaf=3, classifier__min_samples_split=10, classifier__n_estimators=200; total time=   1.2s\n",
      "[CV] END classifier__bootstrap=False, classifier__max_depth=5, classifier__max_features=5, classifier__min_samples_leaf=3, classifier__min_samples_split=10, classifier__n_estimators=200; total time=   1.2s\n"
     ]
    },
    {
     "name": "stderr",
     "output_type": "stream",
     "text": [
      "/Users/foreverrefugee/opt/anaconda3/lib/python3.8/site-packages/sklearn/preprocessing/_data.py:3253: RuntimeWarning: divide by zero encountered in log\n",
      "  loglike = -n_samples / 2 * np.log(x_trans.var())\n",
      "/Users/foreverrefugee/opt/anaconda3/lib/python3.8/site-packages/sklearn/feature_selection/_univariate_selection.py:112: UserWarning: Features [0] are constant.\n",
      "  warnings.warn(\"Features %s are constant.\" % constant_features_idx, UserWarning)\n",
      "/Users/foreverrefugee/opt/anaconda3/lib/python3.8/site-packages/sklearn/feature_selection/_univariate_selection.py:113: RuntimeWarning: invalid value encountered in true_divide\n",
      "  f = msb / msw\n"
     ]
    },
    {
     "name": "stdout",
     "output_type": "stream",
     "text": [
      "[CV] END classifier__bootstrap=False, classifier__max_depth=5, classifier__max_features=5, classifier__min_samples_leaf=3, classifier__min_samples_split=10, classifier__n_estimators=200; total time=   1.2s\n",
      "[CV] END classifier__bootstrap=False, classifier__max_depth=5, classifier__max_features=5, classifier__min_samples_leaf=3, classifier__min_samples_split=10, classifier__n_estimators=300; total time=   1.7s\n",
      "[CV] END classifier__bootstrap=False, classifier__max_depth=5, classifier__max_features=5, classifier__min_samples_leaf=3, classifier__min_samples_split=12, classifier__n_estimators=100; total time=   0.6s\n"
     ]
    },
    {
     "name": "stderr",
     "output_type": "stream",
     "text": [
      "/Users/foreverrefugee/opt/anaconda3/lib/python3.8/site-packages/sklearn/preprocessing/_data.py:3253: RuntimeWarning: divide by zero encountered in log\n",
      "  loglike = -n_samples / 2 * np.log(x_trans.var())\n",
      "/Users/foreverrefugee/opt/anaconda3/lib/python3.8/site-packages/sklearn/feature_selection/_univariate_selection.py:112: UserWarning: Features [0] are constant.\n",
      "  warnings.warn(\"Features %s are constant.\" % constant_features_idx, UserWarning)\n",
      "/Users/foreverrefugee/opt/anaconda3/lib/python3.8/site-packages/sklearn/feature_selection/_univariate_selection.py:113: RuntimeWarning: invalid value encountered in true_divide\n",
      "  f = msb / msw\n"
     ]
    },
    {
     "name": "stdout",
     "output_type": "stream",
     "text": [
      "[CV] END classifier__bootstrap=False, classifier__max_depth=5, classifier__max_features=5, classifier__min_samples_leaf=3, classifier__min_samples_split=12, classifier__n_estimators=100; total time=   1.1s\n",
      "[CV] END classifier__bootstrap=False, classifier__max_depth=5, classifier__max_features=5, classifier__min_samples_leaf=3, classifier__min_samples_split=12, classifier__n_estimators=100; total time=   1.1s\n",
      "[CV] END classifier__bootstrap=False, classifier__max_depth=5, classifier__max_features=5, classifier__min_samples_leaf=3, classifier__min_samples_split=10, classifier__n_estimators=300; total time=   2.2s\n",
      "[CV] END classifier__bootstrap=False, classifier__max_depth=5, classifier__max_features=5, classifier__min_samples_leaf=3, classifier__min_samples_split=10, classifier__n_estimators=300; total time=   2.3s\n"
     ]
    },
    {
     "name": "stderr",
     "output_type": "stream",
     "text": [
      "/Users/foreverrefugee/opt/anaconda3/lib/python3.8/site-packages/sklearn/preprocessing/_data.py:3253: RuntimeWarning: divide by zero encountered in log\n",
      "  loglike = -n_samples / 2 * np.log(x_trans.var())\n",
      "/Users/foreverrefugee/opt/anaconda3/lib/python3.8/site-packages/sklearn/feature_selection/_univariate_selection.py:112: UserWarning: Features [0] are constant.\n",
      "  warnings.warn(\"Features %s are constant.\" % constant_features_idx, UserWarning)\n",
      "/Users/foreverrefugee/opt/anaconda3/lib/python3.8/site-packages/sklearn/feature_selection/_univariate_selection.py:113: RuntimeWarning: invalid value encountered in true_divide\n",
      "  f = msb / msw\n"
     ]
    },
    {
     "name": "stdout",
     "output_type": "stream",
     "text": [
      "[CV] END classifier__bootstrap=False, classifier__max_depth=5, classifier__max_features=5, classifier__min_samples_leaf=3, classifier__min_samples_split=12, classifier__n_estimators=200; total time=   1.1s\n",
      "[CV] END classifier__bootstrap=False, classifier__max_depth=5, classifier__max_features=5, classifier__min_samples_leaf=3, classifier__min_samples_split=12, classifier__n_estimators=200; total time=   1.2s\n",
      "[CV] END classifier__bootstrap=False, classifier__max_depth=5, classifier__max_features=5, classifier__min_samples_leaf=3, classifier__min_samples_split=12, classifier__n_estimators=200; total time=   1.0s\n"
     ]
    },
    {
     "name": "stderr",
     "output_type": "stream",
     "text": [
      "/Users/foreverrefugee/opt/anaconda3/lib/python3.8/site-packages/sklearn/preprocessing/_data.py:3253: RuntimeWarning: divide by zero encountered in log\n",
      "  loglike = -n_samples / 2 * np.log(x_trans.var())\n",
      "/Users/foreverrefugee/opt/anaconda3/lib/python3.8/site-packages/sklearn/feature_selection/_univariate_selection.py:112: UserWarning: Features [0] are constant.\n",
      "  warnings.warn(\"Features %s are constant.\" % constant_features_idx, UserWarning)\n",
      "/Users/foreverrefugee/opt/anaconda3/lib/python3.8/site-packages/sklearn/feature_selection/_univariate_selection.py:113: RuntimeWarning: invalid value encountered in true_divide\n",
      "  f = msb / msw\n"
     ]
    },
    {
     "name": "stdout",
     "output_type": "stream",
     "text": [
      "[CV] END classifier__bootstrap=False, classifier__max_depth=5, classifier__max_features=5, classifier__min_samples_leaf=3, classifier__min_samples_split=12, classifier__n_estimators=300; total time=   1.5s\n",
      "[CV] END classifier__bootstrap=False, classifier__max_depth=5, classifier__max_features=5, classifier__min_samples_leaf=4, classifier__min_samples_split=8, classifier__n_estimators=100; total time=   0.6s\n"
     ]
    },
    {
     "name": "stderr",
     "output_type": "stream",
     "text": [
      "/Users/foreverrefugee/opt/anaconda3/lib/python3.8/site-packages/sklearn/preprocessing/_data.py:3253: RuntimeWarning: divide by zero encountered in log\n",
      "  loglike = -n_samples / 2 * np.log(x_trans.var())\n",
      "/Users/foreverrefugee/opt/anaconda3/lib/python3.8/site-packages/sklearn/feature_selection/_univariate_selection.py:112: UserWarning: Features [0] are constant.\n",
      "  warnings.warn(\"Features %s are constant.\" % constant_features_idx, UserWarning)\n",
      "/Users/foreverrefugee/opt/anaconda3/lib/python3.8/site-packages/sklearn/feature_selection/_univariate_selection.py:113: RuntimeWarning: invalid value encountered in true_divide\n",
      "  f = msb / msw\n"
     ]
    },
    {
     "name": "stdout",
     "output_type": "stream",
     "text": [
      "[CV] END classifier__bootstrap=False, classifier__max_depth=5, classifier__max_features=5, classifier__min_samples_leaf=4, classifier__min_samples_split=8, classifier__n_estimators=100; total time=   0.6s\n",
      "[CV] END classifier__bootstrap=False, classifier__max_depth=5, classifier__max_features=5, classifier__min_samples_leaf=4, classifier__min_samples_split=8, classifier__n_estimators=100; total time=   0.6s\n",
      "[CV] END classifier__bootstrap=False, classifier__max_depth=5, classifier__max_features=5, classifier__min_samples_leaf=3, classifier__min_samples_split=12, classifier__n_estimators=300; total time=   1.5s\n",
      "[CV] END classifier__bootstrap=False, classifier__max_depth=5, classifier__max_features=5, classifier__min_samples_leaf=3, classifier__min_samples_split=12, classifier__n_estimators=300; total time=   1.6s\n"
     ]
    },
    {
     "name": "stderr",
     "output_type": "stream",
     "text": [
      "/Users/foreverrefugee/opt/anaconda3/lib/python3.8/site-packages/sklearn/preprocessing/_data.py:3253: RuntimeWarning: divide by zero encountered in log\n",
      "  loglike = -n_samples / 2 * np.log(x_trans.var())\n",
      "/Users/foreverrefugee/opt/anaconda3/lib/python3.8/site-packages/sklearn/feature_selection/_univariate_selection.py:112: UserWarning: Features [0] are constant.\n",
      "  warnings.warn(\"Features %s are constant.\" % constant_features_idx, UserWarning)\n",
      "/Users/foreverrefugee/opt/anaconda3/lib/python3.8/site-packages/sklearn/feature_selection/_univariate_selection.py:113: RuntimeWarning: invalid value encountered in true_divide\n",
      "  f = msb / msw\n"
     ]
    },
    {
     "name": "stdout",
     "output_type": "stream",
     "text": [
      "[CV] END classifier__bootstrap=False, classifier__max_depth=5, classifier__max_features=5, classifier__min_samples_leaf=4, classifier__min_samples_split=8, classifier__n_estimators=200; total time=   1.1s\n",
      "[CV] END classifier__bootstrap=False, classifier__max_depth=5, classifier__max_features=5, classifier__min_samples_leaf=4, classifier__min_samples_split=8, classifier__n_estimators=200; total time=   1.2s\n"
     ]
    },
    {
     "name": "stderr",
     "output_type": "stream",
     "text": [
      "/Users/foreverrefugee/opt/anaconda3/lib/python3.8/site-packages/sklearn/preprocessing/_data.py:3253: RuntimeWarning: divide by zero encountered in log\n",
      "  loglike = -n_samples / 2 * np.log(x_trans.var())\n",
      "/Users/foreverrefugee/opt/anaconda3/lib/python3.8/site-packages/sklearn/feature_selection/_univariate_selection.py:112: UserWarning: Features [0] are constant.\n",
      "  warnings.warn(\"Features %s are constant.\" % constant_features_idx, UserWarning)\n",
      "/Users/foreverrefugee/opt/anaconda3/lib/python3.8/site-packages/sklearn/feature_selection/_univariate_selection.py:113: RuntimeWarning: invalid value encountered in true_divide\n",
      "  f = msb / msw\n"
     ]
    },
    {
     "name": "stdout",
     "output_type": "stream",
     "text": [
      "[CV] END classifier__bootstrap=False, classifier__max_depth=5, classifier__max_features=5, classifier__min_samples_leaf=4, classifier__min_samples_split=8, classifier__n_estimators=200; total time=   1.2s\n",
      "[CV] END classifier__bootstrap=False, classifier__max_depth=5, classifier__max_features=5, classifier__min_samples_leaf=4, classifier__min_samples_split=8, classifier__n_estimators=300; total time=   1.7s\n",
      "[CV] END classifier__bootstrap=False, classifier__max_depth=5, classifier__max_features=5, classifier__min_samples_leaf=4, classifier__min_samples_split=10, classifier__n_estimators=100; total time=   0.6s\n"
     ]
    },
    {
     "name": "stderr",
     "output_type": "stream",
     "text": [
      "/Users/foreverrefugee/opt/anaconda3/lib/python3.8/site-packages/sklearn/preprocessing/_data.py:3253: RuntimeWarning: divide by zero encountered in log\n",
      "  loglike = -n_samples / 2 * np.log(x_trans.var())\n",
      "/Users/foreverrefugee/opt/anaconda3/lib/python3.8/site-packages/sklearn/feature_selection/_univariate_selection.py:112: UserWarning: Features [0] are constant.\n",
      "  warnings.warn(\"Features %s are constant.\" % constant_features_idx, UserWarning)\n",
      "/Users/foreverrefugee/opt/anaconda3/lib/python3.8/site-packages/sklearn/feature_selection/_univariate_selection.py:113: RuntimeWarning: invalid value encountered in true_divide\n",
      "  f = msb / msw\n"
     ]
    },
    {
     "name": "stdout",
     "output_type": "stream",
     "text": [
      "[CV] END classifier__bootstrap=False, classifier__max_depth=5, classifier__max_features=5, classifier__min_samples_leaf=4, classifier__min_samples_split=10, classifier__n_estimators=100; total time=   0.9s\n",
      "[CV] END classifier__bootstrap=False, classifier__max_depth=5, classifier__max_features=5, classifier__min_samples_leaf=4, classifier__min_samples_split=10, classifier__n_estimators=100; total time=   0.9s\n",
      "[CV] END classifier__bootstrap=False, classifier__max_depth=5, classifier__max_features=5, classifier__min_samples_leaf=4, classifier__min_samples_split=8, classifier__n_estimators=300; total time=   2.0s\n"
     ]
    },
    {
     "name": "stderr",
     "output_type": "stream",
     "text": [
      "/Users/foreverrefugee/opt/anaconda3/lib/python3.8/site-packages/sklearn/preprocessing/_data.py:3253: RuntimeWarning: divide by zero encountered in log\n",
      "  loglike = -n_samples / 2 * np.log(x_trans.var())\n",
      "/Users/foreverrefugee/opt/anaconda3/lib/python3.8/site-packages/sklearn/feature_selection/_univariate_selection.py:112: UserWarning: Features [0] are constant.\n",
      "  warnings.warn(\"Features %s are constant.\" % constant_features_idx, UserWarning)\n",
      "/Users/foreverrefugee/opt/anaconda3/lib/python3.8/site-packages/sklearn/feature_selection/_univariate_selection.py:113: RuntimeWarning: invalid value encountered in true_divide\n",
      "  f = msb / msw\n"
     ]
    },
    {
     "name": "stdout",
     "output_type": "stream",
     "text": [
      "[CV] END classifier__bootstrap=False, classifier__max_depth=5, classifier__max_features=5, classifier__min_samples_leaf=4, classifier__min_samples_split=8, classifier__n_estimators=300; total time=   2.0s\n",
      "[CV] END classifier__bootstrap=False, classifier__max_depth=5, classifier__max_features=5, classifier__min_samples_leaf=4, classifier__min_samples_split=10, classifier__n_estimators=200; total time=   1.4s\n",
      "[CV] END classifier__bootstrap=False, classifier__max_depth=5, classifier__max_features=5, classifier__min_samples_leaf=4, classifier__min_samples_split=10, classifier__n_estimators=200; total time=   1.4s\n",
      "[CV] END classifier__bootstrap=False, classifier__max_depth=5, classifier__max_features=5, classifier__min_samples_leaf=4, classifier__min_samples_split=10, classifier__n_estimators=200; total time=   1.3s\n"
     ]
    },
    {
     "name": "stderr",
     "output_type": "stream",
     "text": [
      "/Users/foreverrefugee/opt/anaconda3/lib/python3.8/site-packages/sklearn/preprocessing/_data.py:3253: RuntimeWarning: divide by zero encountered in log\n",
      "  loglike = -n_samples / 2 * np.log(x_trans.var())\n",
      "/Users/foreverrefugee/opt/anaconda3/lib/python3.8/site-packages/sklearn/feature_selection/_univariate_selection.py:112: UserWarning: Features [0] are constant.\n",
      "  warnings.warn(\"Features %s are constant.\" % constant_features_idx, UserWarning)\n",
      "/Users/foreverrefugee/opt/anaconda3/lib/python3.8/site-packages/sklearn/feature_selection/_univariate_selection.py:113: RuntimeWarning: invalid value encountered in true_divide\n",
      "  f = msb / msw\n"
     ]
    },
    {
     "name": "stdout",
     "output_type": "stream",
     "text": [
      "[CV] END classifier__bootstrap=False, classifier__max_depth=5, classifier__max_features=5, classifier__min_samples_leaf=4, classifier__min_samples_split=10, classifier__n_estimators=300; total time=   1.9s\n",
      "[CV] END classifier__bootstrap=False, classifier__max_depth=5, classifier__max_features=5, classifier__min_samples_leaf=4, classifier__min_samples_split=12, classifier__n_estimators=100; total time=   0.7s\n"
     ]
    },
    {
     "name": "stderr",
     "output_type": "stream",
     "text": [
      "/Users/foreverrefugee/opt/anaconda3/lib/python3.8/site-packages/sklearn/preprocessing/_data.py:3253: RuntimeWarning: divide by zero encountered in log\n",
      "  loglike = -n_samples / 2 * np.log(x_trans.var())\n",
      "/Users/foreverrefugee/opt/anaconda3/lib/python3.8/site-packages/sklearn/feature_selection/_univariate_selection.py:112: UserWarning: Features [0] are constant.\n",
      "  warnings.warn(\"Features %s are constant.\" % constant_features_idx, UserWarning)\n",
      "/Users/foreverrefugee/opt/anaconda3/lib/python3.8/site-packages/sklearn/feature_selection/_univariate_selection.py:113: RuntimeWarning: invalid value encountered in true_divide\n",
      "  f = msb / msw\n"
     ]
    },
    {
     "name": "stdout",
     "output_type": "stream",
     "text": [
      "[CV] END classifier__bootstrap=False, classifier__max_depth=5, classifier__max_features=5, classifier__min_samples_leaf=4, classifier__min_samples_split=12, classifier__n_estimators=100; total time=   0.5s\n",
      "[CV] END classifier__bootstrap=False, classifier__max_depth=5, classifier__max_features=5, classifier__min_samples_leaf=4, classifier__min_samples_split=12, classifier__n_estimators=100; total time=   0.6s\n",
      "[CV] END classifier__bootstrap=False, classifier__max_depth=5, classifier__max_features=5, classifier__min_samples_leaf=4, classifier__min_samples_split=10, classifier__n_estimators=300; total time=   1.6s\n",
      "[CV] END classifier__bootstrap=False, classifier__max_depth=5, classifier__max_features=5, classifier__min_samples_leaf=4, classifier__min_samples_split=10, classifier__n_estimators=300; total time=   1.7s\n"
     ]
    },
    {
     "name": "stderr",
     "output_type": "stream",
     "text": [
      "/Users/foreverrefugee/opt/anaconda3/lib/python3.8/site-packages/sklearn/preprocessing/_data.py:3253: RuntimeWarning: divide by zero encountered in log\n",
      "  loglike = -n_samples / 2 * np.log(x_trans.var())\n",
      "/Users/foreverrefugee/opt/anaconda3/lib/python3.8/site-packages/sklearn/feature_selection/_univariate_selection.py:112: UserWarning: Features [0] are constant.\n",
      "  warnings.warn(\"Features %s are constant.\" % constant_features_idx, UserWarning)\n",
      "/Users/foreverrefugee/opt/anaconda3/lib/python3.8/site-packages/sklearn/feature_selection/_univariate_selection.py:113: RuntimeWarning: invalid value encountered in true_divide\n",
      "  f = msb / msw\n"
     ]
    },
    {
     "name": "stdout",
     "output_type": "stream",
     "text": [
      "[CV] END classifier__bootstrap=False, classifier__max_depth=5, classifier__max_features=5, classifier__min_samples_leaf=4, classifier__min_samples_split=12, classifier__n_estimators=200; total time=   1.0s\n",
      "[CV] END classifier__bootstrap=False, classifier__max_depth=5, classifier__max_features=5, classifier__min_samples_leaf=4, classifier__min_samples_split=12, classifier__n_estimators=200; total time=   1.1s\n",
      "[CV] END classifier__bootstrap=False, classifier__max_depth=5, classifier__max_features=5, classifier__min_samples_leaf=4, classifier__min_samples_split=12, classifier__n_estimators=200; total time=   1.0s\n"
     ]
    },
    {
     "name": "stderr",
     "output_type": "stream",
     "text": [
      "/Users/foreverrefugee/opt/anaconda3/lib/python3.8/site-packages/sklearn/preprocessing/_data.py:3253: RuntimeWarning: divide by zero encountered in log\n",
      "  loglike = -n_samples / 2 * np.log(x_trans.var())\n",
      "/Users/foreverrefugee/opt/anaconda3/lib/python3.8/site-packages/sklearn/feature_selection/_univariate_selection.py:112: UserWarning: Features [0] are constant.\n",
      "  warnings.warn(\"Features %s are constant.\" % constant_features_idx, UserWarning)\n",
      "/Users/foreverrefugee/opt/anaconda3/lib/python3.8/site-packages/sklearn/feature_selection/_univariate_selection.py:113: RuntimeWarning: invalid value encountered in true_divide\n",
      "  f = msb / msw\n"
     ]
    },
    {
     "name": "stdout",
     "output_type": "stream",
     "text": [
      "[CV] END classifier__bootstrap=False, classifier__max_depth=5, classifier__max_features=5, classifier__min_samples_leaf=5, classifier__min_samples_split=8, classifier__n_estimators=100; total time=   0.7s\n",
      "[CV] END classifier__bootstrap=False, classifier__max_depth=5, classifier__max_features=5, classifier__min_samples_leaf=4, classifier__min_samples_split=12, classifier__n_estimators=300; total time=   1.9s\n"
     ]
    },
    {
     "name": "stderr",
     "output_type": "stream",
     "text": [
      "/Users/foreverrefugee/opt/anaconda3/lib/python3.8/site-packages/sklearn/preprocessing/_data.py:3253: RuntimeWarning: divide by zero encountered in log\n",
      "  loglike = -n_samples / 2 * np.log(x_trans.var())\n",
      "/Users/foreverrefugee/opt/anaconda3/lib/python3.8/site-packages/sklearn/feature_selection/_univariate_selection.py:112: UserWarning: Features [0] are constant.\n",
      "  warnings.warn(\"Features %s are constant.\" % constant_features_idx, UserWarning)\n",
      "/Users/foreverrefugee/opt/anaconda3/lib/python3.8/site-packages/sklearn/feature_selection/_univariate_selection.py:113: RuntimeWarning: invalid value encountered in true_divide\n",
      "  f = msb / msw\n"
     ]
    },
    {
     "name": "stdout",
     "output_type": "stream",
     "text": [
      "[CV] END classifier__bootstrap=False, classifier__max_depth=5, classifier__max_features=5, classifier__min_samples_leaf=5, classifier__min_samples_split=8, classifier__n_estimators=100; total time=   1.6s\n",
      "[CV] END classifier__bootstrap=False, classifier__max_depth=5, classifier__max_features=5, classifier__min_samples_leaf=5, classifier__min_samples_split=8, classifier__n_estimators=100; total time=   1.4s\n",
      "[CV] END classifier__bootstrap=False, classifier__max_depth=5, classifier__max_features=5, classifier__min_samples_leaf=4, classifier__min_samples_split=12, classifier__n_estimators=300; total time=   2.6s\n",
      "[CV] END classifier__bootstrap=False, classifier__max_depth=5, classifier__max_features=5, classifier__min_samples_leaf=4, classifier__min_samples_split=12, classifier__n_estimators=300; total time=   2.7s\n"
     ]
    },
    {
     "name": "stderr",
     "output_type": "stream",
     "text": [
      "/Users/foreverrefugee/opt/anaconda3/lib/python3.8/site-packages/sklearn/preprocessing/_data.py:3253: RuntimeWarning: divide by zero encountered in log\n",
      "  loglike = -n_samples / 2 * np.log(x_trans.var())\n",
      "/Users/foreverrefugee/opt/anaconda3/lib/python3.8/site-packages/sklearn/feature_selection/_univariate_selection.py:112: UserWarning: Features [0] are constant.\n",
      "  warnings.warn(\"Features %s are constant.\" % constant_features_idx, UserWarning)\n",
      "/Users/foreverrefugee/opt/anaconda3/lib/python3.8/site-packages/sklearn/feature_selection/_univariate_selection.py:113: RuntimeWarning: invalid value encountered in true_divide\n",
      "  f = msb / msw\n"
     ]
    },
    {
     "name": "stdout",
     "output_type": "stream",
     "text": [
      "[CV] END classifier__bootstrap=False, classifier__max_depth=5, classifier__max_features=5, classifier__min_samples_leaf=5, classifier__min_samples_split=8, classifier__n_estimators=200; total time=   1.2s\n",
      "[CV] END classifier__bootstrap=False, classifier__max_depth=5, classifier__max_features=5, classifier__min_samples_leaf=5, classifier__min_samples_split=8, classifier__n_estimators=200; total time=   1.2s\n",
      "[CV] END classifier__bootstrap=False, classifier__max_depth=5, classifier__max_features=5, classifier__min_samples_leaf=5, classifier__min_samples_split=8, classifier__n_estimators=200; total time=   1.2s\n"
     ]
    },
    {
     "name": "stderr",
     "output_type": "stream",
     "text": [
      "/Users/foreverrefugee/opt/anaconda3/lib/python3.8/site-packages/sklearn/preprocessing/_data.py:3253: RuntimeWarning: divide by zero encountered in log\n",
      "  loglike = -n_samples / 2 * np.log(x_trans.var())\n",
      "/Users/foreverrefugee/opt/anaconda3/lib/python3.8/site-packages/sklearn/feature_selection/_univariate_selection.py:112: UserWarning: Features [0] are constant.\n",
      "  warnings.warn(\"Features %s are constant.\" % constant_features_idx, UserWarning)\n",
      "/Users/foreverrefugee/opt/anaconda3/lib/python3.8/site-packages/sklearn/feature_selection/_univariate_selection.py:113: RuntimeWarning: invalid value encountered in true_divide\n",
      "  f = msb / msw\n"
     ]
    },
    {
     "name": "stdout",
     "output_type": "stream",
     "text": [
      "[CV] END classifier__bootstrap=False, classifier__max_depth=5, classifier__max_features=5, classifier__min_samples_leaf=5, classifier__min_samples_split=8, classifier__n_estimators=300; total time=   1.7s\n",
      "[CV] END classifier__bootstrap=False, classifier__max_depth=5, classifier__max_features=5, classifier__min_samples_leaf=5, classifier__min_samples_split=10, classifier__n_estimators=100; total time=   0.6s\n"
     ]
    },
    {
     "name": "stderr",
     "output_type": "stream",
     "text": [
      "/Users/foreverrefugee/opt/anaconda3/lib/python3.8/site-packages/sklearn/preprocessing/_data.py:3253: RuntimeWarning: divide by zero encountered in log\n",
      "  loglike = -n_samples / 2 * np.log(x_trans.var())\n",
      "/Users/foreverrefugee/opt/anaconda3/lib/python3.8/site-packages/sklearn/feature_selection/_univariate_selection.py:112: UserWarning: Features [0] are constant.\n",
      "  warnings.warn(\"Features %s are constant.\" % constant_features_idx, UserWarning)\n",
      "/Users/foreverrefugee/opt/anaconda3/lib/python3.8/site-packages/sklearn/feature_selection/_univariate_selection.py:113: RuntimeWarning: invalid value encountered in true_divide\n",
      "  f = msb / msw\n"
     ]
    },
    {
     "name": "stdout",
     "output_type": "stream",
     "text": [
      "[CV] END classifier__bootstrap=False, classifier__max_depth=5, classifier__max_features=5, classifier__min_samples_leaf=5, classifier__min_samples_split=10, classifier__n_estimators=100; total time=   0.6s\n",
      "[CV] END classifier__bootstrap=False, classifier__max_depth=5, classifier__max_features=5, classifier__min_samples_leaf=5, classifier__min_samples_split=10, classifier__n_estimators=100; total time=   0.6s\n",
      "[CV] END classifier__bootstrap=False, classifier__max_depth=5, classifier__max_features=5, classifier__min_samples_leaf=5, classifier__min_samples_split=8, classifier__n_estimators=300; total time=   1.5s\n",
      "[CV] END classifier__bootstrap=False, classifier__max_depth=5, classifier__max_features=5, classifier__min_samples_leaf=5, classifier__min_samples_split=8, classifier__n_estimators=300; total time=   1.6s\n"
     ]
    },
    {
     "name": "stderr",
     "output_type": "stream",
     "text": [
      "/Users/foreverrefugee/opt/anaconda3/lib/python3.8/site-packages/sklearn/preprocessing/_data.py:3253: RuntimeWarning: divide by zero encountered in log\n",
      "  loglike = -n_samples / 2 * np.log(x_trans.var())\n",
      "/Users/foreverrefugee/opt/anaconda3/lib/python3.8/site-packages/sklearn/feature_selection/_univariate_selection.py:112: UserWarning: Features [0] are constant.\n",
      "  warnings.warn(\"Features %s are constant.\" % constant_features_idx, UserWarning)\n",
      "/Users/foreverrefugee/opt/anaconda3/lib/python3.8/site-packages/sklearn/feature_selection/_univariate_selection.py:113: RuntimeWarning: invalid value encountered in true_divide\n",
      "  f = msb / msw\n"
     ]
    },
    {
     "name": "stdout",
     "output_type": "stream",
     "text": [
      "[CV] END classifier__bootstrap=False, classifier__max_depth=5, classifier__max_features=5, classifier__min_samples_leaf=5, classifier__min_samples_split=10, classifier__n_estimators=200; total time=   1.1s\n",
      "[CV] END classifier__bootstrap=False, classifier__max_depth=5, classifier__max_features=5, classifier__min_samples_leaf=5, classifier__min_samples_split=10, classifier__n_estimators=200; total time=   1.1s\n"
     ]
    },
    {
     "name": "stderr",
     "output_type": "stream",
     "text": [
      "/Users/foreverrefugee/opt/anaconda3/lib/python3.8/site-packages/sklearn/preprocessing/_data.py:3253: RuntimeWarning: divide by zero encountered in log\n",
      "  loglike = -n_samples / 2 * np.log(x_trans.var())\n",
      "/Users/foreverrefugee/opt/anaconda3/lib/python3.8/site-packages/sklearn/feature_selection/_univariate_selection.py:112: UserWarning: Features [0] are constant.\n",
      "  warnings.warn(\"Features %s are constant.\" % constant_features_idx, UserWarning)\n",
      "/Users/foreverrefugee/opt/anaconda3/lib/python3.8/site-packages/sklearn/feature_selection/_univariate_selection.py:113: RuntimeWarning: invalid value encountered in true_divide\n",
      "  f = msb / msw\n"
     ]
    },
    {
     "name": "stdout",
     "output_type": "stream",
     "text": [
      "[CV] END classifier__bootstrap=False, classifier__max_depth=5, classifier__max_features=5, classifier__min_samples_leaf=5, classifier__min_samples_split=10, classifier__n_estimators=200; total time=   1.0s\n",
      "[CV] END classifier__bootstrap=False, classifier__max_depth=5, classifier__max_features=5, classifier__min_samples_leaf=5, classifier__min_samples_split=10, classifier__n_estimators=300; total time=   1.5s\n",
      "[CV] END classifier__bootstrap=False, classifier__max_depth=5, classifier__max_features=5, classifier__min_samples_leaf=5, classifier__min_samples_split=12, classifier__n_estimators=100; total time=   0.6s\n"
     ]
    },
    {
     "name": "stderr",
     "output_type": "stream",
     "text": [
      "/Users/foreverrefugee/opt/anaconda3/lib/python3.8/site-packages/sklearn/preprocessing/_data.py:3253: RuntimeWarning: divide by zero encountered in log\n",
      "  loglike = -n_samples / 2 * np.log(x_trans.var())\n",
      "/Users/foreverrefugee/opt/anaconda3/lib/python3.8/site-packages/sklearn/feature_selection/_univariate_selection.py:112: UserWarning: Features [0] are constant.\n",
      "  warnings.warn(\"Features %s are constant.\" % constant_features_idx, UserWarning)\n",
      "/Users/foreverrefugee/opt/anaconda3/lib/python3.8/site-packages/sklearn/feature_selection/_univariate_selection.py:113: RuntimeWarning: invalid value encountered in true_divide\n",
      "  f = msb / msw\n"
     ]
    },
    {
     "name": "stdout",
     "output_type": "stream",
     "text": [
      "[CV] END classifier__bootstrap=False, classifier__max_depth=5, classifier__max_features=5, classifier__min_samples_leaf=5, classifier__min_samples_split=12, classifier__n_estimators=100; total time=   0.6s\n",
      "[CV] END classifier__bootstrap=False, classifier__max_depth=5, classifier__max_features=5, classifier__min_samples_leaf=5, classifier__min_samples_split=12, classifier__n_estimators=100; total time=   0.6s\n",
      "[CV] END classifier__bootstrap=False, classifier__max_depth=5, classifier__max_features=5, classifier__min_samples_leaf=5, classifier__min_samples_split=10, classifier__n_estimators=300; total time=   1.5s\n"
     ]
    },
    {
     "name": "stderr",
     "output_type": "stream",
     "text": [
      "/Users/foreverrefugee/opt/anaconda3/lib/python3.8/site-packages/sklearn/preprocessing/_data.py:3253: RuntimeWarning: divide by zero encountered in log\n",
      "  loglike = -n_samples / 2 * np.log(x_trans.var())\n",
      "/Users/foreverrefugee/opt/anaconda3/lib/python3.8/site-packages/sklearn/feature_selection/_univariate_selection.py:112: UserWarning: Features [0] are constant.\n",
      "  warnings.warn(\"Features %s are constant.\" % constant_features_idx, UserWarning)\n",
      "/Users/foreverrefugee/opt/anaconda3/lib/python3.8/site-packages/sklearn/feature_selection/_univariate_selection.py:113: RuntimeWarning: invalid value encountered in true_divide\n",
      "  f = msb / msw\n"
     ]
    },
    {
     "name": "stdout",
     "output_type": "stream",
     "text": [
      "[CV] END classifier__bootstrap=False, classifier__max_depth=5, classifier__max_features=5, classifier__min_samples_leaf=5, classifier__min_samples_split=10, classifier__n_estimators=300; total time=   1.7s\n",
      "[CV] END classifier__bootstrap=False, classifier__max_depth=5, classifier__max_features=5, classifier__min_samples_leaf=5, classifier__min_samples_split=12, classifier__n_estimators=200; total time=   1.4s\n",
      "[CV] END classifier__bootstrap=False, classifier__max_depth=5, classifier__max_features=5, classifier__min_samples_leaf=5, classifier__min_samples_split=12, classifier__n_estimators=200; total time=   1.4s\n",
      "[CV] END classifier__bootstrap=False, classifier__max_depth=5, classifier__max_features=5, classifier__min_samples_leaf=5, classifier__min_samples_split=12, classifier__n_estimators=200; total time=   1.4s\n"
     ]
    },
    {
     "name": "stderr",
     "output_type": "stream",
     "text": [
      "/Users/foreverrefugee/opt/anaconda3/lib/python3.8/site-packages/sklearn/preprocessing/_data.py:3253: RuntimeWarning: divide by zero encountered in log\n",
      "  loglike = -n_samples / 2 * np.log(x_trans.var())\n",
      "/Users/foreverrefugee/opt/anaconda3/lib/python3.8/site-packages/sklearn/feature_selection/_univariate_selection.py:112: UserWarning: Features [0] are constant.\n",
      "  warnings.warn(\"Features %s are constant.\" % constant_features_idx, UserWarning)\n",
      "/Users/foreverrefugee/opt/anaconda3/lib/python3.8/site-packages/sklearn/feature_selection/_univariate_selection.py:113: RuntimeWarning: invalid value encountered in true_divide\n",
      "  f = msb / msw\n"
     ]
    },
    {
     "name": "stdout",
     "output_type": "stream",
     "text": [
      "[CV] END classifier__bootstrap=False, classifier__max_depth=10, classifier__max_features=3, classifier__min_samples_leaf=3, classifier__min_samples_split=8, classifier__n_estimators=100; total time=   0.6s\n",
      "[CV] END classifier__bootstrap=False, classifier__max_depth=5, classifier__max_features=5, classifier__min_samples_leaf=5, classifier__min_samples_split=12, classifier__n_estimators=300; total time=   1.8s\n"
     ]
    },
    {
     "name": "stderr",
     "output_type": "stream",
     "text": [
      "/Users/foreverrefugee/opt/anaconda3/lib/python3.8/site-packages/sklearn/preprocessing/_data.py:3253: RuntimeWarning: divide by zero encountered in log\n",
      "  loglike = -n_samples / 2 * np.log(x_trans.var())\n",
      "/Users/foreverrefugee/opt/anaconda3/lib/python3.8/site-packages/sklearn/feature_selection/_univariate_selection.py:112: UserWarning: Features [0] are constant.\n",
      "  warnings.warn(\"Features %s are constant.\" % constant_features_idx, UserWarning)\n",
      "/Users/foreverrefugee/opt/anaconda3/lib/python3.8/site-packages/sklearn/feature_selection/_univariate_selection.py:113: RuntimeWarning: invalid value encountered in true_divide\n",
      "  f = msb / msw\n"
     ]
    },
    {
     "name": "stdout",
     "output_type": "stream",
     "text": [
      "[CV] END classifier__bootstrap=False, classifier__max_depth=10, classifier__max_features=3, classifier__min_samples_leaf=3, classifier__min_samples_split=8, classifier__n_estimators=100; total time=   0.6s\n",
      "[CV] END classifier__bootstrap=False, classifier__max_depth=10, classifier__max_features=3, classifier__min_samples_leaf=3, classifier__min_samples_split=8, classifier__n_estimators=100; total time=   0.6s\n",
      "[CV] END classifier__bootstrap=False, classifier__max_depth=5, classifier__max_features=5, classifier__min_samples_leaf=5, classifier__min_samples_split=12, classifier__n_estimators=300; total time=   1.7s\n",
      "[CV] END classifier__bootstrap=False, classifier__max_depth=5, classifier__max_features=5, classifier__min_samples_leaf=5, classifier__min_samples_split=12, classifier__n_estimators=300; total time=   1.8s\n"
     ]
    },
    {
     "name": "stderr",
     "output_type": "stream",
     "text": [
      "/Users/foreverrefugee/opt/anaconda3/lib/python3.8/site-packages/sklearn/preprocessing/_data.py:3253: RuntimeWarning: divide by zero encountered in log\n",
      "  loglike = -n_samples / 2 * np.log(x_trans.var())\n",
      "/Users/foreverrefugee/opt/anaconda3/lib/python3.8/site-packages/sklearn/feature_selection/_univariate_selection.py:112: UserWarning: Features [0] are constant.\n",
      "  warnings.warn(\"Features %s are constant.\" % constant_features_idx, UserWarning)\n",
      "/Users/foreverrefugee/opt/anaconda3/lib/python3.8/site-packages/sklearn/feature_selection/_univariate_selection.py:113: RuntimeWarning: invalid value encountered in true_divide\n",
      "  f = msb / msw\n"
     ]
    },
    {
     "name": "stdout",
     "output_type": "stream",
     "text": [
      "[CV] END classifier__bootstrap=False, classifier__max_depth=10, classifier__max_features=3, classifier__min_samples_leaf=3, classifier__min_samples_split=8, classifier__n_estimators=200; total time=   3.2s\n",
      "[CV] END classifier__bootstrap=False, classifier__max_depth=10, classifier__max_features=3, classifier__min_samples_leaf=3, classifier__min_samples_split=8, classifier__n_estimators=200; total time=   3.2s\n"
     ]
    },
    {
     "name": "stderr",
     "output_type": "stream",
     "text": [
      "/Users/foreverrefugee/opt/anaconda3/lib/python3.8/site-packages/sklearn/preprocessing/_data.py:3253: RuntimeWarning: divide by zero encountered in log\n",
      "  loglike = -n_samples / 2 * np.log(x_trans.var())\n",
      "/Users/foreverrefugee/opt/anaconda3/lib/python3.8/site-packages/sklearn/feature_selection/_univariate_selection.py:112: UserWarning: Features [0] are constant.\n",
      "  warnings.warn(\"Features %s are constant.\" % constant_features_idx, UserWarning)\n",
      "/Users/foreverrefugee/opt/anaconda3/lib/python3.8/site-packages/sklearn/feature_selection/_univariate_selection.py:113: RuntimeWarning: invalid value encountered in true_divide\n",
      "  f = msb / msw\n"
     ]
    },
    {
     "name": "stdout",
     "output_type": "stream",
     "text": [
      "[CV] END classifier__bootstrap=False, classifier__max_depth=10, classifier__max_features=3, classifier__min_samples_leaf=3, classifier__min_samples_split=8, classifier__n_estimators=200; total time=   3.1s\n",
      "[CV] END classifier__bootstrap=False, classifier__max_depth=10, classifier__max_features=3, classifier__min_samples_leaf=3, classifier__min_samples_split=8, classifier__n_estimators=300; total time=   4.0s\n",
      "[CV] END classifier__bootstrap=False, classifier__max_depth=10, classifier__max_features=3, classifier__min_samples_leaf=3, classifier__min_samples_split=10, classifier__n_estimators=100; total time=   1.0s\n"
     ]
    },
    {
     "name": "stderr",
     "output_type": "stream",
     "text": [
      "/Users/foreverrefugee/opt/anaconda3/lib/python3.8/site-packages/sklearn/preprocessing/_data.py:3253: RuntimeWarning: divide by zero encountered in log\n",
      "  loglike = -n_samples / 2 * np.log(x_trans.var())\n",
      "/Users/foreverrefugee/opt/anaconda3/lib/python3.8/site-packages/sklearn/feature_selection/_univariate_selection.py:112: UserWarning: Features [0] are constant.\n",
      "  warnings.warn(\"Features %s are constant.\" % constant_features_idx, UserWarning)\n",
      "/Users/foreverrefugee/opt/anaconda3/lib/python3.8/site-packages/sklearn/feature_selection/_univariate_selection.py:113: RuntimeWarning: invalid value encountered in true_divide\n",
      "  f = msb / msw\n"
     ]
    },
    {
     "name": "stdout",
     "output_type": "stream",
     "text": [
      "[CV] END classifier__bootstrap=False, classifier__max_depth=10, classifier__max_features=3, classifier__min_samples_leaf=3, classifier__min_samples_split=10, classifier__n_estimators=100; total time=   0.7s\n",
      "[CV] END classifier__bootstrap=False, classifier__max_depth=10, classifier__max_features=3, classifier__min_samples_leaf=3, classifier__min_samples_split=10, classifier__n_estimators=100; total time=   0.7s\n",
      "[CV] END classifier__bootstrap=False, classifier__max_depth=10, classifier__max_features=3, classifier__min_samples_leaf=3, classifier__min_samples_split=8, classifier__n_estimators=300; total time=   2.2s\n",
      "[CV] END classifier__bootstrap=False, classifier__max_depth=10, classifier__max_features=3, classifier__min_samples_leaf=3, classifier__min_samples_split=8, classifier__n_estimators=300; total time=   2.2s\n"
     ]
    },
    {
     "name": "stderr",
     "output_type": "stream",
     "text": [
      "/Users/foreverrefugee/opt/anaconda3/lib/python3.8/site-packages/sklearn/preprocessing/_data.py:3253: RuntimeWarning: divide by zero encountered in log\n",
      "  loglike = -n_samples / 2 * np.log(x_trans.var())\n",
      "/Users/foreverrefugee/opt/anaconda3/lib/python3.8/site-packages/sklearn/feature_selection/_univariate_selection.py:112: UserWarning: Features [0] are constant.\n",
      "  warnings.warn(\"Features %s are constant.\" % constant_features_idx, UserWarning)\n",
      "/Users/foreverrefugee/opt/anaconda3/lib/python3.8/site-packages/sklearn/feature_selection/_univariate_selection.py:113: RuntimeWarning: invalid value encountered in true_divide\n",
      "  f = msb / msw\n"
     ]
    },
    {
     "name": "stdout",
     "output_type": "stream",
     "text": [
      "[CV] END classifier__bootstrap=False, classifier__max_depth=10, classifier__max_features=3, classifier__min_samples_leaf=3, classifier__min_samples_split=10, classifier__n_estimators=200; total time=   1.0s\n",
      "[CV] END classifier__bootstrap=False, classifier__max_depth=10, classifier__max_features=3, classifier__min_samples_leaf=3, classifier__min_samples_split=10, classifier__n_estimators=200; total time=   1.1s\n",
      "[CV] END classifier__bootstrap=False, classifier__max_depth=10, classifier__max_features=3, classifier__min_samples_leaf=3, classifier__min_samples_split=10, classifier__n_estimators=200; total time=   0.9s\n"
     ]
    },
    {
     "name": "stderr",
     "output_type": "stream",
     "text": [
      "/Users/foreverrefugee/opt/anaconda3/lib/python3.8/site-packages/sklearn/preprocessing/_data.py:3253: RuntimeWarning: divide by zero encountered in log\n",
      "  loglike = -n_samples / 2 * np.log(x_trans.var())\n",
      "/Users/foreverrefugee/opt/anaconda3/lib/python3.8/site-packages/sklearn/feature_selection/_univariate_selection.py:112: UserWarning: Features [0] are constant.\n",
      "  warnings.warn(\"Features %s are constant.\" % constant_features_idx, UserWarning)\n",
      "/Users/foreverrefugee/opt/anaconda3/lib/python3.8/site-packages/sklearn/feature_selection/_univariate_selection.py:113: RuntimeWarning: invalid value encountered in true_divide\n",
      "  f = msb / msw\n"
     ]
    },
    {
     "name": "stdout",
     "output_type": "stream",
     "text": [
      "[CV] END classifier__bootstrap=False, classifier__max_depth=10, classifier__max_features=3, classifier__min_samples_leaf=3, classifier__min_samples_split=10, classifier__n_estimators=300; total time=   1.4s\n",
      "[CV] END classifier__bootstrap=False, classifier__max_depth=10, classifier__max_features=3, classifier__min_samples_leaf=3, classifier__min_samples_split=12, classifier__n_estimators=100; total time=   0.5s\n"
     ]
    },
    {
     "name": "stderr",
     "output_type": "stream",
     "text": [
      "/Users/foreverrefugee/opt/anaconda3/lib/python3.8/site-packages/sklearn/preprocessing/_data.py:3253: RuntimeWarning: divide by zero encountered in log\n",
      "  loglike = -n_samples / 2 * np.log(x_trans.var())\n",
      "/Users/foreverrefugee/opt/anaconda3/lib/python3.8/site-packages/sklearn/feature_selection/_univariate_selection.py:112: UserWarning: Features [0] are constant.\n",
      "  warnings.warn(\"Features %s are constant.\" % constant_features_idx, UserWarning)\n",
      "/Users/foreverrefugee/opt/anaconda3/lib/python3.8/site-packages/sklearn/feature_selection/_univariate_selection.py:113: RuntimeWarning: invalid value encountered in true_divide\n",
      "  f = msb / msw\n"
     ]
    },
    {
     "name": "stdout",
     "output_type": "stream",
     "text": [
      "[CV] END classifier__bootstrap=False, classifier__max_depth=10, classifier__max_features=3, classifier__min_samples_leaf=3, classifier__min_samples_split=12, classifier__n_estimators=100; total time=   0.5s\n",
      "[CV] END classifier__bootstrap=False, classifier__max_depth=10, classifier__max_features=3, classifier__min_samples_leaf=3, classifier__min_samples_split=12, classifier__n_estimators=100; total time=   0.6s\n",
      "[CV] END classifier__bootstrap=False, classifier__max_depth=10, classifier__max_features=3, classifier__min_samples_leaf=3, classifier__min_samples_split=10, classifier__n_estimators=300; total time=   1.5s\n"
     ]
    },
    {
     "name": "stderr",
     "output_type": "stream",
     "text": [
      "/Users/foreverrefugee/opt/anaconda3/lib/python3.8/site-packages/sklearn/preprocessing/_data.py:3253: RuntimeWarning: divide by zero encountered in log\n",
      "  loglike = -n_samples / 2 * np.log(x_trans.var())\n",
      "/Users/foreverrefugee/opt/anaconda3/lib/python3.8/site-packages/sklearn/feature_selection/_univariate_selection.py:112: UserWarning: Features [0] are constant.\n",
      "  warnings.warn(\"Features %s are constant.\" % constant_features_idx, UserWarning)\n",
      "/Users/foreverrefugee/opt/anaconda3/lib/python3.8/site-packages/sklearn/feature_selection/_univariate_selection.py:113: RuntimeWarning: invalid value encountered in true_divide\n",
      "  f = msb / msw\n"
     ]
    },
    {
     "name": "stdout",
     "output_type": "stream",
     "text": [
      "[CV] END classifier__bootstrap=False, classifier__max_depth=10, classifier__max_features=3, classifier__min_samples_leaf=3, classifier__min_samples_split=10, classifier__n_estimators=300; total time=   1.6s\n",
      "[CV] END classifier__bootstrap=False, classifier__max_depth=10, classifier__max_features=3, classifier__min_samples_leaf=3, classifier__min_samples_split=12, classifier__n_estimators=200; total time=   1.2s\n",
      "[CV] END classifier__bootstrap=False, classifier__max_depth=10, classifier__max_features=3, classifier__min_samples_leaf=3, classifier__min_samples_split=12, classifier__n_estimators=200; total time=   1.2s\n"
     ]
    },
    {
     "name": "stderr",
     "output_type": "stream",
     "text": [
      "/Users/foreverrefugee/opt/anaconda3/lib/python3.8/site-packages/sklearn/preprocessing/_data.py:3253: RuntimeWarning: divide by zero encountered in log\n",
      "  loglike = -n_samples / 2 * np.log(x_trans.var())\n",
      "/Users/foreverrefugee/opt/anaconda3/lib/python3.8/site-packages/sklearn/feature_selection/_univariate_selection.py:112: UserWarning: Features [0] are constant.\n",
      "  warnings.warn(\"Features %s are constant.\" % constant_features_idx, UserWarning)\n",
      "/Users/foreverrefugee/opt/anaconda3/lib/python3.8/site-packages/sklearn/feature_selection/_univariate_selection.py:113: RuntimeWarning: invalid value encountered in true_divide\n",
      "  f = msb / msw\n"
     ]
    },
    {
     "name": "stdout",
     "output_type": "stream",
     "text": [
      "[CV] END classifier__bootstrap=False, classifier__max_depth=10, classifier__max_features=3, classifier__min_samples_leaf=3, classifier__min_samples_split=12, classifier__n_estimators=200; total time=   1.1s\n",
      "[CV] END classifier__bootstrap=False, classifier__max_depth=10, classifier__max_features=3, classifier__min_samples_leaf=4, classifier__min_samples_split=8, classifier__n_estimators=100; total time=   1.2s\n",
      "[CV] END classifier__bootstrap=False, classifier__max_depth=10, classifier__max_features=3, classifier__min_samples_leaf=3, classifier__min_samples_split=12, classifier__n_estimators=300; total time=   2.2s\n"
     ]
    },
    {
     "name": "stderr",
     "output_type": "stream",
     "text": [
      "/Users/foreverrefugee/opt/anaconda3/lib/python3.8/site-packages/sklearn/preprocessing/_data.py:3253: RuntimeWarning: divide by zero encountered in log\n",
      "  loglike = -n_samples / 2 * np.log(x_trans.var())\n",
      "/Users/foreverrefugee/opt/anaconda3/lib/python3.8/site-packages/sklearn/feature_selection/_univariate_selection.py:112: UserWarning: Features [0] are constant.\n",
      "  warnings.warn(\"Features %s are constant.\" % constant_features_idx, UserWarning)\n",
      "/Users/foreverrefugee/opt/anaconda3/lib/python3.8/site-packages/sklearn/feature_selection/_univariate_selection.py:113: RuntimeWarning: invalid value encountered in true_divide\n",
      "  f = msb / msw\n"
     ]
    },
    {
     "name": "stdout",
     "output_type": "stream",
     "text": [
      "[CV] END classifier__bootstrap=False, classifier__max_depth=10, classifier__max_features=3, classifier__min_samples_leaf=4, classifier__min_samples_split=8, classifier__n_estimators=100; total time=   0.8s\n",
      "[CV] END classifier__bootstrap=False, classifier__max_depth=10, classifier__max_features=3, classifier__min_samples_leaf=4, classifier__min_samples_split=8, classifier__n_estimators=100; total time=   0.8s\n",
      "[CV] END classifier__bootstrap=False, classifier__max_depth=10, classifier__max_features=3, classifier__min_samples_leaf=3, classifier__min_samples_split=12, classifier__n_estimators=300; total time=   2.4s\n"
     ]
    },
    {
     "name": "stderr",
     "output_type": "stream",
     "text": [
      "/Users/foreverrefugee/opt/anaconda3/lib/python3.8/site-packages/sklearn/preprocessing/_data.py:3253: RuntimeWarning: divide by zero encountered in log\n",
      "  loglike = -n_samples / 2 * np.log(x_trans.var())\n",
      "/Users/foreverrefugee/opt/anaconda3/lib/python3.8/site-packages/sklearn/feature_selection/_univariate_selection.py:112: UserWarning: Features [0] are constant.\n",
      "  warnings.warn(\"Features %s are constant.\" % constant_features_idx, UserWarning)\n",
      "/Users/foreverrefugee/opt/anaconda3/lib/python3.8/site-packages/sklearn/feature_selection/_univariate_selection.py:113: RuntimeWarning: invalid value encountered in true_divide\n",
      "  f = msb / msw\n"
     ]
    },
    {
     "name": "stdout",
     "output_type": "stream",
     "text": [
      "[CV] END classifier__bootstrap=False, classifier__max_depth=10, classifier__max_features=3, classifier__min_samples_leaf=3, classifier__min_samples_split=12, classifier__n_estimators=300; total time=   2.4s\n",
      "[CV] END classifier__bootstrap=False, classifier__max_depth=10, classifier__max_features=3, classifier__min_samples_leaf=4, classifier__min_samples_split=8, classifier__n_estimators=200; total time=   1.4s\n",
      "[CV] END classifier__bootstrap=False, classifier__max_depth=10, classifier__max_features=3, classifier__min_samples_leaf=4, classifier__min_samples_split=8, classifier__n_estimators=200; total time=   1.4s\n",
      "[CV] END classifier__bootstrap=False, classifier__max_depth=10, classifier__max_features=3, classifier__min_samples_leaf=4, classifier__min_samples_split=8, classifier__n_estimators=200; total time=   1.5s\n"
     ]
    },
    {
     "name": "stderr",
     "output_type": "stream",
     "text": [
      "/Users/foreverrefugee/opt/anaconda3/lib/python3.8/site-packages/sklearn/preprocessing/_data.py:3253: RuntimeWarning: divide by zero encountered in log\n",
      "  loglike = -n_samples / 2 * np.log(x_trans.var())\n",
      "/Users/foreverrefugee/opt/anaconda3/lib/python3.8/site-packages/sklearn/feature_selection/_univariate_selection.py:112: UserWarning: Features [0] are constant.\n",
      "  warnings.warn(\"Features %s are constant.\" % constant_features_idx, UserWarning)\n",
      "/Users/foreverrefugee/opt/anaconda3/lib/python3.8/site-packages/sklearn/feature_selection/_univariate_selection.py:113: RuntimeWarning: invalid value encountered in true_divide\n",
      "  f = msb / msw\n"
     ]
    },
    {
     "name": "stdout",
     "output_type": "stream",
     "text": [
      "[CV] END classifier__bootstrap=False, classifier__max_depth=10, classifier__max_features=3, classifier__min_samples_leaf=4, classifier__min_samples_split=8, classifier__n_estimators=300; total time=   2.1s\n",
      "[CV] END classifier__bootstrap=False, classifier__max_depth=10, classifier__max_features=3, classifier__min_samples_leaf=4, classifier__min_samples_split=10, classifier__n_estimators=100; total time=   0.8s\n"
     ]
    },
    {
     "name": "stderr",
     "output_type": "stream",
     "text": [
      "/Users/foreverrefugee/opt/anaconda3/lib/python3.8/site-packages/sklearn/preprocessing/_data.py:3253: RuntimeWarning: divide by zero encountered in log\n",
      "  loglike = -n_samples / 2 * np.log(x_trans.var())\n",
      "/Users/foreverrefugee/opt/anaconda3/lib/python3.8/site-packages/sklearn/feature_selection/_univariate_selection.py:112: UserWarning: Features [0] are constant.\n",
      "  warnings.warn(\"Features %s are constant.\" % constant_features_idx, UserWarning)\n",
      "/Users/foreverrefugee/opt/anaconda3/lib/python3.8/site-packages/sklearn/feature_selection/_univariate_selection.py:113: RuntimeWarning: invalid value encountered in true_divide\n",
      "  f = msb / msw\n"
     ]
    },
    {
     "name": "stdout",
     "output_type": "stream",
     "text": [
      "[CV] END classifier__bootstrap=False, classifier__max_depth=10, classifier__max_features=3, classifier__min_samples_leaf=4, classifier__min_samples_split=10, classifier__n_estimators=100; total time=   0.6s\n",
      "[CV] END classifier__bootstrap=False, classifier__max_depth=10, classifier__max_features=3, classifier__min_samples_leaf=4, classifier__min_samples_split=10, classifier__n_estimators=100; total time=   0.8s\n",
      "[CV] END classifier__bootstrap=False, classifier__max_depth=10, classifier__max_features=3, classifier__min_samples_leaf=4, classifier__min_samples_split=8, classifier__n_estimators=300; total time=   2.2s\n",
      "[CV] END classifier__bootstrap=False, classifier__max_depth=10, classifier__max_features=3, classifier__min_samples_leaf=4, classifier__min_samples_split=8, classifier__n_estimators=300; total time=   2.3s\n"
     ]
    },
    {
     "name": "stderr",
     "output_type": "stream",
     "text": [
      "/Users/foreverrefugee/opt/anaconda3/lib/python3.8/site-packages/sklearn/preprocessing/_data.py:3253: RuntimeWarning: divide by zero encountered in log\n",
      "  loglike = -n_samples / 2 * np.log(x_trans.var())\n",
      "/Users/foreverrefugee/opt/anaconda3/lib/python3.8/site-packages/sklearn/feature_selection/_univariate_selection.py:112: UserWarning: Features [0] are constant.\n",
      "  warnings.warn(\"Features %s are constant.\" % constant_features_idx, UserWarning)\n",
      "/Users/foreverrefugee/opt/anaconda3/lib/python3.8/site-packages/sklearn/feature_selection/_univariate_selection.py:113: RuntimeWarning: invalid value encountered in true_divide\n",
      "  f = msb / msw\n"
     ]
    },
    {
     "name": "stdout",
     "output_type": "stream",
     "text": [
      "[CV] END classifier__bootstrap=False, classifier__max_depth=10, classifier__max_features=3, classifier__min_samples_leaf=4, classifier__min_samples_split=10, classifier__n_estimators=200; total time=   1.7s\n",
      "[CV] END classifier__bootstrap=False, classifier__max_depth=10, classifier__max_features=3, classifier__min_samples_leaf=4, classifier__min_samples_split=10, classifier__n_estimators=200; total time=   1.6s\n"
     ]
    },
    {
     "name": "stderr",
     "output_type": "stream",
     "text": [
      "/Users/foreverrefugee/opt/anaconda3/lib/python3.8/site-packages/sklearn/preprocessing/_data.py:3253: RuntimeWarning: divide by zero encountered in log\n",
      "  loglike = -n_samples / 2 * np.log(x_trans.var())\n",
      "/Users/foreverrefugee/opt/anaconda3/lib/python3.8/site-packages/sklearn/feature_selection/_univariate_selection.py:112: UserWarning: Features [0] are constant.\n",
      "  warnings.warn(\"Features %s are constant.\" % constant_features_idx, UserWarning)\n",
      "/Users/foreverrefugee/opt/anaconda3/lib/python3.8/site-packages/sklearn/feature_selection/_univariate_selection.py:113: RuntimeWarning: invalid value encountered in true_divide\n",
      "  f = msb / msw\n"
     ]
    },
    {
     "name": "stdout",
     "output_type": "stream",
     "text": [
      "[CV] END classifier__bootstrap=False, classifier__max_depth=10, classifier__max_features=3, classifier__min_samples_leaf=4, classifier__min_samples_split=10, classifier__n_estimators=200; total time=   1.5s\n",
      "[CV] END classifier__bootstrap=False, classifier__max_depth=10, classifier__max_features=3, classifier__min_samples_leaf=4, classifier__min_samples_split=10, classifier__n_estimators=300; total time=   2.1s\n",
      "[CV] END classifier__bootstrap=False, classifier__max_depth=10, classifier__max_features=3, classifier__min_samples_leaf=4, classifier__min_samples_split=12, classifier__n_estimators=100; total time=   0.7s\n"
     ]
    },
    {
     "name": "stderr",
     "output_type": "stream",
     "text": [
      "/Users/foreverrefugee/opt/anaconda3/lib/python3.8/site-packages/sklearn/preprocessing/_data.py:3253: RuntimeWarning: divide by zero encountered in log\n",
      "  loglike = -n_samples / 2 * np.log(x_trans.var())\n",
      "/Users/foreverrefugee/opt/anaconda3/lib/python3.8/site-packages/sklearn/feature_selection/_univariate_selection.py:112: UserWarning: Features [0] are constant.\n",
      "  warnings.warn(\"Features %s are constant.\" % constant_features_idx, UserWarning)\n",
      "/Users/foreverrefugee/opt/anaconda3/lib/python3.8/site-packages/sklearn/feature_selection/_univariate_selection.py:113: RuntimeWarning: invalid value encountered in true_divide\n",
      "  f = msb / msw\n"
     ]
    },
    {
     "name": "stdout",
     "output_type": "stream",
     "text": [
      "[CV] END classifier__bootstrap=False, classifier__max_depth=10, classifier__max_features=3, classifier__min_samples_leaf=4, classifier__min_samples_split=12, classifier__n_estimators=100; total time=   0.7s\n",
      "[CV] END classifier__bootstrap=False, classifier__max_depth=10, classifier__max_features=3, classifier__min_samples_leaf=4, classifier__min_samples_split=12, classifier__n_estimators=100; total time=   0.8s\n",
      "[CV] END classifier__bootstrap=False, classifier__max_depth=10, classifier__max_features=3, classifier__min_samples_leaf=4, classifier__min_samples_split=10, classifier__n_estimators=300; total time=   2.2s\n",
      "[CV] END classifier__bootstrap=False, classifier__max_depth=10, classifier__max_features=3, classifier__min_samples_leaf=4, classifier__min_samples_split=10, classifier__n_estimators=300; total time=   2.2s\n"
     ]
    },
    {
     "name": "stderr",
     "output_type": "stream",
     "text": [
      "/Users/foreverrefugee/opt/anaconda3/lib/python3.8/site-packages/sklearn/preprocessing/_data.py:3253: RuntimeWarning: divide by zero encountered in log\n",
      "  loglike = -n_samples / 2 * np.log(x_trans.var())\n",
      "/Users/foreverrefugee/opt/anaconda3/lib/python3.8/site-packages/sklearn/feature_selection/_univariate_selection.py:112: UserWarning: Features [0] are constant.\n",
      "  warnings.warn(\"Features %s are constant.\" % constant_features_idx, UserWarning)\n",
      "/Users/foreverrefugee/opt/anaconda3/lib/python3.8/site-packages/sklearn/feature_selection/_univariate_selection.py:113: RuntimeWarning: invalid value encountered in true_divide\n",
      "  f = msb / msw\n"
     ]
    },
    {
     "name": "stdout",
     "output_type": "stream",
     "text": [
      "[CV] END classifier__bootstrap=False, classifier__max_depth=10, classifier__max_features=3, classifier__min_samples_leaf=4, classifier__min_samples_split=12, classifier__n_estimators=200; total time=   2.0s\n",
      "[CV] END classifier__bootstrap=False, classifier__max_depth=10, classifier__max_features=3, classifier__min_samples_leaf=4, classifier__min_samples_split=12, classifier__n_estimators=200; total time=   2.0s\n",
      "[CV] END classifier__bootstrap=False, classifier__max_depth=10, classifier__max_features=3, classifier__min_samples_leaf=4, classifier__min_samples_split=12, classifier__n_estimators=200; total time=   1.8s\n"
     ]
    },
    {
     "name": "stderr",
     "output_type": "stream",
     "text": [
      "/Users/foreverrefugee/opt/anaconda3/lib/python3.8/site-packages/sklearn/preprocessing/_data.py:3253: RuntimeWarning: divide by zero encountered in log\n",
      "  loglike = -n_samples / 2 * np.log(x_trans.var())\n",
      "/Users/foreverrefugee/opt/anaconda3/lib/python3.8/site-packages/sklearn/feature_selection/_univariate_selection.py:112: UserWarning: Features [0] are constant.\n",
      "  warnings.warn(\"Features %s are constant.\" % constant_features_idx, UserWarning)\n",
      "/Users/foreverrefugee/opt/anaconda3/lib/python3.8/site-packages/sklearn/feature_selection/_univariate_selection.py:113: RuntimeWarning: invalid value encountered in true_divide\n",
      "  f = msb / msw\n"
     ]
    },
    {
     "name": "stdout",
     "output_type": "stream",
     "text": [
      "[CV] END classifier__bootstrap=False, classifier__max_depth=10, classifier__max_features=3, classifier__min_samples_leaf=4, classifier__min_samples_split=12, classifier__n_estimators=300; total time=   2.6s\n",
      "[CV] END classifier__bootstrap=False, classifier__max_depth=10, classifier__max_features=3, classifier__min_samples_leaf=5, classifier__min_samples_split=8, classifier__n_estimators=100; total time=   0.9s\n"
     ]
    },
    {
     "name": "stderr",
     "output_type": "stream",
     "text": [
      "/Users/foreverrefugee/opt/anaconda3/lib/python3.8/site-packages/sklearn/preprocessing/_data.py:3253: RuntimeWarning: divide by zero encountered in log\n",
      "  loglike = -n_samples / 2 * np.log(x_trans.var())\n",
      "/Users/foreverrefugee/opt/anaconda3/lib/python3.8/site-packages/sklearn/feature_selection/_univariate_selection.py:112: UserWarning: Features [0] are constant.\n",
      "  warnings.warn(\"Features %s are constant.\" % constant_features_idx, UserWarning)\n",
      "/Users/foreverrefugee/opt/anaconda3/lib/python3.8/site-packages/sklearn/feature_selection/_univariate_selection.py:113: RuntimeWarning: invalid value encountered in true_divide\n",
      "  f = msb / msw\n"
     ]
    },
    {
     "name": "stdout",
     "output_type": "stream",
     "text": [
      "[CV] END classifier__bootstrap=False, classifier__max_depth=10, classifier__max_features=3, classifier__min_samples_leaf=5, classifier__min_samples_split=8, classifier__n_estimators=100; total time=   1.9s\n",
      "[CV] END classifier__bootstrap=False, classifier__max_depth=10, classifier__max_features=3, classifier__min_samples_leaf=5, classifier__min_samples_split=8, classifier__n_estimators=100; total time=   1.9s\n",
      "[CV] END classifier__bootstrap=False, classifier__max_depth=10, classifier__max_features=3, classifier__min_samples_leaf=4, classifier__min_samples_split=12, classifier__n_estimators=300; total time=   4.5s\n",
      "[CV] END classifier__bootstrap=False, classifier__max_depth=10, classifier__max_features=3, classifier__min_samples_leaf=4, classifier__min_samples_split=12, classifier__n_estimators=300; total time=   4.4s\n"
     ]
    },
    {
     "name": "stderr",
     "output_type": "stream",
     "text": [
      "/Users/foreverrefugee/opt/anaconda3/lib/python3.8/site-packages/sklearn/preprocessing/_data.py:3253: RuntimeWarning: divide by zero encountered in log\n",
      "  loglike = -n_samples / 2 * np.log(x_trans.var())\n",
      "/Users/foreverrefugee/opt/anaconda3/lib/python3.8/site-packages/sklearn/feature_selection/_univariate_selection.py:112: UserWarning: Features [0] are constant.\n",
      "  warnings.warn(\"Features %s are constant.\" % constant_features_idx, UserWarning)\n",
      "/Users/foreverrefugee/opt/anaconda3/lib/python3.8/site-packages/sklearn/feature_selection/_univariate_selection.py:113: RuntimeWarning: invalid value encountered in true_divide\n",
      "  f = msb / msw\n"
     ]
    },
    {
     "name": "stdout",
     "output_type": "stream",
     "text": [
      "[CV] END classifier__bootstrap=False, classifier__max_depth=10, classifier__max_features=3, classifier__min_samples_leaf=5, classifier__min_samples_split=8, classifier__n_estimators=200; total time=   3.4s\n",
      "[CV] END classifier__bootstrap=False, classifier__max_depth=10, classifier__max_features=3, classifier__min_samples_leaf=5, classifier__min_samples_split=8, classifier__n_estimators=200; total time=   3.3s\n"
     ]
    },
    {
     "name": "stderr",
     "output_type": "stream",
     "text": [
      "/Users/foreverrefugee/opt/anaconda3/lib/python3.8/site-packages/sklearn/preprocessing/_data.py:3253: RuntimeWarning: divide by zero encountered in log\n",
      "  loglike = -n_samples / 2 * np.log(x_trans.var())\n",
      "/Users/foreverrefugee/opt/anaconda3/lib/python3.8/site-packages/sklearn/feature_selection/_univariate_selection.py:112: UserWarning: Features [0] are constant.\n",
      "  warnings.warn(\"Features %s are constant.\" % constant_features_idx, UserWarning)\n",
      "/Users/foreverrefugee/opt/anaconda3/lib/python3.8/site-packages/sklearn/feature_selection/_univariate_selection.py:113: RuntimeWarning: invalid value encountered in true_divide\n",
      "  f = msb / msw\n"
     ]
    },
    {
     "name": "stdout",
     "output_type": "stream",
     "text": [
      "[CV] END classifier__bootstrap=False, classifier__max_depth=10, classifier__max_features=3, classifier__min_samples_leaf=5, classifier__min_samples_split=8, classifier__n_estimators=200; total time=   2.7s\n",
      "[CV] END classifier__bootstrap=False, classifier__max_depth=10, classifier__max_features=3, classifier__min_samples_leaf=5, classifier__min_samples_split=8, classifier__n_estimators=300; total time=   3.5s\n",
      "[CV] END classifier__bootstrap=False, classifier__max_depth=10, classifier__max_features=3, classifier__min_samples_leaf=5, classifier__min_samples_split=10, classifier__n_estimators=100; total time=   1.2s\n"
     ]
    },
    {
     "name": "stderr",
     "output_type": "stream",
     "text": [
      "/Users/foreverrefugee/opt/anaconda3/lib/python3.8/site-packages/sklearn/preprocessing/_data.py:3253: RuntimeWarning: divide by zero encountered in log\n",
      "  loglike = -n_samples / 2 * np.log(x_trans.var())\n",
      "/Users/foreverrefugee/opt/anaconda3/lib/python3.8/site-packages/sklearn/feature_selection/_univariate_selection.py:112: UserWarning: Features [0] are constant.\n",
      "  warnings.warn(\"Features %s are constant.\" % constant_features_idx, UserWarning)\n",
      "/Users/foreverrefugee/opt/anaconda3/lib/python3.8/site-packages/sklearn/feature_selection/_univariate_selection.py:113: RuntimeWarning: invalid value encountered in true_divide\n",
      "  f = msb / msw\n"
     ]
    },
    {
     "name": "stdout",
     "output_type": "stream",
     "text": [
      "[CV] END classifier__bootstrap=False, classifier__max_depth=10, classifier__max_features=3, classifier__min_samples_leaf=5, classifier__min_samples_split=10, classifier__n_estimators=100; total time=   1.0s\n",
      "[CV] END classifier__bootstrap=False, classifier__max_depth=10, classifier__max_features=3, classifier__min_samples_leaf=5, classifier__min_samples_split=10, classifier__n_estimators=100; total time=   0.8s\n",
      "[CV] END classifier__bootstrap=False, classifier__max_depth=10, classifier__max_features=3, classifier__min_samples_leaf=5, classifier__min_samples_split=8, classifier__n_estimators=300; total time=   2.7s\n"
     ]
    },
    {
     "name": "stderr",
     "output_type": "stream",
     "text": [
      "/Users/foreverrefugee/opt/anaconda3/lib/python3.8/site-packages/sklearn/preprocessing/_data.py:3253: RuntimeWarning: divide by zero encountered in log\n",
      "  loglike = -n_samples / 2 * np.log(x_trans.var())\n",
      "/Users/foreverrefugee/opt/anaconda3/lib/python3.8/site-packages/sklearn/feature_selection/_univariate_selection.py:112: UserWarning: Features [0] are constant.\n",
      "  warnings.warn(\"Features %s are constant.\" % constant_features_idx, UserWarning)\n",
      "/Users/foreverrefugee/opt/anaconda3/lib/python3.8/site-packages/sklearn/feature_selection/_univariate_selection.py:113: RuntimeWarning: invalid value encountered in true_divide\n",
      "  f = msb / msw\n"
     ]
    },
    {
     "name": "stdout",
     "output_type": "stream",
     "text": [
      "[CV] END classifier__bootstrap=False, classifier__max_depth=10, classifier__max_features=3, classifier__min_samples_leaf=5, classifier__min_samples_split=8, classifier__n_estimators=300; total time=   2.8s\n",
      "[CV] END classifier__bootstrap=False, classifier__max_depth=10, classifier__max_features=3, classifier__min_samples_leaf=5, classifier__min_samples_split=10, classifier__n_estimators=200; total time=   1.8s\n",
      "[CV] END classifier__bootstrap=False, classifier__max_depth=10, classifier__max_features=3, classifier__min_samples_leaf=5, classifier__min_samples_split=10, classifier__n_estimators=200; total time=   1.8s\n",
      "[CV] END classifier__bootstrap=False, classifier__max_depth=10, classifier__max_features=3, classifier__min_samples_leaf=5, classifier__min_samples_split=10, classifier__n_estimators=200; total time=   1.8s\n"
     ]
    },
    {
     "name": "stderr",
     "output_type": "stream",
     "text": [
      "/Users/foreverrefugee/opt/anaconda3/lib/python3.8/site-packages/sklearn/preprocessing/_data.py:3253: RuntimeWarning: divide by zero encountered in log\n",
      "  loglike = -n_samples / 2 * np.log(x_trans.var())\n",
      "/Users/foreverrefugee/opt/anaconda3/lib/python3.8/site-packages/sklearn/feature_selection/_univariate_selection.py:112: UserWarning: Features [0] are constant.\n",
      "  warnings.warn(\"Features %s are constant.\" % constant_features_idx, UserWarning)\n",
      "/Users/foreverrefugee/opt/anaconda3/lib/python3.8/site-packages/sklearn/feature_selection/_univariate_selection.py:113: RuntimeWarning: invalid value encountered in true_divide\n",
      "  f = msb / msw\n"
     ]
    },
    {
     "name": "stdout",
     "output_type": "stream",
     "text": [
      "[CV] END classifier__bootstrap=False, classifier__max_depth=10, classifier__max_features=3, classifier__min_samples_leaf=5, classifier__min_samples_split=10, classifier__n_estimators=300; total time=   2.6s\n",
      "[CV] END classifier__bootstrap=False, classifier__max_depth=10, classifier__max_features=3, classifier__min_samples_leaf=5, classifier__min_samples_split=12, classifier__n_estimators=100; total time=   1.0s\n"
     ]
    },
    {
     "name": "stderr",
     "output_type": "stream",
     "text": [
      "/Users/foreverrefugee/opt/anaconda3/lib/python3.8/site-packages/sklearn/preprocessing/_data.py:3253: RuntimeWarning: divide by zero encountered in log\n",
      "  loglike = -n_samples / 2 * np.log(x_trans.var())\n",
      "/Users/foreverrefugee/opt/anaconda3/lib/python3.8/site-packages/sklearn/feature_selection/_univariate_selection.py:112: UserWarning: Features [0] are constant.\n",
      "  warnings.warn(\"Features %s are constant.\" % constant_features_idx, UserWarning)\n",
      "/Users/foreverrefugee/opt/anaconda3/lib/python3.8/site-packages/sklearn/feature_selection/_univariate_selection.py:113: RuntimeWarning: invalid value encountered in true_divide\n",
      "  f = msb / msw\n"
     ]
    },
    {
     "name": "stdout",
     "output_type": "stream",
     "text": [
      "[CV] END classifier__bootstrap=False, classifier__max_depth=10, classifier__max_features=3, classifier__min_samples_leaf=5, classifier__min_samples_split=12, classifier__n_estimators=100; total time=   1.0s\n",
      "[CV] END classifier__bootstrap=False, classifier__max_depth=10, classifier__max_features=3, classifier__min_samples_leaf=5, classifier__min_samples_split=12, classifier__n_estimators=100; total time=   1.1s\n",
      "[CV] END classifier__bootstrap=False, classifier__max_depth=10, classifier__max_features=3, classifier__min_samples_leaf=5, classifier__min_samples_split=10, classifier__n_estimators=300; total time=   2.5s\n",
      "[CV] END classifier__bootstrap=False, classifier__max_depth=10, classifier__max_features=3, classifier__min_samples_leaf=5, classifier__min_samples_split=10, classifier__n_estimators=300; total time=   2.5s\n"
     ]
    },
    {
     "name": "stderr",
     "output_type": "stream",
     "text": [
      "/Users/foreverrefugee/opt/anaconda3/lib/python3.8/site-packages/sklearn/preprocessing/_data.py:3253: RuntimeWarning: divide by zero encountered in log\n",
      "  loglike = -n_samples / 2 * np.log(x_trans.var())\n",
      "/Users/foreverrefugee/opt/anaconda3/lib/python3.8/site-packages/sklearn/feature_selection/_univariate_selection.py:112: UserWarning: Features [0] are constant.\n",
      "  warnings.warn(\"Features %s are constant.\" % constant_features_idx, UserWarning)\n",
      "/Users/foreverrefugee/opt/anaconda3/lib/python3.8/site-packages/sklearn/feature_selection/_univariate_selection.py:113: RuntimeWarning: invalid value encountered in true_divide\n",
      "  f = msb / msw\n"
     ]
    },
    {
     "name": "stdout",
     "output_type": "stream",
     "text": [
      "[CV] END classifier__bootstrap=False, classifier__max_depth=10, classifier__max_features=3, classifier__min_samples_leaf=5, classifier__min_samples_split=12, classifier__n_estimators=200; total time=   1.6s\n",
      "[CV] END classifier__bootstrap=False, classifier__max_depth=10, classifier__max_features=3, classifier__min_samples_leaf=5, classifier__min_samples_split=12, classifier__n_estimators=200; total time=   1.6s\n"
     ]
    },
    {
     "name": "stderr",
     "output_type": "stream",
     "text": [
      "/Users/foreverrefugee/opt/anaconda3/lib/python3.8/site-packages/sklearn/preprocessing/_data.py:3253: RuntimeWarning: divide by zero encountered in log\n",
      "  loglike = -n_samples / 2 * np.log(x_trans.var())\n",
      "/Users/foreverrefugee/opt/anaconda3/lib/python3.8/site-packages/sklearn/feature_selection/_univariate_selection.py:112: UserWarning: Features [0] are constant.\n",
      "  warnings.warn(\"Features %s are constant.\" % constant_features_idx, UserWarning)\n",
      "/Users/foreverrefugee/opt/anaconda3/lib/python3.8/site-packages/sklearn/feature_selection/_univariate_selection.py:113: RuntimeWarning: invalid value encountered in true_divide\n",
      "  f = msb / msw\n"
     ]
    },
    {
     "name": "stdout",
     "output_type": "stream",
     "text": [
      "[CV] END classifier__bootstrap=False, classifier__max_depth=10, classifier__max_features=3, classifier__min_samples_leaf=5, classifier__min_samples_split=12, classifier__n_estimators=200; total time=   1.8s\n",
      "[CV] END classifier__bootstrap=False, classifier__max_depth=10, classifier__max_features=3, classifier__min_samples_leaf=5, classifier__min_samples_split=12, classifier__n_estimators=300; total time=   2.8s\n",
      "[CV] END classifier__bootstrap=False, classifier__max_depth=10, classifier__max_features=5, classifier__min_samples_leaf=3, classifier__min_samples_split=8, classifier__n_estimators=100; total time=   1.3s\n"
     ]
    },
    {
     "name": "stderr",
     "output_type": "stream",
     "text": [
      "/Users/foreverrefugee/opt/anaconda3/lib/python3.8/site-packages/sklearn/preprocessing/_data.py:3253: RuntimeWarning: divide by zero encountered in log\n",
      "  loglike = -n_samples / 2 * np.log(x_trans.var())\n",
      "/Users/foreverrefugee/opt/anaconda3/lib/python3.8/site-packages/sklearn/feature_selection/_univariate_selection.py:112: UserWarning: Features [0] are constant.\n",
      "  warnings.warn(\"Features %s are constant.\" % constant_features_idx, UserWarning)\n",
      "/Users/foreverrefugee/opt/anaconda3/lib/python3.8/site-packages/sklearn/feature_selection/_univariate_selection.py:113: RuntimeWarning: invalid value encountered in true_divide\n",
      "  f = msb / msw\n"
     ]
    },
    {
     "name": "stdout",
     "output_type": "stream",
     "text": [
      "[CV] END classifier__bootstrap=False, classifier__max_depth=10, classifier__max_features=5, classifier__min_samples_leaf=3, classifier__min_samples_split=8, classifier__n_estimators=100; total time=   1.2s\n",
      "[CV] END classifier__bootstrap=False, classifier__max_depth=10, classifier__max_features=3, classifier__min_samples_leaf=5, classifier__min_samples_split=12, classifier__n_estimators=300; total time=   2.9s\n",
      "[CV] END classifier__bootstrap=False, classifier__max_depth=10, classifier__max_features=3, classifier__min_samples_leaf=5, classifier__min_samples_split=12, classifier__n_estimators=300; total time=   2.9s\n",
      "[CV] END classifier__bootstrap=False, classifier__max_depth=10, classifier__max_features=5, classifier__min_samples_leaf=3, classifier__min_samples_split=8, classifier__n_estimators=100; total time=   1.1s\n"
     ]
    },
    {
     "name": "stderr",
     "output_type": "stream",
     "text": [
      "/Users/foreverrefugee/opt/anaconda3/lib/python3.8/site-packages/sklearn/preprocessing/_data.py:3253: RuntimeWarning: divide by zero encountered in log\n",
      "  loglike = -n_samples / 2 * np.log(x_trans.var())\n",
      "/Users/foreverrefugee/opt/anaconda3/lib/python3.8/site-packages/sklearn/feature_selection/_univariate_selection.py:112: UserWarning: Features [0] are constant.\n",
      "  warnings.warn(\"Features %s are constant.\" % constant_features_idx, UserWarning)\n",
      "/Users/foreverrefugee/opt/anaconda3/lib/python3.8/site-packages/sklearn/feature_selection/_univariate_selection.py:113: RuntimeWarning: invalid value encountered in true_divide\n",
      "  f = msb / msw\n"
     ]
    },
    {
     "name": "stdout",
     "output_type": "stream",
     "text": [
      "[CV] END classifier__bootstrap=False, classifier__max_depth=10, classifier__max_features=5, classifier__min_samples_leaf=3, classifier__min_samples_split=8, classifier__n_estimators=200; total time=   1.5s\n",
      "[CV] END classifier__bootstrap=False, classifier__max_depth=10, classifier__max_features=5, classifier__min_samples_leaf=3, classifier__min_samples_split=8, classifier__n_estimators=200; total time=   1.5s\n",
      "[CV] END classifier__bootstrap=False, classifier__max_depth=10, classifier__max_features=5, classifier__min_samples_leaf=3, classifier__min_samples_split=8, classifier__n_estimators=200; total time=   1.5s\n"
     ]
    },
    {
     "name": "stderr",
     "output_type": "stream",
     "text": [
      "/Users/foreverrefugee/opt/anaconda3/lib/python3.8/site-packages/sklearn/preprocessing/_data.py:3253: RuntimeWarning: divide by zero encountered in log\n",
      "  loglike = -n_samples / 2 * np.log(x_trans.var())\n",
      "/Users/foreverrefugee/opt/anaconda3/lib/python3.8/site-packages/sklearn/feature_selection/_univariate_selection.py:112: UserWarning: Features [0] are constant.\n",
      "  warnings.warn(\"Features %s are constant.\" % constant_features_idx, UserWarning)\n",
      "/Users/foreverrefugee/opt/anaconda3/lib/python3.8/site-packages/sklearn/feature_selection/_univariate_selection.py:113: RuntimeWarning: invalid value encountered in true_divide\n",
      "  f = msb / msw\n"
     ]
    },
    {
     "name": "stdout",
     "output_type": "stream",
     "text": [
      "[CV] END classifier__bootstrap=False, classifier__max_depth=10, classifier__max_features=5, classifier__min_samples_leaf=3, classifier__min_samples_split=8, classifier__n_estimators=300; total time=   2.2s\n",
      "[CV] END classifier__bootstrap=False, classifier__max_depth=10, classifier__max_features=5, classifier__min_samples_leaf=3, classifier__min_samples_split=10, classifier__n_estimators=100; total time=   0.9s\n"
     ]
    },
    {
     "name": "stderr",
     "output_type": "stream",
     "text": [
      "/Users/foreverrefugee/opt/anaconda3/lib/python3.8/site-packages/sklearn/preprocessing/_data.py:3253: RuntimeWarning: divide by zero encountered in log\n",
      "  loglike = -n_samples / 2 * np.log(x_trans.var())\n",
      "/Users/foreverrefugee/opt/anaconda3/lib/python3.8/site-packages/sklearn/feature_selection/_univariate_selection.py:112: UserWarning: Features [0] are constant.\n",
      "  warnings.warn(\"Features %s are constant.\" % constant_features_idx, UserWarning)\n",
      "/Users/foreverrefugee/opt/anaconda3/lib/python3.8/site-packages/sklearn/feature_selection/_univariate_selection.py:113: RuntimeWarning: invalid value encountered in true_divide\n",
      "  f = msb / msw\n"
     ]
    },
    {
     "name": "stdout",
     "output_type": "stream",
     "text": [
      "[CV] END classifier__bootstrap=False, classifier__max_depth=10, classifier__max_features=5, classifier__min_samples_leaf=3, classifier__min_samples_split=10, classifier__n_estimators=100; total time=   0.8s\n",
      "[CV] END classifier__bootstrap=False, classifier__max_depth=10, classifier__max_features=5, classifier__min_samples_leaf=3, classifier__min_samples_split=10, classifier__n_estimators=100; total time=   0.8s\n",
      "[CV] END classifier__bootstrap=False, classifier__max_depth=10, classifier__max_features=5, classifier__min_samples_leaf=3, classifier__min_samples_split=8, classifier__n_estimators=300; total time=   2.1s\n",
      "[CV] END classifier__bootstrap=False, classifier__max_depth=10, classifier__max_features=5, classifier__min_samples_leaf=3, classifier__min_samples_split=8, classifier__n_estimators=300; total time=   2.1s\n"
     ]
    },
    {
     "name": "stderr",
     "output_type": "stream",
     "text": [
      "/Users/foreverrefugee/opt/anaconda3/lib/python3.8/site-packages/sklearn/preprocessing/_data.py:3253: RuntimeWarning: divide by zero encountered in log\n",
      "  loglike = -n_samples / 2 * np.log(x_trans.var())\n",
      "/Users/foreverrefugee/opt/anaconda3/lib/python3.8/site-packages/sklearn/feature_selection/_univariate_selection.py:112: UserWarning: Features [0] are constant.\n",
      "  warnings.warn(\"Features %s are constant.\" % constant_features_idx, UserWarning)\n",
      "/Users/foreverrefugee/opt/anaconda3/lib/python3.8/site-packages/sklearn/feature_selection/_univariate_selection.py:113: RuntimeWarning: invalid value encountered in true_divide\n",
      "  f = msb / msw\n"
     ]
    },
    {
     "name": "stdout",
     "output_type": "stream",
     "text": [
      "[CV] END classifier__bootstrap=False, classifier__max_depth=10, classifier__max_features=5, classifier__min_samples_leaf=3, classifier__min_samples_split=10, classifier__n_estimators=200; total time=   1.2s\n",
      "[CV] END classifier__bootstrap=False, classifier__max_depth=10, classifier__max_features=5, classifier__min_samples_leaf=3, classifier__min_samples_split=10, classifier__n_estimators=200; total time=   1.2s\n"
     ]
    },
    {
     "name": "stderr",
     "output_type": "stream",
     "text": [
      "/Users/foreverrefugee/opt/anaconda3/lib/python3.8/site-packages/sklearn/preprocessing/_data.py:3253: RuntimeWarning: divide by zero encountered in log\n",
      "  loglike = -n_samples / 2 * np.log(x_trans.var())\n",
      "/Users/foreverrefugee/opt/anaconda3/lib/python3.8/site-packages/sklearn/feature_selection/_univariate_selection.py:112: UserWarning: Features [0] are constant.\n",
      "  warnings.warn(\"Features %s are constant.\" % constant_features_idx, UserWarning)\n",
      "/Users/foreverrefugee/opt/anaconda3/lib/python3.8/site-packages/sklearn/feature_selection/_univariate_selection.py:113: RuntimeWarning: invalid value encountered in true_divide\n",
      "  f = msb / msw\n"
     ]
    },
    {
     "name": "stdout",
     "output_type": "stream",
     "text": [
      "[CV] END classifier__bootstrap=False, classifier__max_depth=10, classifier__max_features=5, classifier__min_samples_leaf=3, classifier__min_samples_split=10, classifier__n_estimators=200; total time=   1.2s\n",
      "[CV] END classifier__bootstrap=False, classifier__max_depth=10, classifier__max_features=5, classifier__min_samples_leaf=3, classifier__min_samples_split=10, classifier__n_estimators=300; total time=   1.6s\n",
      "[CV] END classifier__bootstrap=False, classifier__max_depth=10, classifier__max_features=5, classifier__min_samples_leaf=3, classifier__min_samples_split=12, classifier__n_estimators=100; total time=   0.5s\n"
     ]
    },
    {
     "name": "stderr",
     "output_type": "stream",
     "text": [
      "/Users/foreverrefugee/opt/anaconda3/lib/python3.8/site-packages/sklearn/preprocessing/_data.py:3253: RuntimeWarning: divide by zero encountered in log\n",
      "  loglike = -n_samples / 2 * np.log(x_trans.var())\n",
      "/Users/foreverrefugee/opt/anaconda3/lib/python3.8/site-packages/sklearn/feature_selection/_univariate_selection.py:112: UserWarning: Features [0] are constant.\n",
      "  warnings.warn(\"Features %s are constant.\" % constant_features_idx, UserWarning)\n",
      "/Users/foreverrefugee/opt/anaconda3/lib/python3.8/site-packages/sklearn/feature_selection/_univariate_selection.py:113: RuntimeWarning: invalid value encountered in true_divide\n",
      "  f = msb / msw\n"
     ]
    },
    {
     "name": "stdout",
     "output_type": "stream",
     "text": [
      "[CV] END classifier__bootstrap=False, classifier__max_depth=10, classifier__max_features=5, classifier__min_samples_leaf=3, classifier__min_samples_split=12, classifier__n_estimators=100; total time=   0.7s\n",
      "[CV] END classifier__bootstrap=False, classifier__max_depth=10, classifier__max_features=5, classifier__min_samples_leaf=3, classifier__min_samples_split=12, classifier__n_estimators=100; total time=   0.7s\n",
      "[CV] END classifier__bootstrap=False, classifier__max_depth=10, classifier__max_features=5, classifier__min_samples_leaf=3, classifier__min_samples_split=10, classifier__n_estimators=300; total time=   1.9s\n",
      "[CV] END classifier__bootstrap=False, classifier__max_depth=10, classifier__max_features=5, classifier__min_samples_leaf=3, classifier__min_samples_split=10, classifier__n_estimators=300; total time=   1.9s\n"
     ]
    },
    {
     "name": "stderr",
     "output_type": "stream",
     "text": [
      "/Users/foreverrefugee/opt/anaconda3/lib/python3.8/site-packages/sklearn/preprocessing/_data.py:3253: RuntimeWarning: divide by zero encountered in log\n",
      "  loglike = -n_samples / 2 * np.log(x_trans.var())\n",
      "/Users/foreverrefugee/opt/anaconda3/lib/python3.8/site-packages/sklearn/feature_selection/_univariate_selection.py:112: UserWarning: Features [0] are constant.\n",
      "  warnings.warn(\"Features %s are constant.\" % constant_features_idx, UserWarning)\n",
      "/Users/foreverrefugee/opt/anaconda3/lib/python3.8/site-packages/sklearn/feature_selection/_univariate_selection.py:113: RuntimeWarning: invalid value encountered in true_divide\n",
      "  f = msb / msw\n"
     ]
    },
    {
     "name": "stdout",
     "output_type": "stream",
     "text": [
      "[CV] END classifier__bootstrap=False, classifier__max_depth=10, classifier__max_features=5, classifier__min_samples_leaf=3, classifier__min_samples_split=12, classifier__n_estimators=200; total time=   1.1s\n",
      "[CV] END classifier__bootstrap=False, classifier__max_depth=10, classifier__max_features=5, classifier__min_samples_leaf=3, classifier__min_samples_split=12, classifier__n_estimators=200; total time=   1.2s\n"
     ]
    },
    {
     "name": "stderr",
     "output_type": "stream",
     "text": [
      "/Users/foreverrefugee/opt/anaconda3/lib/python3.8/site-packages/sklearn/preprocessing/_data.py:3253: RuntimeWarning: divide by zero encountered in log\n",
      "  loglike = -n_samples / 2 * np.log(x_trans.var())\n",
      "/Users/foreverrefugee/opt/anaconda3/lib/python3.8/site-packages/sklearn/feature_selection/_univariate_selection.py:112: UserWarning: Features [0] are constant.\n",
      "  warnings.warn(\"Features %s are constant.\" % constant_features_idx, UserWarning)\n",
      "/Users/foreverrefugee/opt/anaconda3/lib/python3.8/site-packages/sklearn/feature_selection/_univariate_selection.py:113: RuntimeWarning: invalid value encountered in true_divide\n",
      "  f = msb / msw\n"
     ]
    },
    {
     "name": "stdout",
     "output_type": "stream",
     "text": [
      "[CV] END classifier__bootstrap=False, classifier__max_depth=10, classifier__max_features=5, classifier__min_samples_leaf=3, classifier__min_samples_split=12, classifier__n_estimators=200; total time=   1.2s\n",
      "[CV] END classifier__bootstrap=False, classifier__max_depth=10, classifier__max_features=5, classifier__min_samples_leaf=3, classifier__min_samples_split=12, classifier__n_estimators=300; total time=   1.8s\n",
      "[CV] END classifier__bootstrap=False, classifier__max_depth=10, classifier__max_features=5, classifier__min_samples_leaf=4, classifier__min_samples_split=8, classifier__n_estimators=100; total time=   0.8s\n"
     ]
    },
    {
     "name": "stderr",
     "output_type": "stream",
     "text": [
      "/Users/foreverrefugee/opt/anaconda3/lib/python3.8/site-packages/sklearn/preprocessing/_data.py:3253: RuntimeWarning: divide by zero encountered in log\n",
      "  loglike = -n_samples / 2 * np.log(x_trans.var())\n",
      "/Users/foreverrefugee/opt/anaconda3/lib/python3.8/site-packages/sklearn/feature_selection/_univariate_selection.py:112: UserWarning: Features [0] are constant.\n",
      "  warnings.warn(\"Features %s are constant.\" % constant_features_idx, UserWarning)\n",
      "/Users/foreverrefugee/opt/anaconda3/lib/python3.8/site-packages/sklearn/feature_selection/_univariate_selection.py:113: RuntimeWarning: invalid value encountered in true_divide\n",
      "  f = msb / msw\n"
     ]
    },
    {
     "name": "stdout",
     "output_type": "stream",
     "text": [
      "[CV] END classifier__bootstrap=False, classifier__max_depth=10, classifier__max_features=5, classifier__min_samples_leaf=4, classifier__min_samples_split=8, classifier__n_estimators=100; total time=   0.9s\n",
      "[CV] END classifier__bootstrap=False, classifier__max_depth=10, classifier__max_features=5, classifier__min_samples_leaf=3, classifier__min_samples_split=12, classifier__n_estimators=300; total time=   2.1s\n",
      "[CV] END classifier__bootstrap=False, classifier__max_depth=10, classifier__max_features=5, classifier__min_samples_leaf=4, classifier__min_samples_split=8, classifier__n_estimators=100; total time=   0.9s\n",
      "[CV] END classifier__bootstrap=False, classifier__max_depth=10, classifier__max_features=5, classifier__min_samples_leaf=3, classifier__min_samples_split=12, classifier__n_estimators=300; total time=   2.2s\n"
     ]
    },
    {
     "name": "stderr",
     "output_type": "stream",
     "text": [
      "/Users/foreverrefugee/opt/anaconda3/lib/python3.8/site-packages/sklearn/preprocessing/_data.py:3253: RuntimeWarning: divide by zero encountered in log\n",
      "  loglike = -n_samples / 2 * np.log(x_trans.var())\n",
      "/Users/foreverrefugee/opt/anaconda3/lib/python3.8/site-packages/sklearn/feature_selection/_univariate_selection.py:112: UserWarning: Features [0] are constant.\n",
      "  warnings.warn(\"Features %s are constant.\" % constant_features_idx, UserWarning)\n",
      "/Users/foreverrefugee/opt/anaconda3/lib/python3.8/site-packages/sklearn/feature_selection/_univariate_selection.py:113: RuntimeWarning: invalid value encountered in true_divide\n",
      "  f = msb / msw\n"
     ]
    },
    {
     "name": "stdout",
     "output_type": "stream",
     "text": [
      "[CV] END classifier__bootstrap=False, classifier__max_depth=10, classifier__max_features=5, classifier__min_samples_leaf=4, classifier__min_samples_split=8, classifier__n_estimators=200; total time=   1.9s\n",
      "[CV] END classifier__bootstrap=False, classifier__max_depth=10, classifier__max_features=5, classifier__min_samples_leaf=4, classifier__min_samples_split=8, classifier__n_estimators=200; total time=   2.1s\n",
      "[CV] END classifier__bootstrap=False, classifier__max_depth=10, classifier__max_features=5, classifier__min_samples_leaf=4, classifier__min_samples_split=8, classifier__n_estimators=200; total time=   2.1s\n"
     ]
    },
    {
     "name": "stderr",
     "output_type": "stream",
     "text": [
      "/Users/foreverrefugee/opt/anaconda3/lib/python3.8/site-packages/sklearn/preprocessing/_data.py:3253: RuntimeWarning: divide by zero encountered in log\n",
      "  loglike = -n_samples / 2 * np.log(x_trans.var())\n",
      "/Users/foreverrefugee/opt/anaconda3/lib/python3.8/site-packages/sklearn/feature_selection/_univariate_selection.py:112: UserWarning: Features [0] are constant.\n",
      "  warnings.warn(\"Features %s are constant.\" % constant_features_idx, UserWarning)\n",
      "/Users/foreverrefugee/opt/anaconda3/lib/python3.8/site-packages/sklearn/feature_selection/_univariate_selection.py:113: RuntimeWarning: invalid value encountered in true_divide\n",
      "  f = msb / msw\n"
     ]
    },
    {
     "name": "stdout",
     "output_type": "stream",
     "text": [
      "[CV] END classifier__bootstrap=False, classifier__max_depth=10, classifier__max_features=5, classifier__min_samples_leaf=4, classifier__min_samples_split=8, classifier__n_estimators=300; total time=   2.9s\n",
      "[CV] END classifier__bootstrap=False, classifier__max_depth=10, classifier__max_features=5, classifier__min_samples_leaf=4, classifier__min_samples_split=10, classifier__n_estimators=100; total time=   1.0s\n"
     ]
    },
    {
     "name": "stderr",
     "output_type": "stream",
     "text": [
      "/Users/foreverrefugee/opt/anaconda3/lib/python3.8/site-packages/sklearn/preprocessing/_data.py:3253: RuntimeWarning: divide by zero encountered in log\n",
      "  loglike = -n_samples / 2 * np.log(x_trans.var())\n",
      "/Users/foreverrefugee/opt/anaconda3/lib/python3.8/site-packages/sklearn/feature_selection/_univariate_selection.py:112: UserWarning: Features [0] are constant.\n",
      "  warnings.warn(\"Features %s are constant.\" % constant_features_idx, UserWarning)\n",
      "/Users/foreverrefugee/opt/anaconda3/lib/python3.8/site-packages/sklearn/feature_selection/_univariate_selection.py:113: RuntimeWarning: invalid value encountered in true_divide\n",
      "  f = msb / msw\n"
     ]
    },
    {
     "name": "stdout",
     "output_type": "stream",
     "text": [
      "[CV] END classifier__bootstrap=False, classifier__max_depth=10, classifier__max_features=5, classifier__min_samples_leaf=4, classifier__min_samples_split=10, classifier__n_estimators=100; total time=   0.6s\n",
      "[CV] END classifier__bootstrap=False, classifier__max_depth=10, classifier__max_features=5, classifier__min_samples_leaf=4, classifier__min_samples_split=10, classifier__n_estimators=100; total time=   0.6s\n",
      "[CV] END classifier__bootstrap=False, classifier__max_depth=10, classifier__max_features=5, classifier__min_samples_leaf=4, classifier__min_samples_split=8, classifier__n_estimators=300; total time=   2.4s\n",
      "[CV] END classifier__bootstrap=False, classifier__max_depth=10, classifier__max_features=5, classifier__min_samples_leaf=4, classifier__min_samples_split=8, classifier__n_estimators=300; total time=   2.1s\n"
     ]
    },
    {
     "name": "stderr",
     "output_type": "stream",
     "text": [
      "/Users/foreverrefugee/opt/anaconda3/lib/python3.8/site-packages/sklearn/preprocessing/_data.py:3253: RuntimeWarning: divide by zero encountered in log\n",
      "  loglike = -n_samples / 2 * np.log(x_trans.var())\n",
      "/Users/foreverrefugee/opt/anaconda3/lib/python3.8/site-packages/sklearn/feature_selection/_univariate_selection.py:112: UserWarning: Features [0] are constant.\n",
      "  warnings.warn(\"Features %s are constant.\" % constant_features_idx, UserWarning)\n",
      "/Users/foreverrefugee/opt/anaconda3/lib/python3.8/site-packages/sklearn/feature_selection/_univariate_selection.py:113: RuntimeWarning: invalid value encountered in true_divide\n",
      "  f = msb / msw\n"
     ]
    },
    {
     "name": "stdout",
     "output_type": "stream",
     "text": [
      "[CV] END classifier__bootstrap=False, classifier__max_depth=10, classifier__max_features=5, classifier__min_samples_leaf=4, classifier__min_samples_split=10, classifier__n_estimators=200; total time=   1.1s\n",
      "[CV] END classifier__bootstrap=False, classifier__max_depth=10, classifier__max_features=5, classifier__min_samples_leaf=4, classifier__min_samples_split=10, classifier__n_estimators=200; total time=   1.3s\n",
      "[CV] END classifier__bootstrap=False, classifier__max_depth=10, classifier__max_features=5, classifier__min_samples_leaf=4, classifier__min_samples_split=10, classifier__n_estimators=200; total time=   1.1s\n"
     ]
    },
    {
     "name": "stderr",
     "output_type": "stream",
     "text": [
      "/Users/foreverrefugee/opt/anaconda3/lib/python3.8/site-packages/sklearn/preprocessing/_data.py:3253: RuntimeWarning: divide by zero encountered in log\n",
      "  loglike = -n_samples / 2 * np.log(x_trans.var())\n",
      "/Users/foreverrefugee/opt/anaconda3/lib/python3.8/site-packages/sklearn/feature_selection/_univariate_selection.py:112: UserWarning: Features [0] are constant.\n",
      "  warnings.warn(\"Features %s are constant.\" % constant_features_idx, UserWarning)\n",
      "/Users/foreverrefugee/opt/anaconda3/lib/python3.8/site-packages/sklearn/feature_selection/_univariate_selection.py:113: RuntimeWarning: invalid value encountered in true_divide\n",
      "  f = msb / msw\n"
     ]
    },
    {
     "name": "stdout",
     "output_type": "stream",
     "text": [
      "[CV] END classifier__bootstrap=False, classifier__max_depth=10, classifier__max_features=5, classifier__min_samples_leaf=4, classifier__min_samples_split=10, classifier__n_estimators=300; total time=   1.6s\n",
      "[CV] END classifier__bootstrap=False, classifier__max_depth=10, classifier__max_features=5, classifier__min_samples_leaf=4, classifier__min_samples_split=12, classifier__n_estimators=100; total time=   0.6s\n"
     ]
    },
    {
     "name": "stderr",
     "output_type": "stream",
     "text": [
      "/Users/foreverrefugee/opt/anaconda3/lib/python3.8/site-packages/sklearn/preprocessing/_data.py:3253: RuntimeWarning: divide by zero encountered in log\n",
      "  loglike = -n_samples / 2 * np.log(x_trans.var())\n",
      "/Users/foreverrefugee/opt/anaconda3/lib/python3.8/site-packages/sklearn/feature_selection/_univariate_selection.py:112: UserWarning: Features [0] are constant.\n",
      "  warnings.warn(\"Features %s are constant.\" % constant_features_idx, UserWarning)\n",
      "/Users/foreverrefugee/opt/anaconda3/lib/python3.8/site-packages/sklearn/feature_selection/_univariate_selection.py:113: RuntimeWarning: invalid value encountered in true_divide\n",
      "  f = msb / msw\n"
     ]
    },
    {
     "name": "stdout",
     "output_type": "stream",
     "text": [
      "[CV] END classifier__bootstrap=False, classifier__max_depth=10, classifier__max_features=5, classifier__min_samples_leaf=4, classifier__min_samples_split=12, classifier__n_estimators=100; total time=   1.0s\n",
      "[CV] END classifier__bootstrap=False, classifier__max_depth=10, classifier__max_features=5, classifier__min_samples_leaf=4, classifier__min_samples_split=12, classifier__n_estimators=100; total time=   1.0s\n",
      "[CV] END classifier__bootstrap=False, classifier__max_depth=10, classifier__max_features=5, classifier__min_samples_leaf=4, classifier__min_samples_split=10, classifier__n_estimators=300; total time=   2.1s\n"
     ]
    },
    {
     "name": "stderr",
     "output_type": "stream",
     "text": [
      "/Users/foreverrefugee/opt/anaconda3/lib/python3.8/site-packages/sklearn/preprocessing/_data.py:3253: RuntimeWarning: divide by zero encountered in log\n",
      "  loglike = -n_samples / 2 * np.log(x_trans.var())\n",
      "/Users/foreverrefugee/opt/anaconda3/lib/python3.8/site-packages/sklearn/feature_selection/_univariate_selection.py:112: UserWarning: Features [0] are constant.\n",
      "  warnings.warn(\"Features %s are constant.\" % constant_features_idx, UserWarning)\n",
      "/Users/foreverrefugee/opt/anaconda3/lib/python3.8/site-packages/sklearn/feature_selection/_univariate_selection.py:113: RuntimeWarning: invalid value encountered in true_divide\n",
      "  f = msb / msw\n"
     ]
    },
    {
     "name": "stdout",
     "output_type": "stream",
     "text": [
      "[CV] END classifier__bootstrap=False, classifier__max_depth=10, classifier__max_features=5, classifier__min_samples_leaf=4, classifier__min_samples_split=10, classifier__n_estimators=300; total time=   2.2s\n",
      "[CV] END classifier__bootstrap=False, classifier__max_depth=10, classifier__max_features=5, classifier__min_samples_leaf=4, classifier__min_samples_split=12, classifier__n_estimators=200; total time=   1.5s\n",
      "[CV] END classifier__bootstrap=False, classifier__max_depth=10, classifier__max_features=5, classifier__min_samples_leaf=4, classifier__min_samples_split=12, classifier__n_estimators=200; total time=   1.5s\n"
     ]
    },
    {
     "name": "stderr",
     "output_type": "stream",
     "text": [
      "/Users/foreverrefugee/opt/anaconda3/lib/python3.8/site-packages/sklearn/preprocessing/_data.py:3253: RuntimeWarning: divide by zero encountered in log\n",
      "  loglike = -n_samples / 2 * np.log(x_trans.var())\n"
     ]
    },
    {
     "name": "stdout",
     "output_type": "stream",
     "text": [
      "[CV] END classifier__bootstrap=False, classifier__max_depth=10, classifier__max_features=5, classifier__min_samples_leaf=4, classifier__min_samples_split=12, classifier__n_estimators=200; total time=   1.6s\n"
     ]
    },
    {
     "name": "stderr",
     "output_type": "stream",
     "text": [
      "/Users/foreverrefugee/opt/anaconda3/lib/python3.8/site-packages/sklearn/feature_selection/_univariate_selection.py:112: UserWarning: Features [0] are constant.\n",
      "  warnings.warn(\"Features %s are constant.\" % constant_features_idx, UserWarning)\n",
      "/Users/foreverrefugee/opt/anaconda3/lib/python3.8/site-packages/sklearn/feature_selection/_univariate_selection.py:113: RuntimeWarning: invalid value encountered in true_divide\n",
      "  f = msb / msw\n"
     ]
    },
    {
     "name": "stdout",
     "output_type": "stream",
     "text": [
      "[CV] END classifier__bootstrap=False, classifier__max_depth=10, classifier__max_features=5, classifier__min_samples_leaf=5, classifier__min_samples_split=8, classifier__n_estimators=100; total time=   0.9s\n",
      "[CV] END classifier__bootstrap=False, classifier__max_depth=10, classifier__max_features=5, classifier__min_samples_leaf=4, classifier__min_samples_split=12, classifier__n_estimators=300; total time=   2.2s\n"
     ]
    },
    {
     "name": "stderr",
     "output_type": "stream",
     "text": [
      "/Users/foreverrefugee/opt/anaconda3/lib/python3.8/site-packages/sklearn/preprocessing/_data.py:3253: RuntimeWarning: divide by zero encountered in log\n",
      "  loglike = -n_samples / 2 * np.log(x_trans.var())\n",
      "/Users/foreverrefugee/opt/anaconda3/lib/python3.8/site-packages/sklearn/feature_selection/_univariate_selection.py:112: UserWarning: Features [0] are constant.\n",
      "  warnings.warn(\"Features %s are constant.\" % constant_features_idx, UserWarning)\n",
      "/Users/foreverrefugee/opt/anaconda3/lib/python3.8/site-packages/sklearn/feature_selection/_univariate_selection.py:113: RuntimeWarning: invalid value encountered in true_divide\n",
      "  f = msb / msw\n"
     ]
    },
    {
     "name": "stdout",
     "output_type": "stream",
     "text": [
      "[CV] END classifier__bootstrap=False, classifier__max_depth=10, classifier__max_features=5, classifier__min_samples_leaf=5, classifier__min_samples_split=8, classifier__n_estimators=100; total time=   0.6s\n",
      "[CV] END classifier__bootstrap=False, classifier__max_depth=10, classifier__max_features=5, classifier__min_samples_leaf=5, classifier__min_samples_split=8, classifier__n_estimators=100; total time=   0.6s\n",
      "[CV] END classifier__bootstrap=False, classifier__max_depth=10, classifier__max_features=5, classifier__min_samples_leaf=4, classifier__min_samples_split=12, classifier__n_estimators=300; total time=   1.9s\n",
      "[CV] END classifier__bootstrap=False, classifier__max_depth=10, classifier__max_features=5, classifier__min_samples_leaf=4, classifier__min_samples_split=12, classifier__n_estimators=300; total time=   2.0s\n"
     ]
    },
    {
     "name": "stderr",
     "output_type": "stream",
     "text": [
      "/Users/foreverrefugee/opt/anaconda3/lib/python3.8/site-packages/sklearn/preprocessing/_data.py:3253: RuntimeWarning: divide by zero encountered in log\n",
      "  loglike = -n_samples / 2 * np.log(x_trans.var())\n",
      "/Users/foreverrefugee/opt/anaconda3/lib/python3.8/site-packages/sklearn/feature_selection/_univariate_selection.py:112: UserWarning: Features [0] are constant.\n",
      "  warnings.warn(\"Features %s are constant.\" % constant_features_idx, UserWarning)\n",
      "/Users/foreverrefugee/opt/anaconda3/lib/python3.8/site-packages/sklearn/feature_selection/_univariate_selection.py:113: RuntimeWarning: invalid value encountered in true_divide\n",
      "  f = msb / msw\n"
     ]
    },
    {
     "name": "stdout",
     "output_type": "stream",
     "text": [
      "[CV] END classifier__bootstrap=False, classifier__max_depth=10, classifier__max_features=5, classifier__min_samples_leaf=5, classifier__min_samples_split=8, classifier__n_estimators=200; total time=   1.1s\n",
      "[CV] END classifier__bootstrap=False, classifier__max_depth=10, classifier__max_features=5, classifier__min_samples_leaf=5, classifier__min_samples_split=8, classifier__n_estimators=200; total time=   1.1s\n"
     ]
    },
    {
     "name": "stderr",
     "output_type": "stream",
     "text": [
      "/Users/foreverrefugee/opt/anaconda3/lib/python3.8/site-packages/sklearn/preprocessing/_data.py:3253: RuntimeWarning: divide by zero encountered in log\n",
      "  loglike = -n_samples / 2 * np.log(x_trans.var())\n",
      "/Users/foreverrefugee/opt/anaconda3/lib/python3.8/site-packages/sklearn/feature_selection/_univariate_selection.py:112: UserWarning: Features [0] are constant.\n",
      "  warnings.warn(\"Features %s are constant.\" % constant_features_idx, UserWarning)\n",
      "/Users/foreverrefugee/opt/anaconda3/lib/python3.8/site-packages/sklearn/feature_selection/_univariate_selection.py:113: RuntimeWarning: invalid value encountered in true_divide\n",
      "  f = msb / msw\n"
     ]
    },
    {
     "name": "stdout",
     "output_type": "stream",
     "text": [
      "[CV] END classifier__bootstrap=False, classifier__max_depth=10, classifier__max_features=5, classifier__min_samples_leaf=5, classifier__min_samples_split=8, classifier__n_estimators=200; total time=   1.3s\n",
      "[CV] END classifier__bootstrap=False, classifier__max_depth=10, classifier__max_features=5, classifier__min_samples_leaf=5, classifier__min_samples_split=8, classifier__n_estimators=300; total time=   1.9s\n",
      "[CV] END classifier__bootstrap=False, classifier__max_depth=10, classifier__max_features=5, classifier__min_samples_leaf=5, classifier__min_samples_split=10, classifier__n_estimators=100; total time=   0.6s\n"
     ]
    },
    {
     "name": "stderr",
     "output_type": "stream",
     "text": [
      "/Users/foreverrefugee/opt/anaconda3/lib/python3.8/site-packages/sklearn/preprocessing/_data.py:3253: RuntimeWarning: divide by zero encountered in log\n",
      "  loglike = -n_samples / 2 * np.log(x_trans.var())\n",
      "/Users/foreverrefugee/opt/anaconda3/lib/python3.8/site-packages/sklearn/feature_selection/_univariate_selection.py:112: UserWarning: Features [0] are constant.\n",
      "  warnings.warn(\"Features %s are constant.\" % constant_features_idx, UserWarning)\n",
      "/Users/foreverrefugee/opt/anaconda3/lib/python3.8/site-packages/sklearn/feature_selection/_univariate_selection.py:113: RuntimeWarning: invalid value encountered in true_divide\n",
      "  f = msb / msw\n"
     ]
    },
    {
     "name": "stdout",
     "output_type": "stream",
     "text": [
      "[CV] END classifier__bootstrap=False, classifier__max_depth=10, classifier__max_features=5, classifier__min_samples_leaf=5, classifier__min_samples_split=10, classifier__n_estimators=100; total time=   0.7s\n",
      "[CV] END classifier__bootstrap=False, classifier__max_depth=10, classifier__max_features=5, classifier__min_samples_leaf=5, classifier__min_samples_split=8, classifier__n_estimators=300; total time=   1.9s\n",
      "[CV] END classifier__bootstrap=False, classifier__max_depth=10, classifier__max_features=5, classifier__min_samples_leaf=5, classifier__min_samples_split=10, classifier__n_estimators=100; total time=   0.9s\n"
     ]
    },
    {
     "name": "stderr",
     "output_type": "stream",
     "text": [
      "/Users/foreverrefugee/opt/anaconda3/lib/python3.8/site-packages/sklearn/preprocessing/_data.py:3253: RuntimeWarning: divide by zero encountered in log\n",
      "  loglike = -n_samples / 2 * np.log(x_trans.var())\n",
      "/Users/foreverrefugee/opt/anaconda3/lib/python3.8/site-packages/sklearn/feature_selection/_univariate_selection.py:112: UserWarning: Features [0] are constant.\n",
      "  warnings.warn(\"Features %s are constant.\" % constant_features_idx, UserWarning)\n",
      "/Users/foreverrefugee/opt/anaconda3/lib/python3.8/site-packages/sklearn/feature_selection/_univariate_selection.py:113: RuntimeWarning: invalid value encountered in true_divide\n",
      "  f = msb / msw\n"
     ]
    },
    {
     "name": "stdout",
     "output_type": "stream",
     "text": [
      "[CV] END classifier__bootstrap=False, classifier__max_depth=10, classifier__max_features=5, classifier__min_samples_leaf=5, classifier__min_samples_split=8, classifier__n_estimators=300; total time=   1.9s\n",
      "[CV] END classifier__bootstrap=False, classifier__max_depth=10, classifier__max_features=5, classifier__min_samples_leaf=5, classifier__min_samples_split=10, classifier__n_estimators=200; total time=   1.2s\n",
      "[CV] END classifier__bootstrap=False, classifier__max_depth=10, classifier__max_features=5, classifier__min_samples_leaf=5, classifier__min_samples_split=10, classifier__n_estimators=200; total time=   1.2s\n",
      "[CV] END classifier__bootstrap=False, classifier__max_depth=10, classifier__max_features=5, classifier__min_samples_leaf=5, classifier__min_samples_split=10, classifier__n_estimators=200; total time=   1.2s\n"
     ]
    },
    {
     "name": "stderr",
     "output_type": "stream",
     "text": [
      "/Users/foreverrefugee/opt/anaconda3/lib/python3.8/site-packages/sklearn/preprocessing/_data.py:3253: RuntimeWarning: divide by zero encountered in log\n",
      "  loglike = -n_samples / 2 * np.log(x_trans.var())\n",
      "/Users/foreverrefugee/opt/anaconda3/lib/python3.8/site-packages/sklearn/feature_selection/_univariate_selection.py:112: UserWarning: Features [0] are constant.\n",
      "  warnings.warn(\"Features %s are constant.\" % constant_features_idx, UserWarning)\n",
      "/Users/foreverrefugee/opt/anaconda3/lib/python3.8/site-packages/sklearn/feature_selection/_univariate_selection.py:113: RuntimeWarning: invalid value encountered in true_divide\n",
      "  f = msb / msw\n"
     ]
    },
    {
     "name": "stdout",
     "output_type": "stream",
     "text": [
      "[CV] END classifier__bootstrap=False, classifier__max_depth=10, classifier__max_features=5, classifier__min_samples_leaf=5, classifier__min_samples_split=10, classifier__n_estimators=300; total time=   1.7s\n",
      "[CV] END classifier__bootstrap=False, classifier__max_depth=10, classifier__max_features=5, classifier__min_samples_leaf=5, classifier__min_samples_split=12, classifier__n_estimators=100; total time=   0.6s\n"
     ]
    },
    {
     "name": "stderr",
     "output_type": "stream",
     "text": [
      "/Users/foreverrefugee/opt/anaconda3/lib/python3.8/site-packages/sklearn/preprocessing/_data.py:3253: RuntimeWarning: divide by zero encountered in log\n",
      "  loglike = -n_samples / 2 * np.log(x_trans.var())\n",
      "/Users/foreverrefugee/opt/anaconda3/lib/python3.8/site-packages/sklearn/feature_selection/_univariate_selection.py:112: UserWarning: Features [0] are constant.\n",
      "  warnings.warn(\"Features %s are constant.\" % constant_features_idx, UserWarning)\n",
      "/Users/foreverrefugee/opt/anaconda3/lib/python3.8/site-packages/sklearn/feature_selection/_univariate_selection.py:113: RuntimeWarning: invalid value encountered in true_divide\n",
      "  f = msb / msw\n"
     ]
    },
    {
     "name": "stdout",
     "output_type": "stream",
     "text": [
      "[CV] END classifier__bootstrap=False, classifier__max_depth=10, classifier__max_features=5, classifier__min_samples_leaf=5, classifier__min_samples_split=12, classifier__n_estimators=100; total time=   0.6s\n",
      "[CV] END classifier__bootstrap=False, classifier__max_depth=10, classifier__max_features=5, classifier__min_samples_leaf=5, classifier__min_samples_split=12, classifier__n_estimators=100; total time=   0.6s\n",
      "[CV] END classifier__bootstrap=False, classifier__max_depth=10, classifier__max_features=5, classifier__min_samples_leaf=5, classifier__min_samples_split=10, classifier__n_estimators=300; total time=   1.6s\n",
      "[CV] END classifier__bootstrap=False, classifier__max_depth=10, classifier__max_features=5, classifier__min_samples_leaf=5, classifier__min_samples_split=10, classifier__n_estimators=300; total time=   1.6s\n"
     ]
    },
    {
     "name": "stderr",
     "output_type": "stream",
     "text": [
      "/Users/foreverrefugee/opt/anaconda3/lib/python3.8/site-packages/sklearn/preprocessing/_data.py:3253: RuntimeWarning: divide by zero encountered in log\n",
      "  loglike = -n_samples / 2 * np.log(x_trans.var())\n",
      "/Users/foreverrefugee/opt/anaconda3/lib/python3.8/site-packages/sklearn/feature_selection/_univariate_selection.py:112: UserWarning: Features [0] are constant.\n",
      "  warnings.warn(\"Features %s are constant.\" % constant_features_idx, UserWarning)\n",
      "/Users/foreverrefugee/opt/anaconda3/lib/python3.8/site-packages/sklearn/feature_selection/_univariate_selection.py:113: RuntimeWarning: invalid value encountered in true_divide\n",
      "  f = msb / msw\n"
     ]
    },
    {
     "name": "stdout",
     "output_type": "stream",
     "text": [
      "[CV] END classifier__bootstrap=False, classifier__max_depth=10, classifier__max_features=5, classifier__min_samples_leaf=5, classifier__min_samples_split=12, classifier__n_estimators=200; total time=   1.0s\n",
      "[CV] END classifier__bootstrap=False, classifier__max_depth=10, classifier__max_features=5, classifier__min_samples_leaf=5, classifier__min_samples_split=12, classifier__n_estimators=200; total time=   1.1s\n"
     ]
    },
    {
     "name": "stderr",
     "output_type": "stream",
     "text": [
      "/Users/foreverrefugee/opt/anaconda3/lib/python3.8/site-packages/sklearn/preprocessing/_data.py:3253: RuntimeWarning: divide by zero encountered in log\n",
      "  loglike = -n_samples / 2 * np.log(x_trans.var())\n",
      "/Users/foreverrefugee/opt/anaconda3/lib/python3.8/site-packages/sklearn/feature_selection/_univariate_selection.py:112: UserWarning: Features [0] are constant.\n",
      "  warnings.warn(\"Features %s are constant.\" % constant_features_idx, UserWarning)\n",
      "/Users/foreverrefugee/opt/anaconda3/lib/python3.8/site-packages/sklearn/feature_selection/_univariate_selection.py:113: RuntimeWarning: invalid value encountered in true_divide\n",
      "  f = msb / msw\n"
     ]
    },
    {
     "name": "stdout",
     "output_type": "stream",
     "text": [
      "[CV] END classifier__bootstrap=False, classifier__max_depth=10, classifier__max_features=5, classifier__min_samples_leaf=5, classifier__min_samples_split=12, classifier__n_estimators=200; total time=   1.1s\n",
      "[CV] END classifier__bootstrap=False, classifier__max_depth=20, classifier__max_features=3, classifier__min_samples_leaf=3, classifier__min_samples_split=8, classifier__n_estimators=100; total time=   0.5s\n",
      "[CV] END classifier__bootstrap=False, classifier__max_depth=10, classifier__max_features=5, classifier__min_samples_leaf=5, classifier__min_samples_split=12, classifier__n_estimators=300; total time=   1.5s\n"
     ]
    },
    {
     "name": "stderr",
     "output_type": "stream",
     "text": [
      "/Users/foreverrefugee/opt/anaconda3/lib/python3.8/site-packages/sklearn/preprocessing/_data.py:3253: RuntimeWarning: divide by zero encountered in log\n",
      "  loglike = -n_samples / 2 * np.log(x_trans.var())\n",
      "/Users/foreverrefugee/opt/anaconda3/lib/python3.8/site-packages/sklearn/feature_selection/_univariate_selection.py:112: UserWarning: Features [0] are constant.\n",
      "  warnings.warn(\"Features %s are constant.\" % constant_features_idx, UserWarning)\n",
      "/Users/foreverrefugee/opt/anaconda3/lib/python3.8/site-packages/sklearn/feature_selection/_univariate_selection.py:113: RuntimeWarning: invalid value encountered in true_divide\n",
      "  f = msb / msw\n"
     ]
    },
    {
     "name": "stdout",
     "output_type": "stream",
     "text": [
      "[CV] END classifier__bootstrap=False, classifier__max_depth=20, classifier__max_features=3, classifier__min_samples_leaf=3, classifier__min_samples_split=8, classifier__n_estimators=100; total time=   0.6s\n",
      "[CV] END classifier__bootstrap=False, classifier__max_depth=20, classifier__max_features=3, classifier__min_samples_leaf=3, classifier__min_samples_split=8, classifier__n_estimators=100; total time=   0.6s\n",
      "[CV] END classifier__bootstrap=False, classifier__max_depth=10, classifier__max_features=5, classifier__min_samples_leaf=5, classifier__min_samples_split=12, classifier__n_estimators=300; total time=   1.6s\n",
      "[CV] END classifier__bootstrap=False, classifier__max_depth=10, classifier__max_features=5, classifier__min_samples_leaf=5, classifier__min_samples_split=12, classifier__n_estimators=300; total time=   1.6s\n"
     ]
    },
    {
     "name": "stderr",
     "output_type": "stream",
     "text": [
      "/Users/foreverrefugee/opt/anaconda3/lib/python3.8/site-packages/sklearn/preprocessing/_data.py:3253: RuntimeWarning: divide by zero encountered in log\n",
      "  loglike = -n_samples / 2 * np.log(x_trans.var())\n",
      "/Users/foreverrefugee/opt/anaconda3/lib/python3.8/site-packages/sklearn/feature_selection/_univariate_selection.py:112: UserWarning: Features [0] are constant.\n",
      "  warnings.warn(\"Features %s are constant.\" % constant_features_idx, UserWarning)\n",
      "/Users/foreverrefugee/opt/anaconda3/lib/python3.8/site-packages/sklearn/feature_selection/_univariate_selection.py:113: RuntimeWarning: invalid value encountered in true_divide\n",
      "  f = msb / msw\n"
     ]
    },
    {
     "name": "stdout",
     "output_type": "stream",
     "text": [
      "[CV] END classifier__bootstrap=False, classifier__max_depth=20, classifier__max_features=3, classifier__min_samples_leaf=3, classifier__min_samples_split=8, classifier__n_estimators=200; total time=   1.7s\n",
      "[CV] END classifier__bootstrap=False, classifier__max_depth=20, classifier__max_features=3, classifier__min_samples_leaf=3, classifier__min_samples_split=8, classifier__n_estimators=200; total time=   1.7s\n",
      "[CV] END classifier__bootstrap=False, classifier__max_depth=20, classifier__max_features=3, classifier__min_samples_leaf=3, classifier__min_samples_split=8, classifier__n_estimators=200; total time=   1.7s\n"
     ]
    },
    {
     "name": "stderr",
     "output_type": "stream",
     "text": [
      "/Users/foreverrefugee/opt/anaconda3/lib/python3.8/site-packages/sklearn/preprocessing/_data.py:3253: RuntimeWarning: divide by zero encountered in log\n",
      "  loglike = -n_samples / 2 * np.log(x_trans.var())\n",
      "/Users/foreverrefugee/opt/anaconda3/lib/python3.8/site-packages/sklearn/feature_selection/_univariate_selection.py:112: UserWarning: Features [0] are constant.\n",
      "  warnings.warn(\"Features %s are constant.\" % constant_features_idx, UserWarning)\n",
      "/Users/foreverrefugee/opt/anaconda3/lib/python3.8/site-packages/sklearn/feature_selection/_univariate_selection.py:113: RuntimeWarning: invalid value encountered in true_divide\n",
      "  f = msb / msw\n"
     ]
    },
    {
     "name": "stdout",
     "output_type": "stream",
     "text": [
      "[CV] END classifier__bootstrap=False, classifier__max_depth=20, classifier__max_features=3, classifier__min_samples_leaf=3, classifier__min_samples_split=8, classifier__n_estimators=300; total time=   2.7s\n",
      "[CV] END classifier__bootstrap=False, classifier__max_depth=20, classifier__max_features=3, classifier__min_samples_leaf=3, classifier__min_samples_split=10, classifier__n_estimators=100; total time=   1.5s\n"
     ]
    },
    {
     "name": "stderr",
     "output_type": "stream",
     "text": [
      "/Users/foreverrefugee/opt/anaconda3/lib/python3.8/site-packages/sklearn/preprocessing/_data.py:3253: RuntimeWarning: divide by zero encountered in log\n",
      "  loglike = -n_samples / 2 * np.log(x_trans.var())\n",
      "/Users/foreverrefugee/opt/anaconda3/lib/python3.8/site-packages/sklearn/feature_selection/_univariate_selection.py:112: UserWarning: Features [0] are constant.\n",
      "  warnings.warn(\"Features %s are constant.\" % constant_features_idx, UserWarning)\n",
      "/Users/foreverrefugee/opt/anaconda3/lib/python3.8/site-packages/sklearn/feature_selection/_univariate_selection.py:113: RuntimeWarning: invalid value encountered in true_divide\n",
      "  f = msb / msw\n"
     ]
    },
    {
     "name": "stdout",
     "output_type": "stream",
     "text": [
      "[CV] END classifier__bootstrap=False, classifier__max_depth=20, classifier__max_features=3, classifier__min_samples_leaf=3, classifier__min_samples_split=10, classifier__n_estimators=100; total time=   2.1s\n",
      "[CV] END classifier__bootstrap=False, classifier__max_depth=20, classifier__max_features=3, classifier__min_samples_leaf=3, classifier__min_samples_split=10, classifier__n_estimators=100; total time=   1.8s\n",
      "[CV] END classifier__bootstrap=False, classifier__max_depth=20, classifier__max_features=3, classifier__min_samples_leaf=3, classifier__min_samples_split=8, classifier__n_estimators=300; total time=   3.8s\n",
      "[CV] END classifier__bootstrap=False, classifier__max_depth=20, classifier__max_features=3, classifier__min_samples_leaf=3, classifier__min_samples_split=8, classifier__n_estimators=300; total time=   3.8s\n"
     ]
    },
    {
     "name": "stderr",
     "output_type": "stream",
     "text": [
      "/Users/foreverrefugee/opt/anaconda3/lib/python3.8/site-packages/sklearn/preprocessing/_data.py:3253: RuntimeWarning: divide by zero encountered in log\n",
      "  loglike = -n_samples / 2 * np.log(x_trans.var())\n",
      "/Users/foreverrefugee/opt/anaconda3/lib/python3.8/site-packages/sklearn/feature_selection/_univariate_selection.py:112: UserWarning: Features [0] are constant.\n",
      "  warnings.warn(\"Features %s are constant.\" % constant_features_idx, UserWarning)\n",
      "/Users/foreverrefugee/opt/anaconda3/lib/python3.8/site-packages/sklearn/feature_selection/_univariate_selection.py:113: RuntimeWarning: invalid value encountered in true_divide\n",
      "  f = msb / msw\n"
     ]
    },
    {
     "name": "stdout",
     "output_type": "stream",
     "text": [
      "[CV] END classifier__bootstrap=False, classifier__max_depth=20, classifier__max_features=3, classifier__min_samples_leaf=3, classifier__min_samples_split=10, classifier__n_estimators=200; total time=   1.7s\n",
      "[CV] END classifier__bootstrap=False, classifier__max_depth=20, classifier__max_features=3, classifier__min_samples_leaf=3, classifier__min_samples_split=10, classifier__n_estimators=200; total time=   1.6s\n"
     ]
    },
    {
     "name": "stderr",
     "output_type": "stream",
     "text": [
      "/Users/foreverrefugee/opt/anaconda3/lib/python3.8/site-packages/sklearn/preprocessing/_data.py:3253: RuntimeWarning: divide by zero encountered in log\n",
      "  loglike = -n_samples / 2 * np.log(x_trans.var())\n",
      "/Users/foreverrefugee/opt/anaconda3/lib/python3.8/site-packages/sklearn/feature_selection/_univariate_selection.py:112: UserWarning: Features [0] are constant.\n",
      "  warnings.warn(\"Features %s are constant.\" % constant_features_idx, UserWarning)\n",
      "/Users/foreverrefugee/opt/anaconda3/lib/python3.8/site-packages/sklearn/feature_selection/_univariate_selection.py:113: RuntimeWarning: invalid value encountered in true_divide\n",
      "  f = msb / msw\n"
     ]
    },
    {
     "name": "stdout",
     "output_type": "stream",
     "text": [
      "[CV] END classifier__bootstrap=False, classifier__max_depth=20, classifier__max_features=3, classifier__min_samples_leaf=3, classifier__min_samples_split=10, classifier__n_estimators=200; total time=   1.5s\n",
      "[CV] END classifier__bootstrap=False, classifier__max_depth=20, classifier__max_features=3, classifier__min_samples_leaf=3, classifier__min_samples_split=10, classifier__n_estimators=300; total time=   2.1s\n",
      "[CV] END classifier__bootstrap=False, classifier__max_depth=20, classifier__max_features=3, classifier__min_samples_leaf=3, classifier__min_samples_split=12, classifier__n_estimators=100; total time=   0.8s\n"
     ]
    },
    {
     "name": "stderr",
     "output_type": "stream",
     "text": [
      "/Users/foreverrefugee/opt/anaconda3/lib/python3.8/site-packages/sklearn/preprocessing/_data.py:3253: RuntimeWarning: divide by zero encountered in log\n",
      "  loglike = -n_samples / 2 * np.log(x_trans.var())\n",
      "/Users/foreverrefugee/opt/anaconda3/lib/python3.8/site-packages/sklearn/feature_selection/_univariate_selection.py:112: UserWarning: Features [0] are constant.\n",
      "  warnings.warn(\"Features %s are constant.\" % constant_features_idx, UserWarning)\n",
      "/Users/foreverrefugee/opt/anaconda3/lib/python3.8/site-packages/sklearn/feature_selection/_univariate_selection.py:113: RuntimeWarning: invalid value encountered in true_divide\n",
      "  f = msb / msw\n"
     ]
    },
    {
     "name": "stdout",
     "output_type": "stream",
     "text": [
      "[CV] END classifier__bootstrap=False, classifier__max_depth=20, classifier__max_features=3, classifier__min_samples_leaf=3, classifier__min_samples_split=12, classifier__n_estimators=100; total time=   0.8s\n",
      "[CV] END classifier__bootstrap=False, classifier__max_depth=20, classifier__max_features=3, classifier__min_samples_leaf=3, classifier__min_samples_split=12, classifier__n_estimators=100; total time=   0.7s\n",
      "[CV] END classifier__bootstrap=False, classifier__max_depth=20, classifier__max_features=3, classifier__min_samples_leaf=3, classifier__min_samples_split=10, classifier__n_estimators=300; total time=   2.1s\n",
      "[CV] END classifier__bootstrap=False, classifier__max_depth=20, classifier__max_features=3, classifier__min_samples_leaf=3, classifier__min_samples_split=10, classifier__n_estimators=300; total time=   2.1s\n"
     ]
    },
    {
     "name": "stderr",
     "output_type": "stream",
     "text": [
      "/Users/foreverrefugee/opt/anaconda3/lib/python3.8/site-packages/sklearn/preprocessing/_data.py:3253: RuntimeWarning: divide by zero encountered in log\n",
      "  loglike = -n_samples / 2 * np.log(x_trans.var())\n",
      "/Users/foreverrefugee/opt/anaconda3/lib/python3.8/site-packages/sklearn/feature_selection/_univariate_selection.py:112: UserWarning: Features [0] are constant.\n",
      "  warnings.warn(\"Features %s are constant.\" % constant_features_idx, UserWarning)\n",
      "/Users/foreverrefugee/opt/anaconda3/lib/python3.8/site-packages/sklearn/feature_selection/_univariate_selection.py:113: RuntimeWarning: invalid value encountered in true_divide\n",
      "  f = msb / msw\n"
     ]
    },
    {
     "name": "stdout",
     "output_type": "stream",
     "text": [
      "[CV] END classifier__bootstrap=False, classifier__max_depth=20, classifier__max_features=3, classifier__min_samples_leaf=3, classifier__min_samples_split=12, classifier__n_estimators=200; total time=   1.4s\n",
      "[CV] END classifier__bootstrap=False, classifier__max_depth=20, classifier__max_features=3, classifier__min_samples_leaf=3, classifier__min_samples_split=12, classifier__n_estimators=200; total time=   1.5s\n",
      "[CV] END classifier__bootstrap=False, classifier__max_depth=20, classifier__max_features=3, classifier__min_samples_leaf=3, classifier__min_samples_split=12, classifier__n_estimators=200; total time=   1.5s\n"
     ]
    },
    {
     "name": "stderr",
     "output_type": "stream",
     "text": [
      "/Users/foreverrefugee/opt/anaconda3/lib/python3.8/site-packages/sklearn/preprocessing/_data.py:3253: RuntimeWarning: divide by zero encountered in log\n",
      "  loglike = -n_samples / 2 * np.log(x_trans.var())\n",
      "/Users/foreverrefugee/opt/anaconda3/lib/python3.8/site-packages/sklearn/feature_selection/_univariate_selection.py:112: UserWarning: Features [0] are constant.\n",
      "  warnings.warn(\"Features %s are constant.\" % constant_features_idx, UserWarning)\n",
      "/Users/foreverrefugee/opt/anaconda3/lib/python3.8/site-packages/sklearn/feature_selection/_univariate_selection.py:113: RuntimeWarning: invalid value encountered in true_divide\n",
      "  f = msb / msw\n"
     ]
    },
    {
     "name": "stdout",
     "output_type": "stream",
     "text": [
      "[CV] END classifier__bootstrap=False, classifier__max_depth=20, classifier__max_features=3, classifier__min_samples_leaf=3, classifier__min_samples_split=12, classifier__n_estimators=300; total time=   2.1s\n",
      "[CV] END classifier__bootstrap=False, classifier__max_depth=20, classifier__max_features=3, classifier__min_samples_leaf=4, classifier__min_samples_split=8, classifier__n_estimators=100; total time=   0.7s\n"
     ]
    },
    {
     "name": "stderr",
     "output_type": "stream",
     "text": [
      "/Users/foreverrefugee/opt/anaconda3/lib/python3.8/site-packages/sklearn/preprocessing/_data.py:3253: RuntimeWarning: divide by zero encountered in log\n",
      "  loglike = -n_samples / 2 * np.log(x_trans.var())\n",
      "/Users/foreverrefugee/opt/anaconda3/lib/python3.8/site-packages/sklearn/feature_selection/_univariate_selection.py:112: UserWarning: Features [0] are constant.\n",
      "  warnings.warn(\"Features %s are constant.\" % constant_features_idx, UserWarning)\n",
      "/Users/foreverrefugee/opt/anaconda3/lib/python3.8/site-packages/sklearn/feature_selection/_univariate_selection.py:113: RuntimeWarning: invalid value encountered in true_divide\n",
      "  f = msb / msw\n"
     ]
    },
    {
     "name": "stdout",
     "output_type": "stream",
     "text": [
      "[CV] END classifier__bootstrap=False, classifier__max_depth=20, classifier__max_features=3, classifier__min_samples_leaf=4, classifier__min_samples_split=8, classifier__n_estimators=100; total time=   0.7s\n",
      "[CV] END classifier__bootstrap=False, classifier__max_depth=20, classifier__max_features=3, classifier__min_samples_leaf=4, classifier__min_samples_split=8, classifier__n_estimators=100; total time=   0.7s\n",
      "[CV] END classifier__bootstrap=False, classifier__max_depth=20, classifier__max_features=3, classifier__min_samples_leaf=3, classifier__min_samples_split=12, classifier__n_estimators=300; total time=   2.0s\n",
      "[CV] END classifier__bootstrap=False, classifier__max_depth=20, classifier__max_features=3, classifier__min_samples_leaf=3, classifier__min_samples_split=12, classifier__n_estimators=300; total time=   2.0s\n"
     ]
    },
    {
     "name": "stderr",
     "output_type": "stream",
     "text": [
      "/Users/foreverrefugee/opt/anaconda3/lib/python3.8/site-packages/sklearn/preprocessing/_data.py:3253: RuntimeWarning: divide by zero encountered in log\n",
      "  loglike = -n_samples / 2 * np.log(x_trans.var())\n",
      "/Users/foreverrefugee/opt/anaconda3/lib/python3.8/site-packages/sklearn/feature_selection/_univariate_selection.py:112: UserWarning: Features [0] are constant.\n",
      "  warnings.warn(\"Features %s are constant.\" % constant_features_idx, UserWarning)\n",
      "/Users/foreverrefugee/opt/anaconda3/lib/python3.8/site-packages/sklearn/feature_selection/_univariate_selection.py:113: RuntimeWarning: invalid value encountered in true_divide\n",
      "  f = msb / msw\n"
     ]
    },
    {
     "name": "stdout",
     "output_type": "stream",
     "text": [
      "[CV] END classifier__bootstrap=False, classifier__max_depth=20, classifier__max_features=3, classifier__min_samples_leaf=4, classifier__min_samples_split=8, classifier__n_estimators=200; total time=   2.1s\n",
      "[CV] END classifier__bootstrap=False, classifier__max_depth=20, classifier__max_features=3, classifier__min_samples_leaf=4, classifier__min_samples_split=8, classifier__n_estimators=200; total time=   2.1s\n"
     ]
    },
    {
     "name": "stderr",
     "output_type": "stream",
     "text": [
      "/Users/foreverrefugee/opt/anaconda3/lib/python3.8/site-packages/sklearn/preprocessing/_data.py:3253: RuntimeWarning: divide by zero encountered in log\n",
      "  loglike = -n_samples / 2 * np.log(x_trans.var())\n",
      "/Users/foreverrefugee/opt/anaconda3/lib/python3.8/site-packages/sklearn/feature_selection/_univariate_selection.py:112: UserWarning: Features [0] are constant.\n",
      "  warnings.warn(\"Features %s are constant.\" % constant_features_idx, UserWarning)\n",
      "/Users/foreverrefugee/opt/anaconda3/lib/python3.8/site-packages/sklearn/feature_selection/_univariate_selection.py:113: RuntimeWarning: invalid value encountered in true_divide\n",
      "  f = msb / msw\n"
     ]
    },
    {
     "name": "stdout",
     "output_type": "stream",
     "text": [
      "[CV] END classifier__bootstrap=False, classifier__max_depth=20, classifier__max_features=3, classifier__min_samples_leaf=4, classifier__min_samples_split=8, classifier__n_estimators=200; total time=   2.2s\n",
      "[CV] END classifier__bootstrap=False, classifier__max_depth=20, classifier__max_features=3, classifier__min_samples_leaf=4, classifier__min_samples_split=10, classifier__n_estimators=100; total time=   0.8s\n",
      "[CV] END classifier__bootstrap=False, classifier__max_depth=20, classifier__max_features=3, classifier__min_samples_leaf=4, classifier__min_samples_split=8, classifier__n_estimators=300; total time=   2.8s\n"
     ]
    },
    {
     "name": "stderr",
     "output_type": "stream",
     "text": [
      "/Users/foreverrefugee/opt/anaconda3/lib/python3.8/site-packages/sklearn/preprocessing/_data.py:3253: RuntimeWarning: divide by zero encountered in log\n",
      "  loglike = -n_samples / 2 * np.log(x_trans.var())\n",
      "/Users/foreverrefugee/opt/anaconda3/lib/python3.8/site-packages/sklearn/feature_selection/_univariate_selection.py:112: UserWarning: Features [0] are constant.\n",
      "  warnings.warn(\"Features %s are constant.\" % constant_features_idx, UserWarning)\n",
      "/Users/foreverrefugee/opt/anaconda3/lib/python3.8/site-packages/sklearn/feature_selection/_univariate_selection.py:113: RuntimeWarning: invalid value encountered in true_divide\n",
      "  f = msb / msw\n"
     ]
    },
    {
     "name": "stdout",
     "output_type": "stream",
     "text": [
      "[CV] END classifier__bootstrap=False, classifier__max_depth=20, classifier__max_features=3, classifier__min_samples_leaf=4, classifier__min_samples_split=10, classifier__n_estimators=100; total time=   0.8s\n",
      "[CV] END classifier__bootstrap=False, classifier__max_depth=20, classifier__max_features=3, classifier__min_samples_leaf=4, classifier__min_samples_split=10, classifier__n_estimators=100; total time=   0.8s\n",
      "[CV] END classifier__bootstrap=False, classifier__max_depth=20, classifier__max_features=3, classifier__min_samples_leaf=4, classifier__min_samples_split=8, classifier__n_estimators=300; total time=   2.2s\n",
      "[CV] END classifier__bootstrap=False, classifier__max_depth=20, classifier__max_features=3, classifier__min_samples_leaf=4, classifier__min_samples_split=8, classifier__n_estimators=300; total time=   2.3s\n"
     ]
    },
    {
     "name": "stderr",
     "output_type": "stream",
     "text": [
      "/Users/foreverrefugee/opt/anaconda3/lib/python3.8/site-packages/sklearn/preprocessing/_data.py:3253: RuntimeWarning: divide by zero encountered in log\n",
      "  loglike = -n_samples / 2 * np.log(x_trans.var())\n",
      "/Users/foreverrefugee/opt/anaconda3/lib/python3.8/site-packages/sklearn/feature_selection/_univariate_selection.py:112: UserWarning: Features [0] are constant.\n",
      "  warnings.warn(\"Features %s are constant.\" % constant_features_idx, UserWarning)\n",
      "/Users/foreverrefugee/opt/anaconda3/lib/python3.8/site-packages/sklearn/feature_selection/_univariate_selection.py:113: RuntimeWarning: invalid value encountered in true_divide\n",
      "  f = msb / msw\n"
     ]
    },
    {
     "name": "stdout",
     "output_type": "stream",
     "text": [
      "[CV] END classifier__bootstrap=False, classifier__max_depth=20, classifier__max_features=3, classifier__min_samples_leaf=4, classifier__min_samples_split=10, classifier__n_estimators=200; total time=   1.5s\n",
      "[CV] END classifier__bootstrap=False, classifier__max_depth=20, classifier__max_features=3, classifier__min_samples_leaf=4, classifier__min_samples_split=10, classifier__n_estimators=200; total time=   1.5s\n"
     ]
    },
    {
     "name": "stderr",
     "output_type": "stream",
     "text": [
      "/Users/foreverrefugee/opt/anaconda3/lib/python3.8/site-packages/sklearn/preprocessing/_data.py:3253: RuntimeWarning: divide by zero encountered in log\n",
      "  loglike = -n_samples / 2 * np.log(x_trans.var())\n",
      "/Users/foreverrefugee/opt/anaconda3/lib/python3.8/site-packages/sklearn/feature_selection/_univariate_selection.py:112: UserWarning: Features [0] are constant.\n",
      "  warnings.warn(\"Features %s are constant.\" % constant_features_idx, UserWarning)\n",
      "/Users/foreverrefugee/opt/anaconda3/lib/python3.8/site-packages/sklearn/feature_selection/_univariate_selection.py:113: RuntimeWarning: invalid value encountered in true_divide\n",
      "  f = msb / msw\n"
     ]
    },
    {
     "name": "stdout",
     "output_type": "stream",
     "text": [
      "[CV] END classifier__bootstrap=False, classifier__max_depth=20, classifier__max_features=3, classifier__min_samples_leaf=4, classifier__min_samples_split=10, classifier__n_estimators=200; total time=   1.5s\n",
      "[CV] END classifier__bootstrap=False, classifier__max_depth=20, classifier__max_features=3, classifier__min_samples_leaf=4, classifier__min_samples_split=10, classifier__n_estimators=300; total time=   2.2s\n",
      "[CV] END classifier__bootstrap=False, classifier__max_depth=20, classifier__max_features=3, classifier__min_samples_leaf=4, classifier__min_samples_split=12, classifier__n_estimators=100; total time=   0.8s\n"
     ]
    },
    {
     "name": "stderr",
     "output_type": "stream",
     "text": [
      "/Users/foreverrefugee/opt/anaconda3/lib/python3.8/site-packages/sklearn/preprocessing/_data.py:3253: RuntimeWarning: divide by zero encountered in log\n",
      "  loglike = -n_samples / 2 * np.log(x_trans.var())\n",
      "/Users/foreverrefugee/opt/anaconda3/lib/python3.8/site-packages/sklearn/feature_selection/_univariate_selection.py:112: UserWarning: Features [0] are constant.\n",
      "  warnings.warn(\"Features %s are constant.\" % constant_features_idx, UserWarning)\n",
      "/Users/foreverrefugee/opt/anaconda3/lib/python3.8/site-packages/sklearn/feature_selection/_univariate_selection.py:113: RuntimeWarning: invalid value encountered in true_divide\n",
      "  f = msb / msw\n"
     ]
    },
    {
     "name": "stdout",
     "output_type": "stream",
     "text": [
      "[CV] END classifier__bootstrap=False, classifier__max_depth=20, classifier__max_features=3, classifier__min_samples_leaf=4, classifier__min_samples_split=12, classifier__n_estimators=100; total time=   0.7s\n",
      "[CV] END classifier__bootstrap=False, classifier__max_depth=20, classifier__max_features=3, classifier__min_samples_leaf=4, classifier__min_samples_split=12, classifier__n_estimators=100; total time=   0.7s\n",
      "[CV] END classifier__bootstrap=False, classifier__max_depth=20, classifier__max_features=3, classifier__min_samples_leaf=4, classifier__min_samples_split=10, classifier__n_estimators=300; total time=   2.1s\n",
      "[CV] END classifier__bootstrap=False, classifier__max_depth=20, classifier__max_features=3, classifier__min_samples_leaf=4, classifier__min_samples_split=10, classifier__n_estimators=300; total time=   2.1s\n"
     ]
    },
    {
     "name": "stderr",
     "output_type": "stream",
     "text": [
      "/Users/foreverrefugee/opt/anaconda3/lib/python3.8/site-packages/sklearn/preprocessing/_data.py:3253: RuntimeWarning: divide by zero encountered in log\n",
      "  loglike = -n_samples / 2 * np.log(x_trans.var())\n",
      "/Users/foreverrefugee/opt/anaconda3/lib/python3.8/site-packages/sklearn/feature_selection/_univariate_selection.py:112: UserWarning: Features [0] are constant.\n",
      "  warnings.warn(\"Features %s are constant.\" % constant_features_idx, UserWarning)\n",
      "/Users/foreverrefugee/opt/anaconda3/lib/python3.8/site-packages/sklearn/feature_selection/_univariate_selection.py:113: RuntimeWarning: invalid value encountered in true_divide\n",
      "  f = msb / msw\n"
     ]
    },
    {
     "name": "stdout",
     "output_type": "stream",
     "text": [
      "[CV] END classifier__bootstrap=False, classifier__max_depth=20, classifier__max_features=3, classifier__min_samples_leaf=4, classifier__min_samples_split=12, classifier__n_estimators=200; total time=   1.4s\n",
      "[CV] END classifier__bootstrap=False, classifier__max_depth=20, classifier__max_features=3, classifier__min_samples_leaf=4, classifier__min_samples_split=12, classifier__n_estimators=200; total time=   1.5s\n"
     ]
    },
    {
     "name": "stderr",
     "output_type": "stream",
     "text": [
      "/Users/foreverrefugee/opt/anaconda3/lib/python3.8/site-packages/sklearn/preprocessing/_data.py:3253: RuntimeWarning: divide by zero encountered in log\n",
      "  loglike = -n_samples / 2 * np.log(x_trans.var())\n",
      "/Users/foreverrefugee/opt/anaconda3/lib/python3.8/site-packages/sklearn/feature_selection/_univariate_selection.py:112: UserWarning: Features [0] are constant.\n",
      "  warnings.warn(\"Features %s are constant.\" % constant_features_idx, UserWarning)\n",
      "/Users/foreverrefugee/opt/anaconda3/lib/python3.8/site-packages/sklearn/feature_selection/_univariate_selection.py:113: RuntimeWarning: invalid value encountered in true_divide\n",
      "  f = msb / msw\n"
     ]
    },
    {
     "name": "stdout",
     "output_type": "stream",
     "text": [
      "[CV] END classifier__bootstrap=False, classifier__max_depth=20, classifier__max_features=3, classifier__min_samples_leaf=4, classifier__min_samples_split=12, classifier__n_estimators=200; total time=   1.6s\n",
      "[CV] END classifier__bootstrap=False, classifier__max_depth=20, classifier__max_features=3, classifier__min_samples_leaf=4, classifier__min_samples_split=12, classifier__n_estimators=300; total time=   2.4s\n",
      "[CV] END classifier__bootstrap=False, classifier__max_depth=20, classifier__max_features=3, classifier__min_samples_leaf=5, classifier__min_samples_split=8, classifier__n_estimators=100; total time=   0.9s\n"
     ]
    },
    {
     "name": "stderr",
     "output_type": "stream",
     "text": [
      "/Users/foreverrefugee/opt/anaconda3/lib/python3.8/site-packages/sklearn/preprocessing/_data.py:3253: RuntimeWarning: divide by zero encountered in log\n",
      "  loglike = -n_samples / 2 * np.log(x_trans.var())\n",
      "/Users/foreverrefugee/opt/anaconda3/lib/python3.8/site-packages/sklearn/feature_selection/_univariate_selection.py:112: UserWarning: Features [0] are constant.\n",
      "  warnings.warn(\"Features %s are constant.\" % constant_features_idx, UserWarning)\n",
      "/Users/foreverrefugee/opt/anaconda3/lib/python3.8/site-packages/sklearn/feature_selection/_univariate_selection.py:113: RuntimeWarning: invalid value encountered in true_divide\n",
      "  f = msb / msw\n"
     ]
    },
    {
     "name": "stdout",
     "output_type": "stream",
     "text": [
      "[CV] END classifier__bootstrap=False, classifier__max_depth=20, classifier__max_features=3, classifier__min_samples_leaf=5, classifier__min_samples_split=8, classifier__n_estimators=100; total time=   0.7s\n",
      "[CV] END classifier__bootstrap=False, classifier__max_depth=20, classifier__max_features=3, classifier__min_samples_leaf=5, classifier__min_samples_split=8, classifier__n_estimators=100; total time=   0.7s\n",
      "[CV] END classifier__bootstrap=False, classifier__max_depth=20, classifier__max_features=3, classifier__min_samples_leaf=4, classifier__min_samples_split=12, classifier__n_estimators=300; total time=   2.3s\n",
      "[CV] END classifier__bootstrap=False, classifier__max_depth=20, classifier__max_features=3, classifier__min_samples_leaf=4, classifier__min_samples_split=12, classifier__n_estimators=300; total time=   2.2s\n"
     ]
    },
    {
     "name": "stderr",
     "output_type": "stream",
     "text": [
      "/Users/foreverrefugee/opt/anaconda3/lib/python3.8/site-packages/sklearn/preprocessing/_data.py:3253: RuntimeWarning: divide by zero encountered in log\n",
      "  loglike = -n_samples / 2 * np.log(x_trans.var())\n",
      "/Users/foreverrefugee/opt/anaconda3/lib/python3.8/site-packages/sklearn/feature_selection/_univariate_selection.py:112: UserWarning: Features [0] are constant.\n",
      "  warnings.warn(\"Features %s are constant.\" % constant_features_idx, UserWarning)\n",
      "/Users/foreverrefugee/opt/anaconda3/lib/python3.8/site-packages/sklearn/feature_selection/_univariate_selection.py:113: RuntimeWarning: invalid value encountered in true_divide\n",
      "  f = msb / msw\n"
     ]
    },
    {
     "name": "stdout",
     "output_type": "stream",
     "text": [
      "[CV] END classifier__bootstrap=False, classifier__max_depth=20, classifier__max_features=3, classifier__min_samples_leaf=5, classifier__min_samples_split=8, classifier__n_estimators=200; total time=   1.7s\n",
      "[CV] END classifier__bootstrap=False, classifier__max_depth=20, classifier__max_features=3, classifier__min_samples_leaf=5, classifier__min_samples_split=8, classifier__n_estimators=200; total time=   1.7s\n",
      "[CV] END classifier__bootstrap=False, classifier__max_depth=20, classifier__max_features=3, classifier__min_samples_leaf=5, classifier__min_samples_split=8, classifier__n_estimators=200; total time=   1.7s\n"
     ]
    },
    {
     "name": "stderr",
     "output_type": "stream",
     "text": [
      "/Users/foreverrefugee/opt/anaconda3/lib/python3.8/site-packages/sklearn/preprocessing/_data.py:3253: RuntimeWarning: divide by zero encountered in log\n",
      "  loglike = -n_samples / 2 * np.log(x_trans.var())\n",
      "/Users/foreverrefugee/opt/anaconda3/lib/python3.8/site-packages/sklearn/feature_selection/_univariate_selection.py:112: UserWarning: Features [0] are constant.\n",
      "  warnings.warn(\"Features %s are constant.\" % constant_features_idx, UserWarning)\n",
      "/Users/foreverrefugee/opt/anaconda3/lib/python3.8/site-packages/sklearn/feature_selection/_univariate_selection.py:113: RuntimeWarning: invalid value encountered in true_divide\n",
      "  f = msb / msw\n"
     ]
    },
    {
     "name": "stdout",
     "output_type": "stream",
     "text": [
      "[CV] END classifier__bootstrap=False, classifier__max_depth=20, classifier__max_features=3, classifier__min_samples_leaf=5, classifier__min_samples_split=8, classifier__n_estimators=300; total time=   2.4s\n",
      "[CV] END classifier__bootstrap=False, classifier__max_depth=20, classifier__max_features=3, classifier__min_samples_leaf=5, classifier__min_samples_split=10, classifier__n_estimators=100; total time=   0.8s\n"
     ]
    },
    {
     "name": "stderr",
     "output_type": "stream",
     "text": [
      "/Users/foreverrefugee/opt/anaconda3/lib/python3.8/site-packages/sklearn/preprocessing/_data.py:3253: RuntimeWarning: divide by zero encountered in log\n",
      "  loglike = -n_samples / 2 * np.log(x_trans.var())\n",
      "/Users/foreverrefugee/opt/anaconda3/lib/python3.8/site-packages/sklearn/feature_selection/_univariate_selection.py:112: UserWarning: Features [0] are constant.\n",
      "  warnings.warn(\"Features %s are constant.\" % constant_features_idx, UserWarning)\n",
      "/Users/foreverrefugee/opt/anaconda3/lib/python3.8/site-packages/sklearn/feature_selection/_univariate_selection.py:113: RuntimeWarning: invalid value encountered in true_divide\n",
      "  f = msb / msw\n"
     ]
    },
    {
     "name": "stdout",
     "output_type": "stream",
     "text": [
      "[CV] END classifier__bootstrap=False, classifier__max_depth=20, classifier__max_features=3, classifier__min_samples_leaf=5, classifier__min_samples_split=10, classifier__n_estimators=100; total time=   1.1s\n",
      "[CV] END classifier__bootstrap=False, classifier__max_depth=20, classifier__max_features=3, classifier__min_samples_leaf=5, classifier__min_samples_split=10, classifier__n_estimators=100; total time=   1.1s\n",
      "[CV] END classifier__bootstrap=False, classifier__max_depth=20, classifier__max_features=3, classifier__min_samples_leaf=5, classifier__min_samples_split=8, classifier__n_estimators=300; total time=   2.5s\n",
      "[CV] END classifier__bootstrap=False, classifier__max_depth=20, classifier__max_features=3, classifier__min_samples_leaf=5, classifier__min_samples_split=8, classifier__n_estimators=300; total time=   2.5s\n"
     ]
    },
    {
     "name": "stderr",
     "output_type": "stream",
     "text": [
      "/Users/foreverrefugee/opt/anaconda3/lib/python3.8/site-packages/sklearn/preprocessing/_data.py:3253: RuntimeWarning: divide by zero encountered in log\n",
      "  loglike = -n_samples / 2 * np.log(x_trans.var())\n",
      "/Users/foreverrefugee/opt/anaconda3/lib/python3.8/site-packages/sklearn/feature_selection/_univariate_selection.py:112: UserWarning: Features [0] are constant.\n",
      "  warnings.warn(\"Features %s are constant.\" % constant_features_idx, UserWarning)\n",
      "/Users/foreverrefugee/opt/anaconda3/lib/python3.8/site-packages/sklearn/feature_selection/_univariate_selection.py:113: RuntimeWarning: invalid value encountered in true_divide\n",
      "  f = msb / msw\n"
     ]
    },
    {
     "name": "stdout",
     "output_type": "stream",
     "text": [
      "[CV] END classifier__bootstrap=False, classifier__max_depth=20, classifier__max_features=3, classifier__min_samples_leaf=5, classifier__min_samples_split=10, classifier__n_estimators=200; total time=   1.6s\n",
      "[CV] END classifier__bootstrap=False, classifier__max_depth=20, classifier__max_features=3, classifier__min_samples_leaf=5, classifier__min_samples_split=10, classifier__n_estimators=200; total time=   1.7s\n"
     ]
    },
    {
     "name": "stderr",
     "output_type": "stream",
     "text": [
      "/Users/foreverrefugee/opt/anaconda3/lib/python3.8/site-packages/sklearn/preprocessing/_data.py:3253: RuntimeWarning: divide by zero encountered in log\n",
      "  loglike = -n_samples / 2 * np.log(x_trans.var())\n",
      "/Users/foreverrefugee/opt/anaconda3/lib/python3.8/site-packages/sklearn/feature_selection/_univariate_selection.py:112: UserWarning: Features [0] are constant.\n",
      "  warnings.warn(\"Features %s are constant.\" % constant_features_idx, UserWarning)\n",
      "/Users/foreverrefugee/opt/anaconda3/lib/python3.8/site-packages/sklearn/feature_selection/_univariate_selection.py:113: RuntimeWarning: invalid value encountered in true_divide\n",
      "  f = msb / msw\n"
     ]
    },
    {
     "name": "stdout",
     "output_type": "stream",
     "text": [
      "[CV] END classifier__bootstrap=False, classifier__max_depth=20, classifier__max_features=3, classifier__min_samples_leaf=5, classifier__min_samples_split=10, classifier__n_estimators=200; total time=   1.6s\n",
      "[CV] END classifier__bootstrap=False, classifier__max_depth=20, classifier__max_features=3, classifier__min_samples_leaf=5, classifier__min_samples_split=10, classifier__n_estimators=300; total time=   2.1s\n",
      "[CV] END classifier__bootstrap=False, classifier__max_depth=20, classifier__max_features=3, classifier__min_samples_leaf=5, classifier__min_samples_split=12, classifier__n_estimators=100; total time=   0.7s\n"
     ]
    },
    {
     "name": "stderr",
     "output_type": "stream",
     "text": [
      "/Users/foreverrefugee/opt/anaconda3/lib/python3.8/site-packages/sklearn/preprocessing/_data.py:3253: RuntimeWarning: divide by zero encountered in log\n",
      "  loglike = -n_samples / 2 * np.log(x_trans.var())\n",
      "/Users/foreverrefugee/opt/anaconda3/lib/python3.8/site-packages/sklearn/feature_selection/_univariate_selection.py:112: UserWarning: Features [0] are constant.\n",
      "  warnings.warn(\"Features %s are constant.\" % constant_features_idx, UserWarning)\n",
      "/Users/foreverrefugee/opt/anaconda3/lib/python3.8/site-packages/sklearn/feature_selection/_univariate_selection.py:113: RuntimeWarning: invalid value encountered in true_divide\n",
      "  f = msb / msw\n"
     ]
    },
    {
     "name": "stdout",
     "output_type": "stream",
     "text": [
      "[CV] END classifier__bootstrap=False, classifier__max_depth=20, classifier__max_features=3, classifier__min_samples_leaf=5, classifier__min_samples_split=12, classifier__n_estimators=100; total time=   0.7s\n",
      "[CV] END classifier__bootstrap=False, classifier__max_depth=20, classifier__max_features=3, classifier__min_samples_leaf=5, classifier__min_samples_split=12, classifier__n_estimators=100; total time=   0.7s\n",
      "[CV] END classifier__bootstrap=False, classifier__max_depth=20, classifier__max_features=3, classifier__min_samples_leaf=5, classifier__min_samples_split=10, classifier__n_estimators=300; total time=   1.9s\n",
      "[CV] END classifier__bootstrap=False, classifier__max_depth=20, classifier__max_features=3, classifier__min_samples_leaf=5, classifier__min_samples_split=10, classifier__n_estimators=300; total time=   1.9s\n"
     ]
    },
    {
     "name": "stderr",
     "output_type": "stream",
     "text": [
      "/Users/foreverrefugee/opt/anaconda3/lib/python3.8/site-packages/sklearn/preprocessing/_data.py:3253: RuntimeWarning: divide by zero encountered in log\n",
      "  loglike = -n_samples / 2 * np.log(x_trans.var())\n",
      "/Users/foreverrefugee/opt/anaconda3/lib/python3.8/site-packages/sklearn/feature_selection/_univariate_selection.py:112: UserWarning: Features [0] are constant.\n",
      "  warnings.warn(\"Features %s are constant.\" % constant_features_idx, UserWarning)\n",
      "/Users/foreverrefugee/opt/anaconda3/lib/python3.8/site-packages/sklearn/feature_selection/_univariate_selection.py:113: RuntimeWarning: invalid value encountered in true_divide\n",
      "  f = msb / msw\n"
     ]
    },
    {
     "name": "stdout",
     "output_type": "stream",
     "text": [
      "[CV] END classifier__bootstrap=False, classifier__max_depth=20, classifier__max_features=3, classifier__min_samples_leaf=5, classifier__min_samples_split=12, classifier__n_estimators=200; total time=   1.3s\n",
      "[CV] END classifier__bootstrap=False, classifier__max_depth=20, classifier__max_features=3, classifier__min_samples_leaf=5, classifier__min_samples_split=12, classifier__n_estimators=200; total time=   1.3s\n"
     ]
    },
    {
     "name": "stderr",
     "output_type": "stream",
     "text": [
      "/Users/foreverrefugee/opt/anaconda3/lib/python3.8/site-packages/sklearn/preprocessing/_data.py:3253: RuntimeWarning: divide by zero encountered in log\n",
      "  loglike = -n_samples / 2 * np.log(x_trans.var())\n",
      "/Users/foreverrefugee/opt/anaconda3/lib/python3.8/site-packages/sklearn/feature_selection/_univariate_selection.py:112: UserWarning: Features [0] are constant.\n",
      "  warnings.warn(\"Features %s are constant.\" % constant_features_idx, UserWarning)\n",
      "/Users/foreverrefugee/opt/anaconda3/lib/python3.8/site-packages/sklearn/feature_selection/_univariate_selection.py:113: RuntimeWarning: invalid value encountered in true_divide\n",
      "  f = msb / msw\n"
     ]
    },
    {
     "name": "stdout",
     "output_type": "stream",
     "text": [
      "[CV] END classifier__bootstrap=False, classifier__max_depth=20, classifier__max_features=3, classifier__min_samples_leaf=5, classifier__min_samples_split=12, classifier__n_estimators=200; total time=   1.4s\n",
      "[CV] END classifier__bootstrap=False, classifier__max_depth=20, classifier__max_features=3, classifier__min_samples_leaf=5, classifier__min_samples_split=12, classifier__n_estimators=300; total time=   1.9s\n",
      "[CV] END classifier__bootstrap=False, classifier__max_depth=20, classifier__max_features=5, classifier__min_samples_leaf=3, classifier__min_samples_split=8, classifier__n_estimators=100; total time=   0.8s\n"
     ]
    },
    {
     "name": "stderr",
     "output_type": "stream",
     "text": [
      "/Users/foreverrefugee/opt/anaconda3/lib/python3.8/site-packages/sklearn/preprocessing/_data.py:3253: RuntimeWarning: divide by zero encountered in log\n",
      "  loglike = -n_samples / 2 * np.log(x_trans.var())\n",
      "/Users/foreverrefugee/opt/anaconda3/lib/python3.8/site-packages/sklearn/feature_selection/_univariate_selection.py:112: UserWarning: Features [0] are constant.\n",
      "  warnings.warn(\"Features %s are constant.\" % constant_features_idx, UserWarning)\n",
      "/Users/foreverrefugee/opt/anaconda3/lib/python3.8/site-packages/sklearn/feature_selection/_univariate_selection.py:113: RuntimeWarning: invalid value encountered in true_divide\n",
      "  f = msb / msw\n"
     ]
    },
    {
     "name": "stdout",
     "output_type": "stream",
     "text": [
      "[CV] END classifier__bootstrap=False, classifier__max_depth=20, classifier__max_features=5, classifier__min_samples_leaf=3, classifier__min_samples_split=8, classifier__n_estimators=100; total time=   0.8s\n",
      "[CV] END classifier__bootstrap=False, classifier__max_depth=20, classifier__max_features=3, classifier__min_samples_leaf=5, classifier__min_samples_split=12, classifier__n_estimators=300; total time=   2.0s\n",
      "[CV] END classifier__bootstrap=False, classifier__max_depth=20, classifier__max_features=5, classifier__min_samples_leaf=3, classifier__min_samples_split=8, classifier__n_estimators=100; total time=   0.9s\n",
      "[CV] END classifier__bootstrap=False, classifier__max_depth=20, classifier__max_features=3, classifier__min_samples_leaf=5, classifier__min_samples_split=12, classifier__n_estimators=300; total time=   2.1s\n"
     ]
    },
    {
     "name": "stderr",
     "output_type": "stream",
     "text": [
      "/Users/foreverrefugee/opt/anaconda3/lib/python3.8/site-packages/sklearn/preprocessing/_data.py:3253: RuntimeWarning: divide by zero encountered in log\n",
      "  loglike = -n_samples / 2 * np.log(x_trans.var())\n",
      "/Users/foreverrefugee/opt/anaconda3/lib/python3.8/site-packages/sklearn/feature_selection/_univariate_selection.py:112: UserWarning: Features [0] are constant.\n",
      "  warnings.warn(\"Features %s are constant.\" % constant_features_idx, UserWarning)\n",
      "/Users/foreverrefugee/opt/anaconda3/lib/python3.8/site-packages/sklearn/feature_selection/_univariate_selection.py:113: RuntimeWarning: invalid value encountered in true_divide\n",
      "  f = msb / msw\n"
     ]
    },
    {
     "name": "stdout",
     "output_type": "stream",
     "text": [
      "[CV] END classifier__bootstrap=False, classifier__max_depth=20, classifier__max_features=5, classifier__min_samples_leaf=3, classifier__min_samples_split=8, classifier__n_estimators=200; total time=   1.3s\n",
      "[CV] END classifier__bootstrap=False, classifier__max_depth=20, classifier__max_features=5, classifier__min_samples_leaf=3, classifier__min_samples_split=8, classifier__n_estimators=200; total time=   1.3s\n",
      "[CV] END classifier__bootstrap=False, classifier__max_depth=20, classifier__max_features=5, classifier__min_samples_leaf=3, classifier__min_samples_split=8, classifier__n_estimators=200; total time=   1.1s\n"
     ]
    },
    {
     "name": "stderr",
     "output_type": "stream",
     "text": [
      "/Users/foreverrefugee/opt/anaconda3/lib/python3.8/site-packages/sklearn/preprocessing/_data.py:3253: RuntimeWarning: divide by zero encountered in log\n",
      "  loglike = -n_samples / 2 * np.log(x_trans.var())\n",
      "/Users/foreverrefugee/opt/anaconda3/lib/python3.8/site-packages/sklearn/feature_selection/_univariate_selection.py:112: UserWarning: Features [0] are constant.\n",
      "  warnings.warn(\"Features %s are constant.\" % constant_features_idx, UserWarning)\n",
      "/Users/foreverrefugee/opt/anaconda3/lib/python3.8/site-packages/sklearn/feature_selection/_univariate_selection.py:113: RuntimeWarning: invalid value encountered in true_divide\n",
      "  f = msb / msw\n"
     ]
    },
    {
     "name": "stdout",
     "output_type": "stream",
     "text": [
      "[CV] END classifier__bootstrap=False, classifier__max_depth=20, classifier__max_features=5, classifier__min_samples_leaf=3, classifier__min_samples_split=8, classifier__n_estimators=300; total time=   1.6s\n",
      "[CV] END classifier__bootstrap=False, classifier__max_depth=20, classifier__max_features=5, classifier__min_samples_leaf=3, classifier__min_samples_split=10, classifier__n_estimators=100; total time=   0.6s\n"
     ]
    },
    {
     "name": "stderr",
     "output_type": "stream",
     "text": [
      "/Users/foreverrefugee/opt/anaconda3/lib/python3.8/site-packages/sklearn/preprocessing/_data.py:3253: RuntimeWarning: divide by zero encountered in log\n",
      "  loglike = -n_samples / 2 * np.log(x_trans.var())\n",
      "/Users/foreverrefugee/opt/anaconda3/lib/python3.8/site-packages/sklearn/feature_selection/_univariate_selection.py:112: UserWarning: Features [0] are constant.\n",
      "  warnings.warn(\"Features %s are constant.\" % constant_features_idx, UserWarning)\n",
      "/Users/foreverrefugee/opt/anaconda3/lib/python3.8/site-packages/sklearn/feature_selection/_univariate_selection.py:113: RuntimeWarning: invalid value encountered in true_divide\n",
      "  f = msb / msw\n"
     ]
    },
    {
     "name": "stdout",
     "output_type": "stream",
     "text": [
      "[CV] END classifier__bootstrap=False, classifier__max_depth=20, classifier__max_features=5, classifier__min_samples_leaf=3, classifier__min_samples_split=10, classifier__n_estimators=100; total time=   0.6s\n",
      "[CV] END classifier__bootstrap=False, classifier__max_depth=20, classifier__max_features=5, classifier__min_samples_leaf=3, classifier__min_samples_split=10, classifier__n_estimators=100; total time=   0.6s\n",
      "[CV] END classifier__bootstrap=False, classifier__max_depth=20, classifier__max_features=5, classifier__min_samples_leaf=3, classifier__min_samples_split=8, classifier__n_estimators=300; total time=   1.6s\n",
      "[CV] END classifier__bootstrap=False, classifier__max_depth=20, classifier__max_features=5, classifier__min_samples_leaf=3, classifier__min_samples_split=8, classifier__n_estimators=300; total time=   1.6s\n"
     ]
    },
    {
     "name": "stderr",
     "output_type": "stream",
     "text": [
      "/Users/foreverrefugee/opt/anaconda3/lib/python3.8/site-packages/sklearn/preprocessing/_data.py:3253: RuntimeWarning: divide by zero encountered in log\n",
      "  loglike = -n_samples / 2 * np.log(x_trans.var())\n",
      "/Users/foreverrefugee/opt/anaconda3/lib/python3.8/site-packages/sklearn/feature_selection/_univariate_selection.py:112: UserWarning: Features [0] are constant.\n",
      "  warnings.warn(\"Features %s are constant.\" % constant_features_idx, UserWarning)\n",
      "/Users/foreverrefugee/opt/anaconda3/lib/python3.8/site-packages/sklearn/feature_selection/_univariate_selection.py:113: RuntimeWarning: invalid value encountered in true_divide\n",
      "  f = msb / msw\n"
     ]
    },
    {
     "name": "stdout",
     "output_type": "stream",
     "text": [
      "[CV] END classifier__bootstrap=False, classifier__max_depth=20, classifier__max_features=5, classifier__min_samples_leaf=3, classifier__min_samples_split=10, classifier__n_estimators=200; total time=   1.0s\n",
      "[CV] END classifier__bootstrap=False, classifier__max_depth=20, classifier__max_features=5, classifier__min_samples_leaf=3, classifier__min_samples_split=10, classifier__n_estimators=200; total time=   1.1s\n"
     ]
    },
    {
     "name": "stderr",
     "output_type": "stream",
     "text": [
      "/Users/foreverrefugee/opt/anaconda3/lib/python3.8/site-packages/sklearn/preprocessing/_data.py:3253: RuntimeWarning: divide by zero encountered in log\n",
      "  loglike = -n_samples / 2 * np.log(x_trans.var())\n",
      "/Users/foreverrefugee/opt/anaconda3/lib/python3.8/site-packages/sklearn/feature_selection/_univariate_selection.py:112: UserWarning: Features [0] are constant.\n",
      "  warnings.warn(\"Features %s are constant.\" % constant_features_idx, UserWarning)\n",
      "/Users/foreverrefugee/opt/anaconda3/lib/python3.8/site-packages/sklearn/feature_selection/_univariate_selection.py:113: RuntimeWarning: invalid value encountered in true_divide\n",
      "  f = msb / msw\n"
     ]
    },
    {
     "name": "stdout",
     "output_type": "stream",
     "text": [
      "[CV] END classifier__bootstrap=False, classifier__max_depth=20, classifier__max_features=5, classifier__min_samples_leaf=3, classifier__min_samples_split=10, classifier__n_estimators=200; total time=   1.1s\n",
      "[CV] END classifier__bootstrap=False, classifier__max_depth=20, classifier__max_features=5, classifier__min_samples_leaf=3, classifier__min_samples_split=10, classifier__n_estimators=300; total time=   1.5s\n",
      "[CV] END classifier__bootstrap=False, classifier__max_depth=20, classifier__max_features=5, classifier__min_samples_leaf=3, classifier__min_samples_split=12, classifier__n_estimators=100; total time=   0.5s\n"
     ]
    },
    {
     "name": "stderr",
     "output_type": "stream",
     "text": [
      "/Users/foreverrefugee/opt/anaconda3/lib/python3.8/site-packages/sklearn/preprocessing/_data.py:3253: RuntimeWarning: divide by zero encountered in log\n",
      "  loglike = -n_samples / 2 * np.log(x_trans.var())\n",
      "/Users/foreverrefugee/opt/anaconda3/lib/python3.8/site-packages/sklearn/feature_selection/_univariate_selection.py:112: UserWarning: Features [0] are constant.\n",
      "  warnings.warn(\"Features %s are constant.\" % constant_features_idx, UserWarning)\n",
      "/Users/foreverrefugee/opt/anaconda3/lib/python3.8/site-packages/sklearn/feature_selection/_univariate_selection.py:113: RuntimeWarning: invalid value encountered in true_divide\n",
      "  f = msb / msw\n"
     ]
    },
    {
     "name": "stdout",
     "output_type": "stream",
     "text": [
      "[CV] END classifier__bootstrap=False, classifier__max_depth=20, classifier__max_features=5, classifier__min_samples_leaf=3, classifier__min_samples_split=12, classifier__n_estimators=100; total time=   0.6s\n",
      "[CV] END classifier__bootstrap=False, classifier__max_depth=20, classifier__max_features=5, classifier__min_samples_leaf=3, classifier__min_samples_split=12, classifier__n_estimators=100; total time=   0.6s\n",
      "[CV] END classifier__bootstrap=False, classifier__max_depth=20, classifier__max_features=5, classifier__min_samples_leaf=3, classifier__min_samples_split=10, classifier__n_estimators=300; total time=   1.5s\n",
      "[CV] END classifier__bootstrap=False, classifier__max_depth=20, classifier__max_features=5, classifier__min_samples_leaf=3, classifier__min_samples_split=10, classifier__n_estimators=300; total time=   1.6s\n"
     ]
    },
    {
     "name": "stderr",
     "output_type": "stream",
     "text": [
      "/Users/foreverrefugee/opt/anaconda3/lib/python3.8/site-packages/sklearn/preprocessing/_data.py:3253: RuntimeWarning: divide by zero encountered in log\n",
      "  loglike = -n_samples / 2 * np.log(x_trans.var())\n",
      "/Users/foreverrefugee/opt/anaconda3/lib/python3.8/site-packages/sklearn/feature_selection/_univariate_selection.py:112: UserWarning: Features [0] are constant.\n",
      "  warnings.warn(\"Features %s are constant.\" % constant_features_idx, UserWarning)\n",
      "/Users/foreverrefugee/opt/anaconda3/lib/python3.8/site-packages/sklearn/feature_selection/_univariate_selection.py:113: RuntimeWarning: invalid value encountered in true_divide\n",
      "  f = msb / msw\n"
     ]
    },
    {
     "name": "stdout",
     "output_type": "stream",
     "text": [
      "[CV] END classifier__bootstrap=False, classifier__max_depth=20, classifier__max_features=5, classifier__min_samples_leaf=3, classifier__min_samples_split=12, classifier__n_estimators=200; total time=   1.0s\n",
      "[CV] END classifier__bootstrap=False, classifier__max_depth=20, classifier__max_features=5, classifier__min_samples_leaf=3, classifier__min_samples_split=12, classifier__n_estimators=200; total time=   1.0s\n",
      "[CV] END classifier__bootstrap=False, classifier__max_depth=20, classifier__max_features=5, classifier__min_samples_leaf=3, classifier__min_samples_split=12, classifier__n_estimators=200; total time=   1.0s\n"
     ]
    },
    {
     "name": "stderr",
     "output_type": "stream",
     "text": [
      "/Users/foreverrefugee/opt/anaconda3/lib/python3.8/site-packages/sklearn/preprocessing/_data.py:3253: RuntimeWarning: divide by zero encountered in log\n",
      "  loglike = -n_samples / 2 * np.log(x_trans.var())\n",
      "/Users/foreverrefugee/opt/anaconda3/lib/python3.8/site-packages/sklearn/feature_selection/_univariate_selection.py:112: UserWarning: Features [0] are constant.\n",
      "  warnings.warn(\"Features %s are constant.\" % constant_features_idx, UserWarning)\n",
      "/Users/foreverrefugee/opt/anaconda3/lib/python3.8/site-packages/sklearn/feature_selection/_univariate_selection.py:113: RuntimeWarning: invalid value encountered in true_divide\n",
      "  f = msb / msw\n"
     ]
    },
    {
     "name": "stdout",
     "output_type": "stream",
     "text": [
      "[CV] END classifier__bootstrap=False, classifier__max_depth=20, classifier__max_features=5, classifier__min_samples_leaf=3, classifier__min_samples_split=12, classifier__n_estimators=300; total time=   1.7s\n",
      "[CV] END classifier__bootstrap=False, classifier__max_depth=20, classifier__max_features=5, classifier__min_samples_leaf=4, classifier__min_samples_split=8, classifier__n_estimators=100; total time=   0.8s\n"
     ]
    },
    {
     "name": "stderr",
     "output_type": "stream",
     "text": [
      "/Users/foreverrefugee/opt/anaconda3/lib/python3.8/site-packages/sklearn/preprocessing/_data.py:3253: RuntimeWarning: divide by zero encountered in log\n",
      "  loglike = -n_samples / 2 * np.log(x_trans.var())\n",
      "/Users/foreverrefugee/opt/anaconda3/lib/python3.8/site-packages/sklearn/feature_selection/_univariate_selection.py:112: UserWarning: Features [0] are constant.\n",
      "  warnings.warn(\"Features %s are constant.\" % constant_features_idx, UserWarning)\n",
      "/Users/foreverrefugee/opt/anaconda3/lib/python3.8/site-packages/sklearn/feature_selection/_univariate_selection.py:113: RuntimeWarning: invalid value encountered in true_divide\n",
      "  f = msb / msw\n"
     ]
    },
    {
     "name": "stdout",
     "output_type": "stream",
     "text": [
      "[CV] END classifier__bootstrap=False, classifier__max_depth=20, classifier__max_features=5, classifier__min_samples_leaf=4, classifier__min_samples_split=8, classifier__n_estimators=100; total time=   0.6s\n",
      "[CV] END classifier__bootstrap=False, classifier__max_depth=20, classifier__max_features=5, classifier__min_samples_leaf=4, classifier__min_samples_split=8, classifier__n_estimators=100; total time=   0.6s\n",
      "[CV] END classifier__bootstrap=False, classifier__max_depth=20, classifier__max_features=5, classifier__min_samples_leaf=3, classifier__min_samples_split=12, classifier__n_estimators=300; total time=   2.0s\n"
     ]
    },
    {
     "name": "stderr",
     "output_type": "stream",
     "text": [
      "/Users/foreverrefugee/opt/anaconda3/lib/python3.8/site-packages/sklearn/preprocessing/_data.py:3253: RuntimeWarning: divide by zero encountered in log\n",
      "  loglike = -n_samples / 2 * np.log(x_trans.var())\n",
      "/Users/foreverrefugee/opt/anaconda3/lib/python3.8/site-packages/sklearn/feature_selection/_univariate_selection.py:112: UserWarning: Features [0] are constant.\n",
      "  warnings.warn(\"Features %s are constant.\" % constant_features_idx, UserWarning)\n",
      "/Users/foreverrefugee/opt/anaconda3/lib/python3.8/site-packages/sklearn/feature_selection/_univariate_selection.py:113: RuntimeWarning: invalid value encountered in true_divide\n",
      "  f = msb / msw\n"
     ]
    },
    {
     "name": "stdout",
     "output_type": "stream",
     "text": [
      "[CV] END classifier__bootstrap=False, classifier__max_depth=20, classifier__max_features=5, classifier__min_samples_leaf=3, classifier__min_samples_split=12, classifier__n_estimators=300; total time=   2.2s\n",
      "[CV] END classifier__bootstrap=False, classifier__max_depth=20, classifier__max_features=5, classifier__min_samples_leaf=4, classifier__min_samples_split=8, classifier__n_estimators=200; total time=   1.3s\n",
      "[CV] END classifier__bootstrap=False, classifier__max_depth=20, classifier__max_features=5, classifier__min_samples_leaf=4, classifier__min_samples_split=8, classifier__n_estimators=200; total time=   1.3s\n"
     ]
    },
    {
     "name": "stderr",
     "output_type": "stream",
     "text": [
      "/Users/foreverrefugee/opt/anaconda3/lib/python3.8/site-packages/sklearn/preprocessing/_data.py:3253: RuntimeWarning: divide by zero encountered in log\n",
      "  loglike = -n_samples / 2 * np.log(x_trans.var())\n",
      "/Users/foreverrefugee/opt/anaconda3/lib/python3.8/site-packages/sklearn/feature_selection/_univariate_selection.py:112: UserWarning: Features [0] are constant.\n",
      "  warnings.warn(\"Features %s are constant.\" % constant_features_idx, UserWarning)\n",
      "/Users/foreverrefugee/opt/anaconda3/lib/python3.8/site-packages/sklearn/feature_selection/_univariate_selection.py:113: RuntimeWarning: invalid value encountered in true_divide\n",
      "  f = msb / msw\n"
     ]
    },
    {
     "name": "stdout",
     "output_type": "stream",
     "text": [
      "[CV] END classifier__bootstrap=False, classifier__max_depth=20, classifier__max_features=5, classifier__min_samples_leaf=4, classifier__min_samples_split=8, classifier__n_estimators=200; total time=   1.1s\n",
      "[CV] END classifier__bootstrap=False, classifier__max_depth=20, classifier__max_features=5, classifier__min_samples_leaf=4, classifier__min_samples_split=10, classifier__n_estimators=100; total time=   1.5s\n",
      "[CV] END classifier__bootstrap=False, classifier__max_depth=20, classifier__max_features=5, classifier__min_samples_leaf=4, classifier__min_samples_split=8, classifier__n_estimators=300; total time=   2.5s\n"
     ]
    },
    {
     "name": "stderr",
     "output_type": "stream",
     "text": [
      "/Users/foreverrefugee/opt/anaconda3/lib/python3.8/site-packages/sklearn/preprocessing/_data.py:3253: RuntimeWarning: divide by zero encountered in log\n",
      "  loglike = -n_samples / 2 * np.log(x_trans.var())\n",
      "/Users/foreverrefugee/opt/anaconda3/lib/python3.8/site-packages/sklearn/feature_selection/_univariate_selection.py:112: UserWarning: Features [0] are constant.\n",
      "  warnings.warn(\"Features %s are constant.\" % constant_features_idx, UserWarning)\n",
      "/Users/foreverrefugee/opt/anaconda3/lib/python3.8/site-packages/sklearn/feature_selection/_univariate_selection.py:113: RuntimeWarning: invalid value encountered in true_divide\n",
      "  f = msb / msw\n"
     ]
    },
    {
     "name": "stdout",
     "output_type": "stream",
     "text": [
      "[CV] END classifier__bootstrap=False, classifier__max_depth=20, classifier__max_features=5, classifier__min_samples_leaf=4, classifier__min_samples_split=10, classifier__n_estimators=100; total time=   1.2s\n",
      "[CV] END classifier__bootstrap=False, classifier__max_depth=20, classifier__max_features=5, classifier__min_samples_leaf=4, classifier__min_samples_split=10, classifier__n_estimators=100; total time=   1.1s\n",
      "[CV] END classifier__bootstrap=False, classifier__max_depth=20, classifier__max_features=5, classifier__min_samples_leaf=4, classifier__min_samples_split=8, classifier__n_estimators=300; total time=   3.1s\n",
      "[CV] END classifier__bootstrap=False, classifier__max_depth=20, classifier__max_features=5, classifier__min_samples_leaf=4, classifier__min_samples_split=8, classifier__n_estimators=300; total time=   3.1s\n"
     ]
    },
    {
     "name": "stderr",
     "output_type": "stream",
     "text": [
      "/Users/foreverrefugee/opt/anaconda3/lib/python3.8/site-packages/sklearn/preprocessing/_data.py:3253: RuntimeWarning: divide by zero encountered in log\n",
      "  loglike = -n_samples / 2 * np.log(x_trans.var())\n",
      "/Users/foreverrefugee/opt/anaconda3/lib/python3.8/site-packages/sklearn/feature_selection/_univariate_selection.py:112: UserWarning: Features [0] are constant.\n",
      "  warnings.warn(\"Features %s are constant.\" % constant_features_idx, UserWarning)\n",
      "/Users/foreverrefugee/opt/anaconda3/lib/python3.8/site-packages/sklearn/feature_selection/_univariate_selection.py:113: RuntimeWarning: invalid value encountered in true_divide\n",
      "  f = msb / msw\n"
     ]
    },
    {
     "name": "stdout",
     "output_type": "stream",
     "text": [
      "[CV] END classifier__bootstrap=False, classifier__max_depth=20, classifier__max_features=5, classifier__min_samples_leaf=4, classifier__min_samples_split=10, classifier__n_estimators=200; total time=   1.6s\n",
      "[CV] END classifier__bootstrap=False, classifier__max_depth=20, classifier__max_features=5, classifier__min_samples_leaf=4, classifier__min_samples_split=10, classifier__n_estimators=200; total time=   1.6s\n",
      "[CV] END classifier__bootstrap=False, classifier__max_depth=20, classifier__max_features=5, classifier__min_samples_leaf=4, classifier__min_samples_split=10, classifier__n_estimators=200; total time=   1.7s\n"
     ]
    },
    {
     "name": "stderr",
     "output_type": "stream",
     "text": [
      "/Users/foreverrefugee/opt/anaconda3/lib/python3.8/site-packages/sklearn/preprocessing/_data.py:3253: RuntimeWarning: divide by zero encountered in log\n",
      "  loglike = -n_samples / 2 * np.log(x_trans.var())\n",
      "/Users/foreverrefugee/opt/anaconda3/lib/python3.8/site-packages/sklearn/feature_selection/_univariate_selection.py:112: UserWarning: Features [0] are constant.\n",
      "  warnings.warn(\"Features %s are constant.\" % constant_features_idx, UserWarning)\n",
      "/Users/foreverrefugee/opt/anaconda3/lib/python3.8/site-packages/sklearn/feature_selection/_univariate_selection.py:113: RuntimeWarning: invalid value encountered in true_divide\n",
      "  f = msb / msw\n"
     ]
    },
    {
     "name": "stdout",
     "output_type": "stream",
     "text": [
      "[CV] END classifier__bootstrap=False, classifier__max_depth=20, classifier__max_features=5, classifier__min_samples_leaf=4, classifier__min_samples_split=10, classifier__n_estimators=300; total time=   2.8s\n",
      "[CV] END classifier__bootstrap=False, classifier__max_depth=20, classifier__max_features=5, classifier__min_samples_leaf=4, classifier__min_samples_split=12, classifier__n_estimators=100; total time=   1.2s\n"
     ]
    },
    {
     "name": "stderr",
     "output_type": "stream",
     "text": [
      "/Users/foreverrefugee/opt/anaconda3/lib/python3.8/site-packages/sklearn/preprocessing/_data.py:3253: RuntimeWarning: divide by zero encountered in log\n",
      "  loglike = -n_samples / 2 * np.log(x_trans.var())\n",
      "/Users/foreverrefugee/opt/anaconda3/lib/python3.8/site-packages/sklearn/feature_selection/_univariate_selection.py:112: UserWarning: Features [0] are constant.\n",
      "  warnings.warn(\"Features %s are constant.\" % constant_features_idx, UserWarning)\n",
      "/Users/foreverrefugee/opt/anaconda3/lib/python3.8/site-packages/sklearn/feature_selection/_univariate_selection.py:113: RuntimeWarning: invalid value encountered in true_divide\n",
      "  f = msb / msw\n"
     ]
    },
    {
     "name": "stdout",
     "output_type": "stream",
     "text": [
      "[CV] END classifier__bootstrap=False, classifier__max_depth=20, classifier__max_features=5, classifier__min_samples_leaf=4, classifier__min_samples_split=12, classifier__n_estimators=100; total time=   0.8s\n",
      "[CV] END classifier__bootstrap=False, classifier__max_depth=20, classifier__max_features=5, classifier__min_samples_leaf=4, classifier__min_samples_split=12, classifier__n_estimators=100; total time=   0.8s\n",
      "[CV] END classifier__bootstrap=False, classifier__max_depth=20, classifier__max_features=5, classifier__min_samples_leaf=4, classifier__min_samples_split=10, classifier__n_estimators=300; total time=   2.7s\n",
      "[CV] END classifier__bootstrap=False, classifier__max_depth=20, classifier__max_features=5, classifier__min_samples_leaf=4, classifier__min_samples_split=10, classifier__n_estimators=300; total time=   2.8s\n"
     ]
    },
    {
     "name": "stderr",
     "output_type": "stream",
     "text": [
      "/Users/foreverrefugee/opt/anaconda3/lib/python3.8/site-packages/sklearn/preprocessing/_data.py:3253: RuntimeWarning: divide by zero encountered in log\n",
      "  loglike = -n_samples / 2 * np.log(x_trans.var())\n",
      "/Users/foreverrefugee/opt/anaconda3/lib/python3.8/site-packages/sklearn/feature_selection/_univariate_selection.py:112: UserWarning: Features [0] are constant.\n",
      "  warnings.warn(\"Features %s are constant.\" % constant_features_idx, UserWarning)\n",
      "/Users/foreverrefugee/opt/anaconda3/lib/python3.8/site-packages/sklearn/feature_selection/_univariate_selection.py:113: RuntimeWarning: invalid value encountered in true_divide\n",
      "  f = msb / msw\n"
     ]
    },
    {
     "name": "stdout",
     "output_type": "stream",
     "text": [
      "[CV] END classifier__bootstrap=False, classifier__max_depth=20, classifier__max_features=5, classifier__min_samples_leaf=4, classifier__min_samples_split=12, classifier__n_estimators=200; total time=   2.7s\n",
      "[CV] END classifier__bootstrap=False, classifier__max_depth=20, classifier__max_features=5, classifier__min_samples_leaf=4, classifier__min_samples_split=12, classifier__n_estimators=200; total time=   3.2s\n"
     ]
    },
    {
     "name": "stderr",
     "output_type": "stream",
     "text": [
      "/Users/foreverrefugee/opt/anaconda3/lib/python3.8/site-packages/sklearn/preprocessing/_data.py:3253: RuntimeWarning: divide by zero encountered in log\n",
      "  loglike = -n_samples / 2 * np.log(x_trans.var())\n",
      "/Users/foreverrefugee/opt/anaconda3/lib/python3.8/site-packages/sklearn/feature_selection/_univariate_selection.py:112: UserWarning: Features [0] are constant.\n",
      "  warnings.warn(\"Features %s are constant.\" % constant_features_idx, UserWarning)\n",
      "/Users/foreverrefugee/opt/anaconda3/lib/python3.8/site-packages/sklearn/feature_selection/_univariate_selection.py:113: RuntimeWarning: invalid value encountered in true_divide\n",
      "  f = msb / msw\n"
     ]
    },
    {
     "name": "stdout",
     "output_type": "stream",
     "text": [
      "[CV] END classifier__bootstrap=False, classifier__max_depth=20, classifier__max_features=5, classifier__min_samples_leaf=4, classifier__min_samples_split=12, classifier__n_estimators=200; total time=   3.4s\n",
      "[CV] END classifier__bootstrap=False, classifier__max_depth=20, classifier__max_features=5, classifier__min_samples_leaf=4, classifier__min_samples_split=12, classifier__n_estimators=300; total time=   4.2s\n",
      "[CV] END classifier__bootstrap=False, classifier__max_depth=20, classifier__max_features=5, classifier__min_samples_leaf=5, classifier__min_samples_split=8, classifier__n_estimators=100; total time=   0.9s\n"
     ]
    },
    {
     "name": "stderr",
     "output_type": "stream",
     "text": [
      "/Users/foreverrefugee/opt/anaconda3/lib/python3.8/site-packages/sklearn/preprocessing/_data.py:3253: RuntimeWarning: divide by zero encountered in log\n",
      "  loglike = -n_samples / 2 * np.log(x_trans.var())\n",
      "/Users/foreverrefugee/opt/anaconda3/lib/python3.8/site-packages/sklearn/feature_selection/_univariate_selection.py:112: UserWarning: Features [0] are constant.\n",
      "  warnings.warn(\"Features %s are constant.\" % constant_features_idx, UserWarning)\n",
      "/Users/foreverrefugee/opt/anaconda3/lib/python3.8/site-packages/sklearn/feature_selection/_univariate_selection.py:113: RuntimeWarning: invalid value encountered in true_divide\n",
      "  f = msb / msw\n"
     ]
    },
    {
     "name": "stdout",
     "output_type": "stream",
     "text": [
      "[CV] END classifier__bootstrap=False, classifier__max_depth=20, classifier__max_features=5, classifier__min_samples_leaf=5, classifier__min_samples_split=8, classifier__n_estimators=100; total time=   0.6s\n",
      "[CV] END classifier__bootstrap=False, classifier__max_depth=20, classifier__max_features=5, classifier__min_samples_leaf=4, classifier__min_samples_split=12, classifier__n_estimators=300; total time=   2.8s\n",
      "[CV] END classifier__bootstrap=False, classifier__max_depth=20, classifier__max_features=5, classifier__min_samples_leaf=5, classifier__min_samples_split=8, classifier__n_estimators=100; total time=   0.6s\n",
      "[CV] END classifier__bootstrap=False, classifier__max_depth=20, classifier__max_features=5, classifier__min_samples_leaf=4, classifier__min_samples_split=12, classifier__n_estimators=300; total time=   2.3s\n"
     ]
    },
    {
     "name": "stderr",
     "output_type": "stream",
     "text": [
      "/Users/foreverrefugee/opt/anaconda3/lib/python3.8/site-packages/sklearn/preprocessing/_data.py:3253: RuntimeWarning: divide by zero encountered in log\n",
      "  loglike = -n_samples / 2 * np.log(x_trans.var())\n",
      "/Users/foreverrefugee/opt/anaconda3/lib/python3.8/site-packages/sklearn/feature_selection/_univariate_selection.py:112: UserWarning: Features [0] are constant.\n",
      "  warnings.warn(\"Features %s are constant.\" % constant_features_idx, UserWarning)\n",
      "/Users/foreverrefugee/opt/anaconda3/lib/python3.8/site-packages/sklearn/feature_selection/_univariate_selection.py:113: RuntimeWarning: invalid value encountered in true_divide\n",
      "  f = msb / msw\n"
     ]
    },
    {
     "name": "stdout",
     "output_type": "stream",
     "text": [
      "[CV] END classifier__bootstrap=False, classifier__max_depth=20, classifier__max_features=5, classifier__min_samples_leaf=5, classifier__min_samples_split=8, classifier__n_estimators=200; total time=   1.3s\n",
      "[CV] END classifier__bootstrap=False, classifier__max_depth=20, classifier__max_features=5, classifier__min_samples_leaf=5, classifier__min_samples_split=8, classifier__n_estimators=200; total time=   1.3s\n"
     ]
    },
    {
     "name": "stderr",
     "output_type": "stream",
     "text": [
      "/Users/foreverrefugee/opt/anaconda3/lib/python3.8/site-packages/sklearn/preprocessing/_data.py:3253: RuntimeWarning: divide by zero encountered in log\n",
      "  loglike = -n_samples / 2 * np.log(x_trans.var())\n",
      "/Users/foreverrefugee/opt/anaconda3/lib/python3.8/site-packages/sklearn/feature_selection/_univariate_selection.py:112: UserWarning: Features [0] are constant.\n",
      "  warnings.warn(\"Features %s are constant.\" % constant_features_idx, UserWarning)\n",
      "/Users/foreverrefugee/opt/anaconda3/lib/python3.8/site-packages/sklearn/feature_selection/_univariate_selection.py:113: RuntimeWarning: invalid value encountered in true_divide\n",
      "  f = msb / msw\n"
     ]
    },
    {
     "name": "stdout",
     "output_type": "stream",
     "text": [
      "[CV] END classifier__bootstrap=False, classifier__max_depth=20, classifier__max_features=5, classifier__min_samples_leaf=5, classifier__min_samples_split=8, classifier__n_estimators=200; total time=   2.4s\n",
      "[CV] END classifier__bootstrap=False, classifier__max_depth=20, classifier__max_features=5, classifier__min_samples_leaf=5, classifier__min_samples_split=8, classifier__n_estimators=300; total time=   3.3s\n",
      "[CV] END classifier__bootstrap=False, classifier__max_depth=20, classifier__max_features=5, classifier__min_samples_leaf=5, classifier__min_samples_split=10, classifier__n_estimators=100; total time=   1.4s\n"
     ]
    },
    {
     "name": "stderr",
     "output_type": "stream",
     "text": [
      "/Users/foreverrefugee/opt/anaconda3/lib/python3.8/site-packages/sklearn/preprocessing/_data.py:3253: RuntimeWarning: divide by zero encountered in log\n",
      "  loglike = -n_samples / 2 * np.log(x_trans.var())\n",
      "/Users/foreverrefugee/opt/anaconda3/lib/python3.8/site-packages/sklearn/feature_selection/_univariate_selection.py:112: UserWarning: Features [0] are constant.\n",
      "  warnings.warn(\"Features %s are constant.\" % constant_features_idx, UserWarning)\n",
      "/Users/foreverrefugee/opt/anaconda3/lib/python3.8/site-packages/sklearn/feature_selection/_univariate_selection.py:113: RuntimeWarning: invalid value encountered in true_divide\n",
      "  f = msb / msw\n"
     ]
    },
    {
     "name": "stdout",
     "output_type": "stream",
     "text": [
      "[CV] END classifier__bootstrap=False, classifier__max_depth=20, classifier__max_features=5, classifier__min_samples_leaf=5, classifier__min_samples_split=10, classifier__n_estimators=100; total time=   1.2s\n",
      "[CV] END classifier__bootstrap=False, classifier__max_depth=20, classifier__max_features=5, classifier__min_samples_leaf=5, classifier__min_samples_split=10, classifier__n_estimators=100; total time=   1.2s\n",
      "[CV] END classifier__bootstrap=False, classifier__max_depth=20, classifier__max_features=5, classifier__min_samples_leaf=5, classifier__min_samples_split=8, classifier__n_estimators=300; total time=   4.0s\n",
      "[CV] END classifier__bootstrap=False, classifier__max_depth=20, classifier__max_features=5, classifier__min_samples_leaf=5, classifier__min_samples_split=8, classifier__n_estimators=300; total time=   4.0s\n"
     ]
    },
    {
     "name": "stderr",
     "output_type": "stream",
     "text": [
      "/Users/foreverrefugee/opt/anaconda3/lib/python3.8/site-packages/sklearn/preprocessing/_data.py:3253: RuntimeWarning: divide by zero encountered in log\n",
      "  loglike = -n_samples / 2 * np.log(x_trans.var())\n",
      "/Users/foreverrefugee/opt/anaconda3/lib/python3.8/site-packages/sklearn/feature_selection/_univariate_selection.py:112: UserWarning: Features [0] are constant.\n",
      "  warnings.warn(\"Features %s are constant.\" % constant_features_idx, UserWarning)\n",
      "/Users/foreverrefugee/opt/anaconda3/lib/python3.8/site-packages/sklearn/feature_selection/_univariate_selection.py:113: RuntimeWarning: invalid value encountered in true_divide\n",
      "  f = msb / msw\n"
     ]
    },
    {
     "name": "stdout",
     "output_type": "stream",
     "text": [
      "[CV] END classifier__bootstrap=False, classifier__max_depth=20, classifier__max_features=5, classifier__min_samples_leaf=5, classifier__min_samples_split=10, classifier__n_estimators=200; total time=   3.2s\n",
      "[CV] END classifier__bootstrap=False, classifier__max_depth=20, classifier__max_features=5, classifier__min_samples_leaf=5, classifier__min_samples_split=10, classifier__n_estimators=200; total time=   3.5s\n"
     ]
    },
    {
     "name": "stderr",
     "output_type": "stream",
     "text": [
      "/Users/foreverrefugee/opt/anaconda3/lib/python3.8/site-packages/sklearn/preprocessing/_data.py:3253: RuntimeWarning: divide by zero encountered in log\n",
      "  loglike = -n_samples / 2 * np.log(x_trans.var())\n",
      "/Users/foreverrefugee/opt/anaconda3/lib/python3.8/site-packages/sklearn/feature_selection/_univariate_selection.py:112: UserWarning: Features [0] are constant.\n",
      "  warnings.warn(\"Features %s are constant.\" % constant_features_idx, UserWarning)\n",
      "/Users/foreverrefugee/opt/anaconda3/lib/python3.8/site-packages/sklearn/feature_selection/_univariate_selection.py:113: RuntimeWarning: invalid value encountered in true_divide\n",
      "  f = msb / msw\n"
     ]
    },
    {
     "name": "stdout",
     "output_type": "stream",
     "text": [
      "[CV] END classifier__bootstrap=False, classifier__max_depth=20, classifier__max_features=5, classifier__min_samples_leaf=5, classifier__min_samples_split=10, classifier__n_estimators=200; total time=   3.7s\n",
      "[CV] END classifier__bootstrap=False, classifier__max_depth=20, classifier__max_features=5, classifier__min_samples_leaf=5, classifier__min_samples_split=10, classifier__n_estimators=300; total time=   5.5s\n",
      "[CV] END classifier__bootstrap=False, classifier__max_depth=20, classifier__max_features=5, classifier__min_samples_leaf=5, classifier__min_samples_split=12, classifier__n_estimators=100; total time=   2.4s\n"
     ]
    },
    {
     "name": "stderr",
     "output_type": "stream",
     "text": [
      "/Users/foreverrefugee/opt/anaconda3/lib/python3.8/site-packages/sklearn/preprocessing/_data.py:3253: RuntimeWarning: divide by zero encountered in log\n",
      "  loglike = -n_samples / 2 * np.log(x_trans.var())\n",
      "/Users/foreverrefugee/opt/anaconda3/lib/python3.8/site-packages/sklearn/feature_selection/_univariate_selection.py:112: UserWarning: Features [0] are constant.\n",
      "  warnings.warn(\"Features %s are constant.\" % constant_features_idx, UserWarning)\n",
      "/Users/foreverrefugee/opt/anaconda3/lib/python3.8/site-packages/sklearn/feature_selection/_univariate_selection.py:113: RuntimeWarning: invalid value encountered in true_divide\n",
      "  f = msb / msw\n"
     ]
    },
    {
     "name": "stdout",
     "output_type": "stream",
     "text": [
      "[CV] END classifier__bootstrap=False, classifier__max_depth=20, classifier__max_features=5, classifier__min_samples_leaf=5, classifier__min_samples_split=12, classifier__n_estimators=100; total time=   2.3s\n",
      "[CV] END classifier__bootstrap=False, classifier__max_depth=20, classifier__max_features=5, classifier__min_samples_leaf=5, classifier__min_samples_split=12, classifier__n_estimators=100; total time=   1.9s\n",
      "[CV] END classifier__bootstrap=False, classifier__max_depth=20, classifier__max_features=5, classifier__min_samples_leaf=5, classifier__min_samples_split=10, classifier__n_estimators=300; total time=   5.7s\n"
     ]
    },
    {
     "name": "stderr",
     "output_type": "stream",
     "text": [
      "/Users/foreverrefugee/opt/anaconda3/lib/python3.8/site-packages/sklearn/preprocessing/_data.py:3253: RuntimeWarning: divide by zero encountered in log\n",
      "  loglike = -n_samples / 2 * np.log(x_trans.var())\n",
      "/Users/foreverrefugee/opt/anaconda3/lib/python3.8/site-packages/sklearn/feature_selection/_univariate_selection.py:112: UserWarning: Features [0] are constant.\n",
      "  warnings.warn(\"Features %s are constant.\" % constant_features_idx, UserWarning)\n",
      "/Users/foreverrefugee/opt/anaconda3/lib/python3.8/site-packages/sklearn/feature_selection/_univariate_selection.py:113: RuntimeWarning: invalid value encountered in true_divide\n",
      "  f = msb / msw\n"
     ]
    },
    {
     "name": "stdout",
     "output_type": "stream",
     "text": [
      "[CV] END classifier__bootstrap=False, classifier__max_depth=20, classifier__max_features=5, classifier__min_samples_leaf=5, classifier__min_samples_split=10, classifier__n_estimators=300; total time=   5.6s\n",
      "[CV] END classifier__bootstrap=False, classifier__max_depth=20, classifier__max_features=5, classifier__min_samples_leaf=5, classifier__min_samples_split=12, classifier__n_estimators=200; total time=   2.9s\n",
      "[CV] END classifier__bootstrap=False, classifier__max_depth=20, classifier__max_features=5, classifier__min_samples_leaf=5, classifier__min_samples_split=12, classifier__n_estimators=200; total time=   2.8s\n",
      "[CV] END classifier__bootstrap=False, classifier__max_depth=20, classifier__max_features=5, classifier__min_samples_leaf=5, classifier__min_samples_split=12, classifier__n_estimators=200; total time=   2.7s\n"
     ]
    },
    {
     "name": "stderr",
     "output_type": "stream",
     "text": [
      "/Users/foreverrefugee/opt/anaconda3/lib/python3.8/site-packages/sklearn/preprocessing/_data.py:3253: RuntimeWarning: divide by zero encountered in log\n",
      "  loglike = -n_samples / 2 * np.log(x_trans.var())\n",
      "/Users/foreverrefugee/opt/anaconda3/lib/python3.8/site-packages/sklearn/feature_selection/_univariate_selection.py:112: UserWarning: Features [0] are constant.\n",
      "  warnings.warn(\"Features %s are constant.\" % constant_features_idx, UserWarning)\n",
      "/Users/foreverrefugee/opt/anaconda3/lib/python3.8/site-packages/sklearn/feature_selection/_univariate_selection.py:113: RuntimeWarning: invalid value encountered in true_divide\n",
      "  f = msb / msw\n"
     ]
    },
    {
     "name": "stdout",
     "output_type": "stream",
     "text": [
      "[CV] END classifier__bootstrap=False, classifier__max_depth=20, classifier__max_features=5, classifier__min_samples_leaf=5, classifier__min_samples_split=12, classifier__n_estimators=300; total time=   3.6s\n",
      "[CV] END classifier__bootstrap=False, classifier__max_depth=20, classifier__max_features=5, classifier__min_samples_leaf=5, classifier__min_samples_split=12, classifier__n_estimators=300; total time=   3.1s\n",
      "[CV] END classifier__bootstrap=False, classifier__max_depth=20, classifier__max_features=5, classifier__min_samples_leaf=5, classifier__min_samples_split=12, classifier__n_estimators=300; total time=   3.2s\n"
     ]
    },
    {
     "data": {
      "text/html": [
       "<style>#sk-10bcc851-d0d4-4487-b209-f613f573b77c {color: black;background-color: white;}#sk-10bcc851-d0d4-4487-b209-f613f573b77c pre{padding: 0;}#sk-10bcc851-d0d4-4487-b209-f613f573b77c div.sk-toggleable {background-color: white;}#sk-10bcc851-d0d4-4487-b209-f613f573b77c label.sk-toggleable__label {cursor: pointer;display: block;width: 100%;margin-bottom: 0;padding: 0.3em;box-sizing: border-box;text-align: center;}#sk-10bcc851-d0d4-4487-b209-f613f573b77c div.sk-toggleable__content {max-height: 0;max-width: 0;overflow: hidden;text-align: left;background-color: #f0f8ff;}#sk-10bcc851-d0d4-4487-b209-f613f573b77c div.sk-toggleable__content pre {margin: 0.2em;color: black;border-radius: 0.25em;background-color: #f0f8ff;}#sk-10bcc851-d0d4-4487-b209-f613f573b77c input.sk-toggleable__control:checked~div.sk-toggleable__content {max-height: 200px;max-width: 100%;overflow: auto;}#sk-10bcc851-d0d4-4487-b209-f613f573b77c div.sk-estimator input.sk-toggleable__control:checked~label.sk-toggleable__label {background-color: #d4ebff;}#sk-10bcc851-d0d4-4487-b209-f613f573b77c div.sk-label input.sk-toggleable__control:checked~label.sk-toggleable__label {background-color: #d4ebff;}#sk-10bcc851-d0d4-4487-b209-f613f573b77c input.sk-hidden--visually {border: 0;clip: rect(1px 1px 1px 1px);clip: rect(1px, 1px, 1px, 1px);height: 1px;margin: -1px;overflow: hidden;padding: 0;position: absolute;width: 1px;}#sk-10bcc851-d0d4-4487-b209-f613f573b77c div.sk-estimator {font-family: monospace;background-color: #f0f8ff;border: 1px dotted black;border-radius: 0.25em;box-sizing: border-box;margin-bottom: 0.5em;}#sk-10bcc851-d0d4-4487-b209-f613f573b77c div.sk-estimator:hover {background-color: #d4ebff;}#sk-10bcc851-d0d4-4487-b209-f613f573b77c div.sk-parallel-item::after {content: \"\";width: 100%;border-bottom: 1px solid gray;flex-grow: 1;}#sk-10bcc851-d0d4-4487-b209-f613f573b77c div.sk-label:hover label.sk-toggleable__label {background-color: #d4ebff;}#sk-10bcc851-d0d4-4487-b209-f613f573b77c div.sk-serial::before {content: \"\";position: absolute;border-left: 1px solid gray;box-sizing: border-box;top: 2em;bottom: 0;left: 50%;}#sk-10bcc851-d0d4-4487-b209-f613f573b77c div.sk-serial {display: flex;flex-direction: column;align-items: center;background-color: white;padding-right: 0.2em;padding-left: 0.2em;}#sk-10bcc851-d0d4-4487-b209-f613f573b77c div.sk-item {z-index: 1;}#sk-10bcc851-d0d4-4487-b209-f613f573b77c div.sk-parallel {display: flex;align-items: stretch;justify-content: center;background-color: white;}#sk-10bcc851-d0d4-4487-b209-f613f573b77c div.sk-parallel::before {content: \"\";position: absolute;border-left: 1px solid gray;box-sizing: border-box;top: 2em;bottom: 0;left: 50%;}#sk-10bcc851-d0d4-4487-b209-f613f573b77c div.sk-parallel-item {display: flex;flex-direction: column;position: relative;background-color: white;}#sk-10bcc851-d0d4-4487-b209-f613f573b77c div.sk-parallel-item:first-child::after {align-self: flex-end;width: 50%;}#sk-10bcc851-d0d4-4487-b209-f613f573b77c div.sk-parallel-item:last-child::after {align-self: flex-start;width: 50%;}#sk-10bcc851-d0d4-4487-b209-f613f573b77c div.sk-parallel-item:only-child::after {width: 0;}#sk-10bcc851-d0d4-4487-b209-f613f573b77c div.sk-dashed-wrapped {border: 1px dashed gray;margin: 0 0.4em 0.5em 0.4em;box-sizing: border-box;padding-bottom: 0.4em;background-color: white;position: relative;}#sk-10bcc851-d0d4-4487-b209-f613f573b77c div.sk-label label {font-family: monospace;font-weight: bold;background-color: white;display: inline-block;line-height: 1.2em;}#sk-10bcc851-d0d4-4487-b209-f613f573b77c div.sk-label-container {position: relative;z-index: 2;text-align: center;}#sk-10bcc851-d0d4-4487-b209-f613f573b77c div.sk-container {display: inline-block;position: relative;}</style><div id=\"sk-10bcc851-d0d4-4487-b209-f613f573b77c\" class\"sk-top-container\"><div class=\"sk-container\"><div class=\"sk-item sk-dashed-wrapped\"><div class=\"sk-label-container\"><div class=\"sk-label sk-toggleable\"><input class=\"sk-toggleable__control sk-hidden--visually\" id=\"007ae055-f0fb-41a9-b5fc-f133161ec3ca\" type=\"checkbox\" ><label class=\"sk-toggleable__label\" for=\"007ae055-f0fb-41a9-b5fc-f133161ec3ca\">GridSearchCV</label><div class=\"sk-toggleable__content\"><pre>GridSearchCV(cv=3,\n",
       "             estimator=Pipeline(steps=[('features',\n",
       "                                        FeatureUnion(transformer_list=[('numeric_transform',\n",
       "                                                                        ColumnTransformer(transformers=[('numeric',\n",
       "                                                                                                         Pipeline(steps=[('impute_mean',\n",
       "                                                                                                                          SimpleImputer()),\n",
       "                                                                                                                         ('scaling',\n",
       "                                                                                                                          PowerTransformer()),\n",
       "                                                                                                                         ('kbest',\n",
       "                                                                                                                          SelectKBest(k=4))]),\n",
       "                                                                                                         ['ApplicantIncome',\n",
       "                                                                                                          'CoapplicantIncome',\n",
       "                                                                                                          'LoanAmount',\n",
       "                                                                                                          'Loan_Amount_Term'])])),\n",
       "                                                                       ('categorical_t...\n",
       "                                                                                                          'Self_Employed',\n",
       "                                                                                                          'Credit_History',\n",
       "                                                                                                          'Property_Area'])]))])),\n",
       "                                       ('classifier',\n",
       "                                        RandomForestClassifier())]),\n",
       "             n_jobs=-1,\n",
       "             param_grid={'classifier__bootstrap': [True, False],\n",
       "                         'classifier__max_depth': [5, 10, 20],\n",
       "                         'classifier__max_features': [3, 5],\n",
       "                         'classifier__min_samples_leaf': [3, 4, 5],\n",
       "                         'classifier__min_samples_split': [8, 10, 12],\n",
       "                         'classifier__n_estimators': [100, 200, 300]},\n",
       "             verbose=2)</pre></div></div></div><div class=\"sk-parallel\"><div class=\"sk-parallel-item\"><div class=\"sk-item\"><div class=\"sk-serial\"><div class=\"sk-item\"><div class=\"sk-serial\"><div class=\"sk-item sk-dashed-wrapped\"><div class=\"sk-label-container\"><div class=\"sk-label sk-toggleable\"><input class=\"sk-toggleable__control sk-hidden--visually\" id=\"8dd03226-fff4-4a4e-b8e1-eb3e49ce8df0\" type=\"checkbox\" ><label class=\"sk-toggleable__label\" for=\"8dd03226-fff4-4a4e-b8e1-eb3e49ce8df0\">features: FeatureUnion</label><div class=\"sk-toggleable__content\"><pre>FeatureUnion(transformer_list=[('numeric_transform',\n",
       "                                ColumnTransformer(transformers=[('numeric',\n",
       "                                                                 Pipeline(steps=[('impute_mean',\n",
       "                                                                                  SimpleImputer()),\n",
       "                                                                                 ('scaling',\n",
       "                                                                                  PowerTransformer()),\n",
       "                                                                                 ('kbest',\n",
       "                                                                                  SelectKBest(k=4))]),\n",
       "                                                                 ['ApplicantIncome',\n",
       "                                                                  'CoapplicantIncome',\n",
       "                                                                  'LoanAmount',\n",
       "                                                                  'Loan_Amount_Term'])])),\n",
       "                               ('categorical_transform',\n",
       "                                ColumnTransformer(transformers=[('categorical',\n",
       "                                                                 Pipeline(steps=[('impute_mode',\n",
       "                                                                                  SimpleImputer(strategy='most_frequent')),\n",
       "                                                                                 ('one-hot-encode',\n",
       "                                                                                  OneHotEncoder(sparse=False)),\n",
       "                                                                                 ('pca',\n",
       "                                                                                  PCA(n_components=5))]),\n",
       "                                                                 ['Gender',\n",
       "                                                                  'Married',\n",
       "                                                                  'Dependents',\n",
       "                                                                  'Education',\n",
       "                                                                  'Self_Employed',\n",
       "                                                                  'Credit_History',\n",
       "                                                                  'Property_Area'])]))])</pre></div></div></div><div class=\"sk-parallel\"><div class=\"sk-parallel-item\"><div class=\"sk-item\"><div class=\"sk-label-container\"><div class=\"sk-label sk-toggleable\"><label>numeric_transform</label></div></div><div class=\"sk-serial\"><div class=\"sk-item sk-dashed-wrapped\"><div class=\"sk-parallel\"><div class=\"sk-parallel-item\"><div class=\"sk-item\"><div class=\"sk-label-container\"><div class=\"sk-label sk-toggleable\"><input class=\"sk-toggleable__control sk-hidden--visually\" id=\"8baa97aa-728d-47f2-bf2d-ca39ee57f88d\" type=\"checkbox\" ><label class=\"sk-toggleable__label\" for=\"8baa97aa-728d-47f2-bf2d-ca39ee57f88d\">numeric</label><div class=\"sk-toggleable__content\"><pre>['ApplicantIncome', 'CoapplicantIncome', 'LoanAmount', 'Loan_Amount_Term']</pre></div></div></div><div class=\"sk-serial\"><div class=\"sk-item\"><div class=\"sk-serial\"><div class=\"sk-item\"><div class=\"sk-estimator sk-toggleable\"><input class=\"sk-toggleable__control sk-hidden--visually\" id=\"56dc15b9-ff53-44bf-93d1-352e5bdb93e7\" type=\"checkbox\" ><label class=\"sk-toggleable__label\" for=\"56dc15b9-ff53-44bf-93d1-352e5bdb93e7\">SimpleImputer</label><div class=\"sk-toggleable__content\"><pre>SimpleImputer()</pre></div></div></div><div class=\"sk-item\"><div class=\"sk-estimator sk-toggleable\"><input class=\"sk-toggleable__control sk-hidden--visually\" id=\"1348ba37-4234-4652-948b-63dcc8f3f68f\" type=\"checkbox\" ><label class=\"sk-toggleable__label\" for=\"1348ba37-4234-4652-948b-63dcc8f3f68f\">PowerTransformer</label><div class=\"sk-toggleable__content\"><pre>PowerTransformer()</pre></div></div></div><div class=\"sk-item\"><div class=\"sk-estimator sk-toggleable\"><input class=\"sk-toggleable__control sk-hidden--visually\" id=\"363d5097-c2c9-4261-86b1-ad8d9f635d9d\" type=\"checkbox\" ><label class=\"sk-toggleable__label\" for=\"363d5097-c2c9-4261-86b1-ad8d9f635d9d\">SelectKBest</label><div class=\"sk-toggleable__content\"><pre>SelectKBest(k=4)</pre></div></div></div></div></div></div></div></div></div></div></div></div></div><div class=\"sk-parallel-item\"><div class=\"sk-item\"><div class=\"sk-label-container\"><div class=\"sk-label sk-toggleable\"><label>categorical_transform</label></div></div><div class=\"sk-serial\"><div class=\"sk-item sk-dashed-wrapped\"><div class=\"sk-parallel\"><div class=\"sk-parallel-item\"><div class=\"sk-item\"><div class=\"sk-label-container\"><div class=\"sk-label sk-toggleable\"><input class=\"sk-toggleable__control sk-hidden--visually\" id=\"8d747059-fd5f-42b5-b1a6-484f4908e77a\" type=\"checkbox\" ><label class=\"sk-toggleable__label\" for=\"8d747059-fd5f-42b5-b1a6-484f4908e77a\">categorical</label><div class=\"sk-toggleable__content\"><pre>['Gender', 'Married', 'Dependents', 'Education', 'Self_Employed', 'Credit_History', 'Property_Area']</pre></div></div></div><div class=\"sk-serial\"><div class=\"sk-item\"><div class=\"sk-serial\"><div class=\"sk-item\"><div class=\"sk-estimator sk-toggleable\"><input class=\"sk-toggleable__control sk-hidden--visually\" id=\"16ec945b-bb6a-42eb-966d-d4f1961cd164\" type=\"checkbox\" ><label class=\"sk-toggleable__label\" for=\"16ec945b-bb6a-42eb-966d-d4f1961cd164\">SimpleImputer</label><div class=\"sk-toggleable__content\"><pre>SimpleImputer(strategy='most_frequent')</pre></div></div></div><div class=\"sk-item\"><div class=\"sk-estimator sk-toggleable\"><input class=\"sk-toggleable__control sk-hidden--visually\" id=\"88517be6-5a4f-4e40-9f6d-855e3409d2da\" type=\"checkbox\" ><label class=\"sk-toggleable__label\" for=\"88517be6-5a4f-4e40-9f6d-855e3409d2da\">OneHotEncoder</label><div class=\"sk-toggleable__content\"><pre>OneHotEncoder(sparse=False)</pre></div></div></div><div class=\"sk-item\"><div class=\"sk-estimator sk-toggleable\"><input class=\"sk-toggleable__control sk-hidden--visually\" id=\"4d65415a-3dfb-4ef9-abbb-e15b6432c1cc\" type=\"checkbox\" ><label class=\"sk-toggleable__label\" for=\"4d65415a-3dfb-4ef9-abbb-e15b6432c1cc\">PCA</label><div class=\"sk-toggleable__content\"><pre>PCA(n_components=5)</pre></div></div></div></div></div></div></div></div></div></div></div></div></div></div></div><div class=\"sk-item\"><div class=\"sk-estimator sk-toggleable\"><input class=\"sk-toggleable__control sk-hidden--visually\" id=\"a9094668-c39c-4025-8815-d52c2b503c63\" type=\"checkbox\" ><label class=\"sk-toggleable__label\" for=\"a9094668-c39c-4025-8815-d52c2b503c63\">RandomForestClassifier</label><div class=\"sk-toggleable__content\"><pre>RandomForestClassifier()</pre></div></div></div></div></div></div></div></div></div></div></div></div>"
      ],
      "text/plain": [
       "GridSearchCV(cv=3,\n",
       "             estimator=Pipeline(steps=[('features',\n",
       "                                        FeatureUnion(transformer_list=[('numeric_transform',\n",
       "                                                                        ColumnTransformer(transformers=[('numeric',\n",
       "                                                                                                         Pipeline(steps=[('impute_mean',\n",
       "                                                                                                                          SimpleImputer()),\n",
       "                                                                                                                         ('scaling',\n",
       "                                                                                                                          PowerTransformer()),\n",
       "                                                                                                                         ('kbest',\n",
       "                                                                                                                          SelectKBest(k=4))]),\n",
       "                                                                                                         ['ApplicantIncome',\n",
       "                                                                                                          'CoapplicantIncome',\n",
       "                                                                                                          'LoanAmount',\n",
       "                                                                                                          'Loan_Amount_Term'])])),\n",
       "                                                                       ('categorical_t...\n",
       "                                                                                                          'Self_Employed',\n",
       "                                                                                                          'Credit_History',\n",
       "                                                                                                          'Property_Area'])]))])),\n",
       "                                       ('classifier',\n",
       "                                        RandomForestClassifier())]),\n",
       "             n_jobs=-1,\n",
       "             param_grid={'classifier__bootstrap': [True, False],\n",
       "                         'classifier__max_depth': [5, 10, 20],\n",
       "                         'classifier__max_features': [3, 5],\n",
       "                         'classifier__min_samples_leaf': [3, 4, 5],\n",
       "                         'classifier__min_samples_split': [8, 10, 12],\n",
       "                         'classifier__n_estimators': [100, 200, 300]},\n",
       "             verbose=2)"
      ]
     },
     "execution_count": 21,
     "metadata": {},
     "output_type": "execute_result"
    }
   ],
   "source": [
    "param_grid = {\n",
    "    'classifier__bootstrap': [True, False],\n",
    "    'classifier__max_depth': [5, 10, 20],\n",
    "    'classifier__max_features': [3, 5],\n",
    "    'classifier__min_samples_leaf': [3, 4, 5],\n",
    "    'classifier__min_samples_split': [8, 10, 12],\n",
    "    'classifier__n_estimators': [100, 200, 300]\n",
    "}\n",
    "\n",
    "rf_grid = GridSearchCV(pipeline, param_grid=param_grid, cv=3, verbose=2, n_jobs = -1)\n",
    "rf_grid.fit(X_train, y_train)"
   ]
  },
  {
   "cell_type": "code",
   "execution_count": 77,
   "metadata": {},
   "outputs": [
    {
     "name": "stdout",
     "output_type": "stream",
     "text": [
      "Highest accuracy: 70.13%\n",
      "Achieved with hyperparameters: {'classifier__bootstrap': False, 'classifier__max_depth': 10, 'classifier__max_features': 5, 'classifier__min_samples_leaf': 5, 'classifier__min_samples_split': 12, 'classifier__n_estimators': 100}\n"
     ]
    }
   ],
   "source": [
    "best_model = rf_grid.best_estimator_\n",
    "best_hyperparams = rf_grid.best_params_\n",
    "best_acc = rf_grid.score(X_test, y_test)\n",
    "print(f'Highest accuracy: {round(best_acc*100, 2)}%\\nAchieved with hyperparameters: {best_hyperparams}')"
   ]
  },
  {
   "cell_type": "code",
   "execution_count": 12,
   "metadata": {},
   "outputs": [
    {
     "data": {
      "text/html": [
       "<style>#sk-a52a7b87-5b1a-4e22-bc63-0d3bf1d4ed40 {color: black;background-color: white;}#sk-a52a7b87-5b1a-4e22-bc63-0d3bf1d4ed40 pre{padding: 0;}#sk-a52a7b87-5b1a-4e22-bc63-0d3bf1d4ed40 div.sk-toggleable {background-color: white;}#sk-a52a7b87-5b1a-4e22-bc63-0d3bf1d4ed40 label.sk-toggleable__label {cursor: pointer;display: block;width: 100%;margin-bottom: 0;padding: 0.3em;box-sizing: border-box;text-align: center;}#sk-a52a7b87-5b1a-4e22-bc63-0d3bf1d4ed40 div.sk-toggleable__content {max-height: 0;max-width: 0;overflow: hidden;text-align: left;background-color: #f0f8ff;}#sk-a52a7b87-5b1a-4e22-bc63-0d3bf1d4ed40 div.sk-toggleable__content pre {margin: 0.2em;color: black;border-radius: 0.25em;background-color: #f0f8ff;}#sk-a52a7b87-5b1a-4e22-bc63-0d3bf1d4ed40 input.sk-toggleable__control:checked~div.sk-toggleable__content {max-height: 200px;max-width: 100%;overflow: auto;}#sk-a52a7b87-5b1a-4e22-bc63-0d3bf1d4ed40 div.sk-estimator input.sk-toggleable__control:checked~label.sk-toggleable__label {background-color: #d4ebff;}#sk-a52a7b87-5b1a-4e22-bc63-0d3bf1d4ed40 div.sk-label input.sk-toggleable__control:checked~label.sk-toggleable__label {background-color: #d4ebff;}#sk-a52a7b87-5b1a-4e22-bc63-0d3bf1d4ed40 input.sk-hidden--visually {border: 0;clip: rect(1px 1px 1px 1px);clip: rect(1px, 1px, 1px, 1px);height: 1px;margin: -1px;overflow: hidden;padding: 0;position: absolute;width: 1px;}#sk-a52a7b87-5b1a-4e22-bc63-0d3bf1d4ed40 div.sk-estimator {font-family: monospace;background-color: #f0f8ff;border: 1px dotted black;border-radius: 0.25em;box-sizing: border-box;margin-bottom: 0.5em;}#sk-a52a7b87-5b1a-4e22-bc63-0d3bf1d4ed40 div.sk-estimator:hover {background-color: #d4ebff;}#sk-a52a7b87-5b1a-4e22-bc63-0d3bf1d4ed40 div.sk-parallel-item::after {content: \"\";width: 100%;border-bottom: 1px solid gray;flex-grow: 1;}#sk-a52a7b87-5b1a-4e22-bc63-0d3bf1d4ed40 div.sk-label:hover label.sk-toggleable__label {background-color: #d4ebff;}#sk-a52a7b87-5b1a-4e22-bc63-0d3bf1d4ed40 div.sk-serial::before {content: \"\";position: absolute;border-left: 1px solid gray;box-sizing: border-box;top: 2em;bottom: 0;left: 50%;}#sk-a52a7b87-5b1a-4e22-bc63-0d3bf1d4ed40 div.sk-serial {display: flex;flex-direction: column;align-items: center;background-color: white;padding-right: 0.2em;padding-left: 0.2em;}#sk-a52a7b87-5b1a-4e22-bc63-0d3bf1d4ed40 div.sk-item {z-index: 1;}#sk-a52a7b87-5b1a-4e22-bc63-0d3bf1d4ed40 div.sk-parallel {display: flex;align-items: stretch;justify-content: center;background-color: white;}#sk-a52a7b87-5b1a-4e22-bc63-0d3bf1d4ed40 div.sk-parallel::before {content: \"\";position: absolute;border-left: 1px solid gray;box-sizing: border-box;top: 2em;bottom: 0;left: 50%;}#sk-a52a7b87-5b1a-4e22-bc63-0d3bf1d4ed40 div.sk-parallel-item {display: flex;flex-direction: column;position: relative;background-color: white;}#sk-a52a7b87-5b1a-4e22-bc63-0d3bf1d4ed40 div.sk-parallel-item:first-child::after {align-self: flex-end;width: 50%;}#sk-a52a7b87-5b1a-4e22-bc63-0d3bf1d4ed40 div.sk-parallel-item:last-child::after {align-self: flex-start;width: 50%;}#sk-a52a7b87-5b1a-4e22-bc63-0d3bf1d4ed40 div.sk-parallel-item:only-child::after {width: 0;}#sk-a52a7b87-5b1a-4e22-bc63-0d3bf1d4ed40 div.sk-dashed-wrapped {border: 1px dashed gray;margin: 0 0.4em 0.5em 0.4em;box-sizing: border-box;padding-bottom: 0.4em;background-color: white;position: relative;}#sk-a52a7b87-5b1a-4e22-bc63-0d3bf1d4ed40 div.sk-label label {font-family: monospace;font-weight: bold;background-color: white;display: inline-block;line-height: 1.2em;}#sk-a52a7b87-5b1a-4e22-bc63-0d3bf1d4ed40 div.sk-label-container {position: relative;z-index: 2;text-align: center;}#sk-a52a7b87-5b1a-4e22-bc63-0d3bf1d4ed40 div.sk-container {display: inline-block;position: relative;}</style><div id=\"sk-a52a7b87-5b1a-4e22-bc63-0d3bf1d4ed40\" class\"sk-top-container\"><div class=\"sk-container\"><div class=\"sk-item sk-dashed-wrapped\"><div class=\"sk-label-container\"><div class=\"sk-label sk-toggleable\"><input class=\"sk-toggleable__control sk-hidden--visually\" id=\"cc008c0d-3381-474f-a0ce-c9883617363d\" type=\"checkbox\" ><label class=\"sk-toggleable__label\" for=\"cc008c0d-3381-474f-a0ce-c9883617363d\">Pipeline</label><div class=\"sk-toggleable__content\"><pre>Pipeline(steps=[('features',\n",
       "                 FeatureUnion(transformer_list=[('numeric_transform',\n",
       "                                                 ColumnTransformer(transformers=[('numeric',\n",
       "                                                                                  Pipeline(steps=[('impute_mean',\n",
       "                                                                                                   SimpleImputer()),\n",
       "                                                                                                  ('scaling',\n",
       "                                                                                                   PowerTransformer()),\n",
       "                                                                                                  ('kbest',\n",
       "                                                                                                   SelectKBest(k=3))]),\n",
       "                                                                                  ['ApplicantIncome',\n",
       "                                                                                   'CoapplicantIncome',\n",
       "                                                                                   'LoanAmount',\n",
       "                                                                                   'Loan_Amount_Term'])])),\n",
       "                                                ('categorical_transform',\n",
       "                                                 ColumnTransformer(transformers=[('categorical',\n",
       "                                                                                  Pipeline(steps=[('impute_mode',\n",
       "                                                                                                   SimpleImputer(strategy='most_frequent')),\n",
       "                                                                                                  ('one-hot-encode',\n",
       "                                                                                                   OneHotEncoder(sparse=False)),\n",
       "                                                                                                  ('pca',\n",
       "                                                                                                   PCA(n_components=3))]),\n",
       "                                                                                  ['Gender',\n",
       "                                                                                   'Married',\n",
       "                                                                                   'Dependents',\n",
       "                                                                                   'Education',\n",
       "                                                                                   'Self_Employed',\n",
       "                                                                                   'Credit_History',\n",
       "                                                                                   'Property_Area'])]))])),\n",
       "                ('classifier', RandomForestClassifier())])</pre></div></div></div><div class=\"sk-serial\"><div class=\"sk-item sk-dashed-wrapped\"><div class=\"sk-label-container\"><div class=\"sk-label sk-toggleable\"><input class=\"sk-toggleable__control sk-hidden--visually\" id=\"4436d090-2412-496f-a185-c17a140a585f\" type=\"checkbox\" ><label class=\"sk-toggleable__label\" for=\"4436d090-2412-496f-a185-c17a140a585f\">features: FeatureUnion</label><div class=\"sk-toggleable__content\"><pre>FeatureUnion(transformer_list=[('numeric_transform',\n",
       "                                ColumnTransformer(transformers=[('numeric',\n",
       "                                                                 Pipeline(steps=[('impute_mean',\n",
       "                                                                                  SimpleImputer()),\n",
       "                                                                                 ('scaling',\n",
       "                                                                                  PowerTransformer()),\n",
       "                                                                                 ('kbest',\n",
       "                                                                                  SelectKBest(k=3))]),\n",
       "                                                                 ['ApplicantIncome',\n",
       "                                                                  'CoapplicantIncome',\n",
       "                                                                  'LoanAmount',\n",
       "                                                                  'Loan_Amount_Term'])])),\n",
       "                               ('categorical_transform',\n",
       "                                ColumnTransformer(transformers=[('categorical',\n",
       "                                                                 Pipeline(steps=[('impute_mode',\n",
       "                                                                                  SimpleImputer(strategy='most_frequent')),\n",
       "                                                                                 ('one-hot-encode',\n",
       "                                                                                  OneHotEncoder(sparse=False)),\n",
       "                                                                                 ('pca',\n",
       "                                                                                  PCA(n_components=3))]),\n",
       "                                                                 ['Gender',\n",
       "                                                                  'Married',\n",
       "                                                                  'Dependents',\n",
       "                                                                  'Education',\n",
       "                                                                  'Self_Employed',\n",
       "                                                                  'Credit_History',\n",
       "                                                                  'Property_Area'])]))])</pre></div></div></div><div class=\"sk-parallel\"><div class=\"sk-parallel-item\"><div class=\"sk-item\"><div class=\"sk-label-container\"><div class=\"sk-label sk-toggleable\"><label>numeric_transform</label></div></div><div class=\"sk-serial\"><div class=\"sk-item sk-dashed-wrapped\"><div class=\"sk-parallel\"><div class=\"sk-parallel-item\"><div class=\"sk-item\"><div class=\"sk-label-container\"><div class=\"sk-label sk-toggleable\"><input class=\"sk-toggleable__control sk-hidden--visually\" id=\"8c1a10ed-ff81-4f21-8104-c513211c51d5\" type=\"checkbox\" ><label class=\"sk-toggleable__label\" for=\"8c1a10ed-ff81-4f21-8104-c513211c51d5\">numeric</label><div class=\"sk-toggleable__content\"><pre>['ApplicantIncome', 'CoapplicantIncome', 'LoanAmount', 'Loan_Amount_Term']</pre></div></div></div><div class=\"sk-serial\"><div class=\"sk-item\"><div class=\"sk-serial\"><div class=\"sk-item\"><div class=\"sk-estimator sk-toggleable\"><input class=\"sk-toggleable__control sk-hidden--visually\" id=\"0d0f7db0-5b9e-4b09-aca7-258495d085ba\" type=\"checkbox\" ><label class=\"sk-toggleable__label\" for=\"0d0f7db0-5b9e-4b09-aca7-258495d085ba\">SimpleImputer</label><div class=\"sk-toggleable__content\"><pre>SimpleImputer()</pre></div></div></div><div class=\"sk-item\"><div class=\"sk-estimator sk-toggleable\"><input class=\"sk-toggleable__control sk-hidden--visually\" id=\"8c40c835-ed7f-4052-9b53-c1bbca88f012\" type=\"checkbox\" ><label class=\"sk-toggleable__label\" for=\"8c40c835-ed7f-4052-9b53-c1bbca88f012\">PowerTransformer</label><div class=\"sk-toggleable__content\"><pre>PowerTransformer()</pre></div></div></div><div class=\"sk-item\"><div class=\"sk-estimator sk-toggleable\"><input class=\"sk-toggleable__control sk-hidden--visually\" id=\"44a64eee-9230-4233-a63e-a67a2489a823\" type=\"checkbox\" ><label class=\"sk-toggleable__label\" for=\"44a64eee-9230-4233-a63e-a67a2489a823\">SelectKBest</label><div class=\"sk-toggleable__content\"><pre>SelectKBest(k=3)</pre></div></div></div></div></div></div></div></div></div></div></div></div></div><div class=\"sk-parallel-item\"><div class=\"sk-item\"><div class=\"sk-label-container\"><div class=\"sk-label sk-toggleable\"><label>categorical_transform</label></div></div><div class=\"sk-serial\"><div class=\"sk-item sk-dashed-wrapped\"><div class=\"sk-parallel\"><div class=\"sk-parallel-item\"><div class=\"sk-item\"><div class=\"sk-label-container\"><div class=\"sk-label sk-toggleable\"><input class=\"sk-toggleable__control sk-hidden--visually\" id=\"1c1dc013-db8b-4eaf-b6a2-4a43b6180f3e\" type=\"checkbox\" ><label class=\"sk-toggleable__label\" for=\"1c1dc013-db8b-4eaf-b6a2-4a43b6180f3e\">categorical</label><div class=\"sk-toggleable__content\"><pre>['Gender', 'Married', 'Dependents', 'Education', 'Self_Employed', 'Credit_History', 'Property_Area']</pre></div></div></div><div class=\"sk-serial\"><div class=\"sk-item\"><div class=\"sk-serial\"><div class=\"sk-item\"><div class=\"sk-estimator sk-toggleable\"><input class=\"sk-toggleable__control sk-hidden--visually\" id=\"81639325-f158-42a4-ae53-24e67150e4b4\" type=\"checkbox\" ><label class=\"sk-toggleable__label\" for=\"81639325-f158-42a4-ae53-24e67150e4b4\">SimpleImputer</label><div class=\"sk-toggleable__content\"><pre>SimpleImputer(strategy='most_frequent')</pre></div></div></div><div class=\"sk-item\"><div class=\"sk-estimator sk-toggleable\"><input class=\"sk-toggleable__control sk-hidden--visually\" id=\"b831077c-f0ae-4f6a-9771-ca270369b0f7\" type=\"checkbox\" ><label class=\"sk-toggleable__label\" for=\"b831077c-f0ae-4f6a-9771-ca270369b0f7\">OneHotEncoder</label><div class=\"sk-toggleable__content\"><pre>OneHotEncoder(sparse=False)</pre></div></div></div><div class=\"sk-item\"><div class=\"sk-estimator sk-toggleable\"><input class=\"sk-toggleable__control sk-hidden--visually\" id=\"404738b4-13bc-47f6-a827-e8a135b28911\" type=\"checkbox\" ><label class=\"sk-toggleable__label\" for=\"404738b4-13bc-47f6-a827-e8a135b28911\">PCA</label><div class=\"sk-toggleable__content\"><pre>PCA(n_components=3)</pre></div></div></div></div></div></div></div></div></div></div></div></div></div></div></div><div class=\"sk-item\"><div class=\"sk-estimator sk-toggleable\"><input class=\"sk-toggleable__control sk-hidden--visually\" id=\"f37f2e14-3e60-4197-80fd-355367e89430\" type=\"checkbox\" ><label class=\"sk-toggleable__label\" for=\"f37f2e14-3e60-4197-80fd-355367e89430\">RandomForestClassifier</label><div class=\"sk-toggleable__content\"><pre>RandomForestClassifier()</pre></div></div></div></div></div></div></div>"
      ],
      "text/plain": [
       "Pipeline(steps=[('features',\n",
       "                 FeatureUnion(transformer_list=[('numeric_transform',\n",
       "                                                 ColumnTransformer(transformers=[('numeric',\n",
       "                                                                                  Pipeline(steps=[('impute_mean',\n",
       "                                                                                                   SimpleImputer()),\n",
       "                                                                                                  ('scaling',\n",
       "                                                                                                   PowerTransformer()),\n",
       "                                                                                                  ('kbest',\n",
       "                                                                                                   SelectKBest(k=3))]),\n",
       "                                                                                  ['ApplicantIncome',\n",
       "                                                                                   'CoapplicantIncome',\n",
       "                                                                                   'LoanAmount',\n",
       "                                                                                   'Loan_Amount_Term'])])),\n",
       "                                                ('categorical_transform',\n",
       "                                                 ColumnTransformer(transformers=[('categorical',\n",
       "                                                                                  Pipeline(steps=[('impute_mode',\n",
       "                                                                                                   SimpleImputer(strategy='most_frequent')),\n",
       "                                                                                                  ('one-hot-encode',\n",
       "                                                                                                   OneHotEncoder(sparse=False)),\n",
       "                                                                                                  ('pca',\n",
       "                                                                                                   PCA(n_components=3))]),\n",
       "                                                                                  ['Gender',\n",
       "                                                                                   'Married',\n",
       "                                                                                   'Dependents',\n",
       "                                                                                   'Education',\n",
       "                                                                                   'Self_Employed',\n",
       "                                                                                   'Credit_History',\n",
       "                                                                                   'Property_Area'])]))])),\n",
       "                ('classifier', RandomForestClassifier())])"
      ]
     },
     "execution_count": 12,
     "metadata": {},
     "output_type": "execute_result"
    }
   ],
   "source": [
    "# Display HTML representation in a jupyter context\n",
    "from sklearn import set_config\n",
    "set_config(display='diagram')\n",
    "\n",
    "pipeline"
   ]
  },
  {
   "cell_type": "markdown",
   "metadata": {},
   "source": [
    "## 6. Deploy your model to cloud and test it with PostMan, BASH or Python"
   ]
  },
  {
   "cell_type": "code",
   "execution_count": 23,
   "metadata": {},
   "outputs": [],
   "source": [
    "import pickle\n",
    "## Save the model as a pickle file\n",
    "filename = 'data/rf_model.sav'\n",
    "pickle.dump(best_model, open(filename, 'wb'))"
   ]
  },
  {
   "cell_type": "code",
   "execution_count": 24,
   "metadata": {},
   "outputs": [],
   "source": [
    "# Load the saved model\n",
    "rf_load = pickle.load(open(filename, 'rb'))"
   ]
  },
  {
   "cell_type": "code",
   "execution_count": 26,
   "metadata": {},
   "outputs": [
    {
     "name": "stdout",
     "output_type": "stream",
     "text": [
      "0.7012987012987013\n"
     ]
    }
   ],
   "source": [
    "y_pred = rf_load.predict(X_test)\n",
    "y_pred_proba = rf_load.predict_proba(X_test)[:, 1]\n",
    "result = rf_load.score(X_test, y_test)\n",
    "print(result)"
   ]
  },
  {
   "cell_type": "code",
   "execution_count": 79,
   "metadata": {},
   "outputs": [
    {
     "name": "stdout",
     "output_type": "stream",
     "text": [
      "Accuracy: 70.13%\n"
     ]
    },
    {
     "data": {
      "image/png": "[encoded data removed]",
      "text/plain": [
       "<Figure size 1080x864 with 2 Axes>"
      ]
     },
     "metadata": {},
     "output_type": "display_data"
    }
   ],
   "source": [
    "from sklearn.metrics import accuracy_score, plot_confusion_matrix\n",
    "print(f'Accuracy: {round(accuracy_score(y_test, y_pred)*100,2)}%')\n",
    "\n",
    "\n",
    "fig, ax = plt.subplots(figsize=(15, 12));\n",
    "cm = plot_confusion_matrix(rf_load, X_test, y_test, cmap=plt.cm.Blues, ax=ax);\n",
    "sns.set(font_scale=4.0); \n",
    "plt.savefig('img/confusion_matrix.png');"
   ]
  },
  {
   "cell_type": "markdown",
   "metadata": {},
   "source": [
    "## Test with the Predictor App: api.py"
   ]
  },
  {
   "cell_type": "code",
   "execution_count": null,
   "metadata": {},
   "outputs": [
    {
     "name": "stdout",
     "output_type": "stream",
     "text": [
      "[\n",
      "    {\n",
      "        \"Loan_ID\":\"LP002197\",\n",
      "        \"Gender\":\"Male\",\n",
      "        \"Married\":\"Yes\",\n",
      "        \"Dependents\":\"2\",\n",
      "        \"Education\":\"Graduate\",\n",
      "        \"Self_Employed\":\"No\",\n",
      "        \"ApplicantIncome\":5185,\n",
      "        \"CoapplicantIncome\":0.0,\n",
      "        \"LoanAmount\":155.0,\n",
      "        \"Loan_Amount_Term\":360.0,\n",
      "        \"Credit_History\":1.0,\n",
      "        \"Property_Area\":\"Semiurban\",\n",
      "        \"Loan_Status\":\"Y\"\n",
      "    }\n",
      "]\n"
     ]
    }
   ],
   "source": [
    "# Get sample to test on\n",
    "df_sample = df.sample()\n",
    "print(df_sample.to_json(orient='records', indent = 4))"
   ]
  },
  {
   "cell_type": "code",
   "execution_count": 67,
   "metadata": {},
   "outputs": [],
   "source": [
    "json_data = {\n",
    "        \n",
    "        \"Gender\":\"Male\",\n",
    "        \"Married\":\"Yes\",\n",
    "        \"Dependents\":\"2\",\n",
    "        \"Education\":\"Graduate\",\n",
    "        \"Self_Employed\":\"No\",\n",
    "        \"ApplicantIncome\":5185,\n",
    "        \"CoapplicantIncome\":0.0,\n",
    "        \"LoanAmount\":155.0,\n",
    "        \"Loan_Amount_Term\":360.0,\n",
    "        \"Credit_History\":1.0,\n",
    "        \"Property_Area\":\"Semiurban\"\n",
    "        \n",
    "    }"
   ]
  },
  {
   "cell_type": "code",
   "execution_count": 68,
   "metadata": {},
   "outputs": [],
   "source": [
    "import requests\n",
    "URL = \"http://10.0.0.183:5005/predict\"\n",
    "# sending get request and saving the response as response object \n",
    "r = requests.post(url = URL, json = json_data)"
   ]
  },
  {
   "cell_type": "code",
   "execution_count": 69,
   "metadata": {},
   "outputs": [
    {
     "name": "stdout",
     "output_type": "stream",
     "text": [
      "{'Loan Approved: ': \"['Y']\"}\n"
     ]
    }
   ],
   "source": [
    "print(r.json())"
   ]
  }
 ],
 "metadata": {
  "kernelspec": {
   "display_name": "Python 3 (ipykernel)",
   "language": "python",
   "name": "python3"
  },
  "language_info": {
   "codemirror_mode": {
    "name": "ipython",
    "version": 3
   },
   "file_extension": ".py",
   "mimetype": "text/x-python",
   "name": "python",
   "nbconvert_exporter": "python",
   "pygments_lexer": "ipython3",
   "version": "3.8.12"
  }
 },
 "nbformat": 4,
 "nbformat_minor": 4
}
